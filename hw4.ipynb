{
 "metadata": {
  "name": "",
  "signature": "sha256:ae12abde54dc6cc969f67993c483b534a04625004256a9dd53a2b9b3c1c4d265"
 },
 "nbformat": 3,
 "nbformat_minor": 0,
 "worksheets": [
  {
   "cells": [
    {
     "cell_type": "markdown",
     "metadata": {},
     "source": [
      "## Parsing Lambda FASTQ"
     ]
    },
    {
     "cell_type": "markdown",
     "metadata": {},
     "source": [
      "## Endangered turtles\n",
      "In this question, we will work on data from the [Global Biodiversity Information Facility](http://www.gbif.org/) (GBIF). This server holds  lots of data about occurences of organisms around the world.  \n",
      "Our goal will be to get the coordinates of observations of endangered turtles species in the Southern hemisphere.  \n",
      "The CSV files under /files_for_hw/gbif_files, named GBIF1.csv, GBIF2.csv etc, contain observations data for various turtles genera. Each record is an observation, and contains information such as the species name and the coordinates of the observation.  \n",
      "a) The first step in the analysis will be to append all CSV files into one file, to make processing easier. Write a function that receives a list of files and appends them (i.e inserts all records from all files into one file). Remember to include the headers line only once. Use the function to create a unified csv file.  \n",
      "\n",
      "__Note__: The function does not return anything!"
     ]
    },
    {
     "cell_type": "code",
     "collapsed": false,
     "input": [
      "def append_csvs(csvs_list,out_csv):\n",
      "    \n",
      "    \n",
      "    \n",
      "    \n",
      "    \n",
      "    \n",
      "    \n",
      "\n",
      "# create unified file\n",
      "dir = \"files_for_hw/gbif_files/\n",
      "files_list = []\n",
      "for i in range(1,23):\n",
      "    file = dir + 'GBIF' + str(i) + '.csv'\n",
      "    files_list.append(file)\n",
      "unified_csv = dir + 'unified.csv'\n",
      "append_csvs(???,???)"
     ],
     "language": "python",
     "metadata": {},
     "outputs": []
    },
    {
     "cell_type": "markdown",
     "metadata": {},
     "source": [
      "b) The file files_for_hw/gbif_files/endangered_turtles.txt contains a list of endangered turtles species from [The IUCN Red List of Threatened Species](http://www.iucnredlist.org/). Write a function that reads the file and returns a list of the species it includes."
     ]
    },
    {
     "cell_type": "code",
     "collapsed": false,
     "input": [
      "def get_species_list(file):\n",
      "    \n",
      "    \n",
      "    \n",
      "    \n",
      "    \n",
      "    \n",
      "endamgered_turtles_file = dir + 'endangered_turtles.txt'\n",
      "endangered_turtles_list = get_species_list(endamgered_turtles_file)"
     ],
     "language": "python",
     "metadata": {},
     "outputs": []
    },
    {
     "cell_type": "markdown",
     "metadata": {},
     "source": [
      "c) We will now use the unified CSV file and endangered species list to create a filtered CSV, containing only the records we are interested in: those of endangered species, observed in the Southern hemisphere (i.e. in latitude < 0).  \n",
      "Write a function that receives the unified file, species list, maximum latitude and output file, and print out only the records which satisfy these conditions (no return value is needed)."
     ]
    },
    {
     "cell_type": "code",
     "collapsed": false,
     "input": [
      "def filter_records(in_csv_file, species_list, max_lat, out_csv_file):\n",
      "    \n",
      "    \n",
      "    \n",
      "    \n",
      "    \n",
      "    \n",
      "    \n",
      "    \n",
      "    \n",
      "    \n",
      "    \n",
      "    \n",
      "    \n",
      "filtered_file = dir + 'endangered.csv'\n",
      "filter_records(???,???,???,???)"
     ],
     "language": "python",
     "metadata": {},
     "outputs": []
    }
   ],
   "metadata": {}
  }
 ]
}