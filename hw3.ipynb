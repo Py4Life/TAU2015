{
 "metadata": {
  "name": "",
  "signature": "sha256:f1d33c354f9a82c3e4de835557d011c13fcc8ce76feb44b9fba209afb6a74244"
 },
 "nbformat": 3,
 "nbformat_minor": 0,
 "worksheets": [
  {
   "cells": [
    {
     "cell_type": "markdown",
     "metadata": {},
     "source": [
      "## Translating DNA\n",
      "Given in the code below is a dictionary (named codon_table) where the keys represent codons and the values are the corresponding amino acids. Write a program that will translate the DNA sequence into amino acids, using the codons table, and print out the result."
     ]
    },
    {
     "cell_type": "code",
     "collapsed": false,
     "input": [
      "# Create codons dictionary\n",
      "bases = ['t', 'c', 'a', 'g']\n",
      "codons = [a+b+c for a in bases for b in bases for c in bases]\n",
      "amino_acids = 'FFLLSSSSYY**CC*WLLLLPPPPHHQQRRRRIIIMTTTTNNKKSSRRVVVVAAAADDEEGGGG'\n",
      "codon_table = dict(zip(codons, amino_acids))\n",
      "\n",
      "DNA = 'atgattccaacgcgaaggtcaagtacgtacagctctcagtgtgtgctactcaccgactccgtcatagcaaccggcgtcgtggtcgttaccattgcataa'\n",
      "\n",
      "# translate the sequence\n",
      "\n",
      "\n",
      "\n",
      "print(_________________)"
     ],
     "language": "python",
     "metadata": {},
     "outputs": []
    },
    {
     "cell_type": "markdown",
     "metadata": {},
     "source": [
      "## Protein contents\n",
      "a) Write a function that __receives__ a protein sequence (string) and __returns__ a dictionary where the keys are the amino acid residues and the values are the number of times each residue appeared in the protein. For example, the expected result for the peptide `LLTDSGT` is: `{'L': 2, 'T': 2, 'D': 1, 'S': 1, 'G': 1}`.  \n",
      "Test your function on the provided sequences, and print the results in the following format:  \n",
      "L - 2  \n",
      "T - 2  \n",
      "D - 1  \n",
      "S - 1  \n",
      "G - 1"
     ]
    },
    {
     "cell_type": "code",
     "collapsed": false,
     "input": [
      "def count_residues(protein_seq):\n",
      "    # your code here\n",
      "    \n",
      "    \n",
      "    \n",
      "    \n",
      "protein_sequence = 'DQHTWMYAEGYLNHVYRCDKQRAEDKECNGLYAWALALESHGKGSYYCQGFKTFPNPWPMHMMTFVMADLYQYMEI'\n",
      "aa_counts_dict = count_residues(protein_sequence)\n",
      "# print results\n",
      "\n",
      "\n",
      "\n",
      "\n"
     ],
     "language": "python",
     "metadata": {},
     "outputs": []
    },
    {
     "cell_type": "markdown",
     "metadata": {},
     "source": [
      "b) Write a function that receives an amino acid sequence, and returns a dictionary with the _frequencies_ of hydrophobic, posituvely-charged, negatively-charged, polar an other amino acids. Use the lists provided within the function. For example, running the function on the sequence `LLTDSGT` should return `{'hydrophobic': 0.286, 'positive': 0, 'negative': 0.143, 'polar': 0.428, 'other': 0.143}`.  \n",
      "Test your function on the provided sequences, and print the results in the following format:  \n",
      "hydrophobic - 0.286  \n",
      "positive - 0  \n",
      "negative - 0.143  \n",
      "polar - 0.428  \n",
      "other - 0.143"
     ]
    },
    {
     "cell_type": "code",
     "collapsed": false,
     "input": [
      "def residues_type_frequencies(protein_seq):\n",
      "    hydrophobic = ['A','V','I','L','M','F','Y','W']\n",
      "    pos_charged = ['R','H','K']\n",
      "    neg_charged = ['D','E']\n",
      "    polar = ['S','T','N','Q']\n",
      "    other = ['C','U','G','P']\n",
      "    \n",
      "    # your code here\n",
      "    \n",
      "    \n",
      "    \n",
      "    \n",
      "protein_sequence = 'DQHTWMYAEGYLNHVYRCDKQRAEDKECNGLYAWALALESHGKGSYYCQGFKTFPNPWPMHMMTFVMADLYQYMEI'\n",
      "aa_types_freq_dict = residues_type_frequencies(protein_sequence)\n",
      "# print results\n",
      "\n",
      "\n",
      "\n",
      "\n"
     ],
     "language": "python",
     "metadata": {},
     "outputs": []
    },
    {
     "cell_type": "markdown",
     "metadata": {},
     "source": [
      "## Palindromic sequences\n",
      "A palindromic sequence is a nucleic acid sequence that is the same whether read 5' to 3' on one strand or 5' to 3' on the complementary strand. For example, the sequence 5' GAATTC 3' is palindromic, since the complement strand is 3' CTTAAG 5', or 5' GAATTC 3'.   \n",
      "Palindromic sequences are biologically interesting because they can form special structural motifs, such as hairpins, and often are cutting sites for restriction enzymes.  \n",
      "a) Write a function that receives a DNA sequence and returns True if it is palindromic and False otherwise. You may use the function defined in class to find the complement strand. Test your function on the provided sequences."
     ]
    },
    {
     "cell_type": "code",
     "collapsed": false,
     "input": [
      "def is_palindromic_seq(seq):\n",
      "    # your code here\n",
      "    \n",
      "    \n",
      "    \n",
      "    \n",
      "\n",
      "# should be true\n",
      "print(is_palindromic_seq('GAATTC'))\n",
      "print(is_palindromic_seq('GATATC'))\n",
      "print(is_palindromic_seq('AGCTTCTAGTCGACTAGAAGCT'))\n",
      "# should be false\n",
      "print(is_palindromic_seq('GAACTC'))\n",
      "print(is_palindromic_seq('GATATG'))"
     ],
     "language": "python",
     "metadata": {},
     "outputs": []
    },
    {
     "cell_type": "markdown",
     "metadata": {},
     "source": [
      "b) Now you can use the function you've written to look for palindromic subsequences within a given DNA sequence.  \n",
      "Write a function that receives two parameters: a sequence S and an integer n. The function searches S for n bases long palindromic subsequences. It returns a list of all the palindromic subsequences found. If nothing was found, return an empty list. Implement the function using a __for__ loop.  \n",
      "Guidance: Think of the process as a sliding window, going over the sequence. The size of the window is n bases. Where should the window start sliding from? where should it stop sliding?  \n",
      "![dna_window](files_for_hw/hw3_dna_window.jpg)"
     ]
    },
    {
     "cell_type": "code",
     "collapsed": false,
     "input": [
      "def search_for_palindromes_for(S, n):\n",
      "    palindromes = []\n",
      "    \n",
      "    for _________________:\n",
      "        \n",
      "        \n",
      "        if _________________:\n",
      "            palindromes.append(___________)\n",
      "            \n",
      "            \n",
      "            \n",
      "            \n",
      "    return palindromes\n",
      "\n",
      "DNA_seq = 'ggagctcccaaagccatcaatattcatcaaaacgaattcaacggagctcgatatcgcatcgcaaaagacacc\n",
      "palindromic_sequences = search_for_palindromes_for(DNA_seq,6)\n",
      "print(palindromic_sequences)"
     ],
     "language": "python",
     "metadata": {},
     "outputs": []
    },
    {
     "cell_type": "markdown",
     "metadata": {},
     "source": [
      "c) Implement the same function using a __while__ loop."
     ]
    },
    {
     "cell_type": "code",
     "collapsed": false,
     "input": [
      "def search_for_palindromes_while(S, n):\n",
      "    palindromes = []\n",
      "    \n",
      "    while _________________:\n",
      "        \n",
      "        \n",
      "        if _________________:\n",
      "            palindromes.append(___________)\n",
      "            \n",
      "            \n",
      "            \n",
      "            \n",
      "    return palindromes\n",
      "\n",
      "DNA_seq = 'GGAGCTCCCAAAGCCATCAATATTCATCAAAACGAATTCAACGGAGCTCGATATCGCATCGCAAAAGACACC'\n",
      "palindromic_sequences = search_for_palindromes_while(DNA_seq,6)\n",
      "print(palindromic_sequences)"
     ],
     "language": "python",
     "metadata": {},
     "outputs": []
    },
    {
     "cell_type": "markdown",
     "metadata": {},
     "source": [
      "A major caveat of the functions created so far is that they will return all palindromic sequences, even if they are overlapping, which makes no biological sense. For example, if we search the sequence `GAATTCGAACAT` for 6-bases long palindromes, we will get both `GAATTC` and `TTCGAA`, although they are overlapping.  \n",
      "d) Choose one of the implementations from parts b and c, and change it so that no overlapping palindromes will be found. The function should only return the palindrome starting more upstream."
     ]
    },
    {
     "cell_type": "code",
     "collapsed": false,
     "input": [
      "def search_for_palindromes_no_overlap(S, n):\n",
      "    palindromes = []\n",
      "    # your code here\n",
      "    \n",
      "    \n",
      "    \n",
      "    \n",
      "    \n",
      "    return palindromes\n",
      "\n",
      "# test\n",
      "DNA_seq = 'GGAGCTCCCAAAGCCATCAATATTCATCAAAACGAATTCAACGGAGCTCGATATCGCATCGCAAAAGACACC'\n",
      "palindromic_sequences = search_for_palindromes_no_overlap(DNA_seq,6)\n",
      "print(palindromic_sequences)\n",
      "DNA_seq = 'GGAGCTCCCAAAGCCATCAGAATTCGAACATATCGCAAAAGACACC'\n",
      "palindromic_sequences = search_for_palindromes_for(DNA_seq,6)\n",
      "print(palindromic_sequences)\n",
      "DNA_seq = 'GGAGCTCCCAAAGCCATCAGAATTCGAACATATCGCAAAAGACACC'\n",
      "palindromic_sequences = search_for_palindromes_no_overlap(DNA_seq,6)\n",
      "print(palindromic_sequences)"
     ],
     "language": "python",
     "metadata": {},
     "outputs": []
    }
   ],
   "metadata": {}
  }
 ]
}