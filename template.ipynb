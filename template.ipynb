{
 "metadata": {
  "name": "",
  "signature": "sha256:933712ab7c0a36e6c2768dd285cd70afbc0971d8631f8aae60d4fa1c877c35ba"
 },
 "nbformat": 3,
 "nbformat_minor": 0,
 "worksheets": [
  {
   "cells": [
    {
     "cell_type": "markdown",
     "metadata": {},
     "source": [
      "[![Py4Life](https://raw.githubusercontent.com/Py4Life/TAU2015/gh-pages/img/Py4Life-logo-small.png)](http://py4life.github.io/TAU2015/)\n",
      "## Lecture X - X.X.2015\n",
      "### Last update: X.X.2015\n",
      "### Tel-Aviv University / 0411-3122 / Spring 2015"
     ]
    },
    {
     "cell_type": "markdown",
     "metadata": {},
     "source": [
      "## Fin\n",
      "This notebook is part of the _Python Programming for Life Sciences Graduate Students_ course given in Tel-Aviv University, Spring 2015.\n",
      "\n",
      "The notebook was written using [Python](http://pytho.org/) 3.4.1 and [IPython](http://ipython.org/) 2.1.0 (download from [PyZo](http://www.pyzo.org/downloads.html)).\n",
      "\n",
      "The code is available at https://github.com/Py4Life/TAU2015/blob/master/lectureX.ipynb.\n",
      "\n",
      "The notebook can be viewed online at http://nbviewer.ipython.org/github/Py4Life/TAU2015/blob/master/lectureX.ipynb.\n",
      "\n",
      "The notebook is also available as a PDF at https://github.com/Py4Life/TAU2015/blob/master/lectureX.pdf?raw=true.\n",
      "\n",
      "This work is licensed under a Creative Commons Attribution-ShareAlike 3.0 Unported License.\n",
      "\n",
      "![Python logo](https://www.python.org/static/community_logos/python-logo.png)"
     ]
    }
   ],
   "metadata": {}
  }
 ]
}