{
 "metadata": {
  "name": "",
  "signature": "sha256:64c054ca0fac0b3d1bd6207fd0db56d350daf5640bbcd729bc1325373f538536"
 },
 "nbformat": 3,
 "nbformat_minor": 0,
 "worksheets": [
  {
   "cells": [
    {
     "cell_type": "markdown",
     "metadata": {},
     "source": [
      "# Py4Life \n",
      "## Python Programming for Life Sciences Graduate Students, Tel-Aviv University, Spring 2015\n",
      "## Lecture X - X.X.2015\n",
      "### Last update: X"
     ]
    },
    {
     "cell_type": "markdown",
     "metadata": {},
     "source": [
      "## Fin\n",
      "This notebook is part of the _Python Programming for Life Sciences Graduate Students_ course given in Tel-Aviv University, Spring 2015.\n",
      "\n",
      "The notebook was written using [Python](http://pytho.org/) 3.4.1 and [IPython](http://ipython.org/) 2.1.0 (download from [PyZo](http://www.pyzo.org/downloads.html)).\n",
      "\n",
      "The code is available at https://raw.github.com/yoavram/Py4Life/master/XXX.ipynb.\n",
      "\n",
      "The notebook can be viewed online at http://nbviewer.ipython.org/urls/raw.github.com/yoavram/Py4Life/master/XXX.\n",
      "\n",
      "The notebook is also available as a PDF at https://github.com/yoavram/Py4Life/blob/master/XXX.pdf?raw=true.\n",
      "\n",
      "This work is licensed under a Creative Commons Attribution-ShareAlike 3.0 Unported License."
     ]
    }
   ],
   "metadata": {}
  }
 ]
}