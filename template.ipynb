{
 "metadata": {
  "name": "",
  "signature": "sha256:c39c923f7ac1d77271753ab977687c60ce8893f7707006b5fe7e1c58492184de"
 },
 "nbformat": 3,
 "nbformat_minor": 0,
 "worksheets": [
  {
   "cells": [
    {
     "cell_type": "markdown",
     "metadata": {},
     "source": [
      "# Py4Life \n",
      "## Python Programming for Life Sciences Graduate Students, Tel-Aviv University, Spring 2015\n",
      "## Lecture X - X.X.2015\n",
      "### Last update: X"
     ]
    },
    {
     "cell_type": "markdown",
     "metadata": {},
     "source": [
      "## Fin\n",
      "This notebook is part of the _Python Programming for Life Sciences Graduate Students_ course given in Tel-Aviv University, Spring 2015.\n",
      "\n",
      "The notebook was written using [Python](http://pytho.org/) 3.4.1 and [IPython](http://ipython.org/) 2.1.0 (download from [PyZo](http://www.pyzo.org/downloads.html)).\n",
      "\n",
      "The code is available at https://github.com/yoavram/Py4Life/blob/master/lectureX.ipynb.\n",
      "\n",
      "The notebook can be viewed online at http://nbviewer.ipython.org/github/yoavram/Py4Life/blob/master/lectureX.ipynb.\n",
      "\n",
      "The notebook is also available as a PDF at https://github.com/yoavram/Py4Life/blob/master/lectureX.pdf?raw=true.\n",
      "\n",
      "This work is licensed under a Creative Commons Attribution-ShareAlike 3.0 Unported License.\n",
      "\n",
      "![Python logo](http://www.afterhoursprogramming.com/images/python-logo.png)"
     ]
    }
   ],
   "metadata": {}
  }
 ]
}