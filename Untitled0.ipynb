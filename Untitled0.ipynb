{
 "metadata": {
  "name": "",
  "signature": "sha256:7769762856a9926ff013a6f658fa41fc4d178cc7cd32ed71f108db16f1397dd5"
 },
 "nbformat": 3,
 "nbformat_minor": 0,
 "worksheets": []
}