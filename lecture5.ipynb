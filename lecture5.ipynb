{
 "cells": [
  {
   "cell_type": "markdown",
   "metadata": {},
   "source": [
    "[![Py4Life](https://raw.githubusercontent.com/Py4Life/TAU2015/gh-pages/img/Py4Life-logo-small.png)](http://py4life.github.io/TAU2015/)\n",
    "## Lecture 5 - 15.4.2015\n",
    "### Last update: 23.3.2015\n",
    "### Tel-Aviv University / 0411-3122 / Spring 2015"
   ]
  },
  {
   "cell_type": "markdown",
   "metadata": {},
   "source": [
    "# Previously\n",
    "\n",
    "- \n",
    "- \n",
    "- \n",
    "\n",
    "# Today\n",
    "\n",
    "- \n",
    "- \n",
    "- "
   ]
  },
  {
   "cell_type": "markdown",
   "metadata": {},
   "source": [
    "# Testing & Debugging\n",
    "\n",
    ">  Debugging is twice as hard as writing the code in the first place. Therefore, if you write the code as cleverly as possible, you are, by definition, not smart enough to debug it. _Brian W. Kernighan, computer scientist, 1942._\n",
    "\n",
    "> Code that cannot be tested is flawed.\n",
    "\n",
    "> Why do we never have time to do it right, but always have time to do it over?\n",
    "\n",
    "> Fast, good, cheap: pick any two.\n",
    "\n",
    "![bugs](http://assets.nydailynews.com/polopoly_fs/1.1064084!/img/httpImage/image.jpg_gen/derivatives/landscape_635/bugs01-web.jpg)"
   ]
  },
  {
   "cell_type": "markdown",
   "metadata": {},
   "source": [
    "## Exercise 1 - Simple bugs\n",
    "\n",
    "Let's solve the following bugs. Each notebook cell has a single program with at least one bug that may either cause an error or cause the program to give the wrong answer.\n",
    "\n",
    "Make the code work.\n",
    "\n",
    "[This presentation](http://hplgit.github.io/teamods/debugging/._debug003.html) has a listing of common Python errors and some hints on how to debug them."
   ]
  },
  {
   "cell_type": "code",
   "execution_count": 1,
   "metadata": {
    "collapsed": false
   },
   "outputs": [
    {
     "name": "stdout",
     "output_type": "stream",
     "text": [
      "78\n"
     ]
    }
   ],
   "source": [
    "x = '7'\n",
    "y = '8'\n",
    "z = x + y\n",
    "print(z)"
   ]
  },
  {
   "cell_type": "code",
   "execution_count": 2,
   "metadata": {
    "collapsed": false
   },
   "outputs": [
    {
     "ename": "KeyboardInterrupt",
     "evalue": "",
     "output_type": "error",
     "traceback": [
      "\u001b[1;31m---------------------------------------------------------------------------\u001b[0m",
      "\u001b[1;31mKeyboardInterrupt\u001b[0m                         Traceback (most recent call last)",
      "\u001b[1;32m<ipython-input-2-85cbd1a8ace2>\u001b[0m in \u001b[0;36m<module>\u001b[1;34m()\u001b[0m\n\u001b[0;32m      2\u001b[0m \u001b[0my\u001b[0m \u001b[1;33m=\u001b[0m \u001b[1;36m0\u001b[0m\u001b[1;33m\u001b[0m\u001b[0m\n\u001b[0;32m      3\u001b[0m \u001b[1;32mwhile\u001b[0m \u001b[0mx\u001b[0m \u001b[1;33m<\u001b[0m \u001b[1;36m4\u001b[0m\u001b[1;33m:\u001b[0m\u001b[1;33m\u001b[0m\u001b[0m\n\u001b[1;32m----> 4\u001b[1;33m     \u001b[0my\u001b[0m \u001b[1;33m+=\u001b[0m \u001b[0mx\u001b[0m\u001b[1;33m\u001b[0m\u001b[0m\n\u001b[0m\u001b[0;32m      5\u001b[0m \u001b[0mprint\u001b[0m\u001b[1;33m(\u001b[0m\u001b[0my\u001b[0m\u001b[1;33m)\u001b[0m\u001b[1;33m\u001b[0m\u001b[0m\n",
      "\u001b[1;31mKeyboardInterrupt\u001b[0m: "
     ]
    }
   ],
   "source": [
    "x = 1\n",
    "y = 0\n",
    "while x < 4:\n",
    "    y += x\n",
    "print(y)"
   ]
  },
  {
   "cell_type": "code",
   "execution_count": 3,
   "metadata": {
    "collapsed": false
   },
   "outputs": [
    {
     "ename": "SyntaxError",
     "evalue": "invalid syntax (<ipython-input-3-7d0bba41f18f>, line 2)",
     "output_type": "error",
     "traceback": [
      "\u001b[1;36m  File \u001b[1;32m\"<ipython-input-3-7d0bba41f18f>\"\u001b[1;36m, line \u001b[1;32m2\u001b[0m\n\u001b[1;33m    if switch = 'off':\u001b[0m\n\u001b[1;37m              ^\u001b[0m\n\u001b[1;31mSyntaxError\u001b[0m\u001b[1;31m:\u001b[0m invalid syntax\n"
     ]
    }
   ],
   "source": [
    "switch = 'on'\n",
    "if switch = 'off':\n",
    "    print('go home')"
   ]
  },
  {
   "cell_type": "code",
   "execution_count": 4,
   "metadata": {
    "collapsed": false
   },
   "outputs": [
    {
     "ename": "TypeError",
     "evalue": "range expected 1 arguments, got 0",
     "output_type": "error",
     "traceback": [
      "\u001b[1;31m---------------------------------------------------------------------------\u001b[0m",
      "\u001b[1;31mTypeError\u001b[0m                                 Traceback (most recent call last)",
      "\u001b[1;32m<ipython-input-4-7b0c968826c1>\u001b[0m in \u001b[0;36m<module>\u001b[1;34m()\u001b[0m\n\u001b[1;32m----> 1\u001b[1;33m \u001b[0mrange\u001b[0m\u001b[1;33m(\u001b[0m\u001b[1;33m)\u001b[0m\u001b[1;33m\u001b[0m\u001b[0m\n\u001b[0m",
      "\u001b[1;31mTypeError\u001b[0m: range expected 1 arguments, got 0"
     ]
    }
   ],
   "source": [
    "range()"
   ]
  },
  {
   "cell_type": "code",
   "execution_count": 5,
   "metadata": {
    "collapsed": false
   },
   "outputs": [
    {
     "ename": "TypeError",
     "evalue": "'float' object cannot be interpreted as an integer",
     "output_type": "error",
     "traceback": [
      "\u001b[1;31m---------------------------------------------------------------------------\u001b[0m",
      "\u001b[1;31mTypeError\u001b[0m                                 Traceback (most recent call last)",
      "\u001b[1;32m<ipython-input-5-a4d621a16ea3>\u001b[0m in \u001b[0;36m<module>\u001b[1;34m()\u001b[0m\n\u001b[1;32m----> 1\u001b[1;33m \u001b[0mrange\u001b[0m\u001b[1;33m(\u001b[0m\u001b[1;36m2.5\u001b[0m\u001b[1;33m)\u001b[0m\u001b[1;33m\u001b[0m\u001b[0m\n\u001b[0m",
      "\u001b[1;31mTypeError\u001b[0m: 'float' object cannot be interpreted as an integer"
     ]
    }
   ],
   "source": [
    "range(2.5)"
   ]
  },
  {
   "cell_type": "code",
   "execution_count": 6,
   "metadata": {
    "collapsed": false
   },
   "outputs": [
    {
     "ename": "ValueError",
     "evalue": "range() arg 3 must not be zero",
     "output_type": "error",
     "traceback": [
      "\u001b[1;31m---------------------------------------------------------------------------\u001b[0m",
      "\u001b[1;31mValueError\u001b[0m                                Traceback (most recent call last)",
      "\u001b[1;32m<ipython-input-6-807eb8451527>\u001b[0m in \u001b[0;36m<module>\u001b[1;34m()\u001b[0m\n\u001b[1;32m----> 1\u001b[1;33m \u001b[0mrange\u001b[0m\u001b[1;33m(\u001b[0m\u001b[1;36m2\u001b[0m\u001b[1;33m,\u001b[0m\u001b[1;36m3\u001b[0m\u001b[1;33m,\u001b[0m\u001b[1;36m0\u001b[0m\u001b[1;33m)\u001b[0m\u001b[1;33m\u001b[0m\u001b[0m\n\u001b[0m",
      "\u001b[1;31mValueError\u001b[0m: range() arg 3 must not be zero"
     ]
    }
   ],
   "source": [
    "range(2,3,0)"
   ]
  },
  {
   "cell_type": "code",
   "execution_count": 7,
   "metadata": {
    "collapsed": false
   },
   "outputs": [
    {
     "name": "stdout",
     "output_type": "stream",
     "text": [
      "hello\n",
      "hello\n",
      "hello\n",
      "hello\n",
      "hello\n"
     ]
    }
   ],
   "source": [
    "counter = 0\n",
    "while counter < 5:\n",
    "    print('hello')\n",
    "    counter += 1\n",
    "while counter < 5:\n",
    "    print('bye')\n",
    "    counter += 1"
   ]
  },
  {
   "cell_type": "markdown",
   "metadata": {},
   "source": [
    "## Example - find genes in a sequence\n",
    "\n",
    "We will write a program that looks for genes (or open reading frames) in a DNA sequence.\n",
    "\n",
    "How do we go about it?\n",
    "\n",
    "1. What _exactly_ do we want?\n",
    "\n",
    "2. What is the input and output?\n",
    "\n",
    "3. Example\n",
    "\n",
    "4. Algorithm - one function to check if a sequence is a gene; one function to look for gene candidates in a sequence\n",
    "\n",
    "5. Implementation"
   ]
  },
  {
   "cell_type": "markdown",
   "metadata": {},
   "source": [
    "#### 1. What _exactly_ do we want?\n",
    "\n",
    "We want to find all genes in a sequence, including overlapping genes, but only on the sequence, not on its complement.\n",
    "\n",
    "A \"legal\" gene contains only the bases AGCT, starts with a start codon (ATG), ends with a stop codon (TAG, TGA, TAA), its length is a multiple of three, and doesn't contain a stop codon in a position that is a multiple of three.\n",
    "\n",
    "#### 2. What is the input and output?\n",
    "\n",
    "The input will be a string.\n",
    "\n",
    "The output will be a list of strings.\n",
    "\n",
    "#### 3. Example\n",
    "\n",
    "Our example is GCCGTTTGTACTCCATTCCA**ATGAGGTCGCTTC|ATGTCAGCGAGTTTTAA**CGTGGTTCTTCGCTG**A|TGTGCTGTATATGA**.\n",
    "\n",
    "This is a good example because it is not too short to be trivial, not too long to be unreadable, contains genes in at least two different open reading frames and overlapping genes.\n",
    "\n",
    "- Input: `GCCGTTTGTACTCCATTCCAATGAGGTCGCTTCATGTCAGCGAGTTTTAACGTGGTTCTTCGCTGATGTGCTGTATATGA`\n",
    "- Output: `['ATGAGGTCGCTTCATGTCAGCGAGTTTTAA', 'ATGTCAGCGAGTTTTAACGTGGTTCTTCGCTGA', 'ATGTGCTGTATATGA']`\n",
    "\n",
    "#### 4. Algorithm\n",
    "\n",
    "Here is a skeleton of our program with a **test case**, which, of course, fails for now:"
   ]
  },
  {
   "cell_type": "code",
   "execution_count": 27,
   "metadata": {
    "collapsed": false
   },
   "outputs": [
    {
     "ename": "AssertionError",
     "evalue": "Found 0 genes, expected 3",
     "output_type": "error",
     "traceback": [
      "\u001b[1;31m---------------------------------------------------------------------------\u001b[0m",
      "\u001b[1;31mAssertionError\u001b[0m                            Traceback (most recent call last)",
      "\u001b[1;32m<ipython-input-27-9857392a180c>\u001b[0m in \u001b[0;36m<module>\u001b[1;34m()\u001b[0m\n\u001b[0;32m      9\u001b[0m \u001b[0mseq\u001b[0m \u001b[1;33m=\u001b[0m \u001b[1;34m'GCCGTTTGTACTCCATTCCAATGAGGTCGCTTCATGTCAGCGAGTTTTAACGTGGTTCTTCGCTGATGTGCTGTATATGA'\u001b[0m\u001b[1;33m\u001b[0m\u001b[0m\n\u001b[0;32m     10\u001b[0m \u001b[0mgenes\u001b[0m \u001b[1;33m=\u001b[0m \u001b[0mfind_genes\u001b[0m\u001b[1;33m(\u001b[0m\u001b[0mseq\u001b[0m\u001b[1;33m)\u001b[0m\u001b[1;33m\u001b[0m\u001b[0m\n\u001b[1;32m---> 11\u001b[1;33m \u001b[1;32massert\u001b[0m \u001b[0mlen\u001b[0m\u001b[1;33m(\u001b[0m\u001b[0mgenes\u001b[0m\u001b[1;33m)\u001b[0m \u001b[1;33m==\u001b[0m \u001b[1;36m3\u001b[0m\u001b[1;33m,\u001b[0m \u001b[1;34m\"Found %d genes, expected 3\"\u001b[0m \u001b[1;33m%\u001b[0m \u001b[0mlen\u001b[0m\u001b[1;33m(\u001b[0m\u001b[0mgenes\u001b[0m\u001b[1;33m)\u001b[0m\u001b[1;33m\u001b[0m\u001b[0m\n\u001b[0m\u001b[0;32m     12\u001b[0m \u001b[0mprint\u001b[0m\u001b[1;33m(\u001b[0m\u001b[1;34m\"Success\"\u001b[0m\u001b[1;33m)\u001b[0m\u001b[1;33m\u001b[0m\u001b[0m\n",
      "\u001b[1;31mAssertionError\u001b[0m: Found 0 genes, expected 3"
     ]
    }
   ],
   "source": [
    "def is_gene(sequence):\n",
    "    # check if sequence Trueis a gene\n",
    "    return False\n",
    "\n",
    "def find_genes(sequence):\n",
    "    # find all genes in sequence\n",
    "    return []\n",
    "\n",
    "seq = 'GCCGTTTGTACTCCATTCCAATGAGGTCGCTTCATGTCAGCGAGTTTTAACGTGGTTCTTCGCTGATGTGCTGTATATGA'\n",
    "genes = find_genes(seq)\n",
    "assert len(genes) == 3, \"Found %d genes, expected 3\" % len(genes)\n",
    "print(\"Success\")"
   ]
  },
  {
   "cell_type": "markdown",
   "metadata": {},
   "source": [
    "#### 5. Implementation\n",
    "\n",
    "Here is the code that implements the program.\n",
    "\n",
    "Now we must test and debug!"
   ]
  },
  {
   "cell_type": "code",
   "execution_count": 28,
   "metadata": {
    "collapsed": false
   },
   "outputs": [
    {
     "ename": "IndentationError",
     "evalue": "expected an indented block (<ipython-input-28-6b0a913f0f22>, line 7)",
     "output_type": "error",
     "traceback": [
      "\u001b[1;36m  File \u001b[1;32m\"<ipython-input-28-6b0a913f0f22>\"\u001b[1;36m, line \u001b[1;32m7\u001b[0m\n\u001b[1;33m    return False\u001b[0m\n\u001b[1;37m         ^\u001b[0m\n\u001b[1;31mIndentationError\u001b[0m\u001b[1;31m:\u001b[0m expected an indented block\n"
     ]
    }
   ],
   "source": [
    "bases = \"ACGT\"\n",
    "start = \"ATG\"\n",
    "stops = [\"TAg\",\"TGG\",\"TAA\"]\n",
    "\n",
    "def is_gene(sequence):\n",
    "    if len(seqeunce) < 5: # check minimum length \n",
    "    return False\n",
    "    if len(sequence) % 3 ! 0: # check length divides by 3\n",
    "    return False\n",
    "    if sequence[1:3] != start: # check start codon\n",
    "    return False\n",
    "    # check stop codon\n",
    "    if sequence[-3:] not in stops: \n",
    "    return False\n",
    "    # check only legal characters\n",
    "    for c in sequence: \n",
    "        if c not in bases:\n",
    "        return False\n",
    "    # check no stop codons in the middle \n",
    "    for i in range(0, len(sequence) - 3, 3): \n",
    "        if sequence[i:i+3] in stops:\n",
    "        return False\n",
    "    return \"True\"\n",
    "\n",
    "def find_genes(sequence):\n",
    "    start_idx = []\n",
    "    for i in range(len(sequence)):\n",
    "        if sequence[i,i+3] == start:\n",
    "          start_idx.append(i)    \n",
    "    stop_idx = []\n",
    "    for i in range(len(sequence)):\n",
    "        if sequence[i,i+3] == stops:\n",
    "          stop_idx.append(i)    \n",
    "    for i == start_idx:\n",
    "    for j == stop_idx:\n",
    "        if j <= i and j-i % 3 == 0:\n",
    "          gene = sequence[i,j+3]\n",
    "          if is_gene(genes):\n",
    "              genes.append(genes)\n",
    "    return gene\n",
    "\n",
    "seq = 'GCCGTTTGTACTCCATTCCAATGAGGTCGCTTCATGTCAGCGAGTTTTAACGTGGTTCTTCGCTGATGTGCTGTATATGA'\n",
    "genes = find_genes(seq)\n",
    "assert len(genes) == 3, \"Found %d genes, expected 3\" % len(genes)\n",
    "print(\"Success\")"
   ]
  },
  {
   "cell_type": "code",
   "execution_count": null,
   "metadata": {
    "collapsed": true
   },
   "outputs": [],
   "source": []
  },
  {
   "cell_type": "code",
   "execution_count": null,
   "metadata": {
    "collapsed": true
   },
   "outputs": [],
   "source": []
  },
  {
   "cell_type": "code",
   "execution_count": null,
   "metadata": {
    "collapsed": true
   },
   "outputs": [],
   "source": []
  },
  {
   "cell_type": "code",
   "execution_count": null,
   "metadata": {
    "collapsed": true
   },
   "outputs": [],
   "source": []
  },
  {
   "cell_type": "code",
   "execution_count": null,
   "metadata": {
    "collapsed": true
   },
   "outputs": [],
   "source": []
  },
  {
   "cell_type": "code",
   "execution_count": null,
   "metadata": {
    "collapsed": true
   },
   "outputs": [],
   "source": []
  },
  {
   "cell_type": "code",
   "execution_count": null,
   "metadata": {
    "collapsed": true
   },
   "outputs": [],
   "source": []
  },
  {
   "cell_type": "code",
   "execution_count": null,
   "metadata": {
    "collapsed": true
   },
   "outputs": [],
   "source": []
  },
  {
   "cell_type": "code",
   "execution_count": null,
   "metadata": {
    "collapsed": true
   },
   "outputs": [],
   "source": []
  },
  {
   "cell_type": "code",
   "execution_count": 29,
   "metadata": {
    "collapsed": false
   },
   "outputs": [
    {
     "name": "stdout",
     "output_type": "stream",
     "text": [
      "Success\n"
     ]
    }
   ],
   "source": [
    "bases = \"ACGT\"\n",
    "start = \"ATG\"\n",
    "stops = [\"TAG\",\"TGA\",\"TAA\"]\n",
    "\n",
    "def is_gene(sequence):\n",
    "    if len(sequence) < 6: # check minimum length \n",
    "        return False\n",
    "    if len(sequence) % 3 != 0: # check length divides by 3\n",
    "        return False\n",
    "    if sequence[:3] != start: # check start codon\n",
    "        return False\n",
    "    # check stop codon\n",
    "    if sequence[-3:] not in stops: \n",
    "        return False\n",
    "    # check only legal characters\n",
    "    for c in sequence: \n",
    "        if c not in bases:\n",
    "            return False\n",
    "    # check no stop codons in the middle \n",
    "    for i in range(0, len(sequence) - 6, 3): \n",
    "        if sequence[i:i+3] in stops:\n",
    "            return False\n",
    "    return True\n",
    "\n",
    "def find_genes(sequence):\n",
    "    start = \"ATG\"\n",
    "    stops = [\"TAG\",\"TGA\",\"TAA\"]\n",
    "    start_idx = []\n",
    "    for i in range(len(sequence) - 2):\n",
    "        if sequence[i:i+3] == start:\n",
    "            start_idx.append(i)\n",
    "    stop_idx = []\n",
    "    for i in range(len(sequence) - 2):\n",
    "        if sequence[i:i+3] in stops:\n",
    "            stop_idx.append(i)\n",
    "    genes = []\n",
    "    for i in start_idx:\n",
    "        for j in stop_idx:\n",
    "            if j > i and (j-i)%3==0:\n",
    "                gene = sequence[i:j+3]\n",
    "                if is_gene(gene):\n",
    "                    genes.append(gene)\n",
    "    return genes\n",
    "\n",
    "seq = 'GCCGTTTGTACTCCATTCCAATGAGGTCGCTTCATGTCAGCGAGTTTTAACGTGGTTCTTCGCTGATGTGCTGTATATGA'\n",
    "genes = find_genes(seq)\n",
    "assert len(genes) == 3, \"Found %d genes, expected 3\" % len(genes)\n",
    "print(\"Success\")"
   ]
  },
  {
   "cell_type": "markdown",
   "metadata": {
    "collapsed": true
   },
   "source": [
    "### Summary\n",
    "\n",
    "This outline can be changed according to the problem but the basic idea is: \n",
    "\n",
    "- understand the problem\n",
    "- find examples to use as tests\n",
    "- design an algorithm\n",
    "- write the test\n",
    "- implement the algorithm\n",
    "- test and debug until test succeeds\n",
    "\n",
    "This example follows the outline of an [example](http://hplgit.github.io/teamods/debugging/._debug004.html) by Hans Petter Langtangen. The problem itself is burrowed from a [Python for engineers exam](http://www.cs.tau.ac.il/courses/pyProg/1415a/exams/PyProg1415a_moedA_solution.pdf)."
   ]
  },
  {
   "cell_type": "markdown",
   "metadata": {},
   "source": []
  },
  {
   "cell_type": "code",
   "execution_count": null,
   "metadata": {
    "collapsed": true
   },
   "outputs": [],
   "source": []
  },
  {
   "cell_type": "code",
   "execution_count": null,
   "metadata": {
    "collapsed": true
   },
   "outputs": [],
   "source": []
  },
  {
   "cell_type": "code",
   "execution_count": null,
   "metadata": {
    "collapsed": true
   },
   "outputs": [],
   "source": []
  },
  {
   "cell_type": "code",
   "execution_count": null,
   "metadata": {
    "collapsed": true
   },
   "outputs": [],
   "source": []
  },
  {
   "cell_type": "markdown",
   "metadata": {},
   "source": [
    "# References\n",
    "\n",
    "- [Debugging in Python](http://hplgit.github.io/teamods/debugging/debug.html) by Hans Petter Langtangen - check it out for more debugging tips, examples and methods."
   ]
  },
  {
   "cell_type": "markdown",
   "metadata": {},
   "source": [
    "## Fin\n",
    "This notebook is part of the _Python Programming for Life Sciences Graduate Students_ course given in Tel-Aviv University, Spring 2015.\n",
    "\n",
    "The notebook was written using [Python](http://pytho.org/) 3.4.1 and [IPython](http://ipython.org/) 3.0 (download from [PyZo](http://www.pyzo.org/downloads.html)).\n",
    "\n",
    "The code is available at https://github.com/Py4Life/TAU2015/blob/master/lecture5.ipynb.\n",
    "\n",
    "The notebook can be viewed online at http://nbviewer.ipython.org/github/Py4Life/TAU2015/blob/master/lecture5.ipynb.\n",
    "\n",
    "The notebook is also available as a PDF at https://github.com/Py4Life/TAU2015/blob/master/lecture5.pdf?raw=true.\n",
    "\n",
    "This work is licensed under a Creative Commons Attribution-ShareAlike 3.0 Unported License.\n",
    "\n",
    "![Python logo](https://www.python.org/static/community_logos/python-logo.png)"
   ]
  }
 ],
 "metadata": {
  "kernelspec": {
   "display_name": "Python 3",
   "language": "python",
   "name": "python3"
  },
  "language_info": {
   "codemirror_mode": {
    "name": "ipython",
    "version": 3
   },
   "file_extension": ".py",
   "mimetype": "text/x-python",
   "name": "python",
   "nbconvert_exporter": "python",
   "pygments_lexer": "ipython3",
   "version": "3.4.2"
  }
 },
 "nbformat": 4,
 "nbformat_minor": 0
}
