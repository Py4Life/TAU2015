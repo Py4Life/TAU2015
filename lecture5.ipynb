{
 "cells": [
  {
   "cell_type": "markdown",
   "metadata": {},
   "source": [
    "[![Py4Life](https://raw.githubusercontent.com/Py4Life/TAU2015/gh-pages/img/Py4Life-logo-small.png)](http://py4life.github.io/TAU2015/)\n",
    "## Lecture 5 - 15.4.2015\n",
    "### Last update: 23.3.2015\n",
    "### Tel-Aviv University / 0411-3122 / Spring 2015"
   ]
  },
  {
   "cell_type": "markdown",
   "metadata": {},
   "source": [
    "## Fin\n",
    "This notebook is part of the _Python Programming for Life Sciences Graduate Students_ course given in Tel-Aviv University, Spring 2015.\n",
    "\n",
    "The notebook was written using [Python](http://pytho.org/) 3.4.1 and [IPython](http://ipython.org/) 3.0 (download from [PyZo](http://www.pyzo.org/downloads.html)).\n",
    "\n",
    "The code is available at https://github.com/Py4Life/TAU2015/blob/master/lecture5.ipynb.\n",
    "\n",
    "The notebook can be viewed online at http://nbviewer.ipython.org/github/Py4Life/TAU2015/blob/master/lecture5.ipynb.\n",
    "\n",
    "The notebook is also available as a PDF at https://github.com/Py4Life/TAU2015/blob/master/lecture5.pdf?raw=true.\n",
    "\n",
    "This work is licensed under a Creative Commons Attribution-ShareAlike 3.0 Unported License.\n",
    "\n",
    "![Python logo](https://www.python.org/static/community_logos/python-logo.png)"
   ]
  }
 ],
 "metadata": {
  "kernelspec": {
   "display_name": "Python 2",
   "language": "python",
   "name": "python2"
  },
  "language_info": {
   "codemirror_mode": {
    "name": "ipython",
    "version": 2
   },
   "file_extension": ".py",
   "mimetype": "text/x-python",
   "name": "python",
   "nbconvert_exporter": "python",
   "pygments_lexer": "ipython2",
   "version": "2.7.3"
  }
 },
 "nbformat": 4,
 "nbformat_minor": 0
}
