{
 "metadata": {
  "name": "",
  "signature": "sha256:10054b19baaaee58fc38a90ee2d7f2fe86d7989685589f559f65435d58d1e7c9"
 },
 "nbformat": 3,
 "nbformat_minor": 0,
 "worksheets": [
  {
   "cells": [
    {
     "cell_type": "markdown",
     "metadata": {},
     "source": [
      "# Search Europe PMC with Python\n",
      "\n",
      "Using a [RESTful web service](http://europepmc.org/RestfulWebService).\n",
      "\n",
      "If you have [requests](http://docs.python-requests.org/en/latest/) installed, it's best to use it:"
     ]
    },
    {
     "cell_type": "code",
     "collapsed": false,
     "input": [
      "import requests"
     ],
     "language": "python",
     "metadata": {},
     "outputs": [],
     "prompt_number": 123
    },
    {
     "cell_type": "markdown",
     "metadata": {},
     "source": [
      "Otherwise use _urllib_ and _json_:"
     ]
    },
    {
     "cell_type": "code",
     "collapsed": false,
     "input": [
      "from urllib.request import urlopen\n",
      "from urllib.parse import quote\n",
      "import json"
     ],
     "language": "python",
     "metadata": {},
     "outputs": [],
     "prompt_number": 137
    },
    {
     "cell_type": "code",
     "collapsed": false,
     "input": [
      "BASE_URL = \"http://www.ebi.ac.uk/europepmc/webservices/rest/search/\"\n",
      "OPTIONS  = {\"format\":\"json\", \"resulttype\":\"lite\"}"
     ],
     "language": "python",
     "metadata": {},
     "outputs": [],
     "prompt_number": 138
    },
    {
     "cell_type": "code",
     "collapsed": false,
     "input": [
      "def make_url(query, options=None):\n",
      "    if options == None:\n",
      "        options = OPTIONS\n",
      "    options.update({'query':query})\n",
      "    #url = BASE_URL + urllib.parse.urlencode(options, )\n",
      "    url = BASE_URL \n",
      "    for k,v in options.items():\n",
      "        url += '&' + quote(k) + '=' + quote(v)\n",
      "    return url"
     ],
     "language": "python",
     "metadata": {},
     "outputs": [],
     "prompt_number": 139
    },
    {
     "cell_type": "code",
     "collapsed": false,
     "input": [
      "# using urllib\n",
      "def search(query, options=None):\n",
      "    url = make_url(query, options)\n",
      "    r = urllib.request.urlopen(url)\n",
      "    if not r.status == 200:\n",
      "        return {}\n",
      "    charset = r.headers.get_content_charset()\n",
      "    buf = r.read()\n",
      "    data = json.loads(buf.decode(charset))\n",
      "    return data.get('resultList').get('result')"
     ],
     "language": "python",
     "metadata": {},
     "outputs": []
    },
    {
     "cell_type": "code",
     "collapsed": false,
     "input": [
      "# using requests\n",
      "def search(query, options=None):\n",
      "    url = make_url(query, options)\n",
      "    r = requests.get(url)\n",
      "    if not r.ok:\n",
      "        return {}\n",
      "    return r.json().get('resultList').get('result')"
     ],
     "language": "python",
     "metadata": {},
     "outputs": [],
     "prompt_number": 133
    },
    {
     "cell_type": "code",
     "collapsed": false,
     "input": [
      "print(make_url(\"HIV\"))"
     ],
     "language": "python",
     "metadata": {},
     "outputs": [
      {
       "output_type": "stream",
       "stream": "stdout",
       "text": [
        "http://www.ebi.ac.uk/europepmc/webservices/rest/search/&resulttype=lite&format=json&query=HIV\n"
       ]
      }
     ],
     "prompt_number": 134
    },
    {
     "cell_type": "code",
     "collapsed": false,
     "input": [
      "results = search(\"HIV\", options)"
     ],
     "language": "python",
     "metadata": {},
     "outputs": [],
     "prompt_number": 135
    },
    {
     "cell_type": "code",
     "collapsed": false,
     "input": [
      "for r in results:\n",
      "    print('*',r['title'])"
     ],
     "language": "python",
     "metadata": {},
     "outputs": [
      {
       "output_type": "stream",
       "stream": "stdout",
       "text": [
        "* HIV economic burden of illness in the Veterans Health Administration population.\n",
        "* Combined prevention for persons who inject drugs in the HIV epidemic in a transitional country: the case of Tallinn, Estonia.\n",
        "* Improvements in depression and changes in quality of life among HIV-infected adults.\n",
        "* The burden and predictors of cognitive impairment among 6- to 8-year-old children infected and uninfected with HIV from Harare, Zimbabwe: A cross-sectional study.\n",
        "* Prescription medication misuse among HIV-infected individuals taking antiretroviral therapy.\n",
        "* Alcohol dependence and CD4 cell count: is there a relationship?\n",
        "* Providers' perspectives on male involvement in family planning in the context of a cluster-randomized controlled trial evaluating integrating family planning into HIV care in Nyanza Province, Kenya.\n",
        "* Renegotiating cultural practices as a result of HIV in the eastern region of Malawi.\n",
        "* Understanding the experience and manifestation of depression in people living with HIV/AIDS in South Africa.\n",
        "* Alcohol use disorders negatively influence antiretroviral medication adherence among men who have sex with men in Peru.\n",
        "* Depression and social functioning among HIV-infected and uninfected persons in South Africa.\n",
        "* HBV and HIV Coinfections among Intending Blood Donors in Port Harcourt, Nigeria.\n",
        "* Spiritual coping predicts CD4-cell preservation and undetectable viral load over four years.\n",
        "* Perception of HIV risk and the quantity and quality of children: The case of rural Malawi.\n",
        "* High prevalence of stigma-related abuse among a sample of men who have sex with men in Tanzania: implications for HIV prevention.\n",
        "* Depression, substance use, viral load, and CD4+ count among patients who continued or left antiretroviral therapy for HIV in St. Petersburg, Russian Federation.\n",
        "* An enhanced sensitive electrochemical immunosensor based on efficient encapsulation of enzyme in silica matrix for the detection of human immunodeficiency virus p24.\n",
        "* Effect of galectins on viral transmission.\n",
        "* Predictors of resolution and persistence of renal laboratory abnormalities in pediatric HIV infection.\n",
        "* Achieving pregnancy safely: perspectives on timed vaginal insemination among HIV-serodiscordant couples and health-care providers in Kisumu, Kenya.\n",
        "* The \"moral career\" of perinatally HIV-infected children: revisiting Goffman's concept.\n",
        "* Challenges faced by health-care providers offering infant-feeding counseling to HIV-positive women in sub-Saharan Africa: a review of current research.\n",
        "* Epigenetic Regulation of HIV, AIDS, and AIDS-Related Malignancies.\n",
        "* Barriers to accessing HIV-prevention in clinic settings: Higher alcohol use and more sex partners predict decreased exposure to HIV-prevention counseling.\n",
        "* Depression in HIV Infected Patients: a Review.\n"
       ]
      }
     ],
     "prompt_number": 136
    },
    {
     "cell_type": "code",
     "collapsed": false,
     "input": [
      "print(make_url('auth:\"Ram Y\"', options))"
     ],
     "language": "python",
     "metadata": {},
     "outputs": [
      {
       "output_type": "stream",
       "stream": "stdout",
       "text": [
        "http://www.ebi.ac.uk/europepmc/webservices/rest/search/&resulttype=lite&format=json&query=auth%3A%22Ram%20Y%22\n"
       ]
      }
     ],
     "prompt_number": 115
    },
    {
     "cell_type": "code",
     "collapsed": false,
     "input": [
      "results = search('auth:\"Ram Y\"')"
     ],
     "language": "python",
     "metadata": {},
     "outputs": [],
     "prompt_number": 121
    },
    {
     "cell_type": "code",
     "collapsed": false,
     "input": [
      "for r in results:\n",
      "    print('*', r['title'])"
     ],
     "language": "python",
     "metadata": {},
     "outputs": [
      {
       "output_type": "stream",
       "stream": "stdout",
       "text": [
        "* Stress-induced mutagenesis and complex adaptation.\n",
        "* The probability of improvement in Fisher's geometric model: A probabilistic approach.\n",
        "* The evolution of stress-induced hypermutation in asexual populations.\n",
        "* Dispersing away from bad genotypes: the evolution of Fitness-Associated Dispersal (FAD) in homogeneous environments.\n",
        "* Abscission of clove in garlic (Allium sativum L.).\n"
       ]
      }
     ],
     "prompt_number": 122
    },
    {
     "cell_type": "code",
     "collapsed": false,
     "input": [],
     "language": "python",
     "metadata": {},
     "outputs": []
    }
   ],
   "metadata": {}
  }
 ]
}