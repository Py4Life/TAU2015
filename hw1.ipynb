{
 "metadata": {
  "name": "",
  "signature": "sha256:a1a7f201fe3852029530e5bf3749c22a0942acc1570b59dd7687d0859a425333"
 },
 "nbformat": 3,
 "nbformat_minor": 0,
 "worksheets": [
  {
   "cells": [
    {
     "cell_type": "markdown",
     "metadata": {},
     "source": [
      "## Mendelian fruit\n",
      "a) Mr. Lendem is studying the genetics of odor in Guavas (_Psidium guajava_).He knows that the D gene, controlling odor, follows Mendelian inheritance so that DD Guavas have a strong typical smell, Dd plants have weaker smell and dd plants don't smell at all.  \n",
      "Write a program that, given a number of Guava plants examined, will print the expected numbers of smelly, less smelly and non-smelly plants.  \n",
      "\\* Remember that the expected number of plants is an _integer_!\n",
      "![guavas](http://www.touilleur-express.fr/wp-content/guava.jpg)"
     ]
    },
    {
     "cell_type": "code",
     "collapsed": false,
     "input": [
      "plants_num = ??? # Replace ??? with a value of your choice.\n",
      "\n",
      "smelly = ???\n",
      "less_smelly = ???\n",
      "non_smelly = ???\n",
      "\n",
      "print('Smelly:',smelly)\n",
      "print('Less smelly:',less_smelly)\n",
      "print('Non Smelly:',non_smelly)"
     ],
     "language": "python",
     "metadata": {},
     "outputs": []
    },
    {
     "cell_type": "markdown",
     "metadata": {},
     "source": [
      "b) something similar with two genes..."
     ]
    },
    {
     "cell_type": "markdown",
     "metadata": {},
     "source": [
      "## Blood types\n",
      "Each individual has either blood type 'A', 'B', 'AB' or 'O'.  \n",
      "Blood donations may be received from individuals with the same blood type, although 'AB' may receive all types and 'O' may donate to all types.  \n",
      "Write a program that, given the blood types of two patients, prints whether the recepient may receive a blood donation from the donor. The program should print 'True' if a donation is possible, 'False' if it isn't, and 'Invalid input' if one of the blood types is not 'A', 'B', 'AB' or 'O' (only accept uppercase letters."
     ]
    },
    {
     "cell_type": "code",
     "collapsed": false,
     "input": [
      "recepient_blood_type = ??? # Replace ??? with a value of your choice.\n",
      "donor_blood_type = ??? # Replace ??? with a value of your choice.\n",
      "\n",
      "# Your code goes here\n"
     ],
     "language": "python",
     "metadata": {},
     "outputs": []
    },
    {
     "cell_type": "markdown",
     "metadata": {},
     "source": [
      "## Harshad numbers\n",
      "A Harshad number is a natural integer, which is divisible by the sum of its digits. For example, 81 is a Harshad number, because 8 + 1 = 9 and 81 is divisible by 9. 96 is __not__ a Harshad number because it is not divisible by 15.  \n",
      "Write a program that finds if a given number is a Harshad number.  \n",
      "We'll do it in two steps:  \n",
      "a) Write a program that calculates the sum of digits of a given number.  "
     ]
    },
    {
     "cell_type": "code",
     "collapsed": false,
     "input": [
      "n = ??? # Replace ??? with a value of your choice.\n",
      "original_n = n\n",
      "\n",
      "digit_sum = 0\n",
      "while n > 0:\n",
      "    digit_sum = \n",
      "    n = \n",
      "    \n",
      "print('The sum of diggits of',original_n,'is',digit_sum)"
     ],
     "language": "python",
     "metadata": {},
     "outputs": [
      {
       "ename": "SyntaxError",
       "evalue": "invalid syntax (<ipython-input-17-ad0402a52100>, line 1)",
       "output_type": "pyerr",
       "traceback": [
        "\u001b[1;36m  File \u001b[1;32m\"<ipython-input-17-ad0402a52100>\"\u001b[1;36m, line \u001b[1;32m1\u001b[0m\n\u001b[1;33m    n = ??? # Replace ??? with a value of your choice.\u001b[0m\n\u001b[1;37m        ^\u001b[0m\n\u001b[1;31mSyntaxError\u001b[0m\u001b[1;31m:\u001b[0m invalid syntax\n"
       ]
      }
     ],
     "prompt_number": 17
    },
    {
     "cell_type": "markdown",
     "metadata": {},
     "source": [
      "b) Use the code from part a to find the sum of digits of the number, than test it for being a Harshad number.  \n",
      "If the given number is a Harshad number, print \"< n > is a Harshad number.\". If it isn't, print \"< n > is not a Harshad number.\" (replace < n > with the given number).  \n",
      "A few examples to try: 81, 18, 110, 1729, 68, 115, 260..."
     ]
    },
    {
     "cell_type": "code",
     "collapsed": false,
     "input": [
      "n = ??? # Replace ??? with a value of your choice.\n",
      "original_n = n\n",
      "\n",
      "# find the sum of digits\n",
      "\n",
      "\n",
      "\n",
      "\n",
      "# test for Harshad number\n",
      "\n",
      "\n",
      "\n"
     ],
     "language": "python",
     "metadata": {},
     "outputs": []
    },
    {
     "cell_type": "markdown",
     "metadata": {},
     "source": [
      "## Lab manager\n",
      "In Dr. Zoidberg's lab, there are X students, each uses Y Petri dishes a day, on average. At the begining of each month, the lab manager has to decide if he/she should order more dishes. Given the number of students (X), the average number of dishes they use per day (Y) and the number of dishes in stock (N), write a program that will make the decision, using the following rules:  \n",
      "- If there are enough dishes for the coming __two__ months, do not order anything.  \n",
      "- If there are enough dishes for the coming month, but not for two month, order the ammount required to complete a two-month stock.\n",
      "- If there aren't enough dishes for the coming month, complete a two month stock __and__ order another mont's stock for reserves.\n",
      "\n",
      "Print the total number of dishes that should be ordered."
     ]
    },
    {
     "cell_type": "code",
     "collapsed": false,
     "input": [
      "students = ??? # Replace ??? with a value of your choice.\n",
      "dishes_per_student = ??? # Replace ??? with a value of your choice.\n",
      "dishes_in_stock = ??? # Replace ??? with a value of your choice.\n",
      "\n",
      "# your code here\n",
      "\n",
      "\n",
      "\n",
      "print('Order',dishes_to_order,'dishes')"
     ],
     "language": "python",
     "metadata": {},
     "outputs": []
    }
   ],
   "metadata": {}
  }
 ]
}