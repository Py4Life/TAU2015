{
 "metadata": {
  "kernelspec": {
   "display_name": "Python 3",
   "language": "python",
   "name": "python3"
  },
  "language_info": {
   "codemirror_mode": {
    "name": "ipython",
    "version": 3
   },
   "file_extension": ".py",
   "mimetype": "text/x-python",
   "name": "python",
   "nbconvert_exporter": "python",
   "pygments_lexer": "ipython3",
   "version": "3.4.1"
  },
  "name": ""
 },
 "nbformat": 3,
 "nbformat_minor": 0,
 "worksheets": [
  {
   "cells": [
    {
     "cell_type": "markdown",
     "metadata": {},
     "source": [
      "# Using data APIs with Python\n",
      "## The Very Hungry Caterpillar exampe"
     ]
    },
    {
     "cell_type": "code",
     "collapsed": true,
     "input": [
      "%matplotlib inline\n",
      "from IPython.display import HTML\n",
      "import matplotlib.pyplot as plt\n",
      "import requests\n",
      "import pandas as pd\n",
      "import numpy as np\n",
      "import seaborn as sns\n",
      "sns.set_style('white')\n",
      "sns.set_context('talk', font_scale=1.2)"
     ],
     "language": "python",
     "metadata": {},
     "outputs": [],
     "prompt_number": 121
    },
    {
     "cell_type": "code",
     "collapsed": false,
     "input": [
      "HTML('<blockquote class=\"twitter-tweet\" lang=\"he\"><p lang=\"en\" dir=\"ltr\">Hmm, I don&#39;t know about this caterpillar rearing manual. I thought P.rapae had an obligate association w/ Brassica. <a href=\"http://t.co/M10dqbOYlN\">pic.twitter.com/M10dqbOYlN</a></p>&mdash; Christie Bahlai (@cbahlai) <a href=\"https://twitter.com/cbahlai/status/597462491166150656\">\u05de\u05d0\u05d9 10, 2015</a></blockquote><script async src=\"//platform.twitter.com/widgets.js\" charset=\"utf-8\"></script>')"
     ],
     "language": "python",
     "metadata": {},
     "outputs": [
      {
       "html": [
        "<blockquote class=\"twitter-tweet\" lang=\"he\"><p lang=\"en\" dir=\"ltr\">Hmm, I don&#39;t know about this caterpillar rearing manual. I thought P.rapae had an obligate association w/ Brassica. <a href=\"http://t.co/M10dqbOYlN\">pic.twitter.com/M10dqbOYlN</a></p>&mdash; Christie Bahlai (@cbahlai) <a href=\"https://twitter.com/cbahlai/status/597462491166150656\">\u05de\u05d0\u05d9 10, 2015</a></blockquote><script async src=\"//platform.twitter.com/widgets.js\" charset=\"utf-8\"></script>"
       ],
       "metadata": {},
       "output_type": "pyout",
       "prompt_number": 101,
       "text": [
        "<IPython.core.display.HTML object>"
       ]
      }
     ],
     "prompt_number": 101
    },
    {
     "cell_type": "code",
     "collapsed": false,
     "input": [
      "HTML('<blockquote class=\"twitter-tweet\" lang=\"he\"><p lang=\"en\" dir=\"ltr\">This is a terrible dataset about caterpillar diet. How did it got published? <a href=\"http://t.co/XkAq51HxEP\">pic.twitter.com/XkAq51HxEP</a></p>&mdash; Timoth\u00e9e Poisot (@tpoi) <a href=\"https://twitter.com/tpoi/status/591041490618552320\">\u05d0\u05e4\u05e8\u05d9\u05dc 23, 2015</a></blockquote><script async src=\"//platform.twitter.com/widgets.js\" charset=\"utf-8\"></script>')"
     ],
     "language": "python",
     "metadata": {},
     "outputs": [
      {
       "html": [
        "<blockquote class=\"twitter-tweet\" lang=\"he\"><p lang=\"en\" dir=\"ltr\">This is a terrible dataset about caterpillar diet. How did it got published? <a href=\"http://t.co/XkAq51HxEP\">pic.twitter.com/XkAq51HxEP</a></p>&mdash; Timoth\u00e9e Poisot (@tpoi) <a href=\"https://twitter.com/tpoi/status/591041490618552320\">\u05d0\u05e4\u05e8\u05d9\u05dc 23, 2015</a></blockquote><script async src=\"//platform.twitter.com/widgets.js\" charset=\"utf-8\"></script>"
       ],
       "metadata": {},
       "output_type": "pyout",
       "prompt_number": 102,
       "text": [
        "<IPython.core.display.HTML object>"
       ]
      }
     ],
     "prompt_number": 102
    },
    {
     "cell_type": "code",
     "collapsed": false,
     "input": [
      "HTML('<blockquote class=\"twitter-tweet\" data-partner=\"tweetdeck\"><p lang=\"und\" dir=\"ltr\"><a href=\"https://twitter.com/tpoi\">@tpoi</a> <a href=\"https://twitter.com/kara_woo\">@kara_woo</a> <a href=\"https://twitter.com/cbahlai\">@cbahlai</a> <a href=\"http://t.co/5lj9EzuKjW\">pic.twitter.com/5lj9EzuKjW</a></p>&mdash; Yoav Ram (@yoavram) <a href=\"https://twitter.com/yoavram/status/597518650082365440\">May 10, 2015</a></blockquote><script async src=\"//platform.twitter.com/widgets.js\" charset=\"utf-8\"></script>')"
     ],
     "language": "python",
     "metadata": {},
     "outputs": [
      {
       "html": [
        "<blockquote class=\"twitter-tweet\" data-partner=\"tweetdeck\"><p lang=\"und\" dir=\"ltr\"><a href=\"https://twitter.com/tpoi\">@tpoi</a> <a href=\"https://twitter.com/kara_woo\">@kara_woo</a> <a href=\"https://twitter.com/cbahlai\">@cbahlai</a> <a href=\"http://t.co/5lj9EzuKjW\">pic.twitter.com/5lj9EzuKjW</a></p>&mdash; Yoav Ram (@yoavram) <a href=\"https://twitter.com/yoavram/status/597518650082365440\">May 10, 2015</a></blockquote><script async src=\"//platform.twitter.com/widgets.js\" charset=\"utf-8\"></script>"
       ],
       "metadata": {},
       "output_type": "pyout",
       "prompt_number": 99,
       "text": [
        "<IPython.core.display.HTML object>"
       ]
      }
     ],
     "prompt_number": 99
    },
    {
     "cell_type": "code",
     "collapsed": false,
     "input": [
      "HTML('<blockquote class=\"twitter-tweet\" data-partner=\"tweetdeck\"><p lang=\"en\" dir=\"ltr\">[blog] How hungry are caterpillars anyway? <a href=\"http://t.co/SvImkHYHhR\">http://t.co/SvImkHYHhR</a> <a href=\"https://twitter.com/hashtag/opendata?src=hash\">#opendata</a></p>&mdash; Timoth\u00e9e Poisot (@tpoi) <a href=\"https://twitter.com/tpoi/status/597518409203589122\">May 10, 2015</a></blockquote><script async src=\"//platform.twitter.com/widgets.js\" charset=\"utf-8\"></script>')"
     ],
     "language": "python",
     "metadata": {},
     "outputs": [
      {
       "html": [
        "<blockquote class=\"twitter-tweet\" data-partner=\"tweetdeck\"><p lang=\"en\" dir=\"ltr\">[blog] How hungry are caterpillars anyway? <a href=\"http://t.co/SvImkHYHhR\">http://t.co/SvImkHYHhR</a> <a href=\"https://twitter.com/hashtag/opendata?src=hash\">#opendata</a></p>&mdash; Timoth\u00e9e Poisot (@tpoi) <a href=\"https://twitter.com/tpoi/status/597518409203589122\">May 10, 2015</a></blockquote><script async src=\"//platform.twitter.com/widgets.js\" charset=\"utf-8\"></script>"
       ],
       "metadata": {},
       "output_type": "pyout",
       "prompt_number": 103,
       "text": [
        "<IPython.core.display.HTML object>"
       ]
      }
     ],
     "prompt_number": 103
    },
    {
     "cell_type": "markdown",
     "metadata": {},
     "source": [
      "We will learn how to use the Global Biotic Interactions (globi) API with Python to check **[How hungry are caterpillars anyway?](http://timotheepoisot.fr/2015/05/10/hungry-caterpillars/)** (sort of).\n",
      "\n",
      "First, have a look at the [API](http://www.globalbioticinteractions.org/) and the [API docs](https://github.com/jhpoelen/eol-globi-data/wiki/API). It is a RESTful API that returns responses in JSON format over HTTP.\n",
      "\n",
      "- HTTP: protocol for transfering text files on the internet\n",
      "- JSON: file format, very similar to Python's `dict`.\n",
      "- REST: a common convention for designing web applications that allow querying and retrieving (and sometimes creating, changing and deleting) data.\n",
      "\n",
      "Let's try it, following [Poisot's lead on _The Very Hungry Caterpillar_](http://timotheepoisot.fr/2015/05/10/hungry-caterpillars/).\n",
      "\n",
      "![caterpillar](http://1.bp.blogspot.com/-gZhDuc_eD_U/U8To75wL9UI/AAAAAAAAOD4/Q7LDDM7B3H4/s1600/the-very-hungry-caterpillar-2.jpg)\n",
      "\n",
      "We will use [_requests_](http://docs.python-requests.org/en/latest/) - a Python HTTP library _for humans_."
     ]
    },
    {
     "cell_type": "code",
     "collapsed": false,
     "input": [
      "response = requests.get(\"http://api.globalbioticinteractions.org/interaction?sourceTaxon=Pieris&interactionType=eats\")\n",
      "print(\"OK:\", response.ok)"
     ],
     "language": "python",
     "metadata": {},
     "outputs": [
      {
       "output_type": "stream",
       "stream": "stdout",
       "text": [
        "OK: True\n"
       ]
      }
     ],
     "prompt_number": 109
    },
    {
     "cell_type": "markdown",
     "metadata": {},
     "source": [
      "The respose payload is in JSON format. Calling the `json` method will return the payload as a `dict`:"
     ]
    },
    {
     "cell_type": "code",
     "collapsed": false,
     "input": [
      "payload = response.json()\n",
      "print(len(payload))\n",
      "print(payload.keys())"
     ],
     "language": "python",
     "metadata": {},
     "outputs": [
      {
       "output_type": "stream",
       "stream": "stdout",
       "text": [
        "2\n",
        "dict_keys(['columns', 'data'])\n"
       ]
      }
     ],
     "prompt_number": 110
    },
    {
     "cell_type": "markdown",
     "metadata": {},
     "source": [
      "The response has two fields, `columns` and `data`, corresponding to the data frame's column names and rows. That's great because we can push it right into a `pandas.DataFrame`:"
     ]
    },
    {
     "cell_type": "code",
     "collapsed": false,
     "input": [
      "print(payload['columns'])"
     ],
     "language": "python",
     "metadata": {},
     "outputs": [
      {
       "output_type": "stream",
       "stream": "stdout",
       "text": [
        "['source_taxon_external_id', 'source_taxon_name', 'source_taxon_path', 'source_specimen_life_stage', 'source_specimen_basis_of_record', 'interaction_type', 'target_taxon_external_id', 'target_taxon_name', 'target_taxon_path', 'target_specimen_life_stage', 'target_specimen_basis_of_record', 'latitude', 'longitude', 'study_title']\n"
       ]
      }
     ],
     "prompt_number": 74
    },
    {
     "cell_type": "code",
     "collapsed": false,
     "input": [
      "print(payload['data'][0])"
     ],
     "language": "python",
     "metadata": {},
     "outputs": [
      {
       "output_type": "stream",
       "stream": "stdout",
       "text": [
        "['EOL:174006', 'Pieris marginalis', 'Animalia | Bilateria | Protostomia | Ecdysozoa | Arthropoda | Hexapoda | Insecta | Pterygota | Neoptera | Holometabola | Lepidoptera | Papilionoidea | Pieridae | Pierinae | Pierini | Pierina | Pieris | Pieris marginalis', None, None, 'eats', 'EOL:29914', 'Rubus', 'Plantae | Tracheophyta | Magnoliopsida | Rosales | Rosaceae | Rubus | Rubus status', None, None, None, None, None]\n"
       ]
      }
     ],
     "prompt_number": 75
    },
    {
     "cell_type": "code",
     "collapsed": false,
     "input": [
      "df = pd.DataFrame(data['data'], columns=data['columns'])\n",
      "print(df.shape)\n",
      "df.head()"
     ],
     "language": "python",
     "metadata": {},
     "outputs": [
      {
       "output_type": "stream",
       "stream": "stdout",
       "text": [
        "(232, 14)\n"
       ]
      },
      {
       "html": [
        "<div style=\"max-height:1000px;max-width:1500px;overflow:auto;\">\n",
        "<table border=\"1\" class=\"dataframe\">\n",
        "  <thead>\n",
        "    <tr style=\"text-align: right;\">\n",
        "      <th></th>\n",
        "      <th>source_taxon_external_id</th>\n",
        "      <th>source_taxon_name</th>\n",
        "      <th>source_taxon_path</th>\n",
        "      <th>source_specimen_life_stage</th>\n",
        "      <th>source_specimen_basis_of_record</th>\n",
        "      <th>interaction_type</th>\n",
        "      <th>target_taxon_external_id</th>\n",
        "      <th>target_taxon_name</th>\n",
        "      <th>target_taxon_path</th>\n",
        "      <th>target_specimen_life_stage</th>\n",
        "      <th>target_specimen_basis_of_record</th>\n",
        "      <th>latitude</th>\n",
        "      <th>longitude</th>\n",
        "      <th>study_title</th>\n",
        "    </tr>\n",
        "  </thead>\n",
        "  <tbody>\n",
        "    <tr>\n",
        "      <th>0</th>\n",
        "      <td> EOL:174006</td>\n",
        "      <td> Pieris marginalis</td>\n",
        "      <td> Animalia | Bilateria | Protostomia | Ecdysozoa...</td>\n",
        "      <td> None</td>\n",
        "      <td> None</td>\n",
        "      <td> eats</td>\n",
        "      <td>  EOL:29914</td>\n",
        "      <td>                Rubus</td>\n",
        "      <td> Plantae | Tracheophyta | Magnoliopsida | Rosal...</td>\n",
        "      <td> None</td>\n",
        "      <td> None</td>\n",
        "      <td> None</td>\n",
        "      <td> None</td>\n",
        "      <td> None</td>\n",
        "    </tr>\n",
        "    <tr>\n",
        "      <th>1</th>\n",
        "      <td> EOL:174006</td>\n",
        "      <td> Pieris marginalis</td>\n",
        "      <td> Animalia | Bilateria | Protostomia | Ecdysozoa...</td>\n",
        "      <td> None</td>\n",
        "      <td> None</td>\n",
        "      <td> eats</td>\n",
        "      <td>  EOL:37457</td>\n",
        "      <td>               Arabis</td>\n",
        "      <td> Plantae | Tracheophyta | Magnoliopsida | Brass...</td>\n",
        "      <td> None</td>\n",
        "      <td> None</td>\n",
        "      <td> None</td>\n",
        "      <td> None</td>\n",
        "      <td> None</td>\n",
        "    </tr>\n",
        "    <tr>\n",
        "      <th>2</th>\n",
        "      <td> EOL:174006</td>\n",
        "      <td> Pieris marginalis</td>\n",
        "      <td> Animalia | Bilateria | Protostomia | Ecdysozoa...</td>\n",
        "      <td> None</td>\n",
        "      <td> None</td>\n",
        "      <td> eats</td>\n",
        "      <td>  EOL:37718</td>\n",
        "      <td>              Rorippa</td>\n",
        "      <td> Plantae | Tracheophyta | Magnoliopsida | Brass...</td>\n",
        "      <td> None</td>\n",
        "      <td> None</td>\n",
        "      <td> None</td>\n",
        "      <td> None</td>\n",
        "      <td> None</td>\n",
        "    </tr>\n",
        "    <tr>\n",
        "      <th>3</th>\n",
        "      <td> EOL:174006</td>\n",
        "      <td> Pieris marginalis</td>\n",
        "      <td> Animalia | Bilateria | Protostomia | Ecdysozoa...</td>\n",
        "      <td> None</td>\n",
        "      <td> None</td>\n",
        "      <td> eats</td>\n",
        "      <td>  EOL:37667</td>\n",
        "      <td>            Cardamine</td>\n",
        "      <td> Plantae | Tracheophyta | Magnoliopsida | Brass...</td>\n",
        "      <td> None</td>\n",
        "      <td> None</td>\n",
        "      <td> None</td>\n",
        "      <td> None</td>\n",
        "      <td> None</td>\n",
        "    </tr>\n",
        "    <tr>\n",
        "      <th>4</th>\n",
        "      <td> EOL:176683</td>\n",
        "      <td>      Pieris rapae</td>\n",
        "      <td> Animalia | Arthropoda | Insecta | Lepidoptera ...</td>\n",
        "      <td> None</td>\n",
        "      <td> None</td>\n",
        "      <td> eats</td>\n",
        "      <td> EOL:467679</td>\n",
        "      <td> Centaurea melitensis</td>\n",
        "      <td> Plantae | Tracheophyta | Magnoliopsida | Aster...</td>\n",
        "      <td> None</td>\n",
        "      <td> None</td>\n",
        "      <td> None</td>\n",
        "      <td> None</td>\n",
        "      <td> None</td>\n",
        "    </tr>\n",
        "  </tbody>\n",
        "</table>\n",
        "</div>"
       ],
       "metadata": {},
       "output_type": "pyout",
       "prompt_number": 112,
       "text": [
        "  source_taxon_external_id  source_taxon_name  \\\n",
        "0               EOL:174006  Pieris marginalis   \n",
        "1               EOL:174006  Pieris marginalis   \n",
        "2               EOL:174006  Pieris marginalis   \n",
        "3               EOL:174006  Pieris marginalis   \n",
        "4               EOL:176683       Pieris rapae   \n",
        "\n",
        "                                   source_taxon_path  \\\n",
        "0  Animalia | Bilateria | Protostomia | Ecdysozoa...   \n",
        "1  Animalia | Bilateria | Protostomia | Ecdysozoa...   \n",
        "2  Animalia | Bilateria | Protostomia | Ecdysozoa...   \n",
        "3  Animalia | Bilateria | Protostomia | Ecdysozoa...   \n",
        "4  Animalia | Arthropoda | Insecta | Lepidoptera ...   \n",
        "\n",
        "  source_specimen_life_stage source_specimen_basis_of_record interaction_type  \\\n",
        "0                       None                            None             eats   \n",
        "1                       None                            None             eats   \n",
        "2                       None                            None             eats   \n",
        "3                       None                            None             eats   \n",
        "4                       None                            None             eats   \n",
        "\n",
        "  target_taxon_external_id     target_taxon_name  \\\n",
        "0                EOL:29914                 Rubus   \n",
        "1                EOL:37457                Arabis   \n",
        "2                EOL:37718               Rorippa   \n",
        "3                EOL:37667             Cardamine   \n",
        "4               EOL:467679  Centaurea melitensis   \n",
        "\n",
        "                                   target_taxon_path  \\\n",
        "0  Plantae | Tracheophyta | Magnoliopsida | Rosal...   \n",
        "1  Plantae | Tracheophyta | Magnoliopsida | Brass...   \n",
        "2  Plantae | Tracheophyta | Magnoliopsida | Brass...   \n",
        "3  Plantae | Tracheophyta | Magnoliopsida | Brass...   \n",
        "4  Plantae | Tracheophyta | Magnoliopsida | Aster...   \n",
        "\n",
        "  target_specimen_life_stage target_specimen_basis_of_record latitude  \\\n",
        "0                       None                            None     None   \n",
        "1                       None                            None     None   \n",
        "2                       None                            None     None   \n",
        "3                       None                            None     None   \n",
        "4                       None                            None     None   \n",
        "\n",
        "  longitude study_title  \n",
        "0      None        None  \n",
        "1      None        None  \n",
        "2      None        None  \n",
        "3      None        None  \n",
        "4      None        None  "
       ]
      }
     ],
     "prompt_number": 112
    },
    {
     "cell_type": "markdown",
     "metadata": {},
     "source": [
      "Let's see what each caterpillar eats. We got the `eats` interactions, so let's just leave the source and target taxons:"
     ]
    },
    {
     "cell_type": "code",
     "collapsed": false,
     "input": [
      "cols = df.columns.tolist()\n",
      "cols.remove('source_taxon_name')\n",
      "cols.remove('target_taxon_name')\n",
      "print(cols)"
     ],
     "language": "python",
     "metadata": {},
     "outputs": [
      {
       "output_type": "stream",
       "stream": "stdout",
       "text": [
        "['source_taxon_external_id', 'source_taxon_path', 'source_specimen_life_stage', 'source_specimen_basis_of_record', 'interaction_type', 'target_taxon_external_id', 'target_taxon_path', 'target_specimen_life_stage', 'target_specimen_basis_of_record', 'latitude', 'longitude', 'study_title']\n"
       ]
      }
     ],
     "prompt_number": 113
    },
    {
     "cell_type": "code",
     "collapsed": false,
     "input": [
      "df.drop(labels=cols, axis=1, inplace=True)\n",
      "df.head()"
     ],
     "language": "python",
     "metadata": {
      "scrolled": true
     },
     "outputs": [
      {
       "html": [
        "<div style=\"max-height:1000px;max-width:1500px;overflow:auto;\">\n",
        "<table border=\"1\" class=\"dataframe\">\n",
        "  <thead>\n",
        "    <tr style=\"text-align: right;\">\n",
        "      <th></th>\n",
        "      <th>source_taxon_name</th>\n",
        "      <th>target_taxon_name</th>\n",
        "    </tr>\n",
        "  </thead>\n",
        "  <tbody>\n",
        "    <tr>\n",
        "      <th>0</th>\n",
        "      <td> Pieris marginalis</td>\n",
        "      <td>                Rubus</td>\n",
        "    </tr>\n",
        "    <tr>\n",
        "      <th>1</th>\n",
        "      <td> Pieris marginalis</td>\n",
        "      <td>               Arabis</td>\n",
        "    </tr>\n",
        "    <tr>\n",
        "      <th>2</th>\n",
        "      <td> Pieris marginalis</td>\n",
        "      <td>              Rorippa</td>\n",
        "    </tr>\n",
        "    <tr>\n",
        "      <th>3</th>\n",
        "      <td> Pieris marginalis</td>\n",
        "      <td>            Cardamine</td>\n",
        "    </tr>\n",
        "    <tr>\n",
        "      <th>4</th>\n",
        "      <td>      Pieris rapae</td>\n",
        "      <td> Centaurea melitensis</td>\n",
        "    </tr>\n",
        "  </tbody>\n",
        "</table>\n",
        "</div>"
       ],
       "metadata": {},
       "output_type": "pyout",
       "prompt_number": 114,
       "text": [
        "   source_taxon_name     target_taxon_name\n",
        "0  Pieris marginalis                 Rubus\n",
        "1  Pieris marginalis                Arabis\n",
        "2  Pieris marginalis               Rorippa\n",
        "3  Pieris marginalis             Cardamine\n",
        "4       Pieris rapae  Centaurea melitensis"
       ]
      }
     ],
     "prompt_number": 114
    },
    {
     "cell_type": "markdown",
     "metadata": {},
     "source": [
      "Next, we count how many target taxons occur for each source taxon. For that, we group by source and aggregate by length (I made sure before that each source-target pair appears only once. How??). \n",
      "\n",
      "The `groupby` made `source_taxon_name` become an index rather than a column and that's why we call `reset_index`."
     ]
    },
    {
     "cell_type": "code",
     "collapsed": false,
     "input": [
      "table = df.groupby(by='source_taxon_name').aggregate(len).reset_index()\n",
      "table.head()"
     ],
     "language": "python",
     "metadata": {},
     "outputs": [
      {
       "html": [
        "<div style=\"max-height:1000px;max-width:1500px;overflow:auto;\">\n",
        "<table border=\"1\" class=\"dataframe\">\n",
        "  <thead>\n",
        "    <tr style=\"text-align: right;\">\n",
        "      <th></th>\n",
        "      <th>source_taxon_name</th>\n",
        "      <th>target_taxon_name</th>\n",
        "    </tr>\n",
        "  </thead>\n",
        "  <tbody>\n",
        "    <tr>\n",
        "      <th>0</th>\n",
        "      <td>    Pieris brassicae</td>\n",
        "      <td> 55</td>\n",
        "    </tr>\n",
        "    <tr>\n",
        "      <th>1</th>\n",
        "      <td> Pieris brassicoides</td>\n",
        "      <td>  3</td>\n",
        "    </tr>\n",
        "    <tr>\n",
        "      <th>2</th>\n",
        "      <td>      Pieris canidia</td>\n",
        "      <td> 10</td>\n",
        "    </tr>\n",
        "    <tr>\n",
        "      <th>3</th>\n",
        "      <td>   Pieris cheiranthi</td>\n",
        "      <td>  1</td>\n",
        "    </tr>\n",
        "    <tr>\n",
        "      <th>4</th>\n",
        "      <td>        Pieris deota</td>\n",
        "      <td>  1</td>\n",
        "    </tr>\n",
        "  </tbody>\n",
        "</table>\n",
        "</div>"
       ],
       "metadata": {},
       "output_type": "pyout",
       "prompt_number": 115,
       "text": [
        "     source_taxon_name  target_taxon_name\n",
        "0     Pieris brassicae                 55\n",
        "1  Pieris brassicoides                  3\n",
        "2       Pieris canidia                 10\n",
        "3    Pieris cheiranthi                  1\n",
        "4         Pieris deota                  1"
       ]
      }
     ],
     "prompt_number": 115
    },
    {
     "cell_type": "markdown",
     "metadata": {},
     "source": [
      "Finally we rename the columns to make them more meaningful and we sort the table by the number of target taxons. Then we print and plot:"
     ]
    },
    {
     "cell_type": "code",
     "collapsed": false,
     "input": [
      "table = table.rename(columns={'source_taxon_name':'Pieris species', 'target_taxon_name': 'Number of known items in diet'})\n",
      "table = table.sort('Number of known items in diet', ascending=False)\n",
      "table"
     ],
     "language": "python",
     "metadata": {},
     "outputs": [
      {
       "html": [
        "<div style=\"max-height:1000px;max-width:1500px;overflow:auto;\">\n",
        "<table border=\"1\" class=\"dataframe\">\n",
        "  <thead>\n",
        "    <tr style=\"text-align: right;\">\n",
        "      <th></th>\n",
        "      <th>Pieris species</th>\n",
        "      <th>Number of known items in diet</th>\n",
        "    </tr>\n",
        "  </thead>\n",
        "  <tbody>\n",
        "    <tr>\n",
        "      <th>12</th>\n",
        "      <td>        Pieris rapae</td>\n",
        "      <td> 91</td>\n",
        "    </tr>\n",
        "    <tr>\n",
        "      <th>0 </th>\n",
        "      <td>    Pieris brassicae</td>\n",
        "      <td> 55</td>\n",
        "    </tr>\n",
        "    <tr>\n",
        "      <th>11</th>\n",
        "      <td>         Pieris napi</td>\n",
        "      <td> 51</td>\n",
        "    </tr>\n",
        "    <tr>\n",
        "      <th>2 </th>\n",
        "      <td>      Pieris canidia</td>\n",
        "      <td> 10</td>\n",
        "    </tr>\n",
        "    <tr>\n",
        "      <th>13</th>\n",
        "      <td> Pieris virginiensis</td>\n",
        "      <td>  6</td>\n",
        "    </tr>\n",
        "    <tr>\n",
        "      <th>8 </th>\n",
        "      <td>   Pieris marginalis</td>\n",
        "      <td>  4</td>\n",
        "    </tr>\n",
        "    <tr>\n",
        "      <th>1 </th>\n",
        "      <td> Pieris brassicoides</td>\n",
        "      <td>  3</td>\n",
        "    </tr>\n",
        "    <tr>\n",
        "      <th>6 </th>\n",
        "      <td>     Pieris krueperi</td>\n",
        "      <td>  3</td>\n",
        "    </tr>\n",
        "    <tr>\n",
        "      <th>5 </th>\n",
        "      <td>       Pieris ergane</td>\n",
        "      <td>  2</td>\n",
        "    </tr>\n",
        "    <tr>\n",
        "      <th>7 </th>\n",
        "      <td>       Pieris mannii</td>\n",
        "      <td>  2</td>\n",
        "    </tr>\n",
        "    <tr>\n",
        "      <th>10</th>\n",
        "      <td>      Pieris naganum</td>\n",
        "      <td>  2</td>\n",
        "    </tr>\n",
        "    <tr>\n",
        "      <th>3 </th>\n",
        "      <td>   Pieris cheiranthi</td>\n",
        "      <td>  1</td>\n",
        "    </tr>\n",
        "    <tr>\n",
        "      <th>4 </th>\n",
        "      <td>        Pieris deota</td>\n",
        "      <td>  1</td>\n",
        "    </tr>\n",
        "    <tr>\n",
        "      <th>9 </th>\n",
        "      <td>       Pieris melete</td>\n",
        "      <td>  1</td>\n",
        "    </tr>\n",
        "  </tbody>\n",
        "</table>\n",
        "</div>"
       ],
       "metadata": {},
       "output_type": "pyout",
       "prompt_number": 116,
       "text": [
        "         Pieris species  Number of known items in diet\n",
        "12         Pieris rapae                             91\n",
        "0      Pieris brassicae                             55\n",
        "11          Pieris napi                             51\n",
        "2        Pieris canidia                             10\n",
        "13  Pieris virginiensis                              6\n",
        "8     Pieris marginalis                              4\n",
        "1   Pieris brassicoides                              3\n",
        "6       Pieris krueperi                              3\n",
        "5         Pieris ergane                              2\n",
        "7         Pieris mannii                              2\n",
        "10       Pieris naganum                              2\n",
        "3     Pieris cheiranthi                              1\n",
        "4          Pieris deota                              1\n",
        "9         Pieris melete                              1"
       ]
      }
     ],
     "prompt_number": 116
    },
    {
     "cell_type": "code",
     "collapsed": false,
     "input": [
      "table.plot(x=\"Pieris species\", y=\"Number of known items in diet\", kind=\"barh\", legend=False)\n",
      "plt.ylabel('Number of known items in diet')\n",
      "plt.grid(False)\n",
      "sns.despine()"
     ],
     "language": "python",
     "metadata": {},
     "outputs": [
      {
       "metadata": {},
       "output_type": "display_data",
       "png": "[encoded data removed]",
       "text": [
        "<matplotlib.figure.Figure at 0xba874b0>"
       ]
      }
     ],
     "prompt_number": 124
    },
    {
     "cell_type": "markdown",
     "metadata": {},
     "source": [
      "Pieris rapae\n",
      "![Pieris rapae](http://upload.wikimedia.org/wikipedia/commons/b/b4/Pieris.rapae.caterpillar.jpg)\n",
      "\n",
      "Pieris brassicae\n",
      "![Pieris brassicae](http://upload.wikimedia.org/wikipedia/commons/5/52/Pieris.brassicae.caterpillar.jpg)"
     ]
    }
   ],
   "metadata": {}
  }
 ]
}