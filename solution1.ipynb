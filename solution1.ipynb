{
 "metadata": {
  "name": "",
  "signature": "sha256:3fbca4bbed3e03dd3768a887f25f7fabf844ee4feacb1531e10eb8658679be2a"
 },
 "nbformat": 3,
 "nbformat_minor": 0,
 "worksheets": [
  {
   "cells": [
    {
     "cell_type": "markdown",
     "metadata": {},
     "source": [
      "## Mendelian fruit\n",
      "a) Mr. Lendem is studying the genetics of odor in Guavas (_Psidium guajava_).He knows that the D gene, controlling odor, follows Mendelian inheritance so that DD Guavas have a strong typical smell, Dd plants have weaker smell and dd plants don't smell at all.  \n",
      "Write a program that, given a number of Guava plants examined, will print the expected numbers of smelly, less smelly and non-smelly plants.  \n",
      "\\* Remember that the expected number of plants is an _integer_!\n",
      "![guavas](http://www.touilleur-express.fr/wp-content/guava.jpg)"
     ]
    },
    {
     "cell_type": "code",
     "collapsed": false,
     "input": [
      "plants_num = 10 # Replace ??? with a value of your choice.\n",
      "\n",
      "smelly = 5\n",
      "less_smelly = 4\n",
      "non_smelly = 1\n",
      "\n",
      "print('Smelly:',smelly)\n",
      "print('Less smelly:',less_smelly)\n",
      "print('Non Smelly:',non_smelly)"
     ],
     "language": "python",
     "metadata": {},
     "outputs": [
      {
       "output_type": "stream",
       "stream": "stdout",
       "text": [
        "Smelly: 5\n",
        "Less smelly: 4\n",
        "Non Smelly: 1\n"
       ]
      }
     ],
     "prompt_number": 1
    },
    {
     "cell_type": "markdown",
     "metadata": {},
     "source": [
      "b) something similar with two genes..."
     ]
    },
    {
     "cell_type": "markdown",
     "metadata": {},
     "source": [
      "## Blood types\n",
      "Each individual has either blood type 'A', 'B', 'AB' or 'O'.  \n",
      "Blood donations may be received from individuals with the same blood type, although 'AB' may receive all types and 'O' may donate to all types.  \n",
      "Write a program that, given the blood types of two patients, prints whether the recepient may receive a blood donation from the donor. The program should print 'True' if a donation is possible, 'False' if it isn't, and 'Invalid input' if one of the blood types is not 'A', 'B', 'AB' or 'O' (only accept uppercase letters."
     ]
    },
    {
     "cell_type": "code",
     "collapsed": false,
     "input": [
      "recepient_blood_type = ??? # Replace ??? with a value of your choice.\n",
      "donor_blood_type = ??? # Replace ??? with a value of your choice.\n",
      "\n",
      "# Your code goes here\n"
     ],
     "language": "python",
     "metadata": {},
     "outputs": []
    },
    {
     "cell_type": "markdown",
     "metadata": {},
     "source": [
      "## Bacteria growth\n",
      "The bacteria _P. pythonicus_ replicates every one hour, in a 100 ml tube. Being a very unfriendly bacteria, they reach stationary phase when there are 1,000,000 or more bacteria in the tube.  \n",
      "  \n",
      "a) Write a program that will calculate the number of bacteria after one hour, two hours, etc, until stationarity is reached. The program will receive the starter size (number of bacteria to begin with), and start calculating from there. At each time point, the following message should be printed:  \n",
      "< time > hours: < no. of bacteria > bacteria"
     ]
    },
    {
     "cell_type": "code",
     "collapsed": false,
     "input": [
      "starter = ??? # Replace ??? with a value of your choice.\n",
      "bacteria = starter\n",
      "time = 0\n",
      "\n",
      "while __________________:\n",
      "    # your code here\n",
      "    \n",
      "    \n",
      "    \n",
      "    "
     ],
     "language": "python",
     "metadata": {},
     "outputs": [
      {
       "ename": "SyntaxError",
       "evalue": "invalid syntax (<ipython-input-17-ad0402a52100>, line 1)",
       "output_type": "pyerr",
       "traceback": [
        "\u001b[1;36m  File \u001b[1;32m\"<ipython-input-17-ad0402a52100>\"\u001b[1;36m, line \u001b[1;32m1\u001b[0m\n\u001b[1;33m    n = ??? # Replace ??? with a value of your choice.\u001b[0m\n\u001b[1;37m        ^\u001b[0m\n\u001b[1;31mSyntaxError\u001b[0m\u001b[1;31m:\u001b[0m invalid syntax\n"
       ]
      }
     ],
     "prompt_number": 17
    },
    {
     "cell_type": "markdown",
     "metadata": {},
     "source": [
      "b) It turns out that the growth rate of _P. pythonicus_ is affected by temperature. It's replication time R, is a function of the temperature T, so that R = [19T(T-70)]/2450 + 10. However, when the temperature is below 5, or over 50, the bacteria don't grow at all.  \n",
      "Write a program that will receive the starter size __and__ the growth temperature, and will calculate the time to reach stationarity, printing the number of bacteria at each time point (like in part a). If bacteria can't grow, print an appropriate message (and don't do any calculation)."
     ]
    },
    {
     "cell_type": "code",
     "collapsed": false,
     "input": [
      "starter = ??? # Replace ??? with a value of your choice.\n",
      "temp = ??? # Replace ??? with a value of your choice.\n",
      "\n",
      "# check temperature and calculate replication time\n",
      "\n",
      "\n",
      "\n",
      "# calculate and growth\n",
      "\n",
      "\n",
      "\n"
     ],
     "language": "python",
     "metadata": {},
     "outputs": []
    },
    {
     "cell_type": "markdown",
     "metadata": {},
     "source": [
      "## Lab manager\n",
      "In Dr. Zoidberg's lab, there are X students, each uses Y Petri dishes a day, on average. At the begining of each month, the lab manager has to decide if he/she should order more dishes. Given the number of students (X), the average number of dishes they use per day (Y) and the number of dishes in stock (N), write a program that will make the decision, using the following rules:  \n",
      "- If there are enough dishes for the coming __two__ months, do not order anything.  \n",
      "- If there are enough dishes for the coming month, but not for two month, order the ammount required to complete a two-month stock.\n",
      "- If there aren't enough dishes for the coming month, complete a two month stock __and__ order another mont's stock for reserves.\n",
      "\n",
      "Print the total number of dishes that should be ordered."
     ]
    },
    {
     "cell_type": "code",
     "collapsed": false,
     "input": [
      "students = ??? # Replace ??? with a value of your choice.\n",
      "dishes_per_student = ??? # Replace ??? with a value of your choice.\n",
      "dishes_in_stock = ??? # Replace ??? with a value of your choice.\n",
      "\n",
      "# your code here\n",
      "\n",
      "\n",
      "\n",
      "print('Order',dishes_to_order,'dishes')"
     ],
     "language": "python",
     "metadata": {},
     "outputs": []
    }
   ],
   "metadata": {}
  }
 ]
}