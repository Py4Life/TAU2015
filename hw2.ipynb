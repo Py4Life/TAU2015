{
 "metadata": {
  "name": "",
  "signature": "sha256:b3180b695df1345dfab9a5a6ea7b1d0165cafa8ce87912ae44655b4ef3b6e9b8"
 },
 "nbformat": 3,
 "nbformat_minor": 0,
 "worksheets": [
  {
   "cells": [
    {
     "cell_type": "markdown",
     "metadata": {},
     "source": [
      "**This is a draft**"
     ]
    },
    {
     "cell_type": "markdown",
     "metadata": {},
     "source": [
      "## Splicing out introns, part one\n",
      "\n",
      "Here\u2019s a short section of genomic DNA:\n",
      "\n",
      "`ATCGATCGATCGATCGACTGACTAGTCATAGCTATGCATGTAGCTACTCGATCGATCGATCGATCGATCGATCGATCGATCGATCATGCTATCATCGATCGATATCGATGCATCGACTACTAT`\n",
      "\n",
      "It comprises two exons and an intron. The first exon runs from the start of the sequence to the sixty-third character, and the second exon runs from the ninety-first character to the end of the sequence. Write a program that will print just the coding regions of the DNA sequence.\n",
      "\n",
      "## Splicing out introns, part two\n",
      "\n",
      "Using the data from part one, write a program that will calculate what percentage of the DNA sequence is coding.\n",
      "\n",
      "## Splicing out introns, part three\n",
      "\n",
      "Using the data from part one, write a program that will print out the original genomic DNA sequence with coding bases in uppercase and non-coding bases in lowercase."
     ]
    },
    {
     "cell_type": "markdown",
     "metadata": {},
     "source": [
      "These question are from [Python for Biologists](http://pythonforbiologists.com/index.php/introduction-to-python-for-biologists/2-printing-and-manipulating-text/)."
     ]
    },
    {
     "cell_type": "markdown",
     "metadata": {},
     "source": [
      "### Processing DNA in a file\n",
      "\n",
      "The file input.txt contains a number of DNA sequences, one per line. Each sequence starts with the same 14 base pair fragment \u2013 a sequencing adapter that should have been removed. Write a program that will (a) trim this adapter and write the cleaned sequences to a new file and (b) print the length of each sequence to the screen."
     ]
    },
    {
     "cell_type": "markdown",
     "metadata": {},
     "source": [
      "### Multiple exons from genomic DNA\n",
      "\n",
      "The file genomic_dna.txt contains a section of genomic DNA, and the file exons.txt contains a list of start/stop positions of exons. Each exon is on a separate line and the start and stop positions are separated by a comma. Write a program that will extract the exon segments, concatenate them, and write them to a new file."
     ]
    },
    {
     "cell_type": "markdown",
     "metadata": {},
     "source": [
      "These question are from [Python for Biologists](http://pythonforbiologists.com/index.php/introduction-to-python-for-biologists/lists-and-loops/)."
     ]
    }
   ],
   "metadata": {}
  }
 ]
}