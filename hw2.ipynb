{
 "metadata": {
  "name": "",
  "signature": "sha256:0148914edeedb85424202d4cad67f205c9e74155f827bc1cb8d42f0decabb1a4"
 },
 "nbformat": 3,
 "nbformat_minor": 0,
 "worksheets": [
  {
   "cells": [
    {
     "cell_type": "markdown",
     "metadata": {},
     "source": [
      "## Python Programming for Biologists, Tel-Aviv University / 0411-3122 / Spring 2015\n",
      "# Homework 1\n",
      "\n",
      "## 1) Splicing out introns\n",
      "\n",
      "**a)** \n",
      "Here\u2019s a short section of genomic DNA:\n",
      "\n",
      "```\n",
      "ATCGATCGATCGATCGACTGACTAGTCATAGCTATGCATGTAGCTACTCGATCGATCGATCGATCGATCGATCGATCGATCGATCATGCTATCATCGATCGATATCGATGCATCGACTACTAT\n",
      "```\n",
      "\n",
      "It comprises two exons and an intron. The first exon runs from the start of the sequence to the sixty-third character, and the second exon runs from the ninety-first character to the end of the sequence. \n",
      "\n",
      "Write a program that will print just the coding regions of the DNA sequence."
     ]
    },
    {
     "cell_type": "code",
     "collapsed": false,
     "input": [
      "seq = 'ATCGATCGATCGATCGACTGACTAGTCATAGCTATGCATGTAGCTACTCGATCGATCGATCGATCGATCGATCGATCGATCGATCATGCTATCATCGATCGATATCGATGCATCGACTACTAT'\n",
      "\n",
      "## your code goes here"
     ],
     "language": "python",
     "metadata": {},
     "outputs": [],
     "prompt_number": 2
    },
    {
     "cell_type": "markdown",
     "metadata": {},
     "source": [
      "**b)** \n",
      "Using the sequence from **a**, write a program that will calculate what percentage of the DNA sequence is coding."
     ]
    },
    {
     "cell_type": "code",
     "collapsed": false,
     "input": [
      "## your code goes here"
     ],
     "language": "python",
     "metadata": {},
     "outputs": [],
     "prompt_number": 3
    },
    {
     "cell_type": "markdown",
     "metadata": {},
     "source": [
      "**c)**\n",
      "Using the data from **a**, write a program that will print out the original genomic DNA sequence with coding bases in uppercase and non-coding bases in lowercase."
     ]
    },
    {
     "cell_type": "code",
     "collapsed": false,
     "input": [
      "## your code goes here"
     ],
     "language": "python",
     "metadata": {},
     "outputs": [],
     "prompt_number": 4
    },
    {
     "cell_type": "markdown",
     "metadata": {},
     "source": [
      "## 2) Processing DNA in a file\n",
      "\n",
      "The list `input` contains a number of DNA sequences as strings. Each sequence starts with the same 14 base pair fragment \u2013 a sequencing adapter that should have been removed. \n",
      "\n",
      "Write a program that will trim this adapter and print the cleaned sequences to the screen. The program will then print the length of each cleaned sequence to the screen."
     ]
    },
    {
     "cell_type": "code",
     "collapsed": false,
     "input": [
      "input = [] # TODO\n",
      "\n",
      "## your code goes here"
     ],
     "language": "python",
     "metadata": {},
     "outputs": [],
     "prompt_number": 5
    },
    {
     "cell_type": "markdown",
     "metadata": {},
     "source": [
      "## 3) Multiple exons from genomic DNA\n",
      "\n",
      "The string `genomic_dna` contains a section of genomic DNA.\n",
      "\n",
      "The list `exons` contains start/stop positions of exons. \n",
      "Each exon is a separate list (within the list of exons) with two elements: the start and stop positions. \n",
      "\n",
      "Write a program that will extract the exon segments from `genomic_dna` using the positions in `exons`, concatenate them, and print them to the screen."
     ]
    },
    {
     "cell_type": "code",
     "collapsed": false,
     "input": [
      "genomic_dna = '' # TODO\n",
      "exons = [] \n",
      "\n",
      "## your code goes here"
     ],
     "language": "python",
     "metadata": {},
     "outputs": [],
     "prompt_number": 6
    },
    {
     "cell_type": "markdown",
     "metadata": {},
     "source": [
      "\n",
      "## References\n",
      "\n",
      "Some questions are from [Python for Biologists](http://pythonforbiologists.com/index.php/introduction-to-python-for-biologists/lists-and-loops/)."
     ]
    }
   ],
   "metadata": {}
  }
 ]
}