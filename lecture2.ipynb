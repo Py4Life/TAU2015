{
 "metadata": {
  "name": "",
  "signature": "sha256:8d6a06d3ae1bd92734a5fd58040e06af78c80ee59cbbdfded9114563acf9fc6b"
 },
 "nbformat": 3,
 "nbformat_minor": 0,
 "worksheets": [
  {
   "cells": [
    {
     "cell_type": "markdown",
     "metadata": {},
     "source": [
      "# Py4Life \n",
      "## Python Programming for Life Sciences Graduate Students, Tel-Aviv University, Spring 2015\n",
      "## Lecture 2 - 18.3.2015\n",
      "### Last update: 14.8.2014\n",
      "\n",
      "This notebook is still a draft."
     ]
    },
    {
     "cell_type": "code",
     "collapsed": false,
     "input": [
      "from IPython.display import YouTubeVideo, HTML, Image"
     ],
     "language": "python",
     "metadata": {},
     "outputs": [],
     "prompt_number": 2
    },
    {
     "cell_type": "markdown",
     "metadata": {},
     "source": [
      "## Previously on Py4Life\n",
      "\n",
      "- Python\n",
      "- Installation\n",
      "- Variables (`int`, `float`, `bool`)\n",
      "- Operators (`+`, `-`, `*`, ..., `==`, `<`, ..., `and`, `or`, ...)\n",
      "- Conditional statements (`if`, `elif`, `else`)"
     ]
    },
    {
     "cell_type": "markdown",
     "metadata": {},
     "source": [
      "## In today's episode\n",
      "\n",
      "- Strings\n",
      "- Lists\n",
      "- Loops (`for`)\n",
      "- Dictionaries"
     ]
    },
    {
     "cell_type": "markdown",
     "metadata": {},
     "source": [
      "## Strings\n",
      "\n",
      "Strings are ordered collections of _characters_. \n",
      "\n",
      "_Ordered collections_ means that elements are numbered with _index_ 0, 1, 2, 3, 4..."
     ]
    },
    {
     "cell_type": "code",
     "collapsed": false,
     "input": [
      "YouTubeVideo('kQC82okzTXI')"
     ],
     "language": "python",
     "metadata": {},
     "outputs": [
      {
       "html": [
        "\n",
        "        <iframe\n",
        "            width=\"400\"\n",
        "            height=300\"\n",
        "            src=\"https://www.youtube.com/embed/kQC82okzTXI\"\n",
        "            frameborder=\"0\"\n",
        "            allowfullscreen\n",
        "        ></iframe>\n",
        "        "
       ],
       "metadata": {},
       "output_type": "pyout",
       "prompt_number": 3,
       "text": [
        "<IPython.lib.display.YouTubeVideo at 0x6b10f60>"
       ]
      }
     ],
     "prompt_number": 3
    },
    {
     "cell_type": "markdown",
     "metadata": {},
     "source": [
      "### What is a character?\n",
      "\n",
      "Characters are textual symbols, like lettera (`ABCDE...`), numerals (`12345`), punctuation marks (`,.?:&`), and even things like newline (`\\n`) and whitespace (` `)."
     ]
    },
    {
     "cell_type": "code",
     "collapsed": false,
     "input": [
      "HTML('<iframe src=http://en.mobile.wikipedia.org/wiki/Character_(computing)?useformat=mobile width=700 height=350></iframe>')"
     ],
     "language": "python",
     "metadata": {},
     "outputs": [
      {
       "html": [
        "<iframe src=http://en.mobile.wikipedia.org/wiki/Character_(computing)?useformat=mobile width=700 height=350></iframe>"
       ],
       "metadata": {},
       "output_type": "pyout",
       "prompt_number": 4,
       "text": [
        "<IPython.core.display.HTML at 0x6b02b00>"
       ]
      }
     ],
     "prompt_number": 4
    },
    {
     "cell_type": "markdown",
     "metadata": {},
     "source": [
      "### Back to strings\n",
      "\n",
      "Most commonly, strings are used to work with _text_. \n",
      "\n",
      "We can _assign_ and _print_ strings:"
     ]
    },
    {
     "cell_type": "code",
     "collapsed": false,
     "input": [
      "x = \"Py4Life\"\n",
      "y = 'I love python'\n",
      "print(x)\n",
      "print(y)"
     ],
     "language": "python",
     "metadata": {},
     "outputs": [
      {
       "output_type": "stream",
       "stream": "stdout",
       "text": [
        "Py4Life\n",
        "I love python\n"
       ]
      }
     ],
     "prompt_number": 19
    },
    {
     "cell_type": "markdown",
     "metadata": {},
     "source": [
      "Strings are objects of type `str`:"
     ]
    },
    {
     "cell_type": "code",
     "collapsed": false,
     "input": [
      "type(x)"
     ],
     "language": "python",
     "metadata": {},
     "outputs": [
      {
       "metadata": {},
       "output_type": "pyout",
       "prompt_number": 20,
       "text": [
        "str"
       ]
      }
     ],
     "prompt_number": 20
    },
    {
     "cell_type": "markdown",
     "metadata": {},
     "source": [
      "We can concat (\u05dc\u05e9\u05e8\u05e9\u05e8) strings:"
     ]
    },
    {
     "cell_type": "code",
     "collapsed": false,
     "input": [
      "print(x + \"2014\")"
     ],
     "language": "python",
     "metadata": {},
     "outputs": [
      {
       "output_type": "stream",
       "stream": "stdout",
       "text": [
        "Py4Life2014\n"
       ]
      }
     ],
     "prompt_number": 9
    },
    {
     "cell_type": "markdown",
     "metadata": {},
     "source": [
      "We can convert string to numbers and vice versa (if it is appropriate):"
     ]
    },
    {
     "cell_type": "code",
     "collapsed": false,
     "input": [
      "x = \"4\"\n",
      "y = int(x)\n",
      "print(\"y+1 =\", y + 1)"
     ],
     "language": "python",
     "metadata": {},
     "outputs": [
      {
       "output_type": "stream",
       "stream": "stdout",
       "text": [
        "y+1 = 5\n"
       ]
      }
     ],
     "prompt_number": 15
    },
    {
     "cell_type": "code",
     "collapsed": false,
     "input": [
      "print(\"x+1 =\", x + 1)"
     ],
     "language": "python",
     "metadata": {},
     "outputs": [
      {
       "ename": "TypeError",
       "evalue": "Can't convert 'int' object to str implicitly",
       "output_type": "pyerr",
       "traceback": [
        "\u001b[1;31m---------------------------------------------------------------------------\u001b[0m\n\u001b[1;31mTypeError\u001b[0m                                 Traceback (most recent call last)",
        "\u001b[1;32m<ipython-input-16-dfefc62547bb>\u001b[0m in \u001b[0;36m<module>\u001b[1;34m()\u001b[0m\n\u001b[1;32m----> 1\u001b[1;33m \u001b[0mprint\u001b[0m\u001b[1;33m(\u001b[0m\u001b[1;34m\"x+1 =\"\u001b[0m\u001b[1;33m,\u001b[0m \u001b[0mx\u001b[0m \u001b[1;33m+\u001b[0m \u001b[1;36m1\u001b[0m\u001b[1;33m)\u001b[0m\u001b[1;33m\u001b[0m\u001b[0m\n\u001b[0m",
        "\u001b[1;31mTypeError\u001b[0m: Can't convert 'int' object to str implicitly"
       ]
      }
     ],
     "prompt_number": 16
    },
    {
     "cell_type": "code",
     "collapsed": false,
     "input": [
      "x = str(y)\n",
      "print(\"x =\", x)"
     ],
     "language": "python",
     "metadata": {},
     "outputs": [
      {
       "output_type": "stream",
       "stream": "stdout",
       "text": [
        "x = 4\n"
       ]
      }
     ],
     "prompt_number": 17
    },
    {
     "cell_type": "code",
     "collapsed": false,
     "input": [
      "x = \"3.14\"\n",
      "y = float(x)\n",
      "print(\"y*2 =\", y * 2)"
     ],
     "language": "python",
     "metadata": {},
     "outputs": [
      {
       "output_type": "stream",
       "stream": "stdout",
       "text": [
        "y*2 = 6.28\n"
       ]
      }
     ],
     "prompt_number": 18
    },
    {
     "cell_type": "markdown",
     "metadata": {},
     "source": [
      "Because we are biologists, strings are not just text, they are also __sequences__!\n",
      "\n",
      "![sequences](http://upload.wikimedia.org/wikipedia/commons/thumb/a/a7/WPP_domain_alignment.PNG/650px-WPP_domain_alignment.PNG)"
     ]
    },
    {
     "cell_type": "code",
     "collapsed": false,
     "input": [
      "dna = \"ATGCGTA\"\n",
      "print(dna)"
     ],
     "language": "python",
     "metadata": {},
     "outputs": [
      {
       "output_type": "stream",
       "stream": "stdout",
       "text": [
        "ATGCGTA\n"
       ]
      }
     ],
     "prompt_number": 21
    },
    {
     "cell_type": "markdown",
     "metadata": {},
     "source": [
      "Remember that variable names are _arbitrary_ and are entirely up to you:"
     ]
    },
    {
     "cell_type": "code",
     "collapsed": false,
     "input": [
      "dna = dna + \"TGGTCCA\"\n",
      "print(dna)\n",
      "banana = dna + \"AGCGTAC\"\n",
      "print(banana)"
     ],
     "language": "python",
     "metadata": {},
     "outputs": [
      {
       "output_type": "stream",
       "stream": "stdout",
       "text": [
        "ATGCGTATGGTCCATGGTCCA\n",
        "ATGCGTATGGTCCATGGTCCAAGCGTAC\n"
       ]
      }
     ],
     "prompt_number": 23
    },
    {
     "cell_type": "markdown",
     "metadata": {},
     "source": [
      "Again we can concat strings:"
     ]
    },
    {
     "cell_type": "code",
     "collapsed": false,
     "input": [
      "upstream = \"AAA\"\n",
      "downstream = \"GGG\"\n",
      "dna = upstream + \"ATG\" + downstream\n",
      "print(dna)"
     ],
     "language": "python",
     "metadata": {},
     "outputs": [
      {
       "output_type": "stream",
       "stream": "stdout",
       "text": [
        "AAAATGCGGG\n"
       ]
      }
     ],
     "prompt_number": 24
    },
    {
     "cell_type": "markdown",
     "metadata": {},
     "source": [
      "We can find the length of a string using the command `len`:"
     ]
    },
    {
     "cell_type": "code",
     "collapsed": false,
     "input": [
      "n = len(dna)\n",
      "print(\"The length of the DNA variable is\", n)\n",
      "\n",
      "dna = dna + \"AGCTGA\"\n",
      "print(\"Now it is\", len(dna))"
     ],
     "language": "python",
     "metadata": {},
     "outputs": [
      {
       "output_type": "stream",
       "stream": "stdout",
       "text": [
        "The length of the DNA variable is 10\n",
        "Now it is 16\n"
       ]
      }
     ],
     "prompt_number": 27
    },
    {
     "cell_type": "markdown",
     "metadata": {},
     "source": [
      "### String methods\n",
      "\n",
      "There are some methods (actions, commands) we can operate on strings.\n",
      "\n",
      "We can change a string to lowercase:"
     ]
    },
    {
     "cell_type": "code",
     "collapsed": false,
     "input": [
      "dna = dna.lower()\n",
      "print(dna)"
     ],
     "language": "python",
     "metadata": {},
     "outputs": [
      {
       "output_type": "stream",
       "stream": "stdout",
       "text": [
        "aaaatgcgggagctga\n"
       ]
      }
     ],
     "prompt_number": 28
    },
    {
     "cell_type": "markdown",
     "metadata": {},
     "source": [
      "And back to uppercase:"
     ]
    },
    {
     "cell_type": "code",
     "collapsed": false,
     "input": [
      "dna = dna.upper()\n",
      "print(dna)"
     ],
     "language": "python",
     "metadata": {},
     "outputs": [
      {
       "output_type": "stream",
       "stream": "stdout",
       "text": [
        "AAAATGCGGGAGCTGA\n"
       ]
      }
     ],
     "prompt_number": 29
    },
    {
     "cell_type": "markdown",
     "metadata": {},
     "source": [
      "We can replace characters:"
     ]
    },
    {
     "cell_type": "code",
     "collapsed": false,
     "input": [
      "rna = dna.replace(\"T\", \"U\")\n",
      "print(rna)"
     ],
     "language": "python",
     "metadata": {},
     "outputs": [
      {
       "output_type": "stream",
       "stream": "stdout",
       "text": [
        "AAAAUGCGGGAGCUGA\n"
       ]
      }
     ],
     "prompt_number": 30
    },
    {
     "cell_type": "markdown",
     "metadata": {},
     "source": [
      "We can extract sepcific characters and slice subset of the string (substrings):"
     ]
    },
    {
     "cell_type": "code",
     "collapsed": false,
     "input": [
      "rna[5]"
     ],
     "language": "python",
     "metadata": {},
     "outputs": [
      {
       "metadata": {},
       "output_type": "pyout",
       "prompt_number": 31,
       "text": [
        "'G'"
       ]
      }
     ],
     "prompt_number": 31
    },
    {
     "cell_type": "code",
     "collapsed": false,
     "input": [
      "rna[0:5]"
     ],
     "language": "python",
     "metadata": {},
     "outputs": [
      {
       "metadata": {},
       "output_type": "pyout",
       "prompt_number": 32,
       "text": [
        "'AAAAU'"
       ]
      }
     ],
     "prompt_number": 32
    },
    {
     "cell_type": "code",
     "collapsed": false,
     "input": [
      "rna[:5]"
     ],
     "language": "python",
     "metadata": {},
     "outputs": [
      {
       "metadata": {},
       "output_type": "pyout",
       "prompt_number": 39,
       "text": [
        "'AAAAU'"
       ]
      }
     ],
     "prompt_number": 39
    },
    {
     "cell_type": "markdown",
     "metadata": {},
     "source": [
      "Indexes work from the tail end as well using a minus sign:"
     ]
    },
    {
     "cell_type": "code",
     "collapsed": false,
     "input": [
      "rna[-1]"
     ],
     "language": "python",
     "metadata": {},
     "outputs": [
      {
       "metadata": {},
       "output_type": "pyout",
       "prompt_number": 33,
       "text": [
        "'A'"
       ]
      }
     ],
     "prompt_number": 33
    },
    {
     "cell_type": "code",
     "collapsed": false,
     "input": [
      "rna[-3:]"
     ],
     "language": "python",
     "metadata": {},
     "outputs": [
      {
       "metadata": {},
       "output_type": "pyout",
       "prompt_number": 38,
       "text": [
        "'UGA'"
       ]
      }
     ],
     "prompt_number": 38
    },
    {
     "cell_type": "markdown",
     "metadata": {},
     "source": [
      "#### Count\n",
      "We can count characters. \n",
      "\n",
      "For example, let's count the number of histidine (`H`) and proline (`P`) in the [AA](http://upload.wikimedia.org/wikipedia/commons/a/a9/Amino_Acids.svg) (amino-acid) sequence of [Human Insulin](http://www.uniprot.org/blast/?about=P01308):"
     ]
    },
    {
     "cell_type": "code",
     "collapsed": false,
     "input": [
      "insulin = 'MALWMRLLPLLALLALWGPDPAAAFVNQHLCGSHLVEALYLVCGERGFFYTPKTRREAEDLQVGQVELGGGPGAGSLQPLALEGSLQKRGIVEQCCTSICSLYQLENYCN'\n",
      "print(\"# of histidine:\", insulin.count('H'))\n",
      "print(\"# of proline:\", insulin.count('P'))"
     ],
     "language": "python",
     "metadata": {},
     "outputs": [
      {
       "output_type": "stream",
       "stream": "stdout",
       "text": [
        "# of histidine: 2\n",
        "# of proline: 6\n"
       ]
      }
     ],
     "prompt_number": 50
    },
    {
     "cell_type": "markdown",
     "metadata": {},
     "source": [
      "#### Find\n",
      "We can find a substring.\n",
      "\n",
      "For example, let's find the position of the Insulin [B-chain](http://www.uniprot.org/blast/?about=P01308[25-54]) in the entire peptide:"
     ]
    },
    {
     "cell_type": "code",
     "collapsed": false,
     "input": [
      "b_chain = \"FVNQHLCGSHLVEALYLVCGERGFFYTPKT\"\n",
      "position = insulin.find(b_chain)\n",
      "print(\"Position:\", position)\n",
      "found = insulin[position:position + len(b_chain)]\n",
      "print(\"Original:\", b_chain)\n",
      "print(\"Found:   \", found)"
     ],
     "language": "python",
     "metadata": {},
     "outputs": [
      {
       "output_type": "stream",
       "stream": "stdout",
       "text": [
        "Position: 24\n",
        "Original: FVNQHLCGSHLVEALYLVCGERGFFYTPKT\n",
        "Found:    FVNQHLCGSHLVEALYLVCGERGFFYTPKT\n"
       ]
      }
     ],
     "prompt_number": 51
    },
    {
     "cell_type": "markdown",
     "metadata": {},
     "source": [
      "#### Split\n",
      "\n",
      "We can split a string on every occurence of a separator character:"
     ]
    },
    {
     "cell_type": "code",
     "collapsed": false,
     "input": [
      "names = \"melanogaster,simulans,yakuba,ananassae\"\n",
      "species = names.split(\",\")\n",
      "print(species)"
     ],
     "language": "python",
     "metadata": {},
     "outputs": [
      {
       "output_type": "stream",
       "stream": "stdout",
       "text": [
        "['melanogaster', 'simulans', 'yakuba', 'ananassae']\n"
       ]
      }
     ],
     "prompt_number": 80
    },
    {
     "cell_type": "markdown",
     "metadata": {},
     "source": [
      "## Lists\n",
      "\n",
      "Lists are similar to strings only they can contain any type of data, not just characters.\n",
      "\n",
      "This includes `int`, `float`, `bool`, `str`, and even `list`:"
     ]
    },
    {
     "cell_type": "code",
     "collapsed": false,
     "input": [
      "apes = [\"Homo sapiens\", \"Pan troglodytes\", \"Pongo pygmaeus\"]\n",
      "print(apes)"
     ],
     "language": "python",
     "metadata": {},
     "outputs": [
      {
       "output_type": "stream",
       "stream": "stdout",
       "text": [
        "['Homo sapiens', 'Pan troglodytes', 'Pongo pygmaeus']\n"
       ]
      }
     ],
     "prompt_number": 70
    },
    {
     "cell_type": "markdown",
     "metadata": {},
     "source": [
      "![Gorila](http://upload.wikimedia.org/wikipedia/commons/thumb/c/c0/Western_Lowland_Gorilla_at_Bronx_Zoo_2_cropped.jpg/338px-Western_Lowland_Gorilla_at_Bronx_Zoo_2_cropped.jpg)\n",
      "\n",
      "Lists are dynamic - you can append, remove and insert into them:"
     ]
    },
    {
     "cell_type": "code",
     "collapsed": false,
     "input": [
      "apes.append(\"Gorilla gorilla\")\n",
      "print(apes)\n",
      "apes.insert(2, \"Pan paniscus\")\n",
      "print(apes)\n",
      "apes.remove(\"Pongo pygmaeus\")\n",
      "print(apes)"
     ],
     "language": "python",
     "metadata": {},
     "outputs": [
      {
       "output_type": "stream",
       "stream": "stdout",
       "text": [
        "['Homo sapiens', 'Pan troglodytes', 'Pongo pygmaeus', 'Gorilla gorilla']\n",
        "['Homo sapiens', 'Pan troglodytes', 'Pan paniscus', 'Pongo pygmaeus', 'Gorilla gorilla']\n",
        "['Homo sapiens', 'Pan troglodytes', 'Pan paniscus', 'Gorilla gorilla']\n"
       ]
      }
     ],
     "prompt_number": 71
    },
    {
     "cell_type": "markdown",
     "metadata": {},
     "source": [
      "You can access lists just like strings:"
     ]
    },
    {
     "cell_type": "code",
     "collapsed": false,
     "input": [
      "print(\"Human:\", apes[0])\n",
      "print(\"Gorila:\", apes[-1])\n",
      "print(\"Chimpanzee:\", apes[1:3])"
     ],
     "language": "python",
     "metadata": {},
     "outputs": [
      {
       "output_type": "stream",
       "stream": "stdout",
       "text": [
        "Human: Homo sapiens\n",
        "Gorila: Gorilla gorilla\n",
        "Chimpanzee: ['Pan troglodytes', 'Pan paniscus']\n"
       ]
      }
     ],
     "prompt_number": 58
    },
    {
     "cell_type": "markdown",
     "metadata": {},
     "source": [
      "And we can concat lists, just like strings:"
     ]
    },
    {
     "cell_type": "code",
     "collapsed": false,
     "input": [
      "print(apes + [\"Pongo pygmaeus\", \"Pongo abelii\"])"
     ],
     "language": "python",
     "metadata": {},
     "outputs": [
      {
       "output_type": "stream",
       "stream": "stdout",
       "text": [
        "['Homo sapiens', 'Pan troglodytes', 'Pan paniscus', 'Gorilla gorilla', 'Pongo pygmaeus', 'Pongo abelii']\n"
       ]
      }
     ],
     "prompt_number": 72
    },
    {
     "cell_type": "markdown",
     "metadata": {},
     "source": [
      "![Organutan](http://upload.wikimedia.org/wikipedia/commons/thumb/b/be/Orang_Utan%2C_Semenggok_Forest_Reserve%2C_Sarawak%2C_Borneo%2C_Malaysia.JPG/220px-Orang_Utan%2C_Semenggok_Forest_Reserve%2C_Sarawak%2C_Borneo%2C_Malaysia.JPG)\n",
      "\n",
      "Searching in lists is done using `index` (not `find`):"
     ]
    },
    {
     "cell_type": "code",
     "collapsed": false,
     "input": [
      "i = apes.index('Pan troglodytes')\n",
      "print(apes[i])"
     ],
     "language": "python",
     "metadata": {},
     "outputs": [
      {
       "output_type": "stream",
       "stream": "stdout",
       "text": [
        "Pan troglodytes\n"
       ]
      }
     ],
     "prompt_number": 89
    },
    {
     "cell_type": "markdown",
     "metadata": {},
     "source": [
      "You can also check if something is in a list (works as well for strings):"
     ]
    },
    {
     "cell_type": "code",
     "collapsed": false,
     "input": [
      "if 'Saguinus nigricollis' in apes:\n",
      "    print('Saguinus nigricollis is an ape')\n",
      "else:\n",
      "    print('Saguinus nigricollis is not an ape')"
     ],
     "language": "python",
     "metadata": {},
     "outputs": [
      {
       "output_type": "stream",
       "stream": "stdout",
       "text": [
        "Saguinus nigricollis is not an ape\n"
       ]
      }
     ],
     "prompt_number": 90
    },
    {
     "cell_type": "markdown",
     "metadata": {},
     "source": [
      "### Lists of numbers\n",
      "\n",
      "Suppose we have a list of experimental measurements and we want to do basic statistics: count the number of results, calculate the average, and find the maximum and minimum."
     ]
    },
    {
     "cell_type": "code",
     "collapsed": false,
     "input": [
      "measurements = [33, 55,45,87,88,95,34,76,87,56,45,98,87,89,45,67,45,67,76,73,33,87,12,100,77,89,92]\n",
      "\n",
      "count = len(measurements)\n",
      "avg = sum(measurements) / len(measurements)\n",
      "maximum = max(measurements)\n",
      "minimum = min(measurements)\n",
      "\n",
      "print(count, \"measurements with average\", avg, \"maximum\", maximum, \"minimum\", minimum)"
     ],
     "language": "python",
     "metadata": {},
     "outputs": [
      {
       "output_type": "stream",
       "stream": "stdout",
       "text": [
        "27 measurements with average 68.0740740741 maximum 100 minimum 12\n"
       ]
      }
     ],
     "prompt_number": 84
    },
    {
     "cell_type": "markdown",
     "metadata": {},
     "source": [
      "## Loops\n",
      "\n",
      "Say we want to print each element of our list:"
     ]
    },
    {
     "cell_type": "code",
     "collapsed": false,
     "input": [
      "print(apes[0] + \" is an ape\")\n",
      "print(apes[1] + \" is an ape\")\n",
      "print(apes[2] + \" is an ape\")\n",
      "print(apes[3] + \" is an ape\")"
     ],
     "language": "python",
     "metadata": {},
     "outputs": [
      {
       "output_type": "stream",
       "stream": "stdout",
       "text": [
        "Homo sapiens is an ape\n",
        "Pan troglodytes is an ape\n",
        "Pan paniscus is an ape\n",
        "Gorilla gorilla is an ape\n"
       ]
      }
     ],
     "prompt_number": 76
    },
    {
     "cell_type": "markdown",
     "metadata": {},
     "source": [
      "but this is very repetitive and relies on us knowing the number of elements in the list. What we need is a way to say something along the lines of \u201cfor each element in the list of apes, print out the element, followed by the words \u2018 is an ape\u2019\u201c. Python\u2019s loop syntax allows us to express those instructions like this:"
     ]
    },
    {
     "cell_type": "code",
     "collapsed": false,
     "input": [
      "for ape in apes:\n",
      "    print(ape, \"is an ape\")"
     ],
     "language": "python",
     "metadata": {},
     "outputs": [
      {
       "output_type": "stream",
       "stream": "stdout",
       "text": [
        "Homo sapiens is an ape\n",
        "Pan troglodytes is an ape\n",
        "Pan paniscus is an ape\n",
        "Gorilla gorilla is an ape\n"
       ]
      }
     ],
     "prompt_number": 75
    },
    {
     "cell_type": "markdown",
     "metadata": {},
     "source": [
      "![Python loop](http://2.bp.blogspot.com/-7lXe1_Gou3k/UX92PWche3I/AAAAAAAAAFA/JxD4u8St-9g/s1600/python+loop.jpg)\n",
      "\n",
      "A more complex loop will go over each ape name and print some stats:"
     ]
    },
    {
     "cell_type": "code",
     "collapsed": false,
     "input": [
      "for ape in apes:\n",
      "    name_length = len(ape)\n",
      "    first_letter = ape[0]\n",
      "    print(ape, \"is an ape. Its name starts with\", first_letter)\n",
      "    print(\"Its name has\", name_length, \"letters\")"
     ],
     "language": "python",
     "metadata": {},
     "outputs": [
      {
       "output_type": "stream",
       "stream": "stdout",
       "text": [
        "Homo sapiens is an ape. Its name starts with H\n",
        "Its name has 12 letters\n",
        "Pan troglodytes is an ape. Its name starts with P\n",
        "Its name has 15 letters\n",
        "Pan paniscus is an ape. Its name starts with P\n",
        "Its name has 12 letters\n",
        "Gorilla gorilla is an ape. Its name starts with G\n",
        "Its name has 15 letters\n"
       ]
      }
     ],
     "prompt_number": 77
    },
    {
     "cell_type": "markdown",
     "metadata": {},
     "source": [
      "We can also loop over a string. \n",
      "\n",
      "Let's go over the Insulin AA sequnce and count the number of prolines manualy:"
     ]
    },
    {
     "cell_type": "code",
     "collapsed": false,
     "input": [
      "count = 0\n",
      "for aa in insulin:\n",
      "    if aa == \"P\":\n",
      "        count = count + 1\n",
      "print(\"# of prolines:\", count)"
     ],
     "language": "python",
     "metadata": {},
     "outputs": [
      {
       "output_type": "stream",
       "stream": "stdout",
       "text": [
        "# of prolines: 6\n"
       ]
      }
     ],
     "prompt_number": 78
    },
    {
     "cell_type": "markdown",
     "metadata": {},
     "source": [
      "Let's count how many measurements (see above) are above the average:"
     ]
    },
    {
     "cell_type": "code",
     "collapsed": false,
     "input": [
      "over = 0\n",
      "for x in measurements:\n",
      "    if x > avg:\n",
      "        over = over + 1\n",
      "print(over, \"measurements are over the average.\")"
     ],
     "language": "python",
     "metadata": {},
     "outputs": [
      {
       "output_type": "stream",
       "stream": "stdout",
       "text": [
        "15 measurements are over the average.\n"
       ]
      }
     ],
     "prompt_number": 85
    },
    {
     "cell_type": "markdown",
     "metadata": {},
     "source": [
      "## Using `range`\n",
      "\n",
      "Sometimes we want to loop over consecutive numbers.\n",
      "\n",
      "This is accomplished using the `range` command.\n",
      "\n",
      "`range` accepts one, two, or three arguments: the bottom and upper limits and the step. \n",
      "The bottom limit can be omited - default is zero - and the step can be omited - default is 1."
     ]
    },
    {
     "cell_type": "code",
     "collapsed": false,
     "input": [
      "for i in range(10):\n",
      "    print(i)"
     ],
     "language": "python",
     "metadata": {},
     "outputs": [
      {
       "output_type": "stream",
       "stream": "stdout",
       "text": [
        "0\n",
        "1\n",
        "2\n",
        "3\n",
        "4\n",
        "5\n",
        "6\n",
        "7\n",
        "8\n",
        "9\n"
       ]
      }
     ],
     "prompt_number": 116
    },
    {
     "cell_type": "code",
     "collapsed": false,
     "input": [
      "for i in range(10,20):\n",
      "    print(i, end=' ')"
     ],
     "language": "python",
     "metadata": {},
     "outputs": [
      {
       "output_type": "stream",
       "stream": "stdout",
       "text": [
        "10 11 12 13 14 15 16 17 18 19 "
       ]
      }
     ],
     "prompt_number": 117
    },
    {
     "cell_type": "code",
     "collapsed": false,
     "input": [
      "for i in range(100,1000,10):\n",
      "    print(i, end=' ')"
     ],
     "language": "python",
     "metadata": {},
     "outputs": [
      {
       "output_type": "stream",
       "stream": "stdout",
       "text": [
        "100 110 120 130 140 150 160 170 180 190 200 210 220 230 240 250 260 270 280 290 300 310 320 330 340 350 360 370 380 390 400 410 420 430 440 450 460 470 480 490 500 510 520 530 540 550 560 570 580 590 600 610 620 630 640 650 660 670 680 690 700 710 720 730 740 750 760 770 780 790 800 810 820 830 840 850 860 870 880 890 900 910 920 930 940 950 960 970 980 990 "
       ]
      }
     ],
     "prompt_number": 118
    },
    {
     "cell_type": "markdown",
     "metadata": {},
     "source": [
      "Let's check if the number `n` is a prime number - that is, it can only be divided by 1 and itself:"
     ]
    },
    {
     "cell_type": "code",
     "collapsed": false,
     "input": [
      "n = 97 # try other numbers\n",
      "divider = 1\n",
      "\n",
      "for k in range(2,n): # why start at 2? can we choose a different limit to range? a different step perhaps?\n",
      "    if n % k == 0:\n",
      "        divider = k\n",
      "if divider != 1:\n",
      "    print(n, \"is divided by\", divider)\n",
      "else:\n",
      "    print(n, \"is a prime number\")"
     ],
     "language": "python",
     "metadata": {},
     "outputs": [
      {
       "output_type": "stream",
       "stream": "stdout",
       "text": [
        "97 is a prime number\n"
       ]
      }
     ],
     "prompt_number": 132
    },
    {
     "cell_type": "markdown",
     "metadata": {},
     "source": [
      "## Excercises"
     ]
    },
    {
     "cell_type": "markdown",
     "metadata": {},
     "source": [
      "### Calculating AT content\n",
      "\n",
      "Here\u2019s a short DNA sequence:\n",
      "\n",
      "`ACTGATCGATTACGTATAGTATTTGCTATCATACATATATATCGATGCGTTCAT`\n",
      "\n",
      "Write a program that will print out the AT content of this DNA sequence. \n",
      "\n",
      "Hint: you can use normal mathematical symbols like add (+), subtract (-), multiply (*), divide (/) and parentheses to carry out calculations on numbers in Python."
     ]
    },
    {
     "cell_type": "markdown",
     "metadata": {},
     "source": [
      "### Complementing DNA\n",
      "\n",
      "Here\u2019s a short DNA sequence:\n",
      "`ACTGATCGATTACGTATAGTATTTGCTATCATACATATATATCGATGCGTTCAT`\n",
      "\n",
      "Write a program that will print the complement of this sequence.\n",
      "\n",
      "(from [Python for Biologists](http://pythonforbiologists.com/index.php/introduction-to-python-for-biologists/2-printing-and-manipulating-text/))"
     ]
    },
    {
     "cell_type": "code",
     "collapsed": false,
     "input": [
      "template = 'ACTGATCGATTACGTATAGTATTTGCTATCATACATATATATCGATGCGTTCAT'\n",
      "complement = ''\n",
      "\n",
      "for base in template:\n",
      "    if base == 'A':\n",
      "        complement = complement + 'T'\n",
      "    elif base == 'T':\n",
      "        complement = complement + 'A' \n",
      "    elif base == 'G':\n",
      "        complement = complement + 'C'\n",
      "    elif base == 'C':\n",
      "        complement = complement + 'G'    \n",
      "    else:\n",
      "        print(\"Bad base:\", base)\n",
      "print(\"Template:  \", template)\n",
      "print(\"Complement:\", complement)"
     ],
     "language": "python",
     "metadata": {},
     "outputs": [
      {
       "output_type": "stream",
       "stream": "stdout",
       "text": [
        "Template:   ACTGATCGATTACGTATAGTATTTGCTATCATACATATATATCGATGCGTTCAT\n",
        "Complement: TGACTAGCTAATGCATATCATAAACGATAGTATGTATATATAGCTACGCAAGTA\n"
       ]
      }
     ],
     "prompt_number": 108
    },
    {
     "cell_type": "markdown",
     "metadata": {},
     "source": [
      "### Restriction fragment lengths\n",
      "\n",
      "Here\u2019s a short DNA sequence:\n",
      "\n",
      "```ACTGATCGATTACGTATAGTAGAATTCTATCATACATATATATCGATGCGTTCAT```\n",
      "\n",
      "The sequence contains a recognition site for the EcoRI restriction enzyme, which cuts at the motif `G*AATTC` (the position of the cut is indicated by an asterisk). Write a program which will calculate the size of the two fragments that will be produced when the DNA sequence is digested with EcoRI.\n",
      "\n",
      "(from [Python for Biologists](http://pythonforbiologists.com/index.php/introduction-to-python-for-biologists/2-printing-and-manipulating-text/))"
     ]
    },
    {
     "cell_type": "markdown",
     "metadata": {},
     "source": [
      "### Count zeros\n",
      "\n",
      "Given a large number `num`, count the number of zeros using `while`. \n",
      "\n",
      "Then, count them by converting the number to string and use either the `count` method or a `for` loop."
     ]
    },
    {
     "cell_type": "code",
     "collapsed": false,
     "input": [
      "num = 2**1000\n",
      "print(num)"
     ],
     "language": "python",
     "metadata": {},
     "outputs": []
    },
    {
     "cell_type": "code",
     "collapsed": false,
     "input": [
      "count = 0\n",
      "\n",
      "while num > 0:   #what if we changed to >=0?\n",
      "    if num % 10 == 0:\n",
      "        count = count + 1\n",
      "    num = num // 10\n",
      "\n",
      "print(\"# of zeros:\", count)"
     ],
     "language": "python",
     "metadata": {},
     "outputs": [
      {
       "output_type": "stream",
       "stream": "stdout",
       "text": [
        "# of zeros: 28\n"
       ]
      }
     ],
     "prompt_number": 102
    },
    {
     "cell_type": "code",
     "collapsed": false,
     "input": [
      "num = 2**1000\n",
      "count = 0\n",
      "for c in str(num):\n",
      "    if c == \"0\":\n",
      "        count = count + 1\n",
      "\n",
      "print(\"# of zeros:\", count)"
     ],
     "language": "python",
     "metadata": {},
     "outputs": [
      {
       "output_type": "stream",
       "stream": "stdout",
       "text": [
        "# of zeros: 28\n"
       ]
      }
     ],
     "prompt_number": 104
    },
    {
     "cell_type": "code",
     "collapsed": false,
     "input": [
      "num = 2**1000\n",
      "print(\"# of zeros:\", str(num).count(\"0\"))"
     ],
     "language": "python",
     "metadata": {},
     "outputs": [
      {
       "output_type": "stream",
       "stream": "stdout",
       "text": [
        "# of zeros: 28\n"
       ]
      }
     ],
     "prompt_number": 105
    },
    {
     "cell_type": "markdown",
     "metadata": {},
     "source": [
      "### Train your `while`: the Collatz Conjecture\n",
      "The Collatz Conjecture (also known as the 3n+1 conjecture) is the conjecture that the following process is finite for every natural number:\n",
      "```\n",
      "If the number n is even divide it by two (n/2), if it is odd multiply it by 3 and add 1 (3n+1). Repeat this process untill you get the number 1.\n",
      "```\n",
      "\n",
      "Check if the Collatz conjecture is true for a variable names `m` - assign it to `100`. Print every step of the process."
     ]
    },
    {
     "cell_type": "code",
     "collapsed": false,
     "input": [
      "m = 100 # integer to apply the conjecture on\n",
      "\n",
      "n = m\n",
      "while n != 1:\n",
      "    print(n, end=\", \")\n",
      "    if n % 2 == 0:\n",
      "        n = n // 2\n",
      "    else:\n",
      "        n = 3 * n + 1\n",
      "print(1) # 1 was not printed\n",
      "print(m, \"is OK\")"
     ],
     "language": "python",
     "metadata": {},
     "outputs": [
      {
       "output_type": "stream",
       "stream": "stdout",
       "text": [
        "100, 50, 25, 76, 38, 19, 58, 29, 88, 44, 22, 11, 34, 17, 52, 26, 13, 40, 20, 10, 5, 16, 8, 4, 2, 1\n",
        "100 is OK\n"
       ]
      }
     ],
     "prompt_number": 86
    },
    {
     "cell_type": "markdown",
     "metadata": {},
     "source": [
      "![CollatzXKCD](http://imgs.xkcd.com/comics/collatz_conjecture.png)"
     ]
    },
    {
     "cell_type": "markdown",
     "metadata": {},
     "source": [
      "### Loop over ape pics\n",
      "\n",
      "Go over the `ape_pics` list and display the pics using the command `display(Image(url=<url string>))`. \n",
      "\n",
      "Before each pic print the name of that ape from the `apes` list."
     ]
    },
    {
     "cell_type": "code",
     "collapsed": false,
     "input": [
      "ape_pics = ['http://upload.wikimedia.org/wikipedia/commons/thumb/6/68/Akha_cropped_hires.JPG/330px-Akha_cropped_hires.JPG', 'http://upload.wikimedia.org/wikipedia/commons/thumb/6/62/Schimpanse_Zoo_Leipzig.jpg/330px-Schimpanse_Zoo_Leipzig.jpg', 'http://upload.wikimedia.org/wikipedia/commons/thumb/6/6e/Bonobo_0155.jpg/330px-Bonobo_0155.jpg', 'http://upload.wikimedia.org/wikipedia/commons/thumb/c/c0/Western_Lowland_Gorilla_at_Bronx_Zoo_2_cropped.jpg/338px-Western_Lowland_Gorilla_at_Bronx_Zoo_2_cropped.jpg']"
     ],
     "language": "python",
     "metadata": {},
     "outputs": [],
     "prompt_number": 62
    },
    {
     "cell_type": "code",
     "collapsed": false,
     "input": [
      "for i in range(len(apes)):\n",
      "    print(apes[i])\n",
      "    display(Image(url=ape_pics[i]))"
     ],
     "language": "python",
     "metadata": {},
     "outputs": [
      {
       "output_type": "stream",
       "stream": "stdout",
       "text": [
        "Homo sapiens\n"
       ]
      },
      {
       "html": [
        "<img src=\"http://upload.wikimedia.org/wikipedia/commons/thumb/6/68/Akha_cropped_hires.JPG/330px-Akha_cropped_hires.JPG\"/>"
       ],
       "metadata": {},
       "output_type": "display_data",
       "text": [
        "<IPython.core.display.Image at 0x5bbe1b0>"
       ]
      },
      {
       "output_type": "stream",
       "stream": "stdout",
       "text": [
        "Pan troglodytes\n"
       ]
      },
      {
       "html": [
        "<img src=\"http://upload.wikimedia.org/wikipedia/commons/thumb/6/62/Schimpanse_Zoo_Leipzig.jpg/330px-Schimpanse_Zoo_Leipzig.jpg\"/>"
       ],
       "metadata": {},
       "output_type": "display_data",
       "text": [
        "<IPython.core.display.Image at 0x5bbe1b0>"
       ]
      },
      {
       "output_type": "stream",
       "stream": "stdout",
       "text": [
        "Pan paniscus\n"
       ]
      },
      {
       "html": [
        "<img src=\"http://upload.wikimedia.org/wikipedia/commons/thumb/6/6e/Bonobo_0155.jpg/330px-Bonobo_0155.jpg\"/>"
       ],
       "metadata": {},
       "output_type": "display_data",
       "text": [
        "<IPython.core.display.Image at 0x5bbe1b0>"
       ]
      },
      {
       "output_type": "stream",
       "stream": "stdout",
       "text": [
        "Gorilla gorilla\n"
       ]
      },
      {
       "html": [
        "<img src=\"http://upload.wikimedia.org/wikipedia/commons/thumb/c/c0/Western_Lowland_Gorilla_at_Bronx_Zoo_2_cropped.jpg/338px-Western_Lowland_Gorilla_at_Bronx_Zoo_2_cropped.jpg\"/>"
       ],
       "metadata": {},
       "output_type": "display_data",
       "text": [
        "<IPython.core.display.Image at 0x5bbe1b0>"
       ]
      }
     ],
     "prompt_number": 66
    },
    {
     "cell_type": "markdown",
     "metadata": {},
     "source": [
      "## Extra resources\n",
      "\n",
      "- Python for Biologists: [Strings](http://pythonforbiologists.com/index.php/introduction-to-python-for-biologists/2-printing-and-manipulating-text/), [Lists and loops](http://pythonforbiologists.com/index.php/introduction-to-python-for-biologists/lists-and-loops/)\n",
      "- Software carpentry: [Strings](http://software-carpentry.org/v4/python/strings.html), [Lists](http://software-carpentry.org/v4/python/lists.html)"
     ]
    },
    {
     "cell_type": "markdown",
     "metadata": {},
     "source": [
      "## Fin\n",
      "This notebook is part of the _Python Programming for Life Sciences Graduate Students_ course given in Tel-Aviv University, Spring 2015.\n",
      "\n",
      "Part of this notebook was adapted from the [Lists and Loops](http://pythonforbiologists.com/index.php/introduction-to-python-for-biologists/lists-and-loops/) chapter in Martin Jones's _Python for Biologists_ book.\n",
      "\n",
      "The notebook was written using [Python](http://pytho.org/) 3.4.1 and [IPython](http://ipython.org/) 2.1.0 (download from [PyZo](http://www.pyzo.org/downloads.html)).\n",
      "\n",
      "The code is available at https://github.com/yoavram/Py4Life/blob/master/lecture2.ipynb.\n",
      "\n",
      "The notebook can be viewed online at http://nbviewer.ipython.org/github/yoavram/Py4Life/blob/master/lecture2.ipynb.\n",
      "\n",
      "The notebook is also available as a PDF at https://github.com/yoavram/Py4Life/blob/master/lecture2.pdf?raw=true.\n",
      "\n",
      "This work is licensed under a Creative Commons Attribution-ShareAlike 3.0 Unported License.\n",
      "\n",
      "![Python logo](http://www.afterhoursprogramming.com/images/python-logo.png)"
     ]
    }
   ],
   "metadata": {}
  }
 ]
}