{
 "metadata": {
  "name": "",
  "signature": "sha256:0999cf6f3601cc13877f9933371a53f7dc70672cc5706abf15ad6471f6d34840"
 },
 "nbformat": 3,
 "nbformat_minor": 0,
 "worksheets": [
  {
   "cells": [
    {
     "cell_type": "markdown",
     "metadata": {},
     "source": [
      "# Py4Life \n",
      "## Python Programming for Life Sciences Graduate Students, Tel-Aviv University, Spring 2015\n",
      "## Lecture 6 - 29.4.2015\n",
      "### Last update: 3.1.2015\n",
      "\n",
      "This notebook is still a draft."
     ]
    },
    {
     "cell_type": "markdown",
     "metadata": {},
     "source": [
      "## Previously on Py4Life\n",
      "\n",
      "- Modules\n",
      "- Files\n",
      "- Regex"
     ]
    },
    {
     "cell_type": "markdown",
     "metadata": {},
     "source": [
      "## In today's episode\n",
      "\n",
      "- Biopython\n",
      "- Sequence analysis\n",
      "- Sequence data in python\n",
      "- BLAST\n",
      "- _The fungi challenge_"
     ]
    },
    {
     "cell_type": "markdown",
     "metadata": {},
     "source": [
      "## Biopython"
     ]
    },
    {
     "cell_type": "markdown",
     "metadata": {},
     "source": [
      "### What is Biopython?\n",
      "_\"Biopython is a set of freely available tools for biological computation written in Python by an international team of developers.\"_ (from the Biopython [official website](http://biopython.org/wiki/Main_Page)).  \n",
      "Simply put, Biopython is a python package (collection of modules), which includes lots of functions and tools associated with bioinformatics."
     ]
    },
    {
     "cell_type": "markdown",
     "metadata": {},
     "source": [
      "### What's in the Biopython package?\n",
      "* Ready-to-use parsers, dedicated to biological data file formats:\n",
      "    * FASTA\n",
      "    * GenBank\n",
      "    * BLAST output\n",
      "    * Newick\\Nexus phylogenetic trees\n",
      "* Special data types to handle biological data:\n",
      "    * Nucleotide sequences\n",
      "    * Protein sequences\n",
      "    * Protein structure\n",
      "    * Phylogenetic trees\n",
      "* Easy accessibility to biological databases:\n",
      "    * NCBI BLAST\n",
      "    * PubMed\n",
      "    * GenBank\n",
      "    * SwissProt\n",
      "* Bioinformatics tools:\n",
      "    * MSA\n",
      "    * Clustering\n",
      "    * Sequence manipulation\n",
      "And lots of other stuff...\n",
      "We will not cover everything today."
     ]
    },
    {
     "cell_type": "markdown",
     "metadata": {},
     "source": [
      "### Using Biopython\n",
      "In order to use the package, you'll first have to install it.  \n",
      "Once installed, we can import it using:"
     ]
    },
    {
     "cell_type": "code",
     "collapsed": false,
     "input": [
      "import Bio"
     ],
     "language": "python",
     "metadata": {},
     "outputs": [],
     "prompt_number": 3
    },
    {
     "cell_type": "markdown",
     "metadata": {},
     "source": [
      "In practice, we won't usually do that, because this package is _huge_, and we only need certain parts of its functionality. Therefore, we can do:  \n",
      "`from Bio import <module name>`. For example:"
     ]
    },
    {
     "cell_type": "code",
     "collapsed": false,
     "input": [
      "from Bio import SeqIO"
     ],
     "language": "python",
     "metadata": {},
     "outputs": [],
     "prompt_number": 4
    },
    {
     "cell_type": "markdown",
     "metadata": {},
     "source": [
      "### Documentation\n",
      "Biopython has very good and very vast documentation.  \n",
      "A great tutorial is available [here](http://biopython.org/DIST/docs/tutorial/Tutorial.html).  \n",
      "If you need a specific task, you might want to take a look at the ['Cookbook' pages](http://biopython.org/wiki/Category:Cookbook) or the [wiki pages](http://biopython.org/wiki/Category:Wiki_Documentation).  \n",
      "Biopythons online community very active. Join one of the [mailing lists](http://biopython.org/wiki/Mailing_lists) for lots of useful discussions and lots of spam..."
     ]
    },
    {
     "cell_type": "markdown",
     "metadata": {},
     "source": [
      "## The Fungi Challenge"
     ]
    },
    {
     "cell_type": "markdown",
     "metadata": {},
     "source": [
      "## Introducing Sequence objects\n",
      "![biopython](lec6_files/biopython.jpg)"
     ]
    },
    {
     "cell_type": "markdown",
     "metadata": {},
     "source": [
      "So far in this course, we have seen most of the basic data types in Python: str,int,float,list,dict etc. We've also briefly talked about some specialized data types such as the csv reader.  \n",
      "One of the most basic objects in bioinformatics is sequences, an Biopython has a whole mechanism for dealing with sequences. This is done by introducing a new data type, namely a _sequence_ data type.  \n",
      "In principal, we could just use strings to represent biological sequences."
     ]
    },
    {
     "cell_type": "code",
     "collapsed": false,
     "input": [
      "seq = \"AGTACACTGGT\""
     ],
     "language": "python",
     "metadata": {},
     "outputs": [],
     "prompt_number": 6
    },
    {
     "cell_type": "markdown",
     "metadata": {},
     "source": [
      "But Using Biopython's specialized data type, we get much more functionality, novel to sequences, without giving away the string functionality. That's achieved thanks to special _methods_ the the sequence data type (but not the string data type) enables."
     ]
    },
    {
     "cell_type": "markdown",
     "metadata": {},
     "source": [
      "### Creating sequence objects\n",
      "To work with sequence objects, we'll first have to import the relevant module:"
     ]
    },
    {
     "cell_type": "code",
     "collapsed": false,
     "input": [
      "from Bio.Seq import Seq"
     ],
     "language": "python",
     "metadata": {},
     "outputs": [],
     "prompt_number": 7
    },
    {
     "cell_type": "markdown",
     "metadata": {},
     "source": [
      "Now, creating a sequence object is done using `Seq`, with the required sequence string. Like this:"
     ]
    },
    {
     "cell_type": "code",
     "collapsed": false,
     "input": [
      "my_DNA_seq = Seq(\"AGTACACTGGT\")\n",
      "print(type(seq))\n",
      "print(type(my_DNA_seq))"
     ],
     "language": "python",
     "metadata": {},
     "outputs": [
      {
       "output_type": "stream",
       "stream": "stdout",
       "text": [
        "<class 'str'>\n",
        "<class 'Bio.Seq.Seq'>\n"
       ]
      }
     ],
     "prompt_number": 10
    },
    {
     "cell_type": "markdown",
     "metadata": {},
     "source": [
      "We can store amino acid sequences in the same way:"
     ]
    },
    {
     "cell_type": "code",
     "collapsed": false,
     "input": [
      "my_AA_seq = Seq(\"EVRNAK\")\n",
      "print(type(my_AA_seq))"
     ],
     "language": "python",
     "metadata": {},
     "outputs": [
      {
       "output_type": "stream",
       "stream": "stdout",
       "text": [
        "<class 'Bio.Seq.Seq'>\n"
       ]
      }
     ],
     "prompt_number": 13
    },
    {
     "cell_type": "markdown",
     "metadata": {},
     "source": [
      "### What can we do with sequence objects?\n",
      "As we said earlier, sequence objects have all the functionality that strings have. That means that everything that we've done with strings can also be done with sequence objects. Some examples:"
     ]
    },
    {
     "cell_type": "code",
     "collapsed": false,
     "input": [
      "# printing\n",
      "print(my_DNA_seq)\n",
      "# length\n",
      "print(len(my_DNA_seq))\n",
      "# Accessing specific elements\n",
      "print(my_DNA_seq[0])\n",
      "print(my_DNA_seq[7])\n",
      "print(my_DNA_seq[-1])\n",
      "# Slicing\n",
      "print(my_DNA_seq[3:10])"
     ],
     "language": "python",
     "metadata": {},
     "outputs": [
      {
       "output_type": "stream",
       "stream": "stdout",
       "text": [
        "AGTACACTGGT\n",
        "11\n",
        "A\n",
        "T\n",
        "T\n",
        "ACACTGG\n"
       ]
      }
     ],
     "prompt_number": 16
    },
    {
     "cell_type": "markdown",
     "metadata": {},
     "source": [
      "Notice that slicing a sequence object results in another sequence object:"
     ]
    },
    {
     "cell_type": "code",
     "collapsed": false,
     "input": [
      "partial_DNA = my_DNA_seq[3:10]\n",
      "print(type(partial_DNA))"
     ],
     "language": "python",
     "metadata": {},
     "outputs": [
      {
       "output_type": "stream",
       "stream": "stdout",
       "text": [
        "<class 'Bio.Seq.Seq'>\n"
       ]
      }
     ],
     "prompt_number": 17
    },
    {
     "cell_type": "code",
     "collapsed": false,
     "input": [
      "# Sequence concatenation\n",
      "seq1 = Seq(\"AGGCACCATTA\")\n",
      "seq2 = Seq(\"TTACAGGA\")\n",
      "whole_seq = seq1 + seq2\n",
      "print(whole_seq)"
     ],
     "language": "python",
     "metadata": {},
     "outputs": [
      {
       "output_type": "stream",
       "stream": "stdout",
       "text": [
        "AGGCACCATTATTACAGGA\n"
       ]
      }
     ],
     "prompt_number": 19
    },
    {
     "cell_type": "markdown",
     "metadata": {},
     "source": [
      "OK, so here's when it gets interesting: sequence objects have some special and powerful methods. For example, finding the complement and the reverse-complement has never been easier:"
     ]
    },
    {
     "cell_type": "code",
     "collapsed": false,
     "input": [
      "my_DNA_seq = Seq(\"GATCGATGGGCCTATATAGGATCGAAAATCGC\")\n",
      "complement_seq = my_DNA_seq.complement()\n",
      "print(complement_seq)\n",
      "rev_comp_seq = my_DNA_seq.reverse_complement()\n",
      "print(rev_comp_seq)"
     ],
     "language": "python",
     "metadata": {},
     "outputs": [
      {
       "output_type": "stream",
       "stream": "stdout",
       "text": [
        "CTAGCTACCCGGATATATCCTAGCTTTTAGCG\n",
        "GCGATTTTCGATCCTATATAGGCCCATCGATC\n"
       ]
      }
     ],
     "prompt_number": 20
    },
    {
     "cell_type": "markdown",
     "metadata": {},
     "source": [
      "We can transcribe DNA to RNA, which is basically just changing T -> U (assuming that we are using the 'sense' strand)."
     ]
    },
    {
     "cell_type": "code",
     "collapsed": false,
     "input": [
      "coding_DNA = Seq(\"ATGGCCATTGTAATGGGCCGCTGAAAGGGTGCCCGATAG\")\n",
      "mRNA = coding_DNA.transcribe()\n",
      "print(mRNA)"
     ],
     "language": "python",
     "metadata": {},
     "outputs": [
      {
       "output_type": "stream",
       "stream": "stdout",
       "text": [
        "AUGGCCAUUGUAAUGGGCCGCUGAAAGGGUGCCCGAUAG\n"
       ]
      }
     ],
     "prompt_number": 23
    },
    {
     "cell_type": "markdown",
     "metadata": {},
     "source": [
      "And also translate to protein sequence, either from RNA or straight from coding (sense) DNA:"
     ]
    },
    {
     "cell_type": "code",
     "collapsed": false,
     "input": [
      "peptide = mRNA.translate()\n",
      "print(peptide)"
     ],
     "language": "python",
     "metadata": {},
     "outputs": [
      {
       "output_type": "stream",
       "stream": "stdout",
       "text": [
        "MAIVMGR*KGAR*\n"
       ]
      }
     ],
     "prompt_number": 24
    },
    {
     "cell_type": "markdown",
     "metadata": {},
     "source": [
      "## <span style=\"color:blue\">Class exercise 6A</span>"
     ]
    },
    {
     "cell_type": "markdown",
     "metadata": {},
     "source": [
      "Write a function that receives __antisense__ DNA, as a __string__ and returns it's translation, as a __sequence object__. Test your code on the given string sequence (displayed 3' to 5')."
     ]
    },
    {
     "cell_type": "code",
     "collapsed": false,
     "input": [
      "def antisense_string_to_protein_seq(DNA_string):\n",
      "    \n",
      "    \n",
      "    return prot_seq\n",
      "\n",
      "antisense_DNA = \"TACCGGTAACATTACCCGGCGACTTTCCCACGGGCTATC\"\n",
      "protein = antisense_string_to_protein_seq(antisense_DNA)\n",
      "print(protein)\n",
      "print(type(protein))"
     ],
     "language": "python",
     "metadata": {},
     "outputs": []
    },
    {
     "cell_type": "markdown",
     "metadata": {},
     "source": [
      "## Advancing to sequence record objects\n",
      "Representing sequences is great, but sometimes we want to associate more information with the sequence object, such as the gene name, references, organism and general descriptions. To do that, we move from simple sequence objects to more complex ones, called _Sequence record_ objects.  \n",
      "To better understand the idea of sequence records, lets take a look at the GenBank record for the MatK gene of Oryza sativa (rice)."
     ]
    },
    {
     "cell_type": "code",
     "collapsed": false,
     "input": [
      "from IPython.display import HTML\n",
      "HTML('<iframe src=http://www.ncbi.nlm.nih.gov/nuccore/JN114766.1 width=700 height=350></iframe>')"
     ],
     "language": "python",
     "metadata": {},
     "outputs": [
      {
       "html": [
        "<iframe src=http://www.ncbi.nlm.nih.gov/nuccore/JN114766.1 width=700 height=350></iframe>"
       ],
       "metadata": {},
       "output_type": "pyout",
       "prompt_number": 26,
       "text": [
        "<IPython.core.display.HTML at 0x6b83ac8>"
       ]
      }
     ],
     "prompt_number": 26
    },
    {
     "cell_type": "markdown",
     "metadata": {},
     "source": [
      "### "
     ]
    },
    {
     "cell_type": "markdown",
     "metadata": {},
     "source": [
      "Notice that there are lots of additional data besides the sequence itself. So a sequence record object is basically just a sequence object, associaated to some other simple data fields."
     ]
    },
    {
     "cell_type": "markdown",
     "metadata": {},
     "source": [
      "### Creating sequence record objects\n",
      "In principal, we can create sequence record objects 'from scratch', like we did with simple sequence objects. However, in practice this is rarely used. Instead, we usually get sequence record objects from data parsers. For example, here we get the GenBank record shwn above as a sequence record object."
     ]
    },
    {
     "cell_type": "code",
     "collapsed": false,
     "input": [
      "from Bio import Entrez\n",
      "from Bio import SeqIO\n",
      "handle = Entrez.efetch(db=\"nucleotide\", rettype=\"gb\", retmode=\"text\", id=\"387865390\")\n",
      "O_sativa_matK = SeqIO.read(handle, \"gb\")\n",
      "handle.close()\n",
      "print(type(seq_record))"
     ],
     "language": "python",
     "metadata": {},
     "outputs": [
      {
       "output_type": "stream",
       "stream": "stdout",
       "text": [
        "<class 'Bio.SeqRecord.SeqRecord'>\n"
       ]
      }
     ],
     "prompt_number": 9
    },
    {
     "cell_type": "markdown",
     "metadata": {},
     "source": [
      "We'll soon learn to use the SeqIO and Entrez modules, but for now let's just look at what we can do with the object we got.  \n",
      "A sequence record object contains some data fields which we can extract by calling their names.  \n",
      "The most basic is the sequence itself, which is called using `.seq`:"
     ]
    },
    {
     "cell_type": "code",
     "collapsed": false,
     "input": [
      "sequence = O_sativa_matK.seq\n",
      "print(sequence)\n",
      "print(type(sequence))"
     ],
     "language": "python",
     "metadata": {},
     "outputs": [
      {
       "output_type": "stream",
       "stream": "stdout",
       "text": [
        "ATCCTTGCATTTATTGCGATTCTTTCTCAACTACTACTCGAATTGGAATAGTTTTATTACTTCAATGAAATCCATTTTTATTTTGAAAAAAGAAAATAAAAGACTATTTCGGTTCCTATATAACTCTTATGTATCAGAATATGAATTTTTCTTGTTGTTTCTTCGTAAACAATCTTCTTGCTTGCGATTAACTTCTTCCGGAACCTTTCTGGAACGAATCATCTTTTCTAGGAAGATGGAACATTTTGGGTTAATGTACCCTGCTTTTTTTCGGAAAACCATATGGTTCGTTATGGATCCCCTTATGCATTATGTTCGATATCAAGGAAAGGCAATTCTTGCATCAAAAGGAACTCTTCTTTTGAAGAAGAAATGGAAATGTTACCTTGTCCGTTTGTGGCAATATTCTTTCTCTTTTTGGACTCAACCGCAAAGGATCCATCTAAACCAATTAGAAAACTCTTGCTTCGATTTTCTGGGGTACTTTTCAAGTGTACCAATAAATTCTTTGTTAGTAAGGAATCAAATGCTGGAGAATTCATTTCTAATAGATACTCAAATGAAAAAATTCGATACCAAAGTCCCTGTTACTCCTCTCATTGGATCTTTAGCAAAAGCCCAATTTTGTACTGGATCGGGGCATCCTATTAGTAAACCAATTTGGACCGATTTATCGGATTGGGATATTCTTGATCGGTTTGGTCGGATATGTAGAAATCTTTTTCATTATCA\n",
        "<class 'Bio.Seq.Seq'>\n"
       ]
      }
     ],
     "prompt_number": 10
    },
    {
     "cell_type": "markdown",
     "metadata": {},
     "source": [
      "Note that we got a sequence object, not just a string.  \n",
      "Some other basic data fields of the sequence record object are the _id, name_ and _description_:"
     ]
    },
    {
     "cell_type": "code",
     "collapsed": false,
     "input": [
      "print(O_sativa_matK.id)\n",
      "print(O_sativa_matK.name)\n",
      "print(O_sativa_matK.description)"
     ],
     "language": "python",
     "metadata": {},
     "outputs": [
      {
       "output_type": "stream",
       "stream": "stdout",
       "text": [
        "JN114766.1\n",
        "JN114766\n",
        "Oryza sativa voucher SBB-1148 maturase K (matK) gene, partial cds; chloroplast.\n"
       ]
      }
     ],
     "prompt_number": 15
    },
    {
     "cell_type": "markdown",
     "metadata": {},
     "source": [
      "There are a couple of other data fields, but we will only look at one. The _annotations_ field contains more general information about the sequence. In fact, it's a dictionary where the keys are the names of the information and the values are the actual information. For example:"
     ]
    },
    {
     "cell_type": "code",
     "collapsed": false,
     "input": [
      "# get the organism\n",
      "print(O_sativa_matK.annotations['organism'])\n",
      "# get the DNA source\n",
      "print(O_sativa_matK.annotations['source'])\n",
      "# get date of submission\n",
      "print(O_sativa_matK.annotations['date'])"
     ],
     "language": "python",
     "metadata": {},
     "outputs": [
      {
       "output_type": "stream",
       "stream": "stdout",
       "text": [
        "Oryza sativa\n",
        "chloroplast Oryza sativa (rice)\n",
        "21-MAY-2013\n"
       ]
      }
     ],
     "prompt_number": 23
    },
    {
     "cell_type": "markdown",
     "metadata": {},
     "source": [
      "## Fin\n",
      "This notebook is part of the _Python Programming for Life Sciences Graduate Students_ course given in Tel-Aviv University, Spring 2015.\n",
      "\n",
      "The notebook was written using [Python](http://pytho.org/) 3.4.1 and [IPython](http://ipython.org/) 2.1.0 (download from [PyZo](http://www.pyzo.org/downloads.html)).\n",
      "\n",
      "The code is available at https://github.com/yoavram/Py4Life/blob/master/lectureX.ipynb.\n",
      "\n",
      "The notebook can be viewed online at http://nbviewer.ipython.org/github/yoavram/Py4Life/blob/master/lectureX.ipynb.\n",
      "\n",
      "The notebook is also available as a PDF at https://github.com/yoavram/Py4Life/blob/master/lectureX.pdf?raw=true.\n",
      "\n",
      "This work is licensed under a Creative Commons Attribution-ShareAlike 3.0 Unported License.\n",
      "\n",
      "![Python logo](https://www.python.org/static/community_logos/python-logo.png)"
     ]
    }
   ],
   "metadata": {}
  }
 ]
}