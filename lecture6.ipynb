{
 "metadata": {
  "name": "",
  "signature": "sha256:f1bdaa157fefd5680108594e987ecdcb00f3ad7848ba6462ca858c2a5c28c5d7"
 },
 "nbformat": 3,
 "nbformat_minor": 0,
 "worksheets": [
  {
   "cells": [
    {
     "cell_type": "markdown",
     "metadata": {},
     "source": [
      "[![Py4Life](https://raw.githubusercontent.com/Py4Life/TAU2015/gh-pages/img/Py4Life-logo-small.png)](http://py4life.github.io/TAU2015/)\n",
      "## Lecture 6 - 29.4.2015\n",
      "### Last update: 12.4.2015\n",
      "### Tel-Aviv University / 0411-3122 / Spring 2015"
     ]
    },
    {
     "cell_type": "markdown",
     "metadata": {},
     "source": [
      "## Previously on Py4Life\n",
      "\n",
      "- Modules\n",
      "- Files\n",
      "- Regex\n",
      "- Debugging"
     ]
    },
    {
     "cell_type": "markdown",
     "metadata": {},
     "source": [
      "## In today's episode\n",
      "\n",
      "- Biopython\n",
      "- Sequence analysis\n",
      "- Sequence data in python"
     ]
    },
    {
     "cell_type": "code",
     "collapsed": false,
     "input": [
      "from IPython.display import HTML"
     ],
     "language": "python",
     "metadata": {},
     "outputs": [],
     "prompt_number": 2
    },
    {
     "cell_type": "markdown",
     "metadata": {},
     "source": [
      "## Biopython"
     ]
    },
    {
     "cell_type": "markdown",
     "metadata": {},
     "source": [
      "### What is Biopython?\n",
      ">Biopython is a set of freely available tools for biological computation written in Python by an international team of developers.\n",
      "\n",
      "(from the Biopython [official website](http://biopython.org/wiki/Main_Page)).  \n",
      "\n",
      "Simply put, Biopython is a python package (collection of modules), which includes lots of functions and tools associated with __bioinformatics__."
     ]
    },
    {
     "cell_type": "markdown",
     "metadata": {},
     "source": [
      "### What's in the Biopython package?\n",
      "* Ready-to-use parsers, dedicated to biological data file formats:\n",
      "    * FASTA\n",
      "    * GenBank\n",
      "    * BLAST output\n",
      "    * Newick\\Nexus phylogenetic trees\n",
      "* Special data types to handle biological data:\n",
      "    * Nucleotide sequences\n",
      "    * Protein sequences\n",
      "    * Protein structure\n",
      "    * Phylogenetic trees\n",
      "* Easy accessibility to biological databases:\n",
      "    * NCBI BLAST\n",
      "    * PubMed\n",
      "    * GenBank\n",
      "    * SwissProt\n",
      "* Bioinformatics tools:\n",
      "    * MSA\n",
      "    * Clustering\n",
      "    * Sequence manipulation  \n",
      "\n",
      "And lots of other stuff...  \n",
      "We will not cover everything today."
     ]
    },
    {
     "cell_type": "markdown",
     "metadata": {},
     "source": [
      "### Installing Biopython\n",
      "Biopython is not part of the core distribution and thus needs to be installed before it can be used. To install the package, use `pip install Biopython` or another installation method, as explained in lecture 4. "
     ]
    },
    {
     "cell_type": "markdown",
     "metadata": {},
     "source": [
      "### Using Biopython\n",
      "In order to use the package, you'll first have to install it.  \n",
      "Once installed, we can import it using:"
     ]
    },
    {
     "cell_type": "code",
     "collapsed": false,
     "input": [
      "import Bio"
     ],
     "language": "python",
     "metadata": {},
     "outputs": [],
     "prompt_number": 3
    },
    {
     "cell_type": "markdown",
     "metadata": {},
     "source": [
      "In practice, we won't usually do that, because this package is _huge_, and we only need certain parts of its functionality. Therefore, we can do:  \n",
      "`from Bio import <module name>`. For example:"
     ]
    },
    {
     "cell_type": "code",
     "collapsed": false,
     "input": [
      "from Bio import SeqIO"
     ],
     "language": "python",
     "metadata": {},
     "outputs": [],
     "prompt_number": 4
    },
    {
     "cell_type": "markdown",
     "metadata": {},
     "source": [
      "### Documentation\n",
      "Biopython has very good and very vast documentation.  \n",
      "A great tutorial is available [here](http://biopython.org/DIST/docs/tutorial/Tutorial.html).  \n",
      "If you need a specific task, you might want to take a look at the ['Cookbook' pages](http://biopython.org/wiki/Category:Cookbook) or the [wiki pages](http://biopython.org/wiki/Category:Wiki_Documentation).  \n",
      "Biopython's online community very active. Join one of the [mailing lists](http://biopython.org/wiki/Mailing_lists) for lots of useful discussions and lots of spam..."
     ]
    },
    {
     "cell_type": "markdown",
     "metadata": {},
     "source": [
      "## Introducing Sequence objects\n",
      "![biopython](lec6_files/biopython.jpg)"
     ]
    },
    {
     "cell_type": "markdown",
     "metadata": {},
     "source": [
      "So far in this course, we have seen most of the basic data types in Python: str,int,float,list,dict etc. We've also briefly talked about some specialized data types such as file objects (generated when using the `open()` function) and the csv reader.  \n",
      "One of the most basic objects in bioinformatics are sequences, and Biopython has a whole mechanism for dealing with sequences. This is done by introducing a new data type, namely a _sequence_ data type.  \n",
      "In principal, we could just use strings to represent biological sequences."
     ]
    },
    {
     "cell_type": "code",
     "collapsed": false,
     "input": [
      "seq = \"AGTACACTGGT\""
     ],
     "language": "python",
     "metadata": {},
     "outputs": [],
     "prompt_number": 3
    },
    {
     "cell_type": "markdown",
     "metadata": {},
     "source": [
      "But using Biopython's specialized data type, we get much more functionality, novel to sequences, without giving away the string functionality. That's achieved thanks to special _methods_ of the sequence data type (but not the string data type)."
     ]
    },
    {
     "cell_type": "markdown",
     "metadata": {},
     "source": [
      "### Creating sequence objects\n",
      "To work with sequence objects, we'll first have to import the relevant class (specific part of the module):"
     ]
    },
    {
     "cell_type": "code",
     "collapsed": false,
     "input": [
      "from Bio.Seq import Seq"
     ],
     "language": "python",
     "metadata": {},
     "outputs": [],
     "prompt_number": 4
    },
    {
     "cell_type": "markdown",
     "metadata": {},
     "source": [
      "Now, creating a sequence object is done using `Seq`, on the required sequence string. Like this:"
     ]
    },
    {
     "cell_type": "code",
     "collapsed": false,
     "input": [
      "my_DNA_seq = Seq(\"AGTACACTGGT\")\n",
      "print(type(seq))\n",
      "print(type(my_DNA_seq))"
     ],
     "language": "python",
     "metadata": {},
     "outputs": [
      {
       "output_type": "stream",
       "stream": "stdout",
       "text": [
        "<class 'str'>\n",
        "<class 'Bio.Seq.Seq'>\n"
       ]
      }
     ],
     "prompt_number": 5
    },
    {
     "cell_type": "markdown",
     "metadata": {},
     "source": [
      "We can store amino acid sequences in the same way:"
     ]
    },
    {
     "cell_type": "code",
     "collapsed": false,
     "input": [
      "my_AA_seq = Seq(\"EVRNAK\")\n",
      "print(type(my_AA_seq))"
     ],
     "language": "python",
     "metadata": {},
     "outputs": [
      {
       "output_type": "stream",
       "stream": "stdout",
       "text": [
        "<class 'Bio.Seq.Seq'>\n"
       ]
      }
     ],
     "prompt_number": 6
    },
    {
     "cell_type": "markdown",
     "metadata": {},
     "source": [
      "### What can we do with sequence objects?\n",
      "As we said earlier, sequence objects have all the functionality that strings have. That means that everything that we've done with strings can also be done with sequence objects. Some examples:"
     ]
    },
    {
     "cell_type": "code",
     "collapsed": false,
     "input": [
      "# printing\n",
      "print(my_DNA_seq)\n",
      "# length\n",
      "print(len(my_DNA_seq))\n",
      "# Accessing specific elements\n",
      "print(my_DNA_seq[0])\n",
      "print(my_DNA_seq[7])\n",
      "print(my_DNA_seq[-1])\n",
      "# Slicing\n",
      "print(my_DNA_seq[3:10])"
     ],
     "language": "python",
     "metadata": {},
     "outputs": [
      {
       "output_type": "stream",
       "stream": "stdout",
       "text": [
        "AGTACACTGGT\n",
        "11\n",
        "A\n",
        "T\n",
        "T\n",
        "ACACTGG\n"
       ]
      }
     ],
     "prompt_number": 7
    },
    {
     "cell_type": "markdown",
     "metadata": {},
     "source": [
      "Notice that slicing a sequence object results in a new sequence object:"
     ]
    },
    {
     "cell_type": "code",
     "collapsed": false,
     "input": [
      "partial_DNA = my_DNA_seq[3:10]\n",
      "print(type(partial_DNA))"
     ],
     "language": "python",
     "metadata": {},
     "outputs": [
      {
       "output_type": "stream",
       "stream": "stdout",
       "text": [
        "<class 'Bio.Seq.Seq'>\n"
       ]
      }
     ],
     "prompt_number": 8
    },
    {
     "cell_type": "code",
     "collapsed": false,
     "input": [
      "# Sequence concatenation\n",
      "seq1 = Seq(\"AGGCACCATTA\")\n",
      "seq2 = Seq(\"TTACAGGA\")\n",
      "whole_seq = seq1 + seq2\n",
      "print(whole_seq)"
     ],
     "language": "python",
     "metadata": {},
     "outputs": [
      {
       "output_type": "stream",
       "stream": "stdout",
       "text": [
        "AGGCACCATTATTACAGGA\n"
       ]
      }
     ],
     "prompt_number": 9
    },
    {
     "cell_type": "markdown",
     "metadata": {},
     "source": [
      "OK, so here's when it gets interesting: sequence objects have some special and powerful methods. For example, finding the complement and the reverse-complement has never been easier:"
     ]
    },
    {
     "cell_type": "code",
     "collapsed": false,
     "input": [
      "my_DNA_seq = Seq(\"GATCGATGGGCCTATATAGGATCGAAAATCGC\")\n",
      "complement_seq = my_DNA_seq.complement()\n",
      "print(complement_seq)\n",
      "rev_comp_seq = my_DNA_seq.reverse_complement()\n",
      "print(rev_comp_seq)"
     ],
     "language": "python",
     "metadata": {},
     "outputs": [
      {
       "output_type": "stream",
       "stream": "stdout",
       "text": [
        "CTAGCTACCCGGATATATCCTAGCTTTTAGCG\n",
        "GCGATTTTCGATCCTATATAGGCCCATCGATC\n"
       ]
      }
     ],
     "prompt_number": 10
    },
    {
     "cell_type": "markdown",
     "metadata": {},
     "source": [
      "We can transcribe DNA to RNA, which is basically just changing T -> U (assuming that we are using the 'sense' strand)."
     ]
    },
    {
     "cell_type": "code",
     "collapsed": false,
     "input": [
      "coding_DNA = Seq(\"ATGGCCATTGTAATGGGCCGCTGAAAGGGTGCCCGATAG\")\n",
      "mRNA = coding_DNA.transcribe()\n",
      "print(mRNA)"
     ],
     "language": "python",
     "metadata": {},
     "outputs": [
      {
       "output_type": "stream",
       "stream": "stdout",
       "text": [
        "AUGGCCAUUGUAAUGGGCCGCUGAAAGGGUGCCCGAUAG\n"
       ]
      }
     ],
     "prompt_number": 13
    },
    {
     "cell_type": "markdown",
     "metadata": {},
     "source": [
      "And also translate to protein sequence, either from RNA or straight from coding (sense) DNA:"
     ]
    },
    {
     "cell_type": "code",
     "collapsed": false,
     "input": [
      "peptide = mRNA.translate()\n",
      "print(peptide)"
     ],
     "language": "python",
     "metadata": {},
     "outputs": [
      {
       "output_type": "stream",
       "stream": "stdout",
       "text": [
        "MAIVMGR*KGAR*\n"
       ]
      }
     ],
     "prompt_number": 12
    },
    {
     "cell_type": "markdown",
     "metadata": {},
     "source": [
      "## <span style=\"color:blue\">Class exercise 6A</span>"
     ]
    },
    {
     "cell_type": "markdown",
     "metadata": {},
     "source": [
      "Write a function that receives __antisense__ DNA, as a __string__ and returns it's translation, as a __sequence object__. Test your code on the given string sequence (displayed 5' to 3')."
     ]
    },
    {
     "cell_type": "code",
     "collapsed": false,
     "input": [
      "def antisense_string_to_protein_seq(DNA_string):\n",
      "    \n",
      "    \n",
      "    return prot_seq\n",
      "\n",
      "antisense_DNA = \"TACCGGTAACATTACCCGGCGACTTTCCCACGGGCTATC\"\n",
      "protein = antisense_string_to_protein_seq(antisense_DNA)\n",
      "print(protein)\n",
      "assert str(protein) == 'DSPWESRRVMLPV'\n",
      "assert isinstance(protein,Seq)"
     ],
     "language": "python",
     "metadata": {},
     "outputs": []
    },
    {
     "cell_type": "markdown",
     "metadata": {},
     "source": [
      "## Advancing to sequence record objects\n",
      "Representing sequences is great, but sometimes we want to associate more information with the sequence object, such as the gene name, references, organism and general descriptions. To do that, we move from simple sequence objects to more complex ones, called _Sequence record_ objects.  "
     ]
    },
    {
     "cell_type": "markdown",
     "metadata": {},
     "source": [
      "### GenBank\n",
      "GenBank is a database of all publicly available nucleotide data collected by scientists, maintained by NCBI. Sequences in GenBank are annotated, meaning that the sequence itself is accompanied by additional data, regarding the meaning, source and other detailes of the sequence. Each sequence, along with it's accompanying data, is called a record. As part of the NCBI collection of databases, GenBank can be searched using a dedicated search engine, called _Entrez_.  \n",
      "To better understand the idea of sequence records, lets take a look at the GenBank record for the MatK gene of Oryza sativa (rice)."
     ]
    },
    {
     "cell_type": "code",
     "collapsed": false,
     "input": [
      "from IPython.display import HTML\n",
      "HTML('<iframe src=http://www.ncbi.nlm.nih.gov/nuccore/JN114766.1 width=1000 height=350></iframe>')"
     ],
     "language": "python",
     "metadata": {},
     "outputs": [
      {
       "html": [
        "<iframe src=http://www.ncbi.nlm.nih.gov/nuccore/JN114766.1 width=1000 height=350></iframe>"
       ],
       "metadata": {},
       "output_type": "pyout",
       "prompt_number": 4,
       "text": [
        "<IPython.core.display.HTML at 0x6c301d0>"
       ]
      }
     ],
     "prompt_number": 4
    },
    {
     "cell_type": "markdown",
     "metadata": {},
     "source": [
      "### "
     ]
    },
    {
     "cell_type": "markdown",
     "metadata": {},
     "source": [
      "Notice that there are lots of additional data besides the sequence itself. So a sequence record object is basically just a sequence object, associaated to some other simple data fields."
     ]
    },
    {
     "cell_type": "markdown",
     "metadata": {},
     "source": [
      "### Creating sequence record objects\n",
      "In principal, we can create sequence record objects 'from scratch', like we did with simple sequence objects. However, in practice this is rarely used. Instead, we usually get sequence record objects from data parsers. For example, here we get the GenBank record shown above as a sequence record object."
     ]
    },
    {
     "cell_type": "code",
     "collapsed": false,
     "input": [
      "from Bio import Entrez\n",
      "from Bio import SeqIO\n",
      "handle = Entrez.efetch(db=\"nucleotide\", rettype=\"gb\", retmode=\"text\", id=\"387865390\")\n",
      "O_sativa_matK = SeqIO.read(handle, \"gb\")\n",
      "handle.close()\n",
      "print(type(O_sativa_matK))"
     ],
     "language": "python",
     "metadata": {},
     "outputs": [
      {
       "output_type": "stream",
       "stream": "stdout",
       "text": [
        "<class 'Bio.SeqRecord.SeqRecord'>\n"
       ]
      },
      {
       "output_type": "stream",
       "stream": "stderr",
       "text": [
        "C:\\pyzo2014a\\lib\\site-packages\\Bio\\Entrez\\__init__.py:451: UserWarning: \n",
        "Email address is not specified.\n",
        "\n",
        "To make use of NCBI's E-utilities, NCBI requires you to specify your\n",
        "email address with each request.  As an example, if your email address\n",
        "is A.N.Other@example.com, you can specify it as follows:\n",
        "   from Bio import Entrez\n",
        "   Entrez.email = 'A.N.Other@example.com'\n",
        "In case of excessive usage of the E-utilities, NCBI will attempt to contact\n",
        "a user at the email address provided before blocking access to the\n",
        "E-utilities.\n",
        "  E-utilities.\"\"\", UserWarning)\n"
       ]
      }
     ],
     "prompt_number": 15
    },
    {
     "cell_type": "markdown",
     "metadata": {},
     "source": [
      "We'll soon learn to use the SeqIO and Entrez modules, but for now let's just look at what we can do with the object we got.  \n",
      "A sequence record object contains some data fields which we can extract by calling their names.  \n",
      "The most basic is the sequence itself, which is called using `.seq`:"
     ]
    },
    {
     "cell_type": "code",
     "collapsed": false,
     "input": [
      "sequence = O_sativa_matK.seq\n",
      "print(sequence)\n",
      "print(type(sequence))"
     ],
     "language": "python",
     "metadata": {},
     "outputs": [
      {
       "output_type": "stream",
       "stream": "stdout",
       "text": [
        "ATCCTTGCATTTATTGCGATTCTTTCTCAACTACTACTCGAATTGGAATAGTTTTATTACTTCAATGAAATCCATTTTTATTTTGAAAAAAGAAAATAAAAGACTATTTCGGTTCCTATATAACTCTTATGTATCAGAATATGAATTTTTCTTGTTGTTTCTTCGTAAACAATCTTCTTGCTTGCGATTAACTTCTTCCGGAACCTTTCTGGAACGAATCATCTTTTCTAGGAAGATGGAACATTTTGGGTTAATGTACCCTGCTTTTTTTCGGAAAACCATATGGTTCGTTATGGATCCCCTTATGCATTATGTTCGATATCAAGGAAAGGCAATTCTTGCATCAAAAGGAACTCTTCTTTTGAAGAAGAAATGGAAATGTTACCTTGTCCGTTTGTGGCAATATTCTTTCTCTTTTTGGACTCAACCGCAAAGGATCCATCTAAACCAATTAGAAAACTCTTGCTTCGATTTTCTGGGGTACTTTTCAAGTGTACCAATAAATTCTTTGTTAGTAAGGAATCAAATGCTGGAGAATTCATTTCTAATAGATACTCAAATGAAAAAATTCGATACCAAAGTCCCTGTTACTCCTCTCATTGGATCTTTAGCAAAAGCCCAATTTTGTACTGGATCGGGGCATCCTATTAGTAAACCAATTTGGACCGATTTATCGGATTGGGATATTCTTGATCGGTTTGGTCGGATATGTAGAAATCTTTTTCATTATCA\n",
        "<class 'Bio.Seq.Seq'>\n"
       ]
      }
     ],
     "prompt_number": 16
    },
    {
     "cell_type": "markdown",
     "metadata": {},
     "source": [
      "Note that we got a sequence object, not just a string.  \n",
      "Some other basic data fields of the sequence record object are the _id, name_ and _description_:"
     ]
    },
    {
     "cell_type": "code",
     "collapsed": false,
     "input": [
      "print(O_sativa_matK.id)\n",
      "print(O_sativa_matK.name)\n",
      "print(O_sativa_matK.description)"
     ],
     "language": "python",
     "metadata": {},
     "outputs": [
      {
       "output_type": "stream",
       "stream": "stdout",
       "text": [
        "JN114766.1\n",
        "JN114766\n",
        "Oryza sativa voucher SBB-1148 maturase K (matK) gene, partial cds; chloroplast.\n"
       ]
      }
     ],
     "prompt_number": 17
    },
    {
     "cell_type": "markdown",
     "metadata": {},
     "source": [
      "There are a couple of other data fields, but we will only look at one. The _annotations_ field contains more general information about the sequence. In fact, it's a dictionary where the keys are the names of the information and the values are the actual information. For example:"
     ]
    },
    {
     "cell_type": "code",
     "collapsed": false,
     "input": [
      "# get the organism\n",
      "print(O_sativa_matK.annotations['organism'])\n",
      "# get the DNA source\n",
      "print(O_sativa_matK.annotations['source'])\n",
      "# get date of submission\n",
      "print(O_sativa_matK.annotations['date'])"
     ],
     "language": "python",
     "metadata": {},
     "outputs": [
      {
       "output_type": "stream",
       "stream": "stdout",
       "text": [
        "Oryza sativa\n",
        "chloroplast Oryza sativa (rice)\n",
        "21-MAY-2013\n"
       ]
      }
     ],
     "prompt_number": 20
    },
    {
     "cell_type": "markdown",
     "metadata": {},
     "source": [
      "## Sequence I/O"
     ]
    },
    {
     "cell_type": "markdown",
     "metadata": {},
     "source": [
      "The SeqIO module is the easiest way to deal with sequences. It's a wrapper for the Seq and SeqRecord (and other) modules and lets us manage, manipulate, read and write sequence data without doing any parsing.  \n",
      "As usual, we'll start by importing the module:"
     ]
    },
    {
     "cell_type": "code",
     "collapsed": false,
     "input": [
      "from Bio import SeqIO"
     ],
     "language": "python",
     "metadata": {},
     "outputs": [],
     "prompt_number": 21
    },
    {
     "cell_type": "markdown",
     "metadata": {},
     "source": [
      "### Reading sequence files"
     ]
    },
    {
     "cell_type": "markdown",
     "metadata": {},
     "source": [
      "The file _Orchids.fasta_ contains multiple DNA sequences of Orchids, stored in the FASTA format. In lesson 4 we wrote our own function for parsing fasta files, but the SeqIO module has its own parsers, which we'll learn how to use.\n",
      "The most useful function within the SeqIO module is `SeqIO.parse()`. This function is used to read files including sequence data in one of the standard formats."
     ]
    },
    {
     "cell_type": "code",
     "collapsed": false,
     "input": [
      "fasta_handle = SeqIO.parse('lec6_files/Orchids.fasta','fasta')"
     ],
     "language": "python",
     "metadata": {},
     "outputs": [],
     "prompt_number": 11
    },
    {
     "cell_type": "markdown",
     "metadata": {},
     "source": [
      "The function expects two parameters: a file path and a string specifying the file format (a full list of supported formats available [here](http://biopython.org/wiki/SeqIO)). It returns a handle which lets us read the file. Once we have the handle, we can use it to iterate over the sequences in the file, using a simple `for` loop:"
     ]
    },
    {
     "cell_type": "code",
     "collapsed": false,
     "input": [
      "for seq_record in fasta_handle:\n",
      "    print(seq_record.id,len(seq_record))"
     ],
     "language": "python",
     "metadata": {},
     "outputs": [
      {
       "output_type": "stream",
       "stream": "stdout",
       "text": [
        "gi|2765658|emb|Z78533.1|CIZ78533 740\n",
        "gi|2765657|emb|Z78532.1|CCZ78532 753\n",
        "gi|2765656|emb|Z78531.1|CFZ78531 748\n",
        "gi|2765655|emb|Z78530.1|CMZ78530 744\n",
        "gi|2765654|emb|Z78529.1|CLZ78529 733\n",
        "gi|2765652|emb|Z78527.1|CYZ78527 718\n",
        "gi|2765651|emb|Z78526.1|CGZ78526 730\n",
        "gi|2765650|emb|Z78525.1|CAZ78525 704\n",
        "gi|2765649|emb|Z78524.1|CFZ78524 740\n",
        "gi|2765648|emb|Z78523.1|CHZ78523 709\n",
        "gi|2765647|emb|Z78522.1|CMZ78522 700\n",
        "gi|2765646|emb|Z78521.1|CCZ78521 726\n",
        "gi|2765645|emb|Z78520.1|CSZ78520 753\n",
        "gi|2765644|emb|Z78519.1|CPZ78519 699\n",
        "gi|2765643|emb|Z78518.1|CRZ78518 658\n",
        "gi|2765642|emb|Z78517.1|CFZ78517 752\n",
        "gi|2765641|emb|Z78516.1|CPZ78516 726\n",
        "gi|2765640|emb|Z78515.1|MXZ78515 765\n",
        "gi|2765639|emb|Z78514.1|PSZ78514 755\n",
        "gi|2765638|emb|Z78513.1|PBZ78513 742\n",
        "gi|2765637|emb|Z78512.1|PWZ78512 762\n",
        "gi|2765636|emb|Z78511.1|PEZ78511 745\n",
        "gi|2765635|emb|Z78510.1|PCZ78510 750\n",
        "gi|2765634|emb|Z78509.1|PPZ78509 731\n",
        "gi|2765633|emb|Z78508.1|PLZ78508 741\n",
        "gi|2765632|emb|Z78507.1|PLZ78507 740\n",
        "gi|2765631|emb|Z78506.1|PLZ78506 727\n",
        "gi|2765630|emb|Z78505.1|PSZ78505 711\n",
        "gi|2765629|emb|Z78504.1|PKZ78504 743\n",
        "gi|2765628|emb|Z78503.1|PCZ78503 727\n",
        "gi|2765627|emb|Z78502.1|PBZ78502 757\n",
        "gi|2765626|emb|Z78501.1|PCZ78501 770\n",
        "gi|2765625|emb|Z78500.1|PWZ78500 767\n",
        "gi|2765624|emb|Z78499.1|PMZ78499 759\n",
        "gi|2765623|emb|Z78498.1|PMZ78498 750\n",
        "gi|2765622|emb|Z78497.1|PDZ78497 788\n",
        "gi|2765621|emb|Z78496.1|PAZ78496 774\n",
        "gi|2765620|emb|Z78495.1|PEZ78495 789\n",
        "gi|2765619|emb|Z78494.1|PNZ78494 688\n",
        "gi|2765618|emb|Z78493.1|PGZ78493 719\n",
        "gi|2765617|emb|Z78492.1|PBZ78492 743\n",
        "gi|2765616|emb|Z78491.1|PCZ78491 737\n",
        "gi|2765615|emb|Z78490.1|PFZ78490 728\n",
        "gi|2765614|emb|Z78489.1|PDZ78489 740\n",
        "gi|2765613|emb|Z78488.1|PTZ78488 696\n",
        "gi|2765612|emb|Z78487.1|PHZ78487 732\n",
        "gi|2765611|emb|Z78486.1|PBZ78486 731\n",
        "gi|2765610|emb|Z78485.1|PHZ78485 735\n",
        "gi|2765609|emb|Z78484.1|PCZ78484 720\n",
        "gi|2765608|emb|Z78483.1|PVZ78483 740\n",
        "gi|2765607|emb|Z78482.1|PEZ78482 629\n",
        "gi|2765606|emb|Z78481.1|PIZ78481 572\n",
        "gi|2765605|emb|Z78480.1|PGZ78480 587\n",
        "gi|2765604|emb|Z78479.1|PPZ78479 700\n",
        "gi|2765603|emb|Z78478.1|PVZ78478 636\n",
        "gi|2765602|emb|Z78477.1|PVZ78477 716\n",
        "gi|2765601|emb|Z78476.1|PGZ78476 592\n",
        "gi|2765600|emb|Z78475.1|PSZ78475 716\n",
        "gi|2765599|emb|Z78474.1|PKZ78474 733\n",
        "gi|2765598|emb|Z78473.1|PSZ78473 626\n",
        "gi|2765597|emb|Z78472.1|PLZ78472 737\n",
        "gi|2765596|emb|Z78471.1|PDZ78471 740\n",
        "gi|2765595|emb|Z78470.1|PPZ78470 574\n",
        "gi|2765594|emb|Z78469.1|PHZ78469 594\n",
        "gi|2765593|emb|Z78468.1|PAZ78468 610\n",
        "gi|2765592|emb|Z78467.1|PSZ78467 730\n",
        "gi|2765591|emb|Z78466.1|PPZ78466 641\n",
        "gi|2765590|emb|Z78465.1|PRZ78465 702\n",
        "gi|2765589|emb|Z78464.1|PGZ78464 733\n",
        "gi|2765588|emb|Z78463.1|PGZ78463 738\n",
        "gi|2765587|emb|Z78462.1|PSZ78462 736\n",
        "gi|2765586|emb|Z78461.1|PWZ78461 732\n",
        "gi|2765585|emb|Z78460.1|PCZ78460 745\n",
        "gi|2765584|emb|Z78459.1|PDZ78459 744\n",
        "gi|2765583|emb|Z78458.1|PHZ78458 738\n",
        "gi|2765582|emb|Z78457.1|PCZ78457 739\n",
        "gi|2765581|emb|Z78456.1|PTZ78456 740\n",
        "gi|2765580|emb|Z78455.1|PJZ78455 745\n",
        "gi|2765579|emb|Z78454.1|PFZ78454 695\n",
        "gi|2765578|emb|Z78453.1|PSZ78453 745\n",
        "gi|2765577|emb|Z78452.1|PBZ78452 743\n",
        "gi|2765576|emb|Z78451.1|PHZ78451 730\n",
        "gi|2765575|emb|Z78450.1|PPZ78450 706\n",
        "gi|2765574|emb|Z78449.1|PMZ78449 744\n",
        "gi|2765573|emb|Z78448.1|PAZ78448 742\n",
        "gi|2765572|emb|Z78447.1|PVZ78447 694\n",
        "gi|2765571|emb|Z78446.1|PAZ78446 712\n",
        "gi|2765570|emb|Z78445.1|PUZ78445 715\n",
        "gi|2765569|emb|Z78444.1|PAZ78444 688\n",
        "gi|2765568|emb|Z78443.1|PLZ78443 784\n",
        "gi|2765567|emb|Z78442.1|PBZ78442 721\n",
        "gi|2765566|emb|Z78441.1|PSZ78441 703\n",
        "gi|2765565|emb|Z78440.1|PPZ78440 744\n",
        "gi|2765564|emb|Z78439.1|PBZ78439 592\n"
       ]
      }
     ],
     "prompt_number": 12
    },
    {
     "cell_type": "markdown",
     "metadata": {},
     "source": [
      "As you can see, each iteration of the loop yields a SeqRecord object, which we can treat as we did in the previous section. For example, here we extracted the _id_ and the length of each sequence."
     ]
    },
    {
     "cell_type": "markdown",
     "metadata": {},
     "source": [
      "Similarly, we can parse a GenBank format file with the same function. All we have to do is replace the _'fasta'_ string with _'genbank'_. We'll also do it in a more elegant, one-step code:"
     ]
    },
    {
     "cell_type": "code",
     "collapsed": false,
     "input": [
      "for seq_record in SeqIO.parse('lec6_files/Orchids.gbk','genbank'):\n",
      "    print(seq_record.id,len(seq_record))"
     ],
     "language": "python",
     "metadata": {},
     "outputs": [
      {
       "output_type": "stream",
       "stream": "stdout",
       "text": [
        "Z78533.1 740\n",
        "Z78532.1 753\n",
        "Z78531.1 748\n",
        "Z78530.1 744\n",
        "Z78529.1 733\n",
        "Z78527.1 718\n",
        "Z78526.1 730\n",
        "Z78525.1 704\n",
        "Z78524.1 740\n",
        "Z78523.1 709\n",
        "Z78522.1 700\n",
        "Z78521.1 726\n",
        "Z78520.1 753\n",
        "Z78519.1 699\n",
        "Z78518.1 658\n",
        "Z78517.1 752\n",
        "Z78516.1 726\n",
        "Z78515.1 765\n",
        "Z78514.1 755\n",
        "Z78513.1 742\n",
        "Z78512.1 762\n",
        "Z78511.1 745\n",
        "Z78510.1 750\n",
        "Z78509.1 731\n",
        "Z78508.1 741\n",
        "Z78507.1 740\n",
        "Z78506.1 727\n",
        "Z78505.1 711\n",
        "Z78504.1 743\n",
        "Z78503.1 727\n",
        "Z78502.1 757\n",
        "Z78501.1 770\n",
        "Z78500.1 767\n",
        "Z78499.1 759\n",
        "Z78498.1 750\n",
        "Z78497.1 788\n",
        "Z78496.1 774\n",
        "Z78495.1 789\n",
        "Z78494.1 688\n",
        "Z78493.1 719\n",
        "Z78492.1 743\n",
        "Z78491.1 737\n",
        "Z78490.1 728\n",
        "Z78489.1 740\n",
        "Z78488.1 696\n",
        "Z78487.1 732\n",
        "Z78486.1 731\n",
        "Z78485.1 735\n",
        "Z78484.1 720\n",
        "Z78483.1 740\n",
        "Z78482.1 629\n",
        "Z78481.1 572\n",
        "Z78480.1 587\n",
        "Z78479.1 700\n",
        "Z78478.1 636\n",
        "Z78477.1 716\n",
        "Z78476.1 592\n",
        "Z78475.1 716\n",
        "Z78474.1 733\n",
        "Z78473.1 626\n",
        "Z78472.1 737\n",
        "Z78471.1 740\n",
        "Z78470.1 574\n",
        "Z78469.1 594\n",
        "Z78468.1 610\n",
        "Z78467.1"
       ]
      },
      {
       "output_type": "stream",
       "stream": "stdout",
       "text": [
        " 730\n",
        "Z78466.1 641\n",
        "Z78465.1 702\n",
        "Z78464.1 733\n",
        "Z78463.1 738\n",
        "Z78462.1 736\n",
        "Z78461.1 732\n",
        "Z78460.1 745\n",
        "Z78459.1 744\n",
        "Z78458.1 738\n",
        "Z78457.1 739\n",
        "Z78456.1 740\n",
        "Z78455.1 745\n",
        "Z78454.1 695\n",
        "Z78453.1 745\n",
        "Z78452.1 743\n",
        "Z78451.1 730\n",
        "Z78450.1 706\n",
        "Z78449.1 744\n",
        "Z78448.1 742\n",
        "Z78447.1 694\n",
        "Z78446.1 712\n",
        "Z78445.1 715\n",
        "Z78444.1 688\n",
        "Z78443.1 784\n",
        "Z78442.1 721\n",
        "Z78441.1 703\n",
        "Z78440.1 744\n",
        "Z78439.1 592\n"
       ]
      }
     ],
     "prompt_number": 14
    },
    {
     "cell_type": "markdown",
     "metadata": {},
     "source": [
      "Another useful trick is converting the sequence file handle into a list, so its elements (SeqRecord objects) are more easily accessed:"
     ]
    },
    {
     "cell_type": "code",
     "collapsed": false,
     "input": [
      "orchid_records_list = list(SeqIO.parse('lec6_files/Orchids.gbk','genbank'))\n",
      "# last record id\n",
      "print(orchid_records_list[-1].id)\n",
      "# number of records in file\n",
      "print(len(orchid_records_list))"
     ],
     "language": "python",
     "metadata": {},
     "outputs": [
      {
       "output_type": "stream",
       "stream": "stdout",
       "text": [
        "Z78439.1\n",
        "94\n"
       ]
      }
     ],
     "prompt_number": 15
    },
    {
     "cell_type": "markdown",
     "metadata": {},
     "source": [
      "This is not a good idea though, when dealing with large files, since very long lists are not desired."
     ]
    },
    {
     "cell_type": "markdown",
     "metadata": {},
     "source": [
      "## <span style=\"color:blue\">Class exercise 6B</span>"
     ]
    },
    {
     "cell_type": "markdown",
     "metadata": {},
     "source": [
      "Write a function that reads a GenBank file and returns the unique species names found in the file. Use the `.annotations` field to get the organism name of each record.. The species is always the second word of the organism name. The `set()` command will ensure you get unique species (each species will appear only once). Complete the code below:"
     ]
    },
    {
     "cell_type": "code",
     "collapsed": false,
     "input": [
      "def get_unique_species(file):\n",
      "    species_list = []\n",
      "    # iterate on file records\n",
      "    for _____________________________:\n",
      "        # get species\n",
      "        record_organism = _________________\n",
      "        species = ______________\n",
      "        # insert species to list\n",
      "        __________________________\n",
      "    return set(species_list)\n",
      "\n",
      "orchids_species = get_unique_species('lec6_files/Orchids.gbk')\n",
      "print(orchids_species)\n",
      "assert len(orchids_species) == 92"
     ],
     "language": "python",
     "metadata": {},
     "outputs": []
    },
    {
     "cell_type": "markdown",
     "metadata": {},
     "source": [
      "### Reading sequence files as dictionaries\n",
      "Another nice option for dealing with sequence files is reading them as _dictionaries_. This is done using `SeqIO.to_dict()` function. `to_dict()` takes a sequence file handle, created by `SeqIO.parse()`, as an argument."
     ]
    },
    {
     "cell_type": "code",
     "collapsed": false,
     "input": [
      "handle = SeqIO.parse('lec6_files/Orchids.gbk','genbank')\n",
      "orchids_dict = SeqIO.to_dict(handle)"
     ],
     "language": "python",
     "metadata": {},
     "outputs": [],
     "prompt_number": 16
    },
    {
     "cell_type": "markdown",
     "metadata": {},
     "source": [
      "The function returns a dictionary, which we can work with as usual."
     ]
    },
    {
     "cell_type": "code",
     "collapsed": false,
     "input": [
      "print(orchids_dict.keys())"
     ],
     "language": "python",
     "metadata": {},
     "outputs": [
      {
       "output_type": "stream",
       "stream": "stdout",
       "text": [
        "dict_keys(['Z78466.1', 'Z78477.1', 'Z78464.1', 'Z78519.1', 'Z78461.1', 'Z78529.1', 'Z78463.1', 'Z78513.1', 'Z78471.1', 'Z78455.1', 'Z78493.1', 'Z78467.1', 'Z78500.1', 'Z78479.1', 'Z78447.1', 'Z78504.1', 'Z78488.1', 'Z78450.1', 'Z78458.1', 'Z78514.1', 'Z78510.1', 'Z78505.1', 'Z78443.1', 'Z78506.1', 'Z78439.1', 'Z78465.1', 'Z78483.1', 'Z78441.1', 'Z78497.1', 'Z78492.1', 'Z78496.1', 'Z78478.1', 'Z78452.1', 'Z78474.1', 'Z78503.1', 'Z78523.1', 'Z78442.1', 'Z78515.1', 'Z78482.1', 'Z78486.1', 'Z78520.1', 'Z78499.1', 'Z78485.1', 'Z78501.1', 'Z78459.1', 'Z78469.1', 'Z78509.1', 'Z78484.1', 'Z78446.1', 'Z78495.1', 'Z78498.1', 'Z78512.1', 'Z78524.1', 'Z78491.1', 'Z78440.1', 'Z78517.1', 'Z78530.1', 'Z78481.1', 'Z78518.1', 'Z78508.1', 'Z78473.1', 'Z78516.1', 'Z78527.1', 'Z78454.1', 'Z78453.1', 'Z78457.1', 'Z78490.1', 'Z78462.1', 'Z78526.1', 'Z78487.1', 'Z78449.1', 'Z78448.1', 'Z78502.1', 'Z78468.1', 'Z78531.1', 'Z78475.1', 'Z78480.1', 'Z78470.1', 'Z78521.1', 'Z78511.1', 'Z78445.1', 'Z78525.1', 'Z78507.1', 'Z78451.1', 'Z78456.1', 'Z78494.1', 'Z78472.1', 'Z78532.1', 'Z78460.1', 'Z78476.1', 'Z78533.1', 'Z78522.1', 'Z78489.1', 'Z78444.1'])\n"
       ]
      }
     ],
     "prompt_number": 17
    },
    {
     "cell_type": "markdown",
     "metadata": {},
     "source": [
      "So the keys are the IDs, and the values are SeqRecord objects. It's very easy to access specif records this way:"
     ]
    },
    {
     "cell_type": "code",
     "collapsed": false,
     "input": [
      "print(orchids_dict['Z78481.1'].seq)"
     ],
     "language": "python",
     "metadata": {},
     "outputs": [
      {
       "output_type": "stream",
       "stream": "stdout",
       "text": [
        "CGTAACAAGGTTTCCGTAGGTGAACCTGCGGAAGGATCATTGTTGAGATCACATAATAATTGATCGAGTTAATCTGGAGGATCAGTTTACTTTGGTCACCCATGGGCATTTGCTATTGCAGTGACCGAGATTTGCCATCGAGCCTCCTTGGGAGCTTTCTTGCTGGCGATCTAAACCCTAGCCCGGCGCAGTTTTGCGCCAAGTCATATGACACATAATTGGCGAAGGGGGCGGCATGGTGCCTTGACCCTCCCCAAATCATTTTTTTAACAACTCTCAGCAACGGAAGGGCACGCCTGCCTGGGCATTGCGAGTCATATCTCTCCCTTAATGAGGCTGTCCACACATACTGTTCAGCCGGTGCGGATGTGAGTTTGGCCCCTTGTTCATTGGTACGGGGGGTCTAAGAGCTGCGTGGGCTTTTGTTGGTCCTAAATACGGCAAGAGGTGGACGAACTATGCTACAACAAAACTGTTGTGCGAATGCCCCGGGTTGTCGTATTAGATGGGCCAGCATAATCTAAAGACCCTTTTGAACCCCATTGGAGGCCCATCAACCCATGATCAGTTGA\n"
       ]
      }
     ],
     "prompt_number": 18
    },
    {
     "cell_type": "markdown",
     "metadata": {},
     "source": [
      "Again, this could get tricky when working with large files due to memory problems."
     ]
    },
    {
     "cell_type": "markdown",
     "metadata": {},
     "source": [
      "### Writing sequence files\n",
      "SeqIO also makes it easy to write sequence files. For that, we have the `SeqIO.write()` function. It receives a list of SeqRecords and writes them to an output file, in a format of your choice.  \n",
      "For example, the following function reads a GenBank file, and prints to a new file only records that belong to the organism specified by the user."
     ]
    },
    {
     "cell_type": "code",
     "collapsed": false,
     "input": [
      "def filter_GB_file_by_organism(input_file,organism,output_file):\n",
      "    organism_records = []\n",
      "    # read the input file\n",
      "    for record in SeqIO.parse(input_file,'genbank'):\n",
      "        rec_organism = record.annotations['organism']\n",
      "        if rec_organism == organism:\n",
      "            organism_records.append(record)\n",
      "    # write the desired records to output\n",
      "    SeqIO.write(organism_records,output_file,'genbank')   # notice the 3 arguments\n",
      "    \n",
      "orchids_file = 'lec6_files/Orchids.gbk'\n",
      "C_irapeanum_file = 'lec6_files/C_irapeanum.gbk'\n",
      "P_emersonii_file = 'lec6_files/P_emersonii.gbk'\n",
      "filter_GB_file_by_organism(orchids_file,'Cypripedium irapeanum',C_irapeanum_file)\n",
      "filter_GB_file_by_organism(orchids_file,'Paphiopedilum emersonii',P_emersonii_file)"
     ],
     "language": "python",
     "metadata": {},
     "outputs": [],
     "prompt_number": 22
    },
    {
     "cell_type": "markdown",
     "metadata": {},
     "source": [
      "We can easily change the function to create files in a different format. This format may be set by the user of the function:"
     ]
    },
    {
     "cell_type": "code",
     "collapsed": false,
     "input": [
      "def filter_GB_file_by_organism(input_file,organism,output_file, output_format = 'fasta'):\n",
      "    organism_records = []\n",
      "    # read the input file\n",
      "    for record in SeqIO.parse(input_file,'genbank'):\n",
      "        rec_organism = record.annotations['organism']\n",
      "        if rec_organism == organism:\n",
      "            organism_records.append(record)\n",
      "    # write the desired records to output\n",
      "    SeqIO.write(organism_records,output_file, output_format)   # <--- changed to fasta here"
     ],
     "language": "python",
     "metadata": {},
     "outputs": []
    },
    {
     "cell_type": "markdown",
     "metadata": {},
     "source": [
      "Which means that SeqIO can be used to convert between file formats. However, this is not necessary, since SeqIO has its built-in `convert()` function:"
     ]
    },
    {
     "cell_type": "code",
     "collapsed": false,
     "input": [
      "SeqIO.convert('lec6_files/P_emersonii.gbk','genbank','lec6_files/P_emersonii.fasta','fasta')"
     ],
     "language": "python",
     "metadata": {},
     "outputs": [
      {
       "metadata": {},
       "output_type": "pyout",
       "prompt_number": 22,
       "text": [
        "1"
       ]
      }
     ],
     "prompt_number": 22
    },
    {
     "cell_type": "markdown",
     "metadata": {},
     "source": [
      "## A BLAST from the past\n",
      "![BLAST](http://www.mrc-lmb.cam.ac.uk/rlw/text/bioinfo_tuto/images/psiblast_1-289_itr1.jpg)"
     ]
    },
    {
     "cell_type": "markdown",
     "metadata": {},
     "source": [
      "__BLAST__ - Basic Local Alignment and Search Tool, is one of the most important methods in bioinformatics.  \n",
      "_Biopython_ lets you run BLAST from within your code, retrieve and analyze the results and save them. But before we see how to do that, lets recall how BLAST actually works."
     ]
    },
    {
     "cell_type": "markdown",
     "metadata": {},
     "source": [
      "### BLAST - reminder\n",
      "BLAST is an algorithm used for comparing a __query sequence__ agains a __database__, or library of sequences. The database may be all the known sequences, stored in NCBI, a subset of these, or any other collection of sequences we want to search. The sequences in question may be nucleotide sequences, amino acids or even codons.  \n",
      "The result of a BLAST run is zero or more database sequences, which are similar enough to the query sequence. These results are called __hits__.  \n",
      "![BLAST](lec6_files/blast.png)"
     ]
    },
    {
     "cell_type": "markdown",
     "metadata": {},
     "source": [
      "Lets run a nucleotide BLAST through the NCBI web, on the sequence:  \n",
      "GTTGAGATCACATAATAATTGATCGAGTTAATCTGGAGGATCAGTTTACTTTGGTCACCCATGGGCATTTGCT  \n",
      "ATTGCAGTGACCGAGATTTGCCATCGAGCCTCCTTGGGAGCTTTCTTGCTGGCGATCTAAACCCTAGCCCGGC  \n",
      "GCAGTTTTGCGCCAAGTCATATGACACATAATTGGCGAAGGGGGCGGCATGGTGCCTTGACCCTCCCCAAATC  \n",
      "ATTTTTTTAACAACTCTCAGCAACGGAAGGGCACGCCTGCCTGGGCATTGCGAGTCATATCTCTCCCTTAATG  \n",
      "AGGCTGTCCACACATACT"
     ]
    },
    {
     "cell_type": "code",
     "collapsed": false,
     "input": [
      "HTML('<iframe src=http://blast.ncbi.nlm.nih.gov/Blast.cgi?PROGRAM=blastn&PAGE_TYPE=BlastSearch&LINK_LOC=blasthome width=1000 height=350></iframe>')"
     ],
     "language": "python",
     "metadata": {},
     "outputs": [
      {
       "html": [
        "<iframe src=http://blast.ncbi.nlm.nih.gov/Blast.cgi?PROGRAM=blastn&PAGE_TYPE=BlastSearch&LINK_LOC=blasthome width=1000 height=350></iframe>"
       ],
       "metadata": {},
       "output_type": "pyout",
       "prompt_number": 3,
       "text": [
        "<IPython.core.display.HTML at 0x6c252b0>"
       ]
      }
     ],
     "prompt_number": 3
    },
    {
     "cell_type": "markdown",
     "metadata": {},
     "source": [
      "Let's take a look at the results.  \n",
      "First, we have a graphical representation of the best matches found in the database. Colors indicate the level of similarity.  \n",
      "Note that hits may contain more than one region of similarity. Each such region is called a high-scoring segment pair (__HSP__).  \n",
      "Then, a list of the hits follows. Each BLAST hit has its name, and several values describing the match:  \n",
      "- Max score - the score of the best HSP\n",
      "- Total score - sum of scores for all HSPs (will be equal to Max score if the hit is only one HSP)\n",
      "- Query cover - the percent of the query sequence covered by the hit\n",
      "- E-value - the number of hits with better score expected to be found in a randomized database. This is used as an indication of the statistical significance of the match. The lower the E-value is, the more significant the hit. E-value < 10<sup>-4</sup> are usually considered significant.\n",
      "- Ident - percent of sequence identity between the hit and the query"
     ]
    },
    {
     "cell_type": "markdown",
     "metadata": {},
     "source": [
      "### Running BLAST from within python\n",
      "We can perform the same BLAST run using a dedicated module included in Biopython. This is done using the `qblast()` method from the `NCBIWWW` module. It takes three arguments:  \n",
      "- BLAST algorithm to use (_blastn,blastp,blastx, etc._), a string\n",
      "- Database to querry (all nucleotides, refseq, all protein, etc.), a string\n",
      "- Sequence - may be a string representing a sequence, a sequence object, a sequence-record object, a string representing sequence ID, or even a FASTA file."
     ]
    },
    {
     "cell_type": "code",
     "collapsed": false,
     "input": [
      "from Bio.Blast import NCBIWWW\n",
      "seq = Seq(\"GTTGAGATCACATAATAATTGATCGAGTTAATCTGGAGGATCAGTTTACTTTGGTCACCCATGGGCATTTGCTATTGCAGTGACCGAGATTTGCCATCGAGCCTCCTTGGGAGCTTTCTTGCTGGCGATCTAAACCCTAGCCCGGCGCAGTTTTGCGCCAAGTCATATGACACATAATTGGCGAAGGGGGCGGCATGGTGCCTTGACCCTCCCCAAATCATTTTTTTAACAACTCTCAGCAACGGAAGGGCACGCCTGCCTGGGCATTGCGAGTCATATCTCTCCCTTAATGAGGCTGTCCACACATACT\")\n",
      "result_handle = NCBIWWW.qblast(\"blastn\", \"nt\", seq)\n",
      "print(result_handle)"
     ],
     "language": "python",
     "metadata": {},
     "outputs": [
      {
       "output_type": "stream",
       "stream": "stdout",
       "text": [
        "<_io.StringIO object at 0x000000000715B4C8>\n"
       ]
      }
     ],
     "prompt_number": 30
    },
    {
     "cell_type": "markdown",
     "metadata": {},
     "source": [
      "### Parsing BLAST results\n",
      "Once we have fetched the BLAST result, we would like to extract the information stored within it.  \n",
      "The first thing we do is to convert it into a usable format, using `NCBIXML.read()` on the result we retrieved."
     ]
    },
    {
     "cell_type": "code",
     "collapsed": false,
     "input": [
      "from Bio.Blast import NCBIXML\n",
      "blast_record = NCBIXML.read(result_handle)\n",
      "print(blast_record)"
     ],
     "language": "python",
     "metadata": {},
     "outputs": [
      {
       "output_type": "stream",
       "stream": "stdout",
       "text": [
        "<Bio.Blast.Record.Blast object at 0x0000000007220B00>\n"
       ]
      }
     ],
     "prompt_number": 32
    },
    {
     "cell_type": "markdown",
     "metadata": {},
     "source": [
      "still not very helpful. We will have to iterate over the BLAST hits, using `.alignments`:"
     ]
    },
    {
     "cell_type": "code",
     "collapsed": false,
     "input": [
      "for hit in blast_record.alignments:\n",
      "    print(hit)"
     ],
     "language": "python",
     "metadata": {},
     "outputs": [
      {
       "output_type": "stream",
       "stream": "stdout",
       "text": [
        "gi|2765606|emb|Z78481.1| P.insigne 5.8S rRNA gene and ITS1 and ITS2 DNA\n",
        "           Length = 572\n",
        "\n",
        "gi|2765605|emb|Z78480.1| P.gratrixianum 5.8S rRNA gene and ITS1 and ITS2 DNA\n",
        "           Length = 587\n",
        "\n",
        "gi|402502929|gb|JQ660876.1| Paphiopedilum gratrixianum 18S ribosomal RNA gene, partial sequence; and internal transcribed spacer 1, 5.8S ribosomal RNA gene, and internal transcribed spacer 2, complete sequence\n",
        "           Length = 701\n",
        "\n",
        "gi|402502928|gb|JQ660875.1| Paphiopedilum villosum 18S ribosomal RNA gene, partial sequence; and internal transcribed spacer 1, 5.8S ribosomal RNA gene, and internal transcribed spacer 2, complete sequence\n",
        "           Length = 701\n",
        "\n",
        "gi|442591005|gb|JQ929354.1| Paphiopedilum villosum var. boxallii internal transcribed spacer 1, partial sequence; 5.8S ribosomal RNA gene, complete sequence; and internal transcribed spacer 2, partial sequence\n",
        "           Length = 723\n",
        "\n",
        "gi|442590980|gb|JQ929329.1| Paphiopedilum insigne internal transcribed spacer 1, partial sequence; 5.8S ribosomal RNA gene, complete sequence; and internal transcribed spacer 2, partial sequence\n",
        "           Length = 712\n",
        "\n",
        "gi|442590973|gb|JQ929322.1| Paphiopedilum gratrixianum isolate 36809 internal transcribed spacer 1, partial sequence; 5.8S ribosomal RNA gene, complete sequence; and internal transcribed spacer 2, partial sequence >gi|442590974|gb|JQ929323.1| Paphiopedilum gratrixianum isolate 40235 internal transcribed spacer 1, partial sequence; 5.8S ribosomal RNA gene, complete sequence; and internal transcribed spacer 2, partial sequence >gi|442590975|gb|JQ929324.1| Paphiopedilum gratrixianum isolate 40236 internal transcribed spacer 1, partial sequence; 5.8S ribosomal RNA gene, complete sequence; and internal transcribed spacer 2, partial sequence\n",
        "           Length = 723\n",
        "\n",
        "gi|406869383|gb|JX088563.1| Paphiopedilum villosum internal transcribed spacer 1, partial sequence; 5.8S ribosomal RNA gene, complete sequence; and internal transcribed spacer 2, partial sequence\n",
        "           Length = 720\n",
        "\n",
        "gi|406869369|gb|JX088549.1| Paphiopedilum gratrixianum internal transcribed spacer 1, partial sequence; 5.8S ribosomal RNA gene, complete sequence; and internal transcribed spacer 2, partial sequence\n",
        "           Length = 721\n",
        "\n",
        "gi|399220738|gb|JQ904598.1| Paphiopedilum areeanum internal transcribed spacer 1, partial sequence; 5.8S ribosomal RNA gene, complete sequence; and internal transcribed spacer 2, partial sequence\n",
        "           Length = 724\n",
        "\n",
        "gi|229609536|gb|FJ899753.1| Paphiopedilum gratrixianum internal transcribed spacer 1, partial sequence; 5.8S ribosomal RNA gene, complete sequence; and internal transcribed spacer 2, partial sequence\n",
        "           Length = 657\n",
        "\n",
        "gi|229609535|gb|FJ899752.1| Paphiopedilum sp. ZJL-2009 internal transcribed spacer 1, partial sequence; 5.8S ribosomal RNA gene, complete sequence; and internal transcribed spacer 2, partial sequence\n",
        "           Length = 657\n",
        "\n",
        "gi|55274490|gb|AY643472.1| Paphiopedilum gratrixianum voucher Pp79-1 (USBG) internal transcribed spacer 1, partial sequence; 5.8S ribosomal RNA gene, complete sequence; and internal transcribed spacer 2, partial sequence\n",
        "           Length = 700\n",
        "\n",
        "gi|55274467|gb|AY643449.1| Paphiopedilum insigne var. sanderae voucher Pp72-2 (USBG) internal transcribed spacer 1, partial sequence; 5.8S ribosomal RNA gene, complete sequence; and internal transcribed spacer 2, partial sequence\n",
        "           Length = 736\n",
        "\n",
        "gi|55274466|gb|AY643448.1| Paphiopedilum insigne voucher Pp72-1 (USBG) internal transcribed spacer 1, partial sequence; 5.8S ribosomal RNA gene, complete sequence; and internal transcribed spacer 2, partial sequence\n",
        "           Length = 732\n",
        "\n",
        "gi|55274462|gb|AY643444.1| Paphiopedilum hybrid cultivar voucher Pp56-1 (USBG) internal transcribed spacer 1, partial sequence; 5.8S ribosomal RNA gene, complete sequence; and internal transcribed spacer 2, partial sequence\n",
        "           Length = 724\n",
        "\n",
        "gi|47776124|emb|AJ564369.1| Paphiopedilum insigne ITS1, 5.8S rRNA gene and ITS2, clone pPaisg16\n",
        "           Length = 761\n",
        "\n",
        "gi|295126695|gb|GU993842.1| Paphiopedilum gratrixianum internal transcribed spacer 1, partial sequence; 5.8S ribosomal RNA gene, complete sequence; and internal transcribed spacer 2, partial sequence\n",
        "           Length = 659\n",
        "\n",
        "gi|224812679|gb|FJ712268.1| Paphiopedilum villosum clone vnVL1 internal transcribed spacer 1, partial sequence; 5.8S ribosomal RNA gene, complete sequence; and internal transcribed spacer 2, partial sequence >gi|224812680|gb|FJ712269.1| Paphiopedilum villosum clone vnVL2 internal transcribed spacer 1, partial sequence; 5.8S ribosomal RNA gene, complete sequence; and internal transcribed spacer 2, partial sequence >gi|295126704|gb|GU993851.1| Paphiopedilum villosum internal transcribed spacer 1, partial sequence; 5.8S ribosomal RNA gene, complete sequence; and internal transcribed spacer 2, partial sequence\n",
        "           Length = 659\n",
        "\n",
        "gi|149940082|gb|EF156108.1| Paphiopedilum gratrixianum voucher KDAIS Pap-128 internal transcribed spacer 1, 5.8S ribosomal RNA gene, and internal transcribed spacer 2, complete sequence\n",
        "           Length = 659\n",
        "\n",
        "gi|402502927|gb|JQ660874.1| Paphiopedilum insigne 18S ribosomal RNA gene, partial sequence; and internal transcribed spacer 1, 5.8S ribosomal RNA gene, and internal transcribed spacer 2, complete sequence\n",
        "           Length = 701\n",
        "\n",
        "gi|442590961|gb|JQ929310.1| Paphiopedilum charlesworthii internal transcribed spacer 1, partial sequence; 5.8S ribosomal RNA gene, complete sequence; and internal transcribed spacer 2, partial sequence\n",
        "           Length = 723\n",
        "\n",
        "gi|406869372|gb|JX088552.1| Paphiopedilum charlesworthii internal transcribed spacer 1, partial sequence; 5.8S ribosomal RNA gene, complete sequence; and internal transcribed spacer 2, partial sequence\n",
        "           Length = 743\n",
        "\n",
        "gi|224812678|gb|FJ712267.1| Paphiopedilum tranlienianum clone vnTL internal transcribed spacer 1, partial sequence; 5.8S ribosomal RNA gene, complete sequence; and internal transcribed spacer 2, partial sequence\n",
        "           Length = 659\n",
        "\n",
        "gi|149940133|gb|EF156159.1| Paphiopedilum villosum voucher KDAIS Pap-36 internal transcribed spacer 1, 5.8S ribosomal RNA gene, and internal transcribed spacer 2, complete sequence\n",
        "           Length = 659\n",
        "\n",
        "gi|149940125|gb|EF156151.1| Paphiopedilum tranlienianum voucher KDAIS Pap-42 internal transcribed spacer 1, 5.8S ribosomal RNA gene, and internal transcribed spacer 2, complete sequence\n",
        "           Length = 659\n",
        "\n",
        "gi|149940065|gb|EF156091.1| Paphiopedilum charlesworthii voucher KDAIS Pap-90 internal transcribed spacer 1, 5.8S ribosomal RNA gene, and internal transcribed spacer 2, complete sequence\n",
        "           Length = 659\n",
        "\n",
        "gi|406869376|gb|JX088556.1| Paphiopedilum tranlienianum internal transcribed spacer 1, partial sequence; 5.8S ribosomal RNA gene, complete sequence; and internal transcribed spacer 2, partial sequence\n",
        "           Length = 728\n",
        "\n",
        "gi|406869371|gb|JX088551.1| Paphiopedilum henryanum internal transcribed spacer 1, partial sequence; 5.8S ribosomal RNA gene, complete sequence; and internal transcribed spacer 2, partial sequence\n",
        "           Length = 744\n",
        "\n",
        "gi|55274461|gb|AY643443.1| Paphiopedilum fairrieanum voucher Pp10-2 (USBG) internal transcribed spacer 1, partial sequence; 5.8S ribosomal RNA gene, complete sequence; and internal transcribed spacer 2, partial sequence\n",
        "           Length = 720\n",
        "\n",
        "gi|149940087|gb|EF156113.1| Paphiopedilum x herrmannii voucher KDAIS Pap-115 internal transcribed spacer 1, 5.8S ribosomal RNA gene, and internal transcribed spacer 2, complete sequence\n",
        "           Length = 659\n",
        "\n",
        "gi|442591002|gb|JQ929351.1| Paphiopedilum tigrinum internal transcribed spacer 1, partial sequence; 5.8S ribosomal RNA gene, complete sequence; and internal transcribed spacer 2, partial sequence\n",
        "           Length = 724\n",
        "\n",
        "gi|47776119|emb|AJ564364.1| Paphiopedilum purpuratum ITS1, 5.8S rRNA gene and ITS2, clone pPappt11\n",
        "           Length = 762\n",
        "\n",
        "gi|2765608|emb|Z78483.1| P.villosum 5.8S rRNA gene and ITS1 and ITS2 DNA\n",
        "           Length = 740\n",
        "\n",
        "gi|290578926|gb|GU461602.1| Paphiopedilum tranlienianum internal transcribed spacer 1, partial sequence; 5.8S ribosomal RNA gene, complete sequence; and internal transcribed spacer 2, partial sequence\n",
        "           Length = 659\n",
        "\n",
        "gi|149940085|gb|EF156111.1| Paphiopedilum helenae voucher KDAIS Pap-53 internal transcribed spacer 1, 5.8S ribosomal RNA gene, and internal transcribed spacer 2, complete sequence\n",
        "           Length = 659\n",
        "\n",
        "gi|149940075|gb|EF156101.1| Paphiopedilum exul voucher KDAIS Pap-83 internal transcribed spacer 1, 5.8S ribosomal RNA gene, and internal transcribed spacer 2, complete sequence\n",
        "           Length = 660\n",
        "\n",
        "gi|442590979|gb|JQ929328.1| Paphiopedilum hirsutissimum var. esquirolei internal transcribed spacer 1, partial sequence; 5.8S ribosomal RNA gene, complete sequence; and internal transcribed spacer 2, partial sequence\n",
        "           Length = 724\n",
        "\n",
        "gi|442590978|gb|JQ929327.1| Paphiopedilum hirsutissimum internal transcribed spacer 1, partial sequence; 5.8S ribosomal RNA gene, complete sequence; and internal transcribed spacer 2, partial sequence\n",
        "           Length = 700\n",
        "\n",
        "gi|406869367|gb|JX088547.1| Paphiopedilum hirsutissimum internal transcribed spacer 1, partial sequence; and 5.8S ribosomal RNA gene and internal transcribed spacer 2, complete sequence\n",
        "           Length = 727\n",
        "\n",
        "gi|326662334|gb|HQ998479.1| Paphiopedilum villosum voucher SBB-0659 internal transcribed spacer 1, partial sequence; 5.8S ribosomal RNA gene and internal transcribed spacer 2, complete sequence; and 26S ribosomal RNA gene, partial sequence\n",
        "           Length = 679\n",
        "\n",
        "gi|326662333|gb|HQ998478.1| Paphiopedilum villosum voucher SBB-0658 internal transcribed spacer 1, partial sequence; 5.8S ribosomal RNA gene and internal transcribed spacer 2, complete sequence; and 26S ribosomal RNA gene, partial sequence\n",
        "           Length = 679\n",
        "\n",
        "gi|326662332|gb|HQ998477.1| Paphiopedilum villosum voucher SBB-0657 internal transcribed spacer 1, partial sequence; 5.8S ribosomal RNA gene and internal transcribed spacer 2, complete sequence; and 26S ribosomal RNA gene, partial sequence\n",
        "           Length = 667\n",
        "\n",
        "gi|326662317|gb|HQ998462.1| Paphiopedilum insigne voucher SBB-0496 internal transcribed spacer 1, partial sequence; 5.8S ribosomal RNA gene and internal transcribed spacer 2, complete sequence; and 26S ribosomal RNA gene, partial sequence >gi|326662321|gb|HQ998466.1| Paphiopedilum insigne voucher SBB-0672 internal transcribed spacer 1, partial sequence; 5.8S ribosomal RNA gene and internal transcribed spacer 2, complete sequence; and 26S ribosomal RNA gene, partial sequence\n",
        "           Length = 679\n",
        "\n",
        "gi|295126700|gb|GU993847.1| Paphiopedilum hirsutissimum internal transcribed spacer 1, partial sequence; 5.8S ribosomal RNA gene, complete sequence; and internal transcribed spacer 2, partial sequence\n",
        "           Length = 720\n",
        "\n",
        "gi|149940086|gb|EF156112.1| Paphiopedilum henryanum voucher KDAIS Pap-58 internal transcribed spacer 1, 5.8S ribosomal RNA gene, and internal transcribed spacer 2, complete sequence\n",
        "           Length = 660\n",
        "\n",
        "gi|55274463|gb|AY643445.1| Paphiopedilum henryanum voucher Pp35-1 (Shepherd College, Shepherdstown, WV, USA) internal transcribed spacer 1, partial sequence; 5.8S ribosomal RNA gene, complete sequence; and internal transcribed spacer 2, partial sequence\n",
        "           Length = 736\n",
        "\n",
        "gi|55274460|gb|AY643442.1| Paphiopedilum barbigerum voucher Pp53-1 (USBG) internal transcribed spacer 1, partial sequence; 5.8S ribosomal RNA gene, complete sequence; and internal transcribed spacer 2, partial sequence\n",
        "           Length = 731\n",
        "\n",
        "gi|402502924|gb|JQ660871.1| Paphiopedilum druryi 18S ribosomal RNA gene, partial sequence; and internal transcribed spacer 1, 5.8S ribosomal RNA gene, and internal transcribed spacer 2, complete sequence\n",
        "           Length = 701\n",
        "\n",
        "gi|326662331|gb|HQ998476.1| Paphiopedilum villosum voucher SBB-0493 internal transcribed spacer 1, partial sequence; 5.8S ribosomal RNA gene and internal transcribed spacer 2, complete sequence; and 26S ribosomal RNA gene, partial sequence\n",
        "           Length = 667\n",
        "\n"
       ]
      }
     ],
     "prompt_number": 41
    },
    {
     "cell_type": "markdown",
     "metadata": {},
     "source": [
      "within each hit, we can iterate over the HSPs, using `.hsps`:"
     ]
    },
    {
     "cell_type": "code",
     "collapsed": false,
     "input": [
      "for hit in blast_record.alignments:\n",
      "    print('***********************')\n",
      "    print(hit)\n",
      "    for hsp in hit.hsps:\n",
      "        print(hsp)"
     ],
     "language": "python",
     "metadata": {},
     "outputs": [
      {
       "output_type": "stream",
       "stream": "stdout",
       "text": [
        "***********************\n",
        "gi|2765606|emb|Z78481.1| P.insigne 5.8S rRNA gene and ITS1 and ITS2 DNA\n",
        "           Length = 572\n",
        "\n",
        "Score 620 (560 bits), expectation 5.1e-156, alignment length 310\n",
        "Query:       1 GTTGAGATCACATAATAATTGATCGAGTTAATCTGGAGGATCAGT...ACT 310\n",
        "               |||||||||||||||||||||||||||||||||||||||||||||...|||\n",
        "Sbjct:      42 GTTGAGATCACATAATAATTGATCGAGTTAATCTGGAGGATCAGT...ACT 351\n",
        "***********************\n",
        "gi|2765605|emb|Z78480.1| P.gratrixianum 5.8S rRNA gene and ITS1 and ITS2 DNA\n",
        "           Length = 587\n",
        "\n",
        "Score 558 (504 bits), expectation 3.4e-139, alignment length 326\n",
        "Query:       1 GTTGAGATCACATAATAATTGATCGAGTTAATCTGGAGGATCAGT...ACT 310\n",
        "               |||||||||||||||||||||||||||||||||||||||||||||...|||\n",
        "Sbjct:      42 GTTGAGATCACATAATAATTGATCGAGTTAATCTGGAGGATCAGT...ACT 366\n",
        "***********************\n",
        "gi|402502929|gb|JQ660876.1| Paphiopedilum gratrixianum 18S ribosomal RNA gene, partial sequence; and internal transcribed spacer 1, 5.8S ribosomal RNA gene, and internal transcribed spacer 2, complete sequence\n",
        "           Length = 701\n",
        "\n",
        "Score 478 (432 bits), expectation 1.8e-117, alignment length 246\n",
        "Query:       1 GTTGAGATCACATAATAATTGATCGAGTTAATCTGGAGGATCAGT...GGA 246\n",
        "               |||||||||||||||||||||||||||||||||||||||||||||...|||\n",
        "Sbjct:      42 GTTGAGATCACATAATAATTGATCGAGTTAATCTGGAGGATCAGT...GGA 286\n",
        "Score 130 (118 bits), expectation 5.1e-23, alignment length 65\n",
        "Query:     246 AAGGGCACGCCTGCCTGGGCATTGCGAGTCATATCTCTCCCTTAA...ACT 310\n",
        "               |||||||||||||||||||||||||||||||||||||||||||||...|||\n",
        "Sbjct:     403 AAGGGCACGCCTGCCTGGGCATTGCGAGTCATATCTCTCCCTTAA...ACT 467\n",
        "***********************\n",
        "gi|402502928|gb|JQ660875.1| Paphiopedilum villosum 18S ribosomal RNA gene, partial sequence; and internal transcribed spacer 1, 5.8S ribosomal RNA gene, and internal transcribed spacer 2, complete sequence\n",
        "           Length = 701\n",
        "\n",
        "Score 478 (432 bits), expectation 1.8e-117, alignment length 246\n",
        "Query:       1 GTTGAGATCACATAATAATTGATCGAGTTAATCTGGAGGATCAGT...GGA 246\n",
        "               |||||||||||||||||||||||||||||||||||||||||||||...|||\n",
        "Sbjct:      42 GTTGAGATCACATAATAATTGATCGAGTTAATCTGGAGGATCAGT...GGA 286\n",
        "Score 130 (118 bits), expectation 5.1e-23, alignment length 65\n",
        "Query:     246 AAGGGCACGCCTGCCTGGGCATTGCGAGTCATATCTCTCCCTTAA...ACT 310\n",
        "               |||||||||||||||||||||||||||||||||||||||||||||...|||\n",
        "Sbjct:     403 AAGGGCACGCCTGCCTGGGCATTGCGAGTCATATCTCTCCCTTAA...ACT 467\n",
        "***********************\n",
        "gi|442591005|gb|JQ929354.1| Paphiopedilum villosum var. boxallii internal transcribed spacer 1, partial sequence; 5.8S ribosomal RNA gene, complete sequence; and internal transcribed spacer 2, partial sequence\n",
        "           Length = 723\n",
        "\n",
        "Score 478 (432 bits), expectation 1.8e-117, alignment length 246\n",
        "Query:       1 GTTGAGATCACATAATAATTGATCGAGTTAATCTGGAGGATCAGT...GGA 246\n",
        "               |||||||||||||||||||||||||||||||||||||||||||||...|||\n",
        "Sbjct:      39 GTTGAGATCACATAATAATTGATCGAGTTAATCTGGAGGATCAGT...GGA 283\n",
        "Score 130 (118 bits), expectation 5.1e-23, alignment length 65\n",
        "Query:     246 AAGGGCACGCCTGCCTGGGCATTGCGAGTCATATCTCTCCCTTAA...ACT 310\n",
        "               |||||||||||||||||||||||||||||||||||||||||||||...|||\n",
        "Sbjct:     400 AAGGGCACGCCTGCCTGGGCATTGCGAGTCATATCTCTCCCTTAA...ACT 464\n",
        "***********************\n",
        "gi|442590980|gb|JQ929329.1| Paphiopedilum insigne internal transcribed spacer 1, partial sequence; 5.8S ribosomal RNA gene, complete sequence; and internal transcribed spacer 2, partial sequence\n",
        "           Length = 712\n",
        "\n",
        "Score 478 (432 bits), expectation 1.8e-117, alignment length 246\n",
        "Query:       1 GTTGAGATCACATAATAATTGATCGAGTTAATCTGGAGGATCAGT...GGA 246\n",
        "               |||||||||||||||||||||||||||||||||||||||||||||...|||\n",
        "Sbjct:      39 GTTGAGATCACATAATAATTGATCGAGTTAATCTGGAGGATCAGT...GGA 283\n",
        "Score 130 (118 bits), expectation 5.1e-23, alignment length 65\n",
        "Query:     246 AAGGGCACGCCTGCCTGGGCATTGCGAGTCATATCTCTCCCTTAA...ACT 310\n",
        "               |||||||||||||||||||||||||||||||||||||||||||||...|||\n",
        "Sbjct:     400 AAGGGCACGCCTGCCTGGGCATTGCGAGTCATATCTCTCCCTTAA...ACT 464\n",
        "***********************\n",
        "gi|442590973|gb|JQ929322.1| Paphiopedilum gratrixianum isolate 36809 internal transcribed spacer 1, partial sequence; 5.8S ribosomal RNA gene, complete sequence; and internal transcribed spacer 2, partial sequence >gi|442590974|gb|JQ929323.1| Paphiopedilum gratrixianum isolate 40235 internal transcribed spacer 1, partial sequence; 5.8S ribosomal RNA gene, complete sequence; and internal transcribed spacer 2, partial sequence >gi|442590975|gb|JQ929324.1| Paphiopedilum gratrixianum isolate 40236 internal transcribed spacer 1, partial sequence; 5.8S ribosomal RNA gene, complete sequence; and internal transcribed spacer 2, partial sequence\n",
        "           Length = 723\n",
        "\n",
        "Score 478 (432 bits), expectation 1.8e-117, alignment length 246\n",
        "Query:       1 GTTGAGATCACATAATAATTGATCGAGTTAATCTGGAGGATCAGT...GGA 246\n",
        "               |||||||||||||||||||||||||||||||||||||||||||||...|||\n",
        "Sbjct:      39 GTTGAGATCACATAATAATTGATCGAGTTAATCTGGAGGATCAGT...GGA 283\n",
        "Score 130 (118 bits), expectation 5.1e-23, alignment length 65\n",
        "Query:     246 AAGGGCACGCCTGCCTGGGCATTGCGAGTCATATCTCTCCCTTAA...ACT 310\n",
        "               |||||||||||||||||||||||||||||||||||||||||||||...|||\n",
        "Sbjct:     400 AAGGGCACGCCTGCCTGGGCATTGCGAGTCATATCTCTCCCTTAA...ACT 464\n",
        "***********************\n",
        "gi|406869383|gb|JX088563.1| Paphiopedilum villosum internal transcribed spacer 1, partial sequence; 5.8S ribosomal RNA gene, complete sequence; and internal transcribed spacer 2, partial sequence\n",
        "           Length = 720\n",
        "\n",
        "Score 478 (432 bits), expectation 1.8e-117, alignment length 246\n",
        "Query:       1 GTTGAGATCACATAATAATTGATCGAGTTAATCTGGAGGATCAGT...GGA 246\n",
        "               |||||||||||||||||||||||||||||||||||||||||||||...|||\n",
        "Sbjct:      56 GTTGAGATCACATAATAATTGATCGAGTTAATCTGGAGGATCAGT...GGA 300\n",
        "Score 130 (118 bits), expectation 5.1e-23, alignment length 65\n",
        "Query:     246 AAGGGCACGCCTGCCTGGGCATTGCGAGTCATATCTCTCCCTTAA...ACT 310\n",
        "               |||||||||||||||||||||||||||||||||||||||||||||...|||\n",
        "Sbjct:     417 AAGGGCACGCCTGCCTGGGCATTGCGAGTCATATCTCTCCCTTAA...ACT 481\n",
        "***********************\n",
        "gi|406869369|gb|JX088549.1| Paphiopedilum gratrixianum internal transcribed spacer 1, partial sequence; 5.8S ribosomal RNA gene, complete sequence; and internal transcribed spacer 2, partial sequence\n",
        "           Length = 721\n",
        "\n",
        "Score 478 (432 bits), expectation 1.8e-117, alignment length 246\n",
        "Query:       1 GTTGAGATCACATAATAATTGATCGAGTTAATCTGGAGGATCAGT...GGA 246\n",
        "               |||||||||||||||||||||||||||||||||||||||||||||...|||\n",
        "Sbjct:      55 GTTGAGATCACATAATAATTGATCGAGTTAATCTGGAGGATCAGT...GGA 299\n",
        "Score 130 (118 bits), expectation 5.1e-23, alignment length 65\n",
        "Query:     246 AAGGGCACGCCTGCCTGGGCATTGCGAGTCATATCTCTCCCTTAA...ACT 310\n",
        "               |||||||||||||||||||||||||||||||||||||||||||||...|||\n",
        "Sbjct:     416 AAGGGCACGCCTGCCTGGGCATTGCGAGTCATATCTCTCCCTTAA...ACT 480\n",
        "***********************\n",
        "gi|399220738|gb|JQ904598.1| Paphiopedilum areeanum internal transcribed spacer 1, partial sequence; 5.8S ribosomal RNA gene, complete sequence; and internal transcribed spacer 2, partial sequence\n",
        "           Length = 724\n",
        "\n",
        "Score 478 (432 bits), expectation 1.8e-117, alignment length 246\n",
        "Query:       1 GTTGAGATCACATAATAATTGATCGAGTTAATCTGGAGGATCAGT...GGA 246\n",
        "               |||||||||||||||||||||||||||||||||||||||||||||...|||\n",
        "Sbjct:      54 GTTGAGATCACATAATAATTGATCGAGTTAATCTGGAGGATCAGT...GGA 298\n",
        "Score 130 (118 bits), expectation 5.1e-23, alignment length 65\n",
        "Query:     246 AAGGGCACGCCTGCCTGGGCATTGCGAGTCATATCTCTCCCTTAA...ACT 310\n",
        "               |||||||||||||||||||||||||||||||||||||||||||||...|||\n",
        "Sbjct:     415 AAGGGCACGCCTGCCTGGGCATTGCGAGTCATATCTCTCCCTTAA...ACT 479\n",
        "***********************\n",
        "gi|229609536|gb|FJ899753.1| Paphiopedilum gratrixianum internal transcribed spacer 1, partial sequence; 5.8S ribosomal RNA gene, complete sequence; and internal transcribed spacer 2, partial sequence\n",
        "           Length = 657\n",
        "\n",
        "Score 478 (432 bits), expectation 1.8e-117, alignment length 246\n",
        "Query:       1 GTTGAGATCACATAATAATTGATCGAGTTAATCTGGAGGATCAGT...GGA 246\n",
        "               |||||||||||||||||||||||||||||||||||||||||||||...|||\n",
        "Sbjct:       6 GTTGAGATCACATAATAATTGATCGAGTTAATCTGGAGGATCAGT...GGA 250\n",
        "Score 130 (118 bits), expectation 5.1e-23, alignment length 65\n",
        "Query:     246 AAGGGCACGCCTGCCTGGGCATTGCGAGTCATATCTCTCCCTTAA...ACT 310\n",
        "               |||||||||||||||||||||||||||||||||||||||||||||...|||\n",
        "Sbjct:     367 AAGGGCACGCCTGCCTGGGCATTGCGAGTCATATCTCTCCCTTAA...ACT 431\n",
        "***********************\n",
        "gi|229609535|gb|FJ899752.1| Paphiopedilum sp. ZJL-2009 internal transcribed spacer 1, partial sequence; 5.8S ribosomal RNA gene, complete sequence; and internal transcribed spacer 2, partial sequence\n",
        "           Length = 657\n",
        "\n",
        "Score 478 (432 bits), expectation 1.8e-117, alignment length 246\n",
        "Query:       1 GTTGAGATCACATAATAATTGATCGAGTTAATCTGGAGGATCAGT...GGA 246\n",
        "               |||||||||||||||||||||||||||||||||||||||||||||...|||\n",
        "Sbjct:       5 GTTGAGATCACATAATAATTGATCGAGTTAATCTGGAGGATCAGT...GGA 249\n",
        "Score 130 (118 bits), expectation 5.1e-23, alignment length 65\n",
        "Query:     246 AAGGGCACGCCTGCCTGGGCATTGCGAGTCATATCTCTCCCTTAA...ACT 310\n",
        "               |||||||||||||||||||||||||||||||||||||||||||||...|||\n",
        "Sbjct:     366 AAGGGCACGCCTGCCTGGGCATTGCGAGTCATATCTCTCCCTTAA...ACT 430\n",
        "***********************\n",
        "gi|55274490|gb|AY643472.1| Paphiopedilum gratrixianum voucher Pp79-1 (USBG) internal transcribed spacer 1, partial sequence; 5.8S ribosomal RNA gene, complete sequence; and internal transcribed spacer 2, partial sequence\n",
        "           Length = 700\n",
        "\n",
        "Score 478 (432 bits), expectation 1.8e-117, alignment length 246\n",
        "Query:       1 GTTGAGATCACATAATAATTGATCGAGTTAATCTGGAGGATCAGT...GGA 246\n",
        "               |||||||||||||||||||||||||||||||||||||||||||||...|||\n",
        "Sbjct:      19 GTTGAGATCACATAATAATTGATCGAGTTAATCTGGAGGATCAGT...GGA 263\n",
        "Score 130 (118 bits), expectation 5.1e-23, alignment length 65\n",
        "Query:     246 AAGGGCACGCCTGCCTGGGCATTGCGAGTCATATCTCTCCCTTAA...ACT 310\n",
        "               |||||||||||||||||||||||||||||||||||||||||||||...|||\n",
        "Sbjct:     380 AAGGGCACGCCTGCCTGGGCATTGCGAGTCATATCTCTCCCTTAA...ACT 444\n",
        "***********************\n",
        "gi|55274467|gb|AY643449.1| Paphiopedilum insigne var. sanderae voucher Pp72-2 (USBG) internal transcribed spacer 1, partial sequence; 5.8S ribosomal RNA gene, complete sequence; and internal transcribed spacer 2, partial sequence\n",
        "           Length = 736\n",
        "\n",
        "Score 478 (432 bits), expectation 1.8e-117, alignment length 246\n",
        "Query:       1 GTTGAGATCACATAATAATTGATCGAGTTAATCTGGAGGATCAGT...GGA 246\n",
        "               |||||||||||||||||||||||||||||||||||||||||||||...|||\n",
        "Sbjct:      42 GTTGAGATCACATAATAATTGATCGAGTTAATCTGGAGGATCAGT...GGA 286\n",
        "Score 130 (118 bits), expectation 5.1e-23, alignment length 65\n",
        "Query:     246 AAGGGCACGCCTGCCTGGGCATTGCGAGTCATATCTCTCCCTTAA...ACT 310\n",
        "               |||||||||||||||||||||||||||||||||||||||||||||...|||\n",
        "Sbjct:     403 AAGGGCACGCCTGCCTGGGCATTGCGAGTCATATCTCTCCCTTAA...ACT 467\n",
        "***********************\n",
        "gi|55274466|gb|AY643448.1| Paphiopedilum insigne voucher Pp72-1 (USBG) internal transcribed spacer 1, partial sequence; 5.8S ribosomal RNA gene, complete sequence; and internal transcribed spacer 2, partial sequence\n",
        "           Length = 732\n",
        "\n",
        "Score 478 (432 bits), expectation 1.8e-117, alignment length 246\n",
        "Query:       1 GTTGAGATCACATAATAATTGATCGAGTTAATCTGGAGGATCAGT...GGA 246\n",
        "               |||||||||||||||||||||||||||||||||||||||||||||...|||\n",
        "Sbjct:      38 GTTGAGATCACATAATAATTGATCGAGTTAATCTGGAGGATCAGT...GGA 282\n",
        "Score 130 (118 bits), expectation 5.1e-23, alignment length 65\n",
        "Query:     246 AAGGGCACGCCTGCCTGGGCATTGCGAGTCATATCTCTCCCTTAA...ACT 310\n",
        "               |||||||||||||||||||||||||||||||||||||||||||||...|||\n",
        "Sbjct:     399 AAGGGCACGCCTGCCTGGGCATTGCGAGTCATATCTCTCCCTTAA...ACT 463\n",
        "***********************\n",
        "gi|55274462|gb|AY643444.1| Paphiopedilum hybrid cultivar voucher Pp56-1 (USBG) internal transcribed spacer 1, partial sequence; 5.8S ribosomal RNA gene, complete sequence; and internal transcribed spacer 2, partial sequence\n",
        "           Length = 724\n",
        "\n",
        "Score 478 (432 bits), expectation 1.8e-117, alignment length 246\n",
        "Query:       1 GTTGAGATCACATAATAATTGATCGAGTTAATCTGGAGGATCAGT...GGA 246\n",
        "               |||||||||||||||||||||||||||||||||||||||||||||...|||\n",
        "Sbjct:      34 GTTGAGATCACATAATAATTGATCGAGTTAATCTGGAGGATCAGT...GGA 278\n",
        "Score 130 (118 bits), expectation 5.1e-23, alignment length 65\n",
        "Query:     246 AAGGGCACGCCTGCCTGGGCATTGCGAGTCATATCTCTCCCTTAA...ACT 310\n",
        "               |||||||||||||||||||||||||||||||||||||||||||||...|||\n",
        "Sbjct:     395 AAGGGCACGCCTGCCTGGGCATTGCGAGTCATATCTCTCCCTTAA...ACT 459\n",
        "***********************\n",
        "gi|47776124|emb|AJ564369.1| Paphiopedilum insigne ITS1, 5.8S rRNA gene and ITS2, clone pPaisg16\n",
        "           Length = 761\n",
        "\n",
        "Score 478 (432 bits), expectation 1.8e-117, alignment length 246\n",
        "Query:       1 GTTGAGATCACATAATAATTGATCGAGTTAATCTGGAGGATCAGT...GGA 246\n",
        "               |||||||||||||||||||||||||||||||||||||||||||||...|||\n",
        "Sbjct:      44 GTTGAGATCACATAATAATTGATCGAGTTAATCTGGAGGATCAGT...GGA 288\n",
        "Score 130 (118 bits), expectation 5.1e-23, alignment length 65\n",
        "Query:     246 AAGGGCACGCCTGCCTGGGCATTGCGAGTCATATCTCTCCCTTAA...ACT 310\n",
        "               |||||||||||||||||||||||||||||||||||||||||||||...|||\n",
        "Sbjct:     405 AAGGGCACGCCTGCCTGGGCATTGCGAGTCATATCTCTCCCTTAA...ACT 469\n",
        "***********************\n",
        "gi|295126695|gb|GU993842.1| Paphiopedilum gratrixianum internal transcribed spacer 1, partial sequence; 5.8S ribosomal RNA gene, complete sequence; and internal transcribed spacer 2, partial sequence\n",
        "           Length = 659\n",
        "\n",
        "Score 476 (430 bits), expectation 6.2e-117, alignment length 245\n",
        "Query:       2 TTGAGATCACATAATAATTGATCGAGTTAATCTGGAGGATCAGTT...GGA 246\n",
        "               |||||||||||||||||||||||||||||||||||||||||||||...|||\n",
        "Sbjct:       1 TTGAGATCACATAATAATTGATCGAGTTAATCTGGAGGATCAGTT...GGA 244\n",
        "Score 130 (118 bits), expectation 5.1e-23, alignment length 65\n",
        "Query:     246 AAGGGCACGCCTGCCTGGGCATTGCGAGTCATATCTCTCCCTTAA...ACT 310\n",
        "               |||||||||||||||||||||||||||||||||||||||||||||...|||\n",
        "Sbjct:     361 AAGGGCACGCCTGCCTGGGCATTGCGAGTCATATCTCTCCCTTAA...ACT 425\n",
        "***********************\n",
        "gi|224812679|gb|FJ712268.1| Paphiopedilum villosum clone vnVL1 internal transcribed spacer 1, partial sequence; 5.8S ribosomal RNA gene, complete sequence; and internal transcribed spacer 2, partial sequence >gi|224812680|gb|FJ712269.1| Paphiopedilum villosum clone vnVL2 internal transcribed spacer 1, partial sequence; 5.8S ribosomal RNA gene, complete sequence; and internal transcribed spacer 2, partial sequence >gi|295126704|gb|GU993851.1| Paphiopedilum villosum internal transcribed spacer 1, partial sequence; 5.8S ribosomal RNA gene, complete sequence; and internal transcribed spacer 2, partial sequence\n",
        "           Length = 659\n",
        "\n",
        "Score 476 (430 bits), expectation 6.2e-117, alignment length 245\n",
        "Query:       2 TTGAGATCACATAATAATTGATCGAGTTAATCTGGAGGATCAGTT...GGA 246\n",
        "               |||||||||||||||||||||||||||||||||||||||||||||...|||\n",
        "Sbjct:       1 TTGAGATCACATAATAATTGATCGAGTTAATCTGGAGGATCAGTT...GGA 244\n",
        "Score 130 (118 bits), expectation 5.1e-23, alignment length 65\n",
        "Query:     246 AAGGGCACGCCTGCCTGGGCATTGCGAGTCATATCTCTCCCTTAA...ACT 310\n",
        "               |||||||||||||||||||||||||||||||||||||||||||||...|||\n",
        "Sbjct:     361 AAGGGCACGCCTGCCTGGGCATTGCGAGTCATATCTCTCCCTTAA...ACT 425\n",
        "***********************\n",
        "gi|149940082|gb|EF156108.1| Paphiopedilum gratrixianum voucher KDAIS Pap-128 internal transcribed spacer 1, 5.8S ribosomal RNA gene, and internal transcribed spacer 2, complete sequence\n",
        "           Length = 659\n",
        "\n",
        "Score 476 (430 bits), expectation 6.2e-117, alignment length 245\n",
        "Query:       2 TTGAGATCACATAATAATTGATCGAGTTAATCTGGAGGATCAGTT...GGA 246\n",
        "               |||||||||||||||||||||||||||||||||||||||||||||...|||\n",
        "Sbjct:       1 TTGAGATCACATAATAATTGATCGAGTTAATCTGGAGGATCAGTT...GGA 244\n",
        "Score 130 (118 bits), expectation 5.1e-23, alignment length 65\n",
        "Query:     246 AAGGGCACGCCTGCCTGGGCATTGCGAGTCATATCTCTCCCTTAA...ACT 310\n",
        "               |||||||||||||||||||||||||||||||||||||||||||||...|||\n",
        "Sbjct:     361 AAGGGCACGCCTGCCTGGGCATTGCGAGTCATATCTCTCCCTTAA...ACT 425\n",
        "***********************\n",
        "gi|402502927|gb|JQ660874.1| Paphiopedilum insigne 18S ribosomal RNA gene, partial sequence; and internal transcribed spacer 1, 5.8S ribosomal RNA gene, and internal transcribed spacer 2, complete sequence\n",
        "           Length = 701\n",
        "\n",
        "Score 472 (426 bits), expectation 7.6e-116, alignment length 246\n",
        "Query:       1 GTTGAGATCACATAATAATTGATCGAGTTAATCTGGAGGATCAGT...GGA 246\n",
        "               |||||||||||||||||||||||||||||||||||||||||||||...|||\n",
        "Sbjct:      42 GTTGAGATCACATAATAATTGATCGAGTTAATCTGGAGGATCAGT...GGA 286\n",
        "Score 130 (118 bits), expectation 5.1e-23, alignment length 65\n",
        "Query:     246 AAGGGCACGCCTGCCTGGGCATTGCGAGTCATATCTCTCCCTTAA...ACT 310\n",
        "               |||||||||||||||||||||||||||||||||||||||||||||...|||\n",
        "Sbjct:     403 AAGGGCACGCCTGCCTGGGCATTGCGAGTCATATCTCTCCCTTAA...ACT 467\n",
        "***********************\n",
        "gi|442590961|gb|JQ929310.1| Paphiopedilum charlesworthii internal transcribed spacer 1, partial sequence; 5.8S ribosomal RNA gene, complete sequence; and internal transcribed spacer 2, partial sequence\n",
        "           Length = 723\n",
        "\n",
        "Score 472 (426 bits), expectation 7.6e-116, alignment length 246\n",
        "Query:       1 GTTGAGATCACATAATAATTGATCGAGTTAATCTGGAGGATCAGT...GGA 246\n",
        "               |||||||||||||||||||||||||||||||||||||||||||||...|||\n",
        "Sbjct:      39 GTTGAGATCACATAATAATTGATCGAGTTAATCTGGAGGATCAGT...GGA 283\n",
        "Score 124 (113 bits), expectation 2.2e-21, alignment length 65\n",
        "Query:     246 AAGGGCACGCCTGCCTGGGCATTGCGAGTCATATCTCTCCCTTAA...ACT 310\n",
        "               |||||||||||||||||||||||||||||||||||||||||||||...|||\n",
        "Sbjct:     400 AAGGGCACGCCTGCCTGGGCATTGCGAGTCATATCTCTCCCTTAA...ACT 464\n",
        "***********************\n",
        "gi|406869372|gb|JX088552.1| Paphiopedilum charlesworthii internal transcribed spacer 1, partial sequence; 5.8S ribosomal RNA gene, complete sequence; and internal transcribed spacer 2, partial sequence\n",
        "           Length = 743\n",
        "\n",
        "Score 472 (426 bits), expectation 7.6e-116, alignment length 246\n",
        "Query:       1 GTTGAGATCACATAATAATTGATCGAGTTAATCTGGAGGATCAGT...GGA 246\n",
        "               |||||||||||||||||||||||||||||||||||||||||||||...|||\n",
        "Sbjct:      56 GTTGAGATCACATAATAATTGATCGAGTTAATCTGGAGGATCAGT...GGA 300\n",
        "Score 124 (113 bits), expectation 2.2e-21, alignment length 65\n",
        "Query:     246 AAGGGCACGCCTGCCTGGGCATTGCGAGTCATATCTCTCCCTTAA...ACT 310\n",
        "               |||||||||||||||||||||||||||||||||||||||||||||...|||\n",
        "Sbjct:     417 AAGGGCACGCCTGCCTGGGCATTGCGAGTCATATCTCTCCCTTAA...ACT 481\n",
        "***********************\n",
        "gi|224812678|gb|FJ712267.1| Paphiopedilum tranlienianum clone vnTL internal transcribed spacer 1, partial sequence; 5.8S ribosomal RNA gene, complete sequence; and internal transcribed spacer 2, partial sequence\n",
        "           Length = 659\n",
        "\n",
        "Score 470 (425 bits), expectation 2.6e-115, alignment length 245\n",
        "Query:       2 TTGAGATCACATAATAATTGATCGAGTTAATCTGGAGGATCAGTT...GGA 246\n",
        "               |||||||||||||||||||||||||||||||||||||||||||||...|||\n",
        "Sbjct:       1 TTGAGATCACATAATAATTGATCGAGTTAATCTGGAGGATCAGTT...GGA 244\n",
        "Score 104 (95 bits), expectation 5.9e-16, alignment length 65\n",
        "Query:     246 AAGGGCACGCCTGCCTGGGCATTGCGAGTCATATCTCTCCCTTAA...ACT 310\n",
        "               |||||||||||| | ||||||||||||||||||||| ||||||||...|||\n",
        "Sbjct:     361 AAGGGCACGCCTCCTTGGGCATTGCGAGTCATATCTTTCCCTTAA...ACT 425\n",
        "***********************\n",
        "gi|149940133|gb|EF156159.1| Paphiopedilum villosum voucher KDAIS Pap-36 internal transcribed spacer 1, 5.8S ribosomal RNA gene, and internal transcribed spacer 2, complete sequence\n",
        "           Length = 659\n",
        "\n",
        "Score 470 (425 bits), expectation 2.6e-115, alignment length 245\n",
        "Query:       2 TTGAGATCACATAATAATTGATCGAGTTAATCTGGAGGATCAGTT...GGA 246\n",
        "               |||||||||||||||||||||||||||||||||||||||||||||...|||\n",
        "Sbjct:       1 TTGAGATCACATAATAATTGATCGAGTTAATCTGGAGGATCAGTT...GGA 244\n",
        "Score 124 (113 bits), expectation 2.2e-21, alignment length 65\n",
        "Query:     246 AAGGGCACGCCTGCCTGGGCATTGCGAGTCATATCTCTCCCTTAA...ACT 310\n",
        "               |||||||||||||||||||||||||||||||||||||||||||||...|||\n",
        "Sbjct:     361 AAGGGCACGCCTGCCTGGGCATTGCGAGTCATATCTCTCCCTTAA...ACT 425\n",
        "***********************\n",
        "gi|149940125|gb|EF156151.1| Paphiopedilum tranlienianum voucher KDAIS Pap-42 internal transcribed spacer 1, 5.8S ribosomal RNA gene, and internal transcribed spacer 2, complete sequence\n",
        "           Length = 659\n",
        "\n",
        "Score 470 (425 bits), expectation 2.6e-115, alignment length 245\n",
        "Query:       2 TTGAGATCACATAATAATTGATCGAGTTAATCTGGAGGATCAGTT...GGA 246\n",
        "               |||||||||||||||||||||||||||||||||||||||||||||...|||\n",
        "Sbjct:       1 TTGAGATCACATAATAATTGATCGAGTTAATCTGGAGGATCAGTT...GGA 244\n",
        "Score 124 (113 bits), expectation 2.2e-21, alignment length 65\n",
        "Query:     246 AAGGGCACGCCTGCCTGGGCATTGCGAGTCATATCTCTCCCTTAA...ACT 310\n",
        "               |||||||||||||||||||||||||||||||||||||||||||||...|||\n",
        "Sbjct:     361 AAGGGCACGCCTGCCTGGGCATTGCGAGTCATATCTCTCCCTTAA...ACT 425\n",
        "***********************\n",
        "gi|149940065|gb|EF156091.1| Paphiopedilum charlesworthii voucher KDAIS Pap-90 internal transcribed spacer 1, 5.8S ribosomal RNA gene, and internal transcribed spacer 2, complete sequence\n",
        "           Length = 659\n",
        "\n",
        "Score 470 (425 bits), expectation 2.6e-115, alignment length 245\n",
        "Query:       2 TTGAGATCACATAATAATTGATCGAGTTAATCTGGAGGATCAGTT...GGA 246\n",
        "               |||||||||||||||||||||||||||||||||||||||||||||...|||\n",
        "Sbjct:       1 TTGAGATCACATAATAATTGATCGAGTTAATCTGGAGGATCAGTT...GGA 244\n",
        "Score 124 (113 bits), expectation 2.2e-21, alignment length 65\n",
        "Query:     246 AAGGGCACGCCTGCCTGGGCATTGCGAGTCATATCTCTCCCTTAA...ACT 310\n",
        "               |||||||||||||||||||||||||||||||||||||||||||||...|||\n",
        "Sbjct:     361 AAGGGCACGCCTGCCTGGGCATTGCGAGTCATATCTCTCCCTTAA...ACT 425\n",
        "***********************\n",
        "gi|406869376|gb|JX088556.1| Paphiopedilum tranlienianum internal transcribed spacer 1, partial sequence; 5.8S ribosomal RNA gene, complete sequence; and internal transcribed spacer 2, partial sequence\n",
        "           Length = 728\n",
        "\n",
        "Score 468 (423 bits), expectation 9.2e-115, alignment length 246\n",
        "Query:       1 GTTGAGATCACATAATAATTGATCGAGTTAATCTGGAGGATCAGT...GGA 246\n",
        "               |||||||||||||||||||||||||||||||||||||||||||||...|||\n",
        "Sbjct:      57 GTTGAGATCACATAATAATTGATCGAGTTAATCTGGAGGATCAGT...GGA 301\n",
        "Score 124 (113 bits), expectation 2.2e-21, alignment length 65\n",
        "Query:     246 AAGGGCACGCCTGCCTGGGCATTGCGAGTCATATCTCTCCCTTAA...ACT 310\n",
        "               |||||||||||||||||||||||||||||||||||||||||||||...|||\n",
        "Sbjct:     418 AAGGGCACGCCTGCCTGGGCATTGCGAGTCATATCTCTCCCTTAA...ACT 482\n",
        "***********************\n",
        "gi|406869371|gb|JX088551.1| Paphiopedilum henryanum internal transcribed spacer 1, partial sequence; 5.8S ribosomal RNA gene, complete sequence; and internal transcribed spacer 2, partial sequence\n",
        "           Length = 744\n",
        "\n",
        "Score 468 (423 bits), expectation 9.2e-115, alignment length 246\n",
        "Query:       1 GTTGAGATCACATAATAATTGATCGAGTTAATCTGGAGGATCAGT...GGA 246\n",
        "               |||||||||||||||||||||||||||||||||||||||||||||...|||\n",
        "Sbjct:      58 GTTGAGATCACATAATAATTGATCGAGTTAATCTGGAGGATCAGT...GGA 302\n",
        "Score 124 (113 bits), expectation 2.2e-21, alignment length 65\n",
        "Query:     246 AAGGGCACGCCTGCCTGGGCATTGCGAGTCATATCTCTCCCTTAA...ACT 310\n",
        "               |||||||||||||||||||||||||||||||||||||||||||||...|||\n",
        "Sbjct:     419 AAGGGCACGCCTGCCTGGGCATTGCGAGTCATATCTCTCCCTTAA...ACT 483\n",
        "***********************\n",
        "gi|55274461|gb|AY643443.1| Paphiopedilum fairrieanum voucher Pp10-2 (USBG) internal transcribed spacer 1, partial sequence; 5.8S ribosomal RNA gene, complete sequence; and internal transcribed spacer 2, partial sequence\n",
        "           Length = 720\n",
        "\n",
        "Score 468 (423 bits), expectation 9.2e-115, alignment length 246\n",
        "Query:       1 GTTGAGATCACATAATAATTGATCGAGTTAATCTGGAGGATCAGT...GGA 246\n",
        "               |||||||||||||||||||||||||||||||||||||||||||||...|||\n",
        "Sbjct:      33 GTTGAGATCACATAATAATTGATCGAGTTAATCTGGAGGATCAGT...GGA 277\n",
        "Score 122 (111 bits), expectation 7.6e-21, alignment length 64\n",
        "Query:     246 AAGGGCACGCCTGCCTGGGCATTGCGAGTCATATCTCTCCCTTAA...TAC 309\n",
        "               |||||||||||||||||||||||||||||||||||||||||||||...|||\n",
        "Sbjct:     394 AAGGGCACGCCTGCCTGGGCATTGCGAGTCATATCTCTCCCTTAA...TAC 457\n",
        "***********************\n",
        "gi|149940087|gb|EF156113.1| Paphiopedilum x herrmannii voucher KDAIS Pap-115 internal transcribed spacer 1, 5.8S ribosomal RNA gene, and internal transcribed spacer 2, complete sequence\n",
        "           Length = 659\n",
        "\n",
        "Score 466 (421 bits), expectation 3.2e-114, alignment length 245\n",
        "Query:       2 TTGAGATCACATAATAATTGATCGAGTTAATCTGGAGGATCAGTT...GGA 246\n",
        "               |||||||||||||||||||||||||||||||||||||||||||||...|||\n",
        "Sbjct:       1 TTGAGATCACATAATAATTGATCGAGTTAATCTGGAGGATCAGTT...GGA 244\n",
        "Score 120 (109 bits), expectation 2.7e-20, alignment length 65\n",
        "Query:     246 AAGGGCACGCCTGCCTGGGCATTGCGAGTCATATCTCTCCCTTAA...ACT 310\n",
        "               ||||||||||||||||||||||||||||||||||||||||| |||...|||\n",
        "Sbjct:     361 AAGGGCACGCCTGCCTGGGCATTGCGAGTCATATCTCTCCCCTAA...ACT 425\n",
        "***********************\n",
        "gi|442591002|gb|JQ929351.1| Paphiopedilum tigrinum internal transcribed spacer 1, partial sequence; 5.8S ribosomal RNA gene, complete sequence; and internal transcribed spacer 2, partial sequence\n",
        "           Length = 724\n",
        "\n",
        "Score 462 (417 bits), expectation 3.9e-113, alignment length 246\n",
        "Query:       1 GTTGAGATCACATAATAATTGATCGAGTTAATCTGGAGGATCAGT...GGA 246\n",
        "               |||||||||||  ||||||||||||||||||||||||||||||||...|||\n",
        "Sbjct:      39 GTTGAGATCACGCAATAATTGATCGAGTTAATCTGGAGGATCAGT...GGA 283\n",
        "Score 118 (107 bits), expectation 9.3e-20, alignment length 66\n",
        "Query:     246 AAGGGCACGCCTGCCTGGGCATTGCGAGTCATATCTCTCCCTTAA...ACT 310\n",
        "               |||||||||||||||||||||||||||||||||||||||||||||...|||\n",
        "Sbjct:     400 AAGGGCACGCCTGCCTGGGCATTGCGAGTCATATCTCTCCCTTAA...ACT 465\n",
        "***********************\n",
        "gi|47776119|emb|AJ564364.1| Paphiopedilum purpuratum ITS1, 5.8S rRNA gene and ITS2, clone pPappt11\n",
        "           Length = 762\n",
        "\n",
        "Score 462 (417 bits), expectation 3.9e-113, alignment length 246\n",
        "Query:       1 GTTGAGATCACATAATAATTGATCGAGTTAATCTGGAGGATCAGT...GGA 246\n",
        "               |||||||||||||||||||||||||||||||||||||||||||||...|||\n",
        "Sbjct:      45 GTTGAGATCACATAATAATTGATCGAGTTAATCTGGAGGATCAGT...GGA 289\n",
        "Score 120 (109 bits), expectation 2.7e-20, alignment length 65\n",
        "Query:     246 AAGGGCACGCCTGCCTGGGCATTGCGAGTCATATCTCTCCCTTAA...ACT 310\n",
        "               |||||||||||||||||||||||||||||||||||||||||||||...|||\n",
        "Sbjct:     406 AAGGGCACGCCTGCCTGGGCATTGCGAGTCATATCTCTCCCTTAA...ACT 470\n",
        "***********************\n",
        "gi|2765608|emb|Z78483.1| P.villosum 5.8S rRNA gene and ITS1 and ITS2 DNA\n",
        "           Length = 740\n",
        "\n",
        "Score 462 (417 bits), expectation 3.9e-113, alignment length 248\n",
        "Query:       1 GTTGAGATCACATAATAATTGATCGAGTTAATCTGGAGGATCAGT...GAA 247\n",
        "               |||||||||||||||||||||||||||||||||||||||||||||...|||\n",
        "Sbjct:      42 GTTGAGATCACATAATAATTGATCGAGTTAATCTGGAGGATCAGT...GAA 288\n",
        "Score 126 (114 bits), expectation 6.3e-22, alignment length 63\n",
        "Query:     246 AAGGGCACGCCTGCCTGGGCATTGCGAGTCATATCTCTCCCTTAA...ATA 308\n",
        "               |||||||||||||||||||||||||||||||||||||||||||||...|||\n",
        "Sbjct:     402 AAGGGCACGCCTGCCTGGGCATTGCGAGTCATATCTCTCCCTTAA...ATA 464\n",
        "***********************\n",
        "gi|290578926|gb|GU461602.1| Paphiopedilum tranlienianum internal transcribed spacer 1, partial sequence; 5.8S ribosomal RNA gene, complete sequence; and internal transcribed spacer 2, partial sequence\n",
        "           Length = 659\n",
        "\n",
        "Score 460 (416 bits), expectation 1.4e-112, alignment length 245\n",
        "Query:       2 TTGAGATCACATAATAATTGATCGAGTTAATCTGGAGGATCAGTT...GGA 246\n",
        "               |||||||||||||||||||||||||||||||||||||||||||||...|||\n",
        "Sbjct:       1 TTGAGATCACATAATAATTGATCGAGTTAATCTGGAGGATCAGTT...GGA 244\n",
        "Score 124 (113 bits), expectation 2.2e-21, alignment length 65\n",
        "Query:     246 AAGGGCACGCCTGCCTGGGCATTGCGAGTCATATCTCTCCCTTAA...ACT 310\n",
        "               |||||||||||||||||||||||||||||||||||||||||||||...|||\n",
        "Sbjct:     361 AAGGGCACGCCTGCCTGGGCATTGCGAGTCATATCTCTCCCTTAA...ACT 425\n",
        "***********************\n",
        "gi|149940085|gb|EF156111.1| Paphiopedilum helenae voucher KDAIS Pap-53 internal transcribed spacer 1, 5.8S ribosomal RNA gene, and internal transcribed spacer 2, complete sequence\n",
        "           Length = 659\n",
        "\n",
        "Score 460 (416 bits), expectation 1.4e-112, alignment length 245\n",
        "Query:       2 TTGAGATCACATAATAATTGATCGAGTTAATCTGGAGGATCAGTT...GGA 246\n",
        "               |||||||||||||||||||||||||||||||||||||||||||||...|||\n",
        "Sbjct:       1 TTGAGATCACATAATAATTGATCGAGTTAATCTGGAGGATCAGTT...GGA 244\n",
        "Score 122 (111 bits), expectation 7.6e-21, alignment length 64\n",
        "Query:     246 AAGGGCACGCCTGCCTGGGCATTGCGAGTCATATCTCTCCCTTAA...TAC 309\n",
        "               |||||||||||||||||||||||||||||||||||||||||||||...|||\n",
        "Sbjct:     361 AAGGGCACGCCTGCCTGGGCATTGCGAGTCATATCTCTCCCTTAA...TAC 424\n",
        "***********************\n",
        "gi|149940075|gb|EF156101.1| Paphiopedilum exul voucher KDAIS Pap-83 internal transcribed spacer 1, 5.8S ribosomal RNA gene, and internal transcribed spacer 2, complete sequence\n",
        "           Length = 660\n",
        "\n",
        "Score 460 (416 bits), expectation 1.4e-112, alignment length 245\n",
        "Query:       2 TTGAGATCACATAATAATTGATCGAGTTAATCTGGAGGATCAGTT...GGA 246\n",
        "               |||||||||||||||||||||||||||||||||||||||||||||...|||\n",
        "Sbjct:       1 TTGAGATCACATAATAATTGATCGAGTTAATCTGGAGGATCAGTT...GGA 244\n",
        "Score 124 (113 bits), expectation 2.2e-21, alignment length 65\n",
        "Query:     246 AAGGGCACGCCTGCCTGGGCATTGCGAGTCATATCTCTCCCTTAA...ACT 310\n",
        "               |||||||||||||||||||||||||||||||||||||||||||||...|||\n",
        "Sbjct:     361 AAGGGCACGCCTGCCTGGGCATTGCGAGTCATATCTCTCCCTTAA...ACT 425\n",
        "***********************\n",
        "gi|442590979|gb|JQ929328.1| Paphiopedilum hirsutissimum var. esquirolei internal transcribed spacer 1, partial sequence; 5.8S ribosomal RNA gene, complete sequence; and internal transcribed spacer 2, partial sequence\n",
        "           Length = 724\n",
        "\n",
        "Score 458 (414 bits), expectation 4.8e-112, alignment length 246\n",
        "Query:       1 GTTGAGATCACATAATAATTGATCGAGTTAATCTGGAGGATCAGT...GGA 246\n",
        "               |||||||||||||||||||||||||||||| ||||||||||||||...|||\n",
        "Sbjct:      39 GTTGAGATCACATAATAATTGATCGAGTTACTCTGGAGGATCAGT...GGA 283\n",
        "Score 120 (109 bits), expectation 2.7e-20, alignment length 63\n",
        "Query:     246 AAGGGCACGCCTGCCTGGGCATTGCGAGTCATATCTCTCCCTTAA...ATA 308\n",
        "               |||||||||||||||||||||||||||||||||||||||||||||...|||\n",
        "Sbjct:     400 AAGGGCACGCCTGCCTGGGCATTGCGAGTCATATCTCTCCCTTAA...ATA 462\n",
        "***********************\n",
        "gi|442590978|gb|JQ929327.1| Paphiopedilum hirsutissimum internal transcribed spacer 1, partial sequence; 5.8S ribosomal RNA gene, complete sequence; and internal transcribed spacer 2, partial sequence\n",
        "           Length = 700\n",
        "\n",
        "Score 458 (414 bits), expectation 4.8e-112, alignment length 246\n",
        "Query:       1 GTTGAGATCACATAATAATTGATCGAGTTAATCTGGAGGATCAGT...GGA 246\n",
        "               |||||||||||||||||||||||||||||| ||||||||||||||...|||\n",
        "Sbjct:      39 GTTGAGATCACATAATAATTGATCGAGTTACTCTGGAGGATCAGT...GGA 283\n",
        "Score 120 (109 bits), expectation 2.7e-20, alignment length 63\n",
        "Query:     246 AAGGGCACGCCTGCCTGGGCATTGCGAGTCATATCTCTCCCTTAA...ATA 308\n",
        "               |||||||||||||||||||||||||||||||||||||||||||||...|||\n",
        "Sbjct:     400 AAGGGCACGCCTGCCTGGGCATTGCGAGTCATATCTCTCCCTTAA...ATA 462\n",
        "***********************\n",
        "gi|406869367|gb|JX088547.1| Paphiopedilum hirsutissimum internal transcribed spacer 1, partial sequence; and 5.8S ribosomal RNA gene and internal transcribed spacer 2, complete sequence\n",
        "           Length = 727\n",
        "\n",
        "Score 458 (414 bits), expectation 4.8e-112, alignment length 246\n",
        "Query:       1 GTTGAGATCACATAATAATTGATCGAGTTAATCTGGAGGATCAGT...GGA 246\n",
        "               |||||||||||||||||||||||||||||| ||||||||||||||...|||\n",
        "Sbjct:      57 GTTGAGATCACATAATAATTGATCGAGTTACTCTGGAGGATCAGT...GGA 301\n",
        "Score 120 (109 bits), expectation 2.7e-20, alignment length 63\n",
        "Query:     246 AAGGGCACGCCTGCCTGGGCATTGCGAGTCATATCTCTCCCTTAA...ATA 308\n",
        "               |||||||||||||||||||||||||||||||||||||||||||||...|||\n",
        "Sbjct:     418 AAGGGCACGCCTGCCTGGGCATTGCGAGTCATATCTCTCCCTTAA...ATA 480\n",
        "***********************\n",
        "gi|326662334|gb|HQ998479.1| Paphiopedilum villosum voucher SBB-0659 internal transcribed spacer 1, partial sequence; 5.8S ribosomal RNA gene and internal transcribed spacer 2, complete sequence; and 26S ribosomal RNA gene, partial sequence\n",
        "           Length = 679\n",
        "\n",
        "Score 458 (414 bits), expectation 4.8e-112, alignment length 236\n",
        "Query:      11 CATAATAATTGATCGAGTTAATCTGGAGGATCAGTTTACTTTGGT...GGA 246\n",
        "               |||||||||||||||||||||||||||||||||||||||||||||...|||\n",
        "Sbjct:       1 CATAATAATTGATCGAGTTAATCTGGAGGATCAGTTTACTTTGGT...GGA 235\n",
        "Score 130 (118 bits), expectation 5.1e-23, alignment length 65\n",
        "Query:     246 AAGGGCACGCCTGCCTGGGCATTGCGAGTCATATCTCTCCCTTAA...ACT 310\n",
        "               |||||||||||||||||||||||||||||||||||||||||||||...|||\n",
        "Sbjct:     352 AAGGGCACGCCTGCCTGGGCATTGCGAGTCATATCTCTCCCTTAA...ACT 416\n",
        "***********************\n",
        "gi|326662333|gb|HQ998478.1| Paphiopedilum villosum voucher SBB-0658 internal transcribed spacer 1, partial sequence; 5.8S ribosomal RNA gene and internal transcribed spacer 2, complete sequence; and 26S ribosomal RNA gene, partial sequence\n",
        "           Length = 679\n",
        "\n",
        "Score 458 (414 bits), expectation 4.8e-112, alignment length 236\n",
        "Query:      11 CATAATAATTGATCGAGTTAATCTGGAGGATCAGTTTACTTTGGT...GGA 246\n",
        "               |||||||||||||||||||||||||||||||||||||||||||||...|||\n",
        "Sbjct:       1 CATAATAATTGATCGAGTTAATCTGGAGGATCAGTTTACTTTGGT...GGA 235\n",
        "Score 130 (118 bits), expectation 5.1e-23, alignment length 65\n",
        "Query:     246 AAGGGCACGCCTGCCTGGGCATTGCGAGTCATATCTCTCCCTTAA...ACT 310\n",
        "               |||||||||||||||||||||||||||||||||||||||||||||...|||\n",
        "Sbjct:     352 AAGGGCACGCCTGCCTGGGCATTGCGAGTCATATCTCTCCCTTAA...ACT 416\n",
        "***********************\n",
        "gi|326662332|gb|HQ998477.1| Paphiopedilum villosum voucher SBB-0657 internal transcribed spacer 1, partial sequence; 5.8S ribosomal RNA gene and internal transcribed spacer 2, complete sequence; and 26S ribosomal RNA gene, partial sequence\n",
        "           Length = 667\n",
        "\n",
        "Score 458 (414 bits), expectation 4.8e-112, alignment length 236\n",
        "Query:      11 CATAATAATTGATCGAGTTAATCTGGAGGATCAGTTTACTTTGGT...GGA 246\n",
        "               |||||||||||||||||||||||||||||||||||||||||||||...|||\n",
        "Sbjct:       1 CATAATAATTGATCGAGTTAATCTGGAGGATCAGTTTACTTTGGT...GGA 235\n",
        "Score 130 (118 bits), expectation 5.1e-23, alignment length 65\n",
        "Query:     246 AAGGGCACGCCTGCCTGGGCATTGCGAGTCATATCTCTCCCTTAA...ACT 310\n",
        "               |||||||||||||||||||||||||||||||||||||||||||||...|||\n",
        "Sbjct:     352 AAGGGCACGCCTGCCTGGGCATTGCGAGTCATATCTCTCCCTTAA...ACT 416\n",
        "***********************\n",
        "gi|326662317|gb|HQ998462.1| Paphiopedilum insigne voucher SBB-0496 internal transcribed spacer 1, partial sequence; 5.8S ribosomal RNA gene and internal transcribed spacer 2, complete sequence; and 26S ribosomal RNA gene, partial sequence >gi|326662321|gb|HQ998466.1| Paphiopedilum insigne voucher SBB-0672 internal transcribed spacer 1, partial sequence; 5.8S ribosomal RNA gene and internal transcribed spacer 2, complete sequence; and 26S ribosomal RNA gene, partial sequence\n",
        "           Length = 679\n",
        "\n",
        "Score 458 (414 bits), expectation 4.8e-112, alignment length 236\n",
        "Query:      11 CATAATAATTGATCGAGTTAATCTGGAGGATCAGTTTACTTTGGT...GGA 246\n",
        "               |||||||||||||||||||||||||||||||||||||||||||||...|||\n",
        "Sbjct:       1 CATAATAATTGATCGAGTTAATCTGGAGGATCAGTTTACTTTGGT...GGA 235\n",
        "Score 130 (118 bits), expectation 5.1e-23, alignment length 65\n",
        "Query:     246 AAGGGCACGCCTGCCTGGGCATTGCGAGTCATATCTCTCCCTTAA...ACT 310\n",
        "               |||||||||||||||||||||||||||||||||||||||||||||...|||\n",
        "Sbjct:     352 AAGGGCACGCCTGCCTGGGCATTGCGAGTCATATCTCTCCCTTAA...ACT 416\n",
        "***********************\n",
        "gi|295126700|gb|GU993847.1| Paphiopedilum hirsutissimum internal transcribed spacer 1, partial sequence; 5.8S ribosomal RNA gene, complete sequence; and internal transcribed spacer 2, partial sequence\n",
        "           Length = 720\n",
        "\n",
        "Score 458 (414 bits), expectation 4.8e-112, alignment length 246\n",
        "Query:       1 GTTGAGATCACATAATAATTGATCGAGTTAATCTGGAGGATCAGT...GGA 246\n",
        "               |||||||||||||||||||||||||||||| ||||||||||||||...|||\n",
        "Sbjct:       5 GTTGAGATCACATAATAATTGATCGAGTTACTCTGGAGGATCAGT...GGA 249\n",
        "Score 120 (109 bits), expectation 2.7e-20, alignment length 63\n",
        "Query:     246 AAGGGCACGCCTGCCTGGGCATTGCGAGTCATATCTCTCCCTTAA...ATA 308\n",
        "               |||||||||||||||||||||||||||||||||||||||||||||...|||\n",
        "Sbjct:     366 AAGGGCACGCCTGCCTGGGCATTGCGAGTCATATCTCTCCCTTAA...ATA 428\n",
        "***********************\n",
        "gi|149940086|gb|EF156112.1| Paphiopedilum henryanum voucher KDAIS Pap-58 internal transcribed spacer 1, 5.8S ribosomal RNA gene, and internal transcribed spacer 2, complete sequence\n",
        "           Length = 660\n",
        "\n",
        "Score 458 (414 bits), expectation 4.8e-112, alignment length 246\n",
        "Query:       2 TTGAGATCACATAATAATTGAT-CGAGTTAATCTGGAGGATCAGT...GGA 246\n",
        "               |||||||||||||||||||||| ||||||||||||||||||||||...|||\n",
        "Sbjct:       1 TTGAGATCACATAATAATTGATGCGAGTTAATCTGGAGGATCAGT...GGA 245\n",
        "Score 124 (113 bits), expectation 2.2e-21, alignment length 65\n",
        "Query:     246 AAGGGCACGCCTGCCTGGGCATTGCGAGTCATATCTCTCCCTTAA...ACT 310\n",
        "               |||||||||||||||||||||||||||||||||||||||||||||...|||\n",
        "Sbjct:     362 AAGGGCACGCCTGCCTGGGCATTGCGAGTCATATCTCTCCCTTAA...ACT 426\n",
        "***********************\n",
        "gi|55274463|gb|AY643445.1| Paphiopedilum henryanum voucher Pp35-1 (Shepherd College, Shepherdstown, WV, USA) internal transcribed spacer 1, partial sequence; 5.8S ribosomal RNA gene, complete sequence; and internal transcribed spacer 2, partial sequence\n",
        "           Length = 736\n",
        "\n",
        "Score 458 (414 bits), expectation 4.8e-112, alignment length 246\n",
        "Query:       1 GTTGAGATCACATAATAATTGATCGAGTTAATCTGGAGGATCAGT...GGA 246\n",
        "               |||||||||||||||||||||||||||||||||||||||||||||...|||\n",
        "Sbjct:      41 GTTGAGATCACATAATAATTGATCGAGTTAATCTGGAGGATCAGT...GGA 285\n",
        "Score 122 (111 bits), expectation 7.6e-21, alignment length 64\n",
        "Query:     246 AAGGGCACGCCTGCCTGGGCATTGCGAGTCATATCTCTCCCTTAA...TAC 309\n",
        "               |||||||||||||||||||||||||||||||||||||||||||||...|||\n",
        "Sbjct:     402 AAGGGCACGCCTGCCTGGGCATTGCGAGTCATATCTCTCCCTTAA...TAC 465\n",
        "***********************\n",
        "gi|55274460|gb|AY643442.1| Paphiopedilum barbigerum voucher Pp53-1 (USBG) internal transcribed spacer 1, partial sequence; 5.8S ribosomal RNA gene, complete sequence; and internal transcribed spacer 2, partial sequence\n",
        "           Length = 731\n",
        "\n",
        "Score 458 (414 bits), expectation 4.8e-112, alignment length 248\n",
        "Query:       1 GTTGAGATCACATAATAATTGATCGAGTTAATCTGGAGGATCAGT...GGA 246\n",
        "               |||||||||||||||||||||||||||||||||||||||||||||...|||\n",
        "Sbjct:      33 GTTGAGATCACATAATAATTGATCGAGTTAATCTGGAGGATCAGT...GGA 279\n",
        "Score 122 (111 bits), expectation 7.6e-21, alignment length 65\n",
        "Query:     246 AAGGGCACGCCTGCCTGGGCATTGCGAGTCATATCTCTCCCTTAA...ACT 310\n",
        "               |||||||||||||||||||||||||||||||||||||||||||||...|||\n",
        "Sbjct:     396 AAGGGCACGCCTGCCTGGGCATTGCGAGTCATATCTCTCCCTTAA...ACT 460\n",
        "***********************\n",
        "gi|402502924|gb|JQ660871.1| Paphiopedilum druryi 18S ribosomal RNA gene, partial sequence; and internal transcribed spacer 1, 5.8S ribosomal RNA gene, and internal transcribed spacer 2, complete sequence\n",
        "           Length = 701\n",
        "\n",
        "Score 454 (410 bits), expectation 5.8e-111, alignment length 246\n",
        "Query:       1 GTTGAGATCACATAATAATTGATCGAGTTAATCTGGAGGATCAGT...GGA 246\n",
        "               |||||||||||||||||||||||||||||||||||||||||||||...|||\n",
        "Sbjct:      42 GTTGAGATCACATAATAATTGATCGAGTTAATCTGGAGGATCAGT...GGA 286\n",
        "Score 118 (107 bits), expectation 9.3e-20, alignment length 64\n",
        "Query:     247 AGGGCACGCCTGCCTGGGCATTGCGAGTCATATCTCTCCCTTAAT...ACT 310\n",
        "               ||||||||||||||||||||||||||||||| |||||||||||||...|||\n",
        "Sbjct:     404 AGGGCACGCCTGCCTGGGCATTGCGAGTCATGTCTCTCCCTTAAT...ACT 467\n",
        "***********************\n",
        "gi|326662331|gb|HQ998476.1| Paphiopedilum villosum voucher SBB-0493 internal transcribed spacer 1, partial sequence; 5.8S ribosomal RNA gene and internal transcribed spacer 2, complete sequence; and 26S ribosomal RNA gene, partial sequence\n",
        "           Length = 667\n",
        "\n",
        "Score 454 (410 bits), expectation 5.8e-111, alignment length 236\n",
        "Query:      11 CATAATAATTGATCGAGTTAATCTGGAGGATCAGTTTACTTTGGT...GGA 246\n",
        "               |||||||||||||||||||||||||||||||||||||||||||||...|||\n",
        "Sbjct:       1 CATAATAATTGATCGAGTTAATCTGGAGGATCAGTTTACTTTGGT...GGA 235\n",
        "Score 130 (118 bits), expectation 5.1e-23, alignment length 65\n",
        "Query:     246 AAGGGCACGCCTGCCTGGGCATTGCGAGTCATATCTCTCCCTTAA...ACT 310\n",
        "               |||||||||||||||||||||||||||||||||||||||||||||...|||\n",
        "Sbjct:     352 AAGGGCACGCCTGCCTGGGCATTGCGAGTCATATCTCTCCCTTAA...ACT 416\n"
       ]
      }
     ],
     "prompt_number": 38
    },
    {
     "cell_type": "markdown",
     "metadata": {},
     "source": [
      "HSPs contain lots of useful information, for example, its name, length and E-value.  \n",
      "Let's write a function that will print only matches with E-value smaller than a chosen threshold."
     ]
    },
    {
     "cell_type": "code",
     "collapsed": false,
     "input": [
      "def significant_matches(query,e_value_thresh):\n",
      "    result_handle = NCBIWWW.qblast(\"blastn\", \"nt\", query)\n",
      "    blast_record = NCBIXML.read(result_handle)\n",
      "    for hit in blast_record.alignments:\n",
      "        for hsp in hit.hsps:\n",
      "            if hsp.expect < e_value_thresh:\n",
      "                print(hit.title)\n",
      "                print(hsp.sbjct)\n",
      "                \n",
      "significant_matches(seq,e**(-100))                "
     ],
     "language": "python",
     "metadata": {},
     "outputs": [
      {
       "output_type": "stream",
       "stream": "stdout",
       "text": [
        "gi|2765606|emb|Z78481.1| P.insigne 5.8S rRNA gene and ITS1 and ITS2 DNA\n",
        "GTTGAGATCACATAATAATTGATCGAGTTAATCTGGAGGATCAGTTTACTTTGGTCACCCATGGGCATTTGCTATTGCAGTGACCGAGATTTGCCATCGAGCCTCCTTGGGAGCTTTCTTGCTGGCGATCTAAACCCTAGCCCGGCGCAGTTTTGCGCCAAGTCATATGACACATAATTGGCGAAGGGGGCGGCATGGTGCCTTGACCCTCCCCAAATCATTTTTTTAACAACTCTCAGCAACGGAAGGGCACGCCTGCCTGGGCATTGCGAGTCATATCTCTCCCTTAATGAGGCTGTCCACACATACT\n",
        "gi|2765605|emb|Z78480.1| P.gratrixianum 5.8S rRNA gene and ITS1 and ITS2 DNA\n",
        "GTTGAGATCACATAATAATTGATCGAGTTAATCTGGAGGATCAGTTTACTTTGGTCACCCATGGGCATTTGCTATTGCAGTGACCGAGATTTGCCATCGAGCCTCCTTGGGAGCTTTCTTGCTGGCGATCTAAACCCTAGCCCGGCGCAGTTTTGCGCCAAGTCATATGACACATAATTGGCGAAGGGGGCGGCATGCTGCCTTGACCCTCCCCAAATTA-TTTTTTAACAACTCTCAGCAACGGATAGGCCATCAGGCTAAGGGCACGCCTGCCTGGGCATTGCGAGTCATATCTCTCCCTTCAATGAGGCTGTCCACACATACT\n",
        "gi|402502929|gb|JQ660876.1| Paphiopedilum gratrixianum 18S ribosomal RNA gene, partial sequence; and internal transcribed spacer 1, 5.8S ribosomal RNA gene, and internal transcribed spacer 2, complete sequence\n",
        "GTTGAGATCACATAATAATTGATCGAGTTAATCTGGAGGATCAGTTTACTTTGGTCACCCATGGGCATTTGCTATTGCAGTGACCGAGATTTGCCATCGAGCCTCCTTGGGAGCTTTCTTGCTGGCGATCTAAACCCTAGCCCGGCGCAGTTTTGCGCCAAGTCATATGACACATAATTGGCGAAGGGGGCGGCATGGTGCCTTGACCCTCCCCAAATTA-TTTTTTAACAACTCTCAGCAACGGA\n",
        "gi|402502928|gb|JQ660875.1| Paphiopedilum villosum 18S ribosomal RNA gene, partial sequence; and internal transcribed spacer 1, 5.8S ribosomal RNA gene, and internal transcribed spacer 2, complete sequence\n",
        "GTTGAGATCACATAATAATTGATCGAGTTAATCTGGAGGATCAGTTTACTTTGGTCACCCATGGGCATTTGCTATTGCAGTGACCGAGATTTGCCATCGAGCCTCCTTGGGAGCTTTCTTGCTGGCGATCTAAACCCTAGCCCGGCGCAGTTTTGCGCCAAGTCATATGACACATAATTGGCGAAGGGGGCGGCATGGTGCCTTGACCCTCCCCAAATTA-TTTTTTAACAACTCTCAGCAACGGA\n",
        "gi|442591005|gb|JQ929354.1| Paphiopedilum villosum var. boxallii internal transcribed spacer 1, partial sequence; 5.8S ribosomal RNA gene, complete sequence; and internal transcribed spacer 2, partial sequence\n",
        "GTTGAGATCACATAATAATTGATCGAGTTAATCTGGAGGATCAGTTTACTTTGGTCACCCATGGGCATTTGCTATTGCAGTGACCGAGATTTGCCATCGAGCCTCCTTGGGAGCTTTCTTGCTGGCGATCTAAACCCTAGCCCGGCGCAGTTTTGCGCCAAGTCATATGACACATAATTGGCGAAGGGGGCGGCATGGTGCCTTGACCCTCCCCAAATTA-TTTTTTAACAACTCTCAGCAACGGA\n",
        "gi|442590980|gb|JQ929329.1| Paphiopedilum insigne internal transcribed spacer 1, partial sequence; 5.8S ribosomal RNA gene, complete sequence; and internal transcribed spacer 2, partial sequence\n",
        "GTTGAGATCACATAATAATTGATCGAGTTAATCTGGAGGATCAGTTTACTTTGGTCACCCATGGGCATTTGCTATTGCAGTGACCGAGATTTGCCATCGAGCCTCCTTGGGAGCTTTCTTGCTGGCGATCTAAACCCTAGCCCGGCGCAGTTTTGCGCCAAGTCATATGACACATAATTGGCGAAGGGGGCGGCATGGTGCCTTGACCCTCCCCAAATTA-TTTTTTAACAACTCTCAGCAACGGA\n",
        "gi|442590973|gb|JQ929322.1| Paphiopedilum gratrixianum isolate 36809 internal transcribed spacer 1, partial sequence; 5.8S ribosomal RNA gene, complete sequence; and internal transcribed spacer 2, partial sequence >gi|442590974|gb|JQ929323.1| Paphiopedilum gratrixianum isolate 40235 internal transcribed spacer 1, partial sequence; 5.8S ribosomal RNA gene, complete sequence; and internal transcribed spacer 2, partial sequence >gi|442590975|gb|JQ929324.1| Paphiopedilum gratrixianum isolate 40236 internal transcribed spacer 1, partial sequence; 5.8S ribosomal RNA gene, complete sequence; and internal transcribed spacer 2, partial sequence\n",
        "GTTGAGATCACATAATAATTGATCGAGTTAATCTGGAGGATCAGTTTACTTTGGTCACCCATGGGCATTTGCTATTGCAGTGACCGAGATTTGCCATCGAGCCTCCTTGGGAGCTTTCTTGCTGGCGATCTAAACCCTAGCCCGGCGCAGTTTTGCGCCAAGTCATATGACACATAATTGGCGAAGGGGGCGGCATGGTGCCTTGACCCTCCCCAAATTA-TTTTTTAACAACTCTCAGCAACGGA\n",
        "gi|406869383|gb|JX088563.1| Paphiopedilum villosum internal transcribed spacer 1, partial sequence; 5.8S ribosomal RNA gene, complete sequence; and internal transcribed spacer 2, partial sequence\n",
        "GTTGAGATCACATAATAATTGATCGAGTTAATCTGGAGGATCAGTTTACTTTGGTCACCCATGGGCATTTGCTATTGCAGTGACCGAGATTTGCCATCGAGCCTCCTTGGGAGCTTTCTTGCTGGCGATCTAAACCCTAGCCCGGCGCAGTTTTGCGCCAAGTCATATGACACATAATTGGCGAAGGGGGCGGCATGGTGCCTTGACCCTCCCCAAATTA-TTTTTTAACAACTCTCAGCAACGGA\n",
        "gi|406869369|gb|JX088549.1| Paphiopedilum gratrixianum internal transcribed spacer 1, partial sequence; 5.8S ribosomal RNA gene, complete sequence; and internal transcribed spacer 2, partial sequence\n",
        "GTTGAGATCACATAATAATTGATCGAGTTAATCTGGAGGATCAGTTTACTTTGGTCACCCATGGGCATTTGCTATTGCAGTGACCGAGATTTGCCATCGAGCCTCCTTGGGAGCTTTCTTGCTGGCGATCTAAACCCTAGCCCGGCGCAGTTTTGCGCCAAGTCATATGACACATAATTGGCGAAGGGGGCGGCATGGTGCCTTGACCCTCCCCAAATTA-TTTTTTAACAACTCTCAGCAACGGA\n",
        "gi|399220738|gb|JQ904598.1| Paphiopedilum areeanum internal transcribed spacer 1, partial sequence; 5.8S ribosomal RNA gene, complete sequence; and internal transcribed spacer 2, partial sequence\n",
        "GTTGAGATCACATAATAATTGATCGAGTTAATCTGGAGGATCAGTTTACTTTGGTCACCCATGGGCATTTGCTATTGCAGTGACCGAGATTTGCCATCGAGCCTCCTTGGGAGCTTTCTTGCTGGCGATCTAAACCCTAGCCCGGCGCAGTTTTGCGCCAAGTCATATGACACATAATTGGCGAAGGGGGCGGCATGGTGCCTTGACCCTCCCCAAATTA-TTTTTTAACAACTCTCAGCAACGGA\n",
        "gi|229609536|gb|FJ899753.1| Paphiopedilum gratrixianum internal transcribed spacer 1, partial sequence; 5.8S ribosomal RNA gene, complete sequence; and internal transcribed spacer 2, partial sequence\n",
        "GTTGAGATCACATAATAATTGATCGAGTTAATCTGGAGGATCAGTTTACTTTGGTCACCCATGGGCATTTGCTATTGCAGTGACCGAGATTTGCCATCGAGCCTCCTTGGGAGCTTTCTTGCTGGCGATCTAAACCCTAGCCCGGCGCAGTTTTGCGCCAAGTCATATGACACATAATTGGCGAAGGGGGCGGCATGGTGCCTTGACCCTCCCCAAATTA-TTTTTTAACAACTCTCAGCAACGGA\n",
        "gi|229609535|gb|FJ899752.1| Paphiopedilum sp. ZJL-2009 internal transcribed spacer 1, partial sequence; 5.8S ribosomal RNA gene, complete sequence; and internal transcribed spacer 2, partial sequence\n",
        "GTTGAGATCACATAATAATTGATCGAGTTAATCTGGAGGATCAGTTTACTTTGGTCACCCATGGGCATTTGCTATTGCAGTGACCGAGATTTGCCATCGAGCCTCCTTGGGAGCTTTCTTGCTGGCGATCTAAACCCTAGCCCGGCGCAGTTTTGCGCCAAGTCATATGACACATAATTGGCGAAGGGGGCGGCATGGTGCCTTGACCCTCCCCAAATTA-TTTTTTAACAACTCTCAGCAACGGA\n",
        "gi|55274490|gb|AY643472.1| Paphiopedilum gratrixianum voucher Pp79-1 (USBG) internal transcribed spacer 1, partial sequence; 5.8S ribosomal RNA gene, complete sequence; and internal transcribed spacer 2, partial sequence\n",
        "GTTGAGATCACATAATAATTGATCGAGTTAATCTGGAGGATCAGTTTACTTTGGTCACCCATGGGCATTTGCTATTGCAGTGACCGAGATTTGCCATCGAGCCTCCTTGGGAGCTTTCTTGCTGGCGATCTAAACCCTAGCCCGGCGCAGTTTTGCGCCAAGTCATATGACACATAATTGGCGAAGGGGGCGGCATGGTGCCTTGACCCTCCCCAAATTA-TTTTTTAACAACTCTCAGCAACGGA\n",
        "gi|55274467|gb|AY643449.1| Paphiopedilum insigne var. sanderae voucher Pp72-2 (USBG) internal transcribed spacer 1, partial sequence; 5.8S ribosomal RNA gene, complete sequence; and internal transcribed spacer 2, partial sequence\n",
        "GTTGAGATCACATAATAATTGATCGAGTTAATCTGGAGGATCAGTTTACTTTGGTCACCCATGGGCATTTGCTATTGCAGTGACCGAGATTTGCCATCGAGCCTCCTTGGGAGCTTTCTTGCTGGCGATCTAAACCCTAGCCCGGCGCAGTTTTGCGCCAAGTCATATGACACATAATTGGCGAAGGGGGCGGCATGGTGCCTTGACCCTCCCCAAATTA-TTTTTTAACAACTCTCAGCAACGGA\n",
        "gi|55274466|gb|AY643448.1| Paphiopedilum insigne voucher Pp72-1 (USBG) internal transcribed spacer 1, partial sequence; 5.8S ribosomal RNA gene, complete sequence; and internal transcribed spacer 2, partial sequence\n",
        "GTTGAGATCACATAATAATTGATCGAGTTAATCTGGAGGATCAGTTTACTTTGGTCACCCATGGGCATTTGCTATTGCAGTGACCGAGATTTGCCATCGAGCCTCCTTGGGAGCTTTCTTGCTGGCGATCTAAACCCTAGCCCGGCGCAGTTTTGCGCCAAGTCATATGACACATAATTGGCGAAGGGGGCGGCATGGTGCCTTGACCCTCCCCAAATTA-TTTTTTAACAACTCTCAGCAACGGA\n",
        "gi|55274462|gb|AY643444.1| Paphiopedilum hybrid cultivar voucher Pp56-1 (USBG) internal transcribed spacer 1, partial sequence; 5.8S ribosomal RNA gene, complete sequence; and internal transcribed spacer 2, partial sequence\n",
        "GTTGAGATCACATAATAATTGATCGAGTTAATCTGGAGGATCAGTTTACTTTGGTCACCCATGGGCATTTGCTATTGCAGTGACCGAGATTTGCCATCGAGCCTCCTTGGGAGCTTTCTTGCTGGCGATCTAAACCCTAGCCCGGCGCAGTTTTGCGCCAAGTCATATGACACATAATTGGCGAAGGGGGCGGCATGGTGCCTTGACCCTCCCCAAATTA-TTTTTTAACAACTCTCAGCAACGGA\n",
        "gi|47776124|emb|AJ564369.1| Paphiopedilum insigne ITS1, 5.8S rRNA gene and ITS2, clone pPaisg16\n",
        "GTTGAGATCACATAATAATTGATCGAGTTAATCTGGAGGATCAGTTTACTTTGGTCACCCATGGGCATTTGCTATTGCAGTGACCGAGATTTGCCATCGAGCCTCCTTGGGAGCTTTCTTGCTGGCGATCTAAACCCTAGCCCGGCGCAGTTTTGCGCCAAGTCATATGACACATAATTGGCGAAGGGGGCGGCATGGTGCCTTGACCCTCCCCAAATTA-TTTTTTAACAACTCTCAGCAACGGA\n",
        "gi|295126695|gb|GU993842.1| Paphiopedilum gratrixianum internal transcribed spacer 1, partial sequence; 5.8S ribosomal RNA gene, complete sequence; and internal transcribed spacer 2, partial sequence\n",
        "TTGAGATCACATAATAATTGATCGAGTTAATCTGGAGGATCAGTTTACTTTGGTCACCCATGGGCATTTGCTATTGCAGTGACCGAGATTTGCCATCGAGCCTCCTTGGGAGCTTTCTTGCTGGCGATCTAAACCCTAGCCCGGCGCAGTTTTGCGCCAAGTCATATGACACATAATTGGCGAAGGGGGCGGCATGGTGCCTTGACCCTCCCCAAATTA-TTTTTTAACAACTCTCAGCAACGGA\n",
        "gi|224812679|gb|FJ712268.1| Paphiopedilum villosum clone vnVL1 internal transcribed spacer 1, partial sequence; 5.8S ribosomal RNA gene, complete sequence; and internal transcribed spacer 2, partial sequence >gi|224812680|gb|FJ712269.1| Paphiopedilum villosum clone vnVL2 internal transcribed spacer 1, partial sequence; 5.8S ribosomal RNA gene, complete sequence; and internal transcribed spacer 2, partial sequence >gi|295126704|gb|GU993851.1| Paphiopedilum villosum internal transcribed spacer 1, partial sequence; 5.8S ribosomal RNA gene, complete sequence; and internal transcribed spacer 2, partial sequence\n",
        "TTGAGATCACATAATAATTGATCGAGTTAATCTGGAGGATCAGTTTACTTTGGTCACCCATGGGCATTTGCTATTGCAGTGACCGAGATTTGCCATCGAGCCTCCTTGGGAGCTTTCTTGCTGGCGATCTAAACCCTAGCCCGGCGCAGTTTTGCGCCAAGTCATATGACACATAATTGGCGAAGGGGGCGGCATGGTGCCTTGACCCTCCCCAAATTA-TTTTTTAACAACTCTCAGCAACGGA\n",
        "gi|149940082|gb|EF156108.1| Paphiopedilum gratrixianum voucher KDAIS Pap-128 internal transcribed spacer 1, 5.8S ribosomal RNA gene, and internal transcribed spacer 2, complete sequence\n",
        "TTGAGATCACATAATAATTGATCGAGTTAATCTGGAGGATCAGTTTACTTTGGTCACCCATGGGCATTTGCTATTGCAGTGACCGAGATTTGCCATCGAGCCTCCTTGGGAGCTTTCTTGCTGGCGATCTAAACCCTAGCCCGGCGCAGTTTTGCGCCAAGTCATATGACACATAATTGGCGAAGGGGGCGGCATGGTGCCTTGACCCTCCCCAAATTA-TTTTTTAACAACTCTCAGCAACGGA\n",
        "gi|402502927|gb|JQ660874.1| Paphiopedilum insigne 18S ribosomal RNA gene, partial sequence; and internal transcribed spacer 1, 5.8S ribosomal RNA gene, and internal transcribed spacer 2, complete sequence\n",
        "GTTGAGATCACATAATAATTGATCGAGTTAATCTGGAGGATCAGTTTACTTTGGTCACCCATGGGCATTTGCTATTGCAGTGACCGAGATTTGCCATCGAGCCTCCTTGGGAGCTTTCTTGCTGGCGATCTAAACCCTAACCCGGCGCAGTTTTGCGCCAAGTCATATGACACATAATTGGCGAAGGGGGCGGCATGGTGCCTTGACCCTCCCCAAATTA-TTTTTTAACAACTCTCAGCAACGGA\n",
        "gi|442590961|gb|JQ929310.1| Paphiopedilum charlesworthii internal transcribed spacer 1, partial sequence; 5.8S ribosomal RNA gene, complete sequence; and internal transcribed spacer 2, partial sequence\n",
        "GTTGAGATCACATAATAATTGATCGAGTTAATCTGGAGGATCAGTTTACTTTGGTCACCCATGGGCATTTGCTATTGCAGTGACCGAGATTTGCCATCGAGCCTCCTTGGGAGCTTTCTTGCTGGCGATCTAAACCCTAGCCCGGCGCAGTTTTGCGCCAAGTCATATGACACATAATTGGTGAAGGGGGCGGCATGGTGCCTTGACCCTCCCCAAATTA-TTTTTTAACAACTCTCAGCAACGGA\n",
        "gi|406869372|gb|JX088552.1| Paphiopedilum charlesworthii internal transcribed spacer 1, partial sequence; 5.8S ribosomal RNA gene, complete sequence; and internal transcribed spacer 2, partial sequence\n",
        "GTTGAGATCACATAATAATTGATCGAGTTAATCTGGAGGATCAGTTTACTTTGGTCACCCATGGGCATTTGCTATTGCAGTGACCGAGATTTGCCATCGAGCCTCCTTGGGAGCTTTCTTGCTGGCGATCTAAACCCTAGCCCGGCGCAGTTTTGCGCCAAGTCATATGACACATAATTGGTGAAGGGGGCGGCATGGTGCCTTGACCCTCCCCAAATTA-TTTTTTAACAACTCTCAGCAACGGA\n",
        "gi|224812678|gb|FJ712267.1| Paphiopedilum tranlienianum clone vnTL internal transcribed spacer 1, partial sequence; 5.8S ribosomal RNA gene, complete sequence; and internal transcribed spacer 2, partial sequence\n",
        "TTGAGATCACATAATAATTGATCGAGTTAATCTGGAGGATCAGTTTACTTTGGTCACCCATGGGCATTTGCTATTGCAGTGACCGAGATTTGCCATCGAGCCTCCTTGGGAGCTTTCTTGCTGGCGATCTAAACCCTAGCCCGGCGCAGTTTTGCGCCAAGTCATATGACACATAATTGGTGAAGGGGGCGGCATGGTGCCTTGACCCTCCCCAAATTA-TTTTTTAACAACTCTCAGCAACGGA\n",
        "gi|149940133|gb|EF156159.1| Paphiopedilum villosum voucher KDAIS Pap-36 internal transcribed spacer 1, 5.8S ribosomal RNA gene, and internal transcribed spacer 2, complete sequence\n",
        "TTGAGATCACATAATAATTGATCGAGTTAATCTGGAGGATCAGTTTACTTTGGTCACCCATGGGCATTTGCTATTGCAGTGACCGAGATTTGCCATCGAGCCTCCTTGGGAGCTTTCTTGCTGGCGATCTAAACCCTAGCCCGGCGCAGTTTTGCGCCAAGTCATATGACACATAATTGGTGAAGGGGGCGGCATGGTGCCTTGACCCTCCCCAAATTA-TTTTTTAACAACTCTCAGCAACGGA\n",
        "gi|149940125|gb|EF156151.1| Paphiopedilum tranlienianum voucher KDAIS Pap-42 internal transcribed spacer 1, 5.8S ribosomal RNA gene, and internal transcribed spacer 2, complete sequence\n",
        "TTGAGATCACATAATAATTGATCGAGTTAATCTGGAGGATCAGTTTACTTTGGTCACCCATGGGCATTTGCTATTGCAGTGACCGAGATTTGCCATCGAGCCTCCTTGGGAGCTTTCTTGCTGGCGATCTAAACCCTAGCCCGGCGCAGTTTTGCGCCAAGTCATATGACACATAATTGGTGAAGGGGGCGGCATGGTGCCTTGACCCTCCCCAAATTA-TTTTTTAACAACTCTCAGCAACGGA\n",
        "gi|149940065|gb|EF156091.1| Paphiopedilum charlesworthii voucher KDAIS Pap-90 internal transcribed spacer 1, 5.8S ribosomal RNA gene, and internal transcribed spacer 2, complete sequence\n",
        "TTGAGATCACATAATAATTGATCGAGTTAATCTGGAGGATCAGTTTACTTTGGTCACCCATGGGCATTTGCTATTGCAGTGACCGAGATTTGCCATCGAGCCTCCTTGGGAGCTTTCTTGCTGGCGATCTAAACCCTAGCCCGGCGCAGTTTTGCGCCAAGTCATATGACACATAATTGGTGAAGGGGGCGGCATGGTGCCTTGACCCTCCCCAAATTA-TTTTTTAACAACTCTCAGCAACGGA\n",
        "gi|406869376|gb|JX088556.1| Paphiopedilum tranlienianum internal transcribed spacer 1, partial sequence; 5.8S ribosomal RNA gene, complete sequence; and internal transcribed spacer 2, partial sequence\n",
        "GTTGAGATCACATAATAATTGATCGAGTTAATCTGGAGGATCAGTTTACTTTGGTCACCCATGGGCATTTGCTATTGCAGTGACCGAGATTTGCCATCGAGCCTCCTTGGGAGCTTTCTTGCTGGCGATCTAAACCCTAGCCCGGCGCAGTTTTGCGCCAAGTCATATGACACATAATTGGTGAAGGGTGCGGCATGGTGCCTTGACCCTCCCCAAATTA-TTTTTTAACAACTCTCAGCAACGGA\n",
        "gi|406869371|gb|JX088551.1| Paphiopedilum henryanum internal transcribed spacer 1, partial sequence; 5.8S ribosomal RNA gene, complete sequence; and internal transcribed spacer 2, partial sequence\n",
        "GTTGAGATCACATAATAATTGATCGAGTTAATCTGGAGGATCAGTTTACTTTGGTCACCCATGGGCATTTGCTATTGCAGTGACCGAGATTTGCCATCGAGCCTCCTTGGGAGCTTTCTTGCTGGCGATCTAAACCCTAGCCCGGCGCAGTTTTGCGCCAAGTCATATGACACATAATTGGTGAAGGGTGCGGCATGGTGCCTTGACCCTCCCCAAATTA-TTTTTTAACAACTCTCAGCAACGGA\n",
        "gi|55274461|gb|AY643443.1| Paphiopedilum fairrieanum voucher Pp10-2 (USBG) internal transcribed spacer 1, partial sequence; 5.8S ribosomal RNA gene, complete sequence; and internal transcribed spacer 2, partial sequence\n",
        "GTTGAGATCACATAATAATTGATCGAGTTAATCTGGAGGATCAGTTTACTTTGGTCACCCATGGGCATTTGCTATTGCAGTGACCGAGATTTGCCATCGAGCCTCCTTGGGAGCTTTCTTGCTGGCGATCTAAACCCTAGCCCGGCGCAGTTTTGCGCCAAGTCATATGACACATAATTGGTGAAGGGTGCGGCATGGTGCCTTGACCCTCCCCAAATTA-TTTTTTAACAACTCTCAGCAACGGA\n",
        "gi|149940087|gb|EF156113.1| Paphiopedilum x herrmannii voucher KDAIS Pap-115 internal transcribed spacer 1, 5.8S ribosomal RNA gene, and internal transcribed spacer 2, complete sequence\n",
        "TTGAGATCACATAATAATTGATCGAGTTAATCTGGAGGATCAGTTTACTTTGGTCACCCATGGGCATTTGCTATTGCAGTGACCGAGATTTGCCATCGAGCCTCCTTGGGAGCTTTCTTGCTGGCGATCTAAACCCTAGCCCGGCGCAGTTTTGCGCCAAGTCATATGACACATAATTGGTGAAGGGTGCGGCATGGTGCCTTGACCCTCCCCAAATTA-TTTTTTAACAACTCTCAGCAACGGA\n",
        "gi|442591002|gb|JQ929351.1| Paphiopedilum tigrinum internal transcribed spacer 1, partial sequence; 5.8S ribosomal RNA gene, complete sequence; and internal transcribed spacer 2, partial sequence\n",
        "GTTGAGATCACGCAATAATTGATCGAGTTAATCTGGAGGATCAGTTTACTTTGGTCACCCATGGGCATTTGCTATTGCAGTGACCGAGATTTGCCATCGAGCCTCCTTGGGAGCTTTCTTGCTGGCGATCTAAACCCTAGCCCGGCGCAGTTTTGCGCCAAGTCATATGACACATAATTGGTGAAGGGGGCGGCATGGTGCCTTGACCCTCCCCAAATTA-TTTTTTAACAACTCTCAGCAACGGA\n",
        "gi|47776119|emb|AJ564364.1| Paphiopedilum purpuratum ITS1, 5.8S rRNA gene and ITS2, clone pPappt11\n",
        "GTTGAGATCACATAATAATTGATCGAGTTAATCTGGAGGATCAGTTTACTTTGGTCACTCATGGGCATTTGCTATTGCAGTGACCGAGATTTGCCATCGAGCCTCCTTGGGAGCTTTCTTGCTGGCGATCTAAACCCTAGCCCGGCGCAGTTTTGCGCCAAGTCATATGACACATAATTGGTGAAGGGGGCGGCATGCTGCCTTGACCCTCCCCAAATTA-TTTTTTAACAACTCTCAGCAACGGA\n",
        "gi|2765608|emb|Z78483.1| P.villosum 5.8S rRNA gene and ITS1 and ITS2 DNA\n",
        "GTTGAGATCACATAATAATTGATCGAGTTAATCTGGAGGATCAGTTTACTTTGGTCACCCATGGGCATTTGCTATTGCAGTGACCGAGATTTGCCATCGAGCCTCCTTGGGAGCTTTCTTGCTGGCGATCTAAACCCTAGCCCGGCGCAGTTTTGCGCCAAGTCATATGACACATAATTGGTGAAGGGGGCGGCATGCTGCCTTGACCCTCCCCCAAATTA-TTTTTTAACAACTCTCAGCAACGGAA\n",
        "gi|290578926|gb|GU461602.1| Paphiopedilum tranlienianum internal transcribed spacer 1, partial sequence; 5.8S ribosomal RNA gene, complete sequence; and internal transcribed spacer 2, partial sequence\n",
        "TTGAGATCACATAATAATTGATCGAGTTAATCTGGAGGATCAGTTTACTTTGGTCACTCATGGGCATTTGCTATTGCAGTGACCGAGATTTGCCATCGAGCCTCCTTGGGAGCTTTCTTGCTGGCGATCTAAACCCTAGCCCGGCGCAGTTTTGCGCCAAGTCATATGACACATAATTGGTGAAGGGGGCGGCATGCTGCCTTGACCCTCCCCAAATTA-TTTTTTAACAACTCTCAGCAACGGA\n",
        "gi|149940085|gb|EF156111.1| Paphiopedilum helenae voucher KDAIS Pap-53 internal transcribed spacer 1, 5.8S ribosomal RNA gene, and internal transcribed spacer 2, complete sequence\n",
        "TTGAGATCACATAATAATTGATCGAGTTAATCTGGAGGATCAGTTTACTTTGGTCACCCATGGGCATTTGCTATTGCAGTGACCGAGATTTGCCATCGAGCCTCCTTGGGAGCTTTCTTGCTGGCGATCTAAACCCTAGCCCGGCGCAGTTTTGCGCCAAGTCATATGACACATAATTGGTGAAGGGTGCGGCATGGTGCCTTGACCCTCCCCAAATTA-TTTCTTAACAACTCTCAGCAACGGA\n",
        "gi|149940075|gb|EF156101.1| Paphiopedilum exul voucher KDAIS Pap-83 internal transcribed spacer 1, 5.8S ribosomal RNA gene, and internal transcribed spacer 2, complete sequence\n",
        "TTGAGATCACATAATAATTGATCGAGTTAATCTGGAGGATCAGTTTACTTTGGTCACTCATGGGCATTTGCTATTGCAGTGACCGAGATTTGCCATCGAGCCTCCTTGGGAGCTTTCTTGCTGGCGATCTAAACCCTAGCCCGGCGCAGTTTTGCGCCAAGTCATATGACACATAATTGGTGAAGGGGGCGGCATGCTGCCTTGACCCTCCCCAAATTA-TTTTTTAACAACTCTCAGCAACGGA\n",
        "gi|442590979|gb|JQ929328.1| Paphiopedilum hirsutissimum var. esquirolei internal transcribed spacer 1, partial sequence; 5.8S ribosomal RNA gene, complete sequence; and internal transcribed spacer 2, partial sequence\n",
        "GTTGAGATCACATAATAATTGATCGAGTTACTCTGGAGGATCAGTTTACTTTGGTCACCCATGGGCATTTGCTATTGCAGTGACCGAGATTTGCCATCGAGCCTCCTTGGGAGCTTTCTTGCTGGCGATCTAAACCCTAGCCCGGCGCAGTTTTGCGCCAAGTCATATGACACATAATTGGTGAAGGGGGCGGCATGCTGCCTTTACCCTCCCCAAATTA-TTTTTTAACAACTCTCAGCAACGGA\n",
        "gi|442590978|gb|JQ929327.1| Paphiopedilum hirsutissimum internal transcribed spacer 1, partial sequence; 5.8S ribosomal RNA gene, complete sequence; and internal transcribed spacer 2, partial sequence\n",
        "GTTGAGATCACATAATAATTGATCGAGTTACTCTGGAGGATCAGTTTACTTTGGTCACCCATGGGCATTTGCTATTGCAGTGACCGAGATTTGCCATCGAGCCTCCTTGGGAGCTTTCTTGCTGGCGATCTAAACCCTAGCCCGGCGCAGTTTTGCGCCAAGTCATATGACACATAATTGGTGAAGGGGGCGGCATGCTGCCTTTACCCTCCCCAAATTA-TTTTTTAACAACTCTCAGCAACGGA\n",
        "gi|406869367|gb|JX088547.1| Paphiopedilum hirsutissimum internal transcribed spacer 1, partial sequence; and 5.8S ribosomal RNA gene and internal transcribed spacer 2, complete sequence\n",
        "GTTGAGATCACATAATAATTGATCGAGTTACTCTGGAGGATCAGTTTACTTTGGTCACCCATGGGCATTTGCTATTGCAGTGACCGAGATTTGCCATCGAGCCTCCTTGGGAGCTTTCTTGCTGGCGATCTAAACCCTAGCCCGGCGCAGTTTTGCGCCAAGTCATATGACACATAATTGGTGAAGGGGGCGGCATGCTGCCTTTACCCTCCCCAAATTA-TTTTTTAACAACTCTCAGCAACGGA\n",
        "gi|326662334|gb|HQ998479.1| Paphiopedilum villosum voucher SBB-0659 internal transcribed spacer 1, partial sequence; 5.8S ribosomal RNA gene and internal transcribed spacer 2, complete sequence; and 26S ribosomal RNA gene, partial sequence\n",
        "CATAATAATTGATCGAGTTAATCTGGAGGATCAGTTTACTTTGGTCACCCATGGGCATTTGCTATTGCAGTGACCGAGATTTGCCATCGAGCCTCCTTGGGAGCTTTCTTGCTGGCGATCTAAACCCTAGCCCGGCGCAGTTTTGCGCCAAGTCATATGACACATAATTGGCGAAGGGGGCGGCATGGTGCCTTGACCCTCCCCAAATTA-TTTTTTAACAACTCTCAGCAACGGA\n",
        "gi|326662333|gb|HQ998478.1| Paphiopedilum villosum voucher SBB-0658 internal transcribed spacer 1, partial sequence; 5.8S ribosomal RNA gene and internal transcribed spacer 2, complete sequence; and 26S ribosomal RNA gene, partial sequence\n",
        "CATAATAATTGATCGAGTTAATCTGGAGGATCAGTTTACTTTGGTCACCCATGGGCATTTGCTATTGCAGTGACCGAGATTTGCCATCGAGCCTCCTTGGGAGCTTTCTTGCTGGCGATCTAAACCCTAGCCCGGCGCAGTTTTGCGCCAAGTCATATGACACATAATTGGCGAAGGGGGCGGCATGGTGCCTTGACCCTCCCCAAATTA-TTTTTTAACAACTCTCAGCAACGGA\n",
        "gi|326662332|gb|HQ998477.1| Paphiopedilum villosum voucher SBB-0657 internal transcribed spacer 1, partial sequence; 5.8S ribosomal RNA gene and internal transcribed spacer 2, complete sequence; and 26S ribosomal RNA gene, partial sequence\n",
        "CATAATAATTGATCGAGTTAATCTGGAGGATCAGTTTACTTTGGTCACCCATGGGCATTTGCTATTGCAGTGACCGAGATTTGCCATCGAGCCTCCTTGGGAGCTTTCTTGCTGGCGATCTAAACCCTAGCCCGGCGCAGTTTTGCGCCAAGTCATATGACACATAATTGGCGAAGGGGGCGGCATGGTGCCTTGACCCTCCCCAAATTA-TTTTTTAACAACTCTCAGCAACGGA\n",
        "gi|326662317|gb|HQ998462.1| Paphiopedilum insigne voucher SBB-0496 internal transcribed spacer 1, partial sequence; 5.8S ribosomal RNA gene and internal transcribed spacer 2, complete sequence; and 26S ribosomal RNA gene, partial sequence >gi|326662321|gb|HQ998466.1| Paphiopedilum insigne voucher SBB-0672 internal transcribed spacer 1, partial sequence; 5.8S ribosomal RNA gene and internal transcribed spacer 2, complete sequence; and 26S ribosomal RNA gene, partial sequence\n",
        "CATAATAATTGATCGAGTTAATCTGGAGGATCAGTTTACTTTGGTCACCCATGGGCATTTGCTATTGCAGTGACCGAGATTTGCCATCGAGCCTCCTTGGGAGCTTTCTTGCTGGCGATCTAAACCCTAGCCCGGCGCAGTTTTGCGCCAAGTCATATGACACATAATTGGCGAAGGGGGCGGCATGGTGCCTTGACCCTCCCCAAATTA-TTTTTTAACAACTCTCAGCAACGGA\n",
        "gi|295126700|gb|GU993847.1| Paphiopedilum hirsutissimum internal transcribed spacer 1, partial sequence; 5.8S ribosomal RNA gene, complete sequence; and internal transcribed spacer 2, partial sequence\n",
        "GTTGAGATCACATAATAATTGATCGAGTTACTCTGGAGGATCAGTTTACTTTGGTCACCCATGGGCATTTGCTATTGCAGTGACCGAGATTTGCCATCGAGCCTCCTTGGGAGCTTTCTTGCTGGCGATCTAAACCCTAGCCCGGCGCAGTTTTGCGCCAAGTCATATGACACATAATTGGTGAAGGGGGCGGCATGCTGCCTTTACCCTCCCCAAATTA-TTTTTTAACAACTCTCAGCAACGGA\n",
        "gi|149940086|gb|EF156112.1| Paphiopedilum henryanum voucher KDAIS Pap-58 internal transcribed spacer 1, 5.8S ribosomal RNA gene, and internal transcribed spacer 2, complete sequence\n",
        "TTGAGATCACATAATAATTGATGCGAGTTAATCTGGAGGATCAGTTTACTTTGGTCACCCATGGGCATTTGCTATTGCAGTGACCGAGATTTGCCATCGAGCCTCCTTGGGAGCTTTCTTGCTGGCGATCTAAACCCTAGCCCGGCGCAGTTTTGCGCCAAGTCATATGACACATAATTGGTGAAGGGTGCGGCATGGTGCCTTGACCCTCCCCAAATTA-TTTTTTAACAACTCTCAGCAACGGA\n",
        "gi|55274463|gb|AY643445.1| Paphiopedilum henryanum voucher Pp35-1 (Shepherd College, Shepherdstown, WV, USA) internal transcribed spacer 1, partial sequence; 5.8S ribosomal RNA gene, complete sequence; and internal transcribed spacer 2, partial sequence\n",
        "GTTGAGATCACATAATAATTGATCGAGTTAATCTGGAGGATCAGTTTACTTTGGTCACCCATGGGCATTTGCTATTGCAGTGACCGAGATTTGCCATCGAGCCTCCTTGGGAGCTTTCTTGCTGGCGATCTAAACCCTAGCCCGGCGCAGTTTTGCGCCAAGTCATATGACACATAATTGGTGAAGGGTGTGGCATGGTGCCTTGACCCTCCCCAAATTA-TTTCTTAACAACTCTCAGCAACGGA\n",
        "gi|55274460|gb|AY643442.1| Paphiopedilum barbigerum voucher Pp53-1 (USBG) internal transcribed spacer 1, partial sequence; 5.8S ribosomal RNA gene, complete sequence; and internal transcribed spacer 2, partial sequence\n",
        "GTTGAGATCACATAATAATTGATCGAGTTAATCTGGAGGATCAGTTTACTTTGGTCACCCATGGGCATTTGCTATTGCAGTGACCGAGATTTGCCATCGAGAGCCTCCTTGGGAGCTTTCTTGCTGGCGATCTAAACCCTAGCCCGGCGCAGTTTTGCGCCAAGTCATATGACACATAATTGGTGAAGGGTGCGGCATGGTGCCTTGACCCTCCCCAAATTA-TTTTTTAACAACTCTCAGCAACGGA\n",
        "gi|402502924|gb|JQ660871.1| Paphiopedilum druryi 18S ribosomal RNA gene, partial sequence; and internal transcribed spacer 1, 5.8S ribosomal RNA gene, and internal transcribed spacer 2, complete sequence\n",
        "GTTGAGATCACATAATAATTGATCGAGTTAATCTGGAGGATCAGTTTACTTTGGTCACCCATGGGCATTTGCTATTGCAGTGACCGAGATTTGCCATCGAGCCTCCTTGGGAGCTTTCTTGCTGGCGATCTAAACCCGAGCCCGGCGCAGTTTTGCGCCAAGTCATAYGACACATAATTGGTGAAGGGGGCGGCATGCTGCCTTGACCCTCCCCAGATTA-TTTTTTAACAACTCTCAGCAACGGA\n",
        "gi|326662331|gb|HQ998476.1| Paphiopedilum villosum voucher SBB-0493 internal transcribed spacer 1, partial sequence; 5.8S ribosomal RNA gene and internal transcribed spacer 2, complete sequence; and 26S ribosomal RNA gene, partial sequence\n",
        "CATAATAATTGATCGAGTTAATCTGGAGGATCAGTTTACTTTGGTCACCCATGGGCATTTGCTATTGCAGTGACCGAGATTTGCCATCGAGCCTCCTTGGGAGCTTTCTTGCTGGCGATCTAAACCCTAGCCCGGCGCAGTTTTGCGCCAAGTCATATGACACATAATTGGCGAAGGGGGCGGCATGGTGCCTTGACCCTCCCCAAATTA-TTTTTKAACAACTCTCAGCAACGGA\n"
       ]
      }
     ],
     "prompt_number": 50
    },
    {
     "cell_type": "markdown",
     "metadata": {},
     "source": [
      "## <span style=\"color:blue\">Class exercise 6C</span>"
     ]
    },
    {
     "cell_type": "markdown",
     "metadata": {},
     "source": [
      "Write a function that receives a sequences, runs a standard BLAST search and returns the name of the longest hit (use the `.length` and `.title` commands) "
     ]
    },
    {
     "cell_type": "code",
     "collapsed": false,
     "input": [
      "from Bio.Seq import Seq\n",
      "from Bio.Blast import NCBIWWW, NCBIXML\n",
      "def longest_blast_hit(seq):\n",
      "\n",
      "    \n",
      "    \n",
      "    \n",
      "    \n",
      "    return name\n",
      "\n",
      "assert longest_blast_hit(seq).split('|')[1] == '47776119'"
     ],
     "language": "python",
     "metadata": {},
     "outputs": []
    },
    {
     "cell_type": "markdown",
     "metadata": {},
     "source": [
      "## Fin\n",
      "This notebook is part of the _Python Programming for Life Sciences Graduate Students_ course given in Tel-Aviv University, Spring 2015.\n",
      "\n",
      "The notebook was written using [Python](http://pytho.org/) 3.4.1 and [IPython](http://ipython.org/) 2.1.0 (download from [PyZo](http://www.pyzo.org/downloads.html)).\n",
      "\n",
      "The code is available at https://github.com//Py4Life/TAU2015/blob/master/lecture6.ipynb.\n",
      "\n",
      "The notebook can be viewed online at http://nbviewer.ipython.org/github//Py4Life/TAU2015/blob/master/lecture6.ipynb.\n",
      "\n",
      "This work is licensed under a Creative Commons Attribution-ShareAlike 3.0 Unported License.\n",
      "\n",
      "![Python logo](https://www.python.org/static/community_logos/python-logo.png)"
     ]
    }
   ],
   "metadata": {}
  }
 ]
}