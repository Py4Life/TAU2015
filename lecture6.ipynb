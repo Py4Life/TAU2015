{
 "metadata": {
  "name": "",
  "signature": "sha256:ab45c1949496ab1d8381888528d945c66b61af13d9445220da469db70360b5dd"
 },
 "nbformat": 3,
 "nbformat_minor": 0,
 "worksheets": [
  {
   "cells": [
    {
     "cell_type": "markdown",
     "metadata": {},
     "source": [
      "# Py4Life \n",
      "## Python Programming for Life Sciences Graduate Students, Tel-Aviv University, Spring 2015\n",
      "## Lecture 6 - 29.4.2015\n",
      "### Last update: 17.1.2015\n",
      "\n",
      "This notebook is still a draft."
     ]
    },
    {
     "cell_type": "markdown",
     "metadata": {},
     "source": [
      "## Previously on Py4Life\n",
      "\n",
      "- Modules\n",
      "- Files\n",
      "- Regex"
     ]
    },
    {
     "cell_type": "markdown",
     "metadata": {},
     "source": [
      "## In today's episode\n",
      "\n",
      "- Biopython\n",
      "- Sequence analysis\n",
      "- Sequence data in python\n",
      "- BLAST\n",
      "- _The fungi challenge_"
     ]
    },
    {
     "cell_type": "markdown",
     "metadata": {},
     "source": [
      "## Biopython"
     ]
    },
    {
     "cell_type": "markdown",
     "metadata": {},
     "source": [
      "### What is Biopython?\n",
      "_\"Biopython is a set of freely available tools for biological computation written in Python by an international team of developers.\"_ (from the Biopython [official website](http://biopython.org/wiki/Main_Page)).  \n",
      "Simply put, Biopython is a python package (collection of modules), which includes lots of functions and tools associated with bioinformatics."
     ]
    },
    {
     "cell_type": "markdown",
     "metadata": {},
     "source": [
      "### What's in the Biopython package?\n",
      "* Ready-to-use parsers, dedicated to biological data file formats:\n",
      "    * FASTA\n",
      "    * GenBank\n",
      "    * BLAST output\n",
      "    * Newick\\Nexus phylogenetic trees\n",
      "* Special data types to handle biological data:\n",
      "    * Nucleotide sequences\n",
      "    * Protein sequences\n",
      "    * Protein structure\n",
      "    * Phylogenetic trees\n",
      "* Easy accessibility to biological databases:\n",
      "    * NCBI BLAST\n",
      "    * PubMed\n",
      "    * GenBank\n",
      "    * SwissProt\n",
      "* Bioinformatics tools:\n",
      "    * MSA\n",
      "    * Clustering\n",
      "    * Sequence manipulation\n",
      "And lots of other stuff...\n",
      "We will not cover everything today."
     ]
    },
    {
     "cell_type": "markdown",
     "metadata": {},
     "source": [
      "### Using Biopython\n",
      "In order to use the package, you'll first have to install it.  \n",
      "Once installed, we can import it using:"
     ]
    },
    {
     "cell_type": "code",
     "collapsed": false,
     "input": [
      "import Bio"
     ],
     "language": "python",
     "metadata": {},
     "outputs": [],
     "prompt_number": 3
    },
    {
     "cell_type": "markdown",
     "metadata": {},
     "source": [
      "In practice, we won't usually do that, because this package is _huge_, and we only need certain parts of its functionality. Therefore, we can do:  \n",
      "`from Bio import <module name>`. For example:"
     ]
    },
    {
     "cell_type": "code",
     "collapsed": false,
     "input": [
      "from Bio import SeqIO"
     ],
     "language": "python",
     "metadata": {},
     "outputs": [],
     "prompt_number": 4
    },
    {
     "cell_type": "markdown",
     "metadata": {},
     "source": [
      "### Documentation\n",
      "Biopython has very good and very vast documentation.  \n",
      "A great tutorial is available [here](http://biopython.org/DIST/docs/tutorial/Tutorial.html).  \n",
      "If you need a specific task, you might want to take a look at the ['Cookbook' pages](http://biopython.org/wiki/Category:Cookbook) or the [wiki pages](http://biopython.org/wiki/Category:Wiki_Documentation).  \n",
      "Biopythons online community very active. Join one of the [mailing lists](http://biopython.org/wiki/Mailing_lists) for lots of useful discussions and lots of spam..."
     ]
    },
    {
     "cell_type": "markdown",
     "metadata": {},
     "source": [
      "## The Fungi Challenge"
     ]
    },
    {
     "cell_type": "markdown",
     "metadata": {},
     "source": [
      "## Introducing Sequence objects\n",
      "![biopython](lec6_files/biopython.jpg)"
     ]
    },
    {
     "cell_type": "markdown",
     "metadata": {},
     "source": [
      "So far in this course, we have seen most of the basic data types in Python: str,int,float,list,dict etc. We've also briefly talked about some specialized data types such as the csv reader.  \n",
      "One of the most basic objects in bioinformatics is sequences, an Biopython has a whole mechanism for dealing with sequences. This is done by introducing a new data type, namely a _sequence_ data type.  \n",
      "In principal, we could just use strings to represent biological sequences."
     ]
    },
    {
     "cell_type": "code",
     "collapsed": false,
     "input": [
      "seq = \"AGTACACTGGT\""
     ],
     "language": "python",
     "metadata": {},
     "outputs": [],
     "prompt_number": 6
    },
    {
     "cell_type": "markdown",
     "metadata": {},
     "source": [
      "But Using Biopython's specialized data type, we get much more functionality, novel to sequences, without giving away the string functionality. That's achieved thanks to special _methods_ the the sequence data type (but not the string data type) enables."
     ]
    },
    {
     "cell_type": "markdown",
     "metadata": {},
     "source": [
      "### Creating sequence objects\n",
      "To work with sequence objects, we'll first have to import the relevant module:"
     ]
    },
    {
     "cell_type": "code",
     "collapsed": false,
     "input": [
      "from Bio.Seq import Seq"
     ],
     "language": "python",
     "metadata": {},
     "outputs": [],
     "prompt_number": 7
    },
    {
     "cell_type": "markdown",
     "metadata": {},
     "source": [
      "Now, creating a sequence object is done using `Seq`, with the required sequence string. Like this:"
     ]
    },
    {
     "cell_type": "code",
     "collapsed": false,
     "input": [
      "my_DNA_seq = Seq(\"AGTACACTGGT\")\n",
      "print(type(seq))\n",
      "print(type(my_DNA_seq))"
     ],
     "language": "python",
     "metadata": {},
     "outputs": [
      {
       "output_type": "stream",
       "stream": "stdout",
       "text": [
        "<class 'str'>\n",
        "<class 'Bio.Seq.Seq'>\n"
       ]
      }
     ],
     "prompt_number": 10
    },
    {
     "cell_type": "markdown",
     "metadata": {},
     "source": [
      "We can store amino acid sequences in the same way:"
     ]
    },
    {
     "cell_type": "code",
     "collapsed": false,
     "input": [
      "my_AA_seq = Seq(\"EVRNAK\")\n",
      "print(type(my_AA_seq))"
     ],
     "language": "python",
     "metadata": {},
     "outputs": [
      {
       "output_type": "stream",
       "stream": "stdout",
       "text": [
        "<class 'Bio.Seq.Seq'>\n"
       ]
      }
     ],
     "prompt_number": 13
    },
    {
     "cell_type": "markdown",
     "metadata": {},
     "source": [
      "### What can we do with sequence objects?\n",
      "As we said earlier, sequence objects have all the functionality that strings have. That means that everything that we've done with strings can also be done with sequence objects. Some examples:"
     ]
    },
    {
     "cell_type": "code",
     "collapsed": false,
     "input": [
      "# printing\n",
      "print(my_DNA_seq)\n",
      "# length\n",
      "print(len(my_DNA_seq))\n",
      "# Accessing specific elements\n",
      "print(my_DNA_seq[0])\n",
      "print(my_DNA_seq[7])\n",
      "print(my_DNA_seq[-1])\n",
      "# Slicing\n",
      "print(my_DNA_seq[3:10])"
     ],
     "language": "python",
     "metadata": {},
     "outputs": [
      {
       "output_type": "stream",
       "stream": "stdout",
       "text": [
        "AGTACACTGGT\n",
        "11\n",
        "A\n",
        "T\n",
        "T\n",
        "ACACTGG\n"
       ]
      }
     ],
     "prompt_number": 16
    },
    {
     "cell_type": "markdown",
     "metadata": {},
     "source": [
      "Notice that slicing a sequence object results in another sequence object:"
     ]
    },
    {
     "cell_type": "code",
     "collapsed": false,
     "input": [
      "partial_DNA = my_DNA_seq[3:10]\n",
      "print(type(partial_DNA))"
     ],
     "language": "python",
     "metadata": {},
     "outputs": [
      {
       "output_type": "stream",
       "stream": "stdout",
       "text": [
        "<class 'Bio.Seq.Seq'>\n"
       ]
      }
     ],
     "prompt_number": 17
    },
    {
     "cell_type": "code",
     "collapsed": false,
     "input": [
      "# Sequence concatenation\n",
      "seq1 = Seq(\"AGGCACCATTA\")\n",
      "seq2 = Seq(\"TTACAGGA\")\n",
      "whole_seq = seq1 + seq2\n",
      "print(whole_seq)"
     ],
     "language": "python",
     "metadata": {},
     "outputs": [
      {
       "output_type": "stream",
       "stream": "stdout",
       "text": [
        "AGGCACCATTATTACAGGA\n"
       ]
      }
     ],
     "prompt_number": 19
    },
    {
     "cell_type": "markdown",
     "metadata": {},
     "source": [
      "OK, so here's when it gets interesting: sequence objects have some special and powerful methods. For example, finding the complement and the reverse-complement has never been easier:"
     ]
    },
    {
     "cell_type": "code",
     "collapsed": false,
     "input": [
      "my_DNA_seq = Seq(\"GATCGATGGGCCTATATAGGATCGAAAATCGC\")\n",
      "complement_seq = my_DNA_seq.complement()\n",
      "print(complement_seq)\n",
      "rev_comp_seq = my_DNA_seq.reverse_complement()\n",
      "print(rev_comp_seq)"
     ],
     "language": "python",
     "metadata": {},
     "outputs": [
      {
       "output_type": "stream",
       "stream": "stdout",
       "text": [
        "CTAGCTACCCGGATATATCCTAGCTTTTAGCG\n",
        "GCGATTTTCGATCCTATATAGGCCCATCGATC\n"
       ]
      }
     ],
     "prompt_number": 20
    },
    {
     "cell_type": "markdown",
     "metadata": {},
     "source": [
      "We can transcribe DNA to RNA, which is basically just changing T -> U (assuming that we are using the 'sense' strand)."
     ]
    },
    {
     "cell_type": "code",
     "collapsed": false,
     "input": [
      "coding_DNA = Seq(\"ATGGCCATTGTAATGGGCCGCTGAAAGGGTGCCCGATAG\")\n",
      "mRNA = coding_DNA.transcribe()\n",
      "print(mRNA)"
     ],
     "language": "python",
     "metadata": {},
     "outputs": [
      {
       "output_type": "stream",
       "stream": "stdout",
       "text": [
        "AUGGCCAUUGUAAUGGGCCGCUGAAAGGGUGCCCGAUAG\n"
       ]
      }
     ],
     "prompt_number": 23
    },
    {
     "cell_type": "markdown",
     "metadata": {},
     "source": [
      "And also translate to protein sequence, either from RNA or straight from coding (sense) DNA:"
     ]
    },
    {
     "cell_type": "code",
     "collapsed": false,
     "input": [
      "peptide = mRNA.translate()\n",
      "print(peptide)"
     ],
     "language": "python",
     "metadata": {},
     "outputs": [
      {
       "output_type": "stream",
       "stream": "stdout",
       "text": [
        "MAIVMGR*KGAR*\n"
       ]
      }
     ],
     "prompt_number": 24
    },
    {
     "cell_type": "markdown",
     "metadata": {},
     "source": [
      "## <span style=\"color:blue\">Class exercise 6A</span>"
     ]
    },
    {
     "cell_type": "markdown",
     "metadata": {},
     "source": [
      "Write a function that receives __antisense__ DNA, as a __string__ and returns it's translation, as a __sequence object__. Test your code on the given string sequence (displayed 3' to 5')."
     ]
    },
    {
     "cell_type": "code",
     "collapsed": false,
     "input": [
      "def antisense_string_to_protein_seq(DNA_string):\n",
      "    \n",
      "    \n",
      "    return prot_seq\n",
      "\n",
      "antisense_DNA = \"TACCGGTAACATTACCCGGCGACTTTCCCACGGGCTATC\"\n",
      "protein = antisense_string_to_protein_seq(antisense_DNA)\n",
      "print(protein)\n",
      "print(type(protein))"
     ],
     "language": "python",
     "metadata": {},
     "outputs": []
    },
    {
     "cell_type": "markdown",
     "metadata": {},
     "source": [
      "## Advancing to sequence record objects\n",
      "Representing sequences is great, but sometimes we want to associate more information with the sequence object, such as the gene name, references, organism and general descriptions. To do that, we move from simple sequence objects to more complex ones, called _Sequence record_ objects.  \n",
      "To better understand the idea of sequence records, lets take a look at the GenBank record for the MatK gene of Oryza sativa (rice)."
     ]
    },
    {
     "cell_type": "code",
     "collapsed": false,
     "input": [
      "from IPython.display import HTML\n",
      "HTML('<iframe src=http://www.ncbi.nlm.nih.gov/nuccore/JN114766.1 width=700 height=350></iframe>')"
     ],
     "language": "python",
     "metadata": {},
     "outputs": [
      {
       "html": [
        "<iframe src=http://www.ncbi.nlm.nih.gov/nuccore/JN114766.1 width=700 height=350></iframe>"
       ],
       "metadata": {},
       "output_type": "pyout",
       "prompt_number": 23,
       "text": [
        "<IPython.core.display.HTML at 0x7266e48>"
       ]
      }
     ],
     "prompt_number": 23
    },
    {
     "cell_type": "markdown",
     "metadata": {},
     "source": [
      "### "
     ]
    },
    {
     "cell_type": "markdown",
     "metadata": {},
     "source": [
      "Notice that there are lots of additional data besides the sequence itself. So a sequence record object is basically just a sequence object, associaated to some other simple data fields."
     ]
    },
    {
     "cell_type": "markdown",
     "metadata": {},
     "source": [
      "### Creating sequence record objects\n",
      "In principal, we can create sequence record objects 'from scratch', like we did with simple sequence objects. However, in practice this is rarely used. Instead, we usually get sequence record objects from data parsers. For example, here we get the GenBank record shown above as a sequence record object."
     ]
    },
    {
     "cell_type": "code",
     "collapsed": false,
     "input": [
      "from Bio import Entrez\n",
      "from Bio import SeqIO\n",
      "handle = Entrez.efetch(db=\"nucleotide\", rettype=\"gb\", retmode=\"text\", id=\"387865390\")\n",
      "O_sativa_matK = SeqIO.read(handle, \"gb\")\n",
      "handle.close()\n",
      "print(type(O_sativa_matK))"
     ],
     "language": "python",
     "metadata": {},
     "outputs": [
      {
       "output_type": "stream",
       "stream": "stdout",
       "text": [
        "<class 'Bio.SeqRecord.SeqRecord'>\n"
       ]
      }
     ],
     "prompt_number": 6
    },
    {
     "cell_type": "markdown",
     "metadata": {},
     "source": [
      "We'll soon learn to use the SeqIO and Entrez modules, but for now let's just look at what we can do with the object we got.  \n",
      "A sequence record object contains some data fields which we can extract by calling their names.  \n",
      "The most basic is the sequence itself, which is called using `.seq`:"
     ]
    },
    {
     "cell_type": "code",
     "collapsed": false,
     "input": [
      "sequence = O_sativa_matK.seq\n",
      "print(sequence)\n",
      "print(type(sequence))"
     ],
     "language": "python",
     "metadata": {},
     "outputs": [
      {
       "output_type": "stream",
       "stream": "stdout",
       "text": [
        "ATCCTTGCATTTATTGCGATTCTTTCTCAACTACTACTCGAATTGGAATAGTTTTATTACTTCAATGAAATCCATTTTTATTTTGAAAAAAGAAAATAAAAGACTATTTCGGTTCCTATATAACTCTTATGTATCAGAATATGAATTTTTCTTGTTGTTTCTTCGTAAACAATCTTCTTGCTTGCGATTAACTTCTTCCGGAACCTTTCTGGAACGAATCATCTTTTCTAGGAAGATGGAACATTTTGGGTTAATGTACCCTGCTTTTTTTCGGAAAACCATATGGTTCGTTATGGATCCCCTTATGCATTATGTTCGATATCAAGGAAAGGCAATTCTTGCATCAAAAGGAACTCTTCTTTTGAAGAAGAAATGGAAATGTTACCTTGTCCGTTTGTGGCAATATTCTTTCTCTTTTTGGACTCAACCGCAAAGGATCCATCTAAACCAATTAGAAAACTCTTGCTTCGATTTTCTGGGGTACTTTTCAAGTGTACCAATAAATTCTTTGTTAGTAAGGAATCAAATGCTGGAGAATTCATTTCTAATAGATACTCAAATGAAAAAATTCGATACCAAAGTCCCTGTTACTCCTCTCATTGGATCTTTAGCAAAAGCCCAATTTTGTACTGGATCGGGGCATCCTATTAGTAAACCAATTTGGACCGATTTATCGGATTGGGATATTCTTGATCGGTTTGGTCGGATATGTAGAAATCTTTTTCATTATCA\n",
        "<class 'Bio.Seq.Seq'>\n"
       ]
      }
     ],
     "prompt_number": 7
    },
    {
     "cell_type": "markdown",
     "metadata": {},
     "source": [
      "Note that we got a sequence object, not just a string.  \n",
      "Some other basic data fields of the sequence record object are the _id, name_ and _description_:"
     ]
    },
    {
     "cell_type": "code",
     "collapsed": false,
     "input": [
      "print(O_sativa_matK.id)\n",
      "print(O_sativa_matK.name)\n",
      "print(O_sativa_matK.description)"
     ],
     "language": "python",
     "metadata": {},
     "outputs": [
      {
       "output_type": "stream",
       "stream": "stdout",
       "text": [
        "JN114766.1\n",
        "JN114766\n",
        "Oryza sativa voucher SBB-1148 maturase K (matK) gene, partial cds; chloroplast.\n"
       ]
      }
     ],
     "prompt_number": 8
    },
    {
     "cell_type": "markdown",
     "metadata": {},
     "source": [
      "There are a couple of other data fields, but we will only look at one. The _annotations_ field contains more general information about the sequence. In fact, it's a dictionary where the keys are the names of the information and the values are the actual information. For example:"
     ]
    },
    {
     "cell_type": "code",
     "collapsed": false,
     "input": [
      "# get the organism\n",
      "print(O_sativa_matK.annotations['organism'])\n",
      "# get the DNA source\n",
      "print(O_sativa_matK.annotations['source'])\n",
      "# get date of submission\n",
      "print(O_sativa_matK.annotations['date'])"
     ],
     "language": "python",
     "metadata": {},
     "outputs": [
      {
       "output_type": "stream",
       "stream": "stdout",
       "text": [
        "Oryza sativa\n",
        "chloroplast Oryza sativa (rice)\n",
        "21-MAY-2013\n"
       ]
      }
     ],
     "prompt_number": 9
    },
    {
     "cell_type": "markdown",
     "metadata": {},
     "source": [
      "## Sequence I/O"
     ]
    },
    {
     "cell_type": "markdown",
     "metadata": {},
     "source": [
      "The SeqIO module is the easiest way to deal with sequences. It's a wrapper for the Seq and SeqRecord (and other) modules and lets us manage, manipulate, read and write sequence data without doing any parsing.  \n",
      "As usual, we'll start by importing the module:"
     ]
    },
    {
     "cell_type": "code",
     "collapsed": false,
     "input": [
      "from Bio import SeqIO"
     ],
     "language": "python",
     "metadata": {},
     "outputs": [],
     "prompt_number": 10
    },
    {
     "cell_type": "markdown",
     "metadata": {},
     "source": [
      "### Reading sequence files"
     ]
    },
    {
     "cell_type": "markdown",
     "metadata": {},
     "source": [
      "The file _Orchids.fasta_ contains multiple DNA sequences of Orchids, stored in the FASTA format. In lesson 4 we wrote our own function for parsing fasta files, but the SeqIO module has its own parsers, which we'll learn how to use.\n",
      "The most useful function within the SeqIO module is `SeqIO.parse()`. This function is used to read files including sequence data in one of the standard formats."
     ]
    },
    {
     "cell_type": "code",
     "collapsed": false,
     "input": [
      "fasta_handle = SeqIO.parse('lec6_files/Orchids.fasta','fasta')"
     ],
     "language": "python",
     "metadata": {},
     "outputs": [],
     "prompt_number": 11
    },
    {
     "cell_type": "markdown",
     "metadata": {},
     "source": [
      "The function expects two parameters: a file path and a string specifying the file format (a full list of supported formats available [here](http://biopython.org/wiki/SeqIO). It returns a handle which lets us read the file. Once we have the handle, we can use it to iterate over the sequences in the file, using a simple `for` loop:"
     ]
    },
    {
     "cell_type": "code",
     "collapsed": false,
     "input": [
      "for seq_record in fasta_handle:\n",
      "    print(seq_record.id,len(seq_record))"
     ],
     "language": "python",
     "metadata": {},
     "outputs": [
      {
       "output_type": "stream",
       "stream": "stdout",
       "text": [
        "gi|2765658|emb|Z78533.1|CIZ78533 740\n",
        "gi|2765657|emb|Z78532.1|CCZ78532 753\n",
        "gi|2765656|emb|Z78531.1|CFZ78531 748\n",
        "gi|2765655|emb|Z78530.1|CMZ78530 744\n",
        "gi|2765654|emb|Z78529.1|CLZ78529 733\n",
        "gi|2765652|emb|Z78527.1|CYZ78527 718\n",
        "gi|2765651|emb|Z78526.1|CGZ78526 730\n",
        "gi|2765650|emb|Z78525.1|CAZ78525 704\n",
        "gi|2765649|emb|Z78524.1|CFZ78524 740\n",
        "gi|2765648|emb|Z78523.1|CHZ78523 709\n",
        "gi|2765647|emb|Z78522.1|CMZ78522 700\n",
        "gi|2765646|emb|Z78521.1|CCZ78521 726\n",
        "gi|2765645|emb|Z78520.1|CSZ78520 753\n",
        "gi|2765644|emb|Z78519.1|CPZ78519 699\n",
        "gi|2765643|emb|Z78518.1|CRZ78518 658\n",
        "gi|2765642|emb|Z78517.1|CFZ78517 752\n",
        "gi|2765641|emb|Z78516.1|CPZ78516 726\n",
        "gi|2765640|emb|Z78515.1|MXZ78515 765\n",
        "gi|2765639|emb|Z78514.1|PSZ78514 755\n",
        "gi|2765638|emb|Z78513.1|PBZ78513 742\n",
        "gi|2765637|emb|Z78512.1|PWZ78512 762\n",
        "gi|2765636|emb|Z78511.1|PEZ78511 745\n",
        "gi|2765635|emb|Z78510.1|PCZ78510 750\n",
        "gi|2765634|emb|Z78509.1|PPZ78509 731\n",
        "gi|2765633|emb|Z78508.1|PLZ78508 741\n",
        "gi|2765632|emb|Z78507.1|PLZ78507 740\n",
        "gi|2765631|emb|Z78506.1|PLZ78506 727\n",
        "gi|2765630|emb|Z78505.1|PSZ78505 711\n",
        "gi|2765629|emb|Z78504.1|PKZ78504 743\n",
        "gi|2765628|emb|Z78503.1|PCZ78503 727\n",
        "gi|2765627|emb|Z78502.1|PBZ78502 757\n",
        "gi|2765626|emb|Z78501.1|PCZ78501 770\n",
        "gi|2765625|emb|Z78500.1|PWZ78500 767\n",
        "gi|2765624|emb|Z78499.1|PMZ78499 759\n",
        "gi|2765623|emb|Z78498.1|PMZ78498 750\n",
        "gi|2765622|emb|Z78497.1|PDZ78497 788\n",
        "gi|2765621|emb|Z78496.1|PAZ78496 774\n",
        "gi|2765620|emb|Z78495.1|PEZ78495 789\n",
        "gi|2765619|emb|Z78494.1|PNZ78494 688\n",
        "gi|2765618|emb|Z78493.1|PGZ78493 719\n",
        "gi|2765617|emb|Z78492.1|PBZ78492 743\n",
        "gi|2765616|emb|Z78491.1|PCZ78491 737\n",
        "gi|2765615|emb|Z78490.1|PFZ78490 728\n",
        "gi|2765614|emb|Z78489.1|PDZ78489 740\n",
        "gi|2765613|emb|Z78488.1|PTZ78488 696\n",
        "gi|2765612|emb|Z78487.1|PHZ78487 732\n",
        "gi|2765611|emb|Z78486.1|PBZ78486 731\n",
        "gi|2765610|emb|Z78485.1|PHZ78485 735\n",
        "gi|2765609|emb|Z78484.1|PCZ78484 720\n",
        "gi|2765608|emb|Z78483.1|PVZ78483 740\n",
        "gi|2765607|emb|Z78482.1|PEZ78482 629\n",
        "gi|2765606|emb|Z78481.1|PIZ78481 572\n",
        "gi|2765605|emb|Z78480.1|PGZ78480 587\n",
        "gi|2765604|emb|Z78479.1|PPZ78479 700\n",
        "gi|2765603|emb|Z78478.1|PVZ78478 636\n",
        "gi|2765602|emb|Z78477.1|PVZ78477 716\n",
        "gi|2765601|emb|Z78476.1|PGZ78476 592\n",
        "gi|2765600|emb|Z78475.1|PSZ78475 716\n",
        "gi|2765599|emb|Z78474.1|PKZ78474 733\n",
        "gi|2765598|emb|Z78473.1|PSZ78473 626\n",
        "gi|2765597|emb|Z78472.1|PLZ78472 737\n",
        "gi|2765596|emb|Z78471.1|PDZ78471 740\n",
        "gi|2765595|emb|Z78470.1|PPZ78470 574\n",
        "gi|2765594|emb|Z78469.1|PHZ78469 594\n",
        "gi|2765593|emb|Z78468.1|PAZ78468 610\n",
        "gi|2765592|emb|Z78467.1|PSZ78467 730\n",
        "gi|2765591|emb|Z78466.1|PPZ78466 641\n",
        "gi|2765590|emb|Z78465.1|PRZ78465 702\n",
        "gi|2765589|emb|Z78464.1|PGZ78464 733\n",
        "gi|2765588|emb|Z78463.1|PGZ78463 738\n",
        "gi|2765587|emb|Z78462.1|PSZ78462 736\n",
        "gi|2765586|emb|Z78461.1|PWZ78461 732\n",
        "gi|2765585|emb|Z78460.1|PCZ78460 745\n",
        "gi|2765584|emb|Z78459.1|PDZ78459 744\n",
        "gi|2765583|emb|Z78458.1|PHZ78458 738\n",
        "gi|2765582|emb|Z78457.1|PCZ78457 739\n",
        "gi|2765581|emb|Z78456.1|PTZ78456 740\n",
        "gi|2765580|emb|Z78455.1|PJZ78455 745\n",
        "gi|2765579|emb|Z78454.1|PFZ78454 695\n",
        "gi|2765578|emb|Z78453.1|PSZ78453 745\n",
        "gi|2765577|emb|Z78452.1|PBZ78452 743\n",
        "gi|2765576|emb|Z78451.1|PHZ78451 730\n",
        "gi|2765575|emb|Z78450.1|PPZ78450 706\n",
        "gi|2765574|emb|Z78449.1|PMZ78449 744\n",
        "gi|2765573|emb|Z78448.1|PAZ78448 742\n",
        "gi|2765572|emb|Z78447.1|PVZ78447 694\n",
        "gi|2765571|emb|Z78446.1|PAZ78446 712\n",
        "gi|2765570|emb|Z78445.1|PUZ78445 715\n",
        "gi|2765569|emb|Z78444.1|PAZ78444 688\n",
        "gi|2765568|emb|Z78443.1|PLZ78443 784\n",
        "gi|2765567|emb|Z78442.1|PBZ78442 721\n",
        "gi|2765566|emb|Z78441.1|PSZ78441 703\n",
        "gi|2765565|emb|Z78440.1|PPZ78440 744\n",
        "gi|2765564|emb|Z78439.1|PBZ78439 592\n"
       ]
      }
     ],
     "prompt_number": 12
    },
    {
     "cell_type": "markdown",
     "metadata": {},
     "source": [
      "As you can see, each iteration of the loop yields a SeqRecord object, which we can treat as we did in the previous section. For example, here we extracted the _id_ and the length of each sequence."
     ]
    },
    {
     "cell_type": "markdown",
     "metadata": {},
     "source": [
      "Similarly, we can parse a GenBank format file with the same function. All we have to do is replace the _'fasta'_ string with _'genbank'_. We'll also do it in a more elegant, one-step code:"
     ]
    },
    {
     "cell_type": "code",
     "collapsed": false,
     "input": [
      "for seq_record in SeqIO.parse('lec6_files/Orchids.gbk','genbank'):\n",
      "    print(seq_record.id,len(seq_record))"
     ],
     "language": "python",
     "metadata": {},
     "outputs": [
      {
       "output_type": "stream",
       "stream": "stdout",
       "text": [
        "Z78533.1 740\n",
        "Z78532.1 753\n",
        "Z78531.1 748\n",
        "Z78530.1 744\n",
        "Z78529.1 733\n",
        "Z78527.1 718\n",
        "Z78526.1 730\n",
        "Z78525.1 704\n",
        "Z78524.1 740\n",
        "Z78523.1 709\n",
        "Z78522.1 700\n",
        "Z78521.1 726\n",
        "Z78520.1 753\n",
        "Z78519.1 699\n",
        "Z78518.1 658\n",
        "Z78517.1 752\n",
        "Z78516.1 726\n",
        "Z78515.1 765\n",
        "Z78514.1 755\n",
        "Z78513.1 742\n",
        "Z78512.1 762\n",
        "Z78511.1 745\n",
        "Z78510.1 750\n",
        "Z78509.1 731\n",
        "Z78508.1 741\n",
        "Z78507.1 740\n",
        "Z78506.1 727\n",
        "Z78505.1 711\n",
        "Z78504.1 743\n",
        "Z78503.1 727\n",
        "Z78502.1 757\n",
        "Z78501.1 770\n",
        "Z78500.1 767\n",
        "Z78499.1 759\n",
        "Z78498.1 750\n",
        "Z78497.1 788\n",
        "Z78496.1 774\n",
        "Z78495.1 789\n",
        "Z78494.1 688\n",
        "Z78493.1 719\n",
        "Z78492.1 743\n",
        "Z78491.1 737\n",
        "Z78490.1 728\n",
        "Z78489.1 740\n",
        "Z78488.1 696\n",
        "Z78487.1 732\n",
        "Z78486.1 731\n",
        "Z78485.1 735\n",
        "Z78484.1 720\n",
        "Z78483.1 740\n",
        "Z78482.1 629\n",
        "Z78481.1 572\n",
        "Z78480.1 587\n",
        "Z78479.1 700\n",
        "Z78478.1 636\n",
        "Z78477.1 716\n",
        "Z78476.1 592\n",
        "Z78475.1 716\n",
        "Z78474.1 733\n",
        "Z78473.1 626\n",
        "Z78472.1 737\n",
        "Z78471.1 740\n",
        "Z78470.1 574\n",
        "Z78469.1 594\n",
        "Z78468.1 610\n",
        "Z78467.1"
       ]
      },
      {
       "output_type": "stream",
       "stream": "stdout",
       "text": [
        " 730\n",
        "Z78466.1 641\n",
        "Z78465.1 702\n",
        "Z78464.1 733\n",
        "Z78463.1 738\n",
        "Z78462.1 736\n",
        "Z78461.1 732\n",
        "Z78460.1 745\n",
        "Z78459.1 744\n",
        "Z78458.1 738\n",
        "Z78457.1 739\n",
        "Z78456.1 740\n",
        "Z78455.1 745\n",
        "Z78454.1 695\n",
        "Z78453.1 745\n",
        "Z78452.1 743\n",
        "Z78451.1 730\n",
        "Z78450.1 706\n",
        "Z78449.1 744\n",
        "Z78448.1 742\n",
        "Z78447.1 694\n",
        "Z78446.1 712\n",
        "Z78445.1 715\n",
        "Z78444.1 688\n",
        "Z78443.1 784\n",
        "Z78442.1 721\n",
        "Z78441.1 703\n",
        "Z78440.1 744\n",
        "Z78439.1 592\n"
       ]
      }
     ],
     "prompt_number": 14
    },
    {
     "cell_type": "markdown",
     "metadata": {},
     "source": [
      "Another useful trick is converting the sequence file handle into a list, so its elements (SeqRecord objects) are more easily accessed:"
     ]
    },
    {
     "cell_type": "code",
     "collapsed": false,
     "input": [
      "orchid_records_list = list(SeqIO.parse('lec6_files/Orchids.gbk','genbank'))\n",
      "# last record id\n",
      "print(orchid_records_list[-1].id)\n",
      "# number of records in file\n",
      "print(len(orchid_records_list))"
     ],
     "language": "python",
     "metadata": {},
     "outputs": [
      {
       "output_type": "stream",
       "stream": "stdout",
       "text": [
        "Z78439.1\n",
        "94\n"
       ]
      }
     ],
     "prompt_number": 15
    },
    {
     "cell_type": "markdown",
     "metadata": {},
     "source": [
      "This is not a good idea though, when dealing with large files, since very long lists are not desired."
     ]
    },
    {
     "cell_type": "markdown",
     "metadata": {},
     "source": [
      "## <span style=\"color:blue\">Class exercise 6B</span>"
     ]
    },
    {
     "cell_type": "markdown",
     "metadata": {},
     "source": [
      "Write a function that reads a GenBank file and returns the unique species names found in the file. Use the `.annotations` field to get the organism name of each record.. The species is always the second word of the organism name. The `set()` command will ensure you get unique species (each species will appear only once). Complete the code below:"
     ]
    },
    {
     "cell_type": "code",
     "collapsed": false,
     "input": [
      "def get_unique_species(file):\n",
      "    species_list = []\n",
      "    # iterate on file records\n",
      "    for _____________________________:\n",
      "        # get species\n",
      "        record_organism = _________________\n",
      "        species = ______________\n",
      "        # insert species to list\n",
      "        __________________________\n",
      "    return set(species_list)\n",
      "\n",
      "print(get_unique_species('lec6_files/Orchids.gbk'))"
     ],
     "language": "python",
     "metadata": {},
     "outputs": []
    },
    {
     "cell_type": "markdown",
     "metadata": {},
     "source": [
      "Another nice option for dealing with sequence files is reading them as _dictionaries_. This is done using `SeqIO.to_dict()` function. `to_dict()` takes a sequence file handle, created by `SeqIO,parse()`, as an argument."
     ]
    },
    {
     "cell_type": "code",
     "collapsed": false,
     "input": [
      "handle = SeqIO.parse('lec6_files/Orchids.gbk','genbank')\n",
      "orchids_dict = SeqIO.to_dict(handle)"
     ],
     "language": "python",
     "metadata": {},
     "outputs": [],
     "prompt_number": 16
    },
    {
     "cell_type": "markdown",
     "metadata": {},
     "source": [
      "The function returns a dictionary, which we can work with as usual."
     ]
    },
    {
     "cell_type": "code",
     "collapsed": false,
     "input": [
      "print(orchids_dict.keys())"
     ],
     "language": "python",
     "metadata": {},
     "outputs": [
      {
       "output_type": "stream",
       "stream": "stdout",
       "text": [
        "dict_keys(['Z78466.1', 'Z78477.1', 'Z78464.1', 'Z78519.1', 'Z78461.1', 'Z78529.1', 'Z78463.1', 'Z78513.1', 'Z78471.1', 'Z78455.1', 'Z78493.1', 'Z78467.1', 'Z78500.1', 'Z78479.1', 'Z78447.1', 'Z78504.1', 'Z78488.1', 'Z78450.1', 'Z78458.1', 'Z78514.1', 'Z78510.1', 'Z78505.1', 'Z78443.1', 'Z78506.1', 'Z78439.1', 'Z78465.1', 'Z78483.1', 'Z78441.1', 'Z78497.1', 'Z78492.1', 'Z78496.1', 'Z78478.1', 'Z78452.1', 'Z78474.1', 'Z78503.1', 'Z78523.1', 'Z78442.1', 'Z78515.1', 'Z78482.1', 'Z78486.1', 'Z78520.1', 'Z78499.1', 'Z78485.1', 'Z78501.1', 'Z78459.1', 'Z78469.1', 'Z78509.1', 'Z78484.1', 'Z78446.1', 'Z78495.1', 'Z78498.1', 'Z78512.1', 'Z78524.1', 'Z78491.1', 'Z78440.1', 'Z78517.1', 'Z78530.1', 'Z78481.1', 'Z78518.1', 'Z78508.1', 'Z78473.1', 'Z78516.1', 'Z78527.1', 'Z78454.1', 'Z78453.1', 'Z78457.1', 'Z78490.1', 'Z78462.1', 'Z78526.1', 'Z78487.1', 'Z78449.1', 'Z78448.1', 'Z78502.1', 'Z78468.1', 'Z78531.1', 'Z78475.1', 'Z78480.1', 'Z78470.1', 'Z78521.1', 'Z78511.1', 'Z78445.1', 'Z78525.1', 'Z78507.1', 'Z78451.1', 'Z78456.1', 'Z78494.1', 'Z78472.1', 'Z78532.1', 'Z78460.1', 'Z78476.1', 'Z78533.1', 'Z78522.1', 'Z78489.1', 'Z78444.1'])\n"
       ]
      }
     ],
     "prompt_number": 17
    },
    {
     "cell_type": "markdown",
     "metadata": {},
     "source": [
      "So the keys are the IDs, and the values are SeqRecord objects. It's very easy to access specif records this way:"
     ]
    },
    {
     "cell_type": "code",
     "collapsed": false,
     "input": [
      "print(orchids_dict['Z78481.1'].seq)"
     ],
     "language": "python",
     "metadata": {},
     "outputs": [
      {
       "output_type": "stream",
       "stream": "stdout",
       "text": [
        "CGTAACAAGGTTTCCGTAGGTGAACCTGCGGAAGGATCATTGTTGAGATCACATAATAATTGATCGAGTTAATCTGGAGGATCAGTTTACTTTGGTCACCCATGGGCATTTGCTATTGCAGTGACCGAGATTTGCCATCGAGCCTCCTTGGGAGCTTTCTTGCTGGCGATCTAAACCCTAGCCCGGCGCAGTTTTGCGCCAAGTCATATGACACATAATTGGCGAAGGGGGCGGCATGGTGCCTTGACCCTCCCCAAATCATTTTTTTAACAACTCTCAGCAACGGAAGGGCACGCCTGCCTGGGCATTGCGAGTCATATCTCTCCCTTAATGAGGCTGTCCACACATACTGTTCAGCCGGTGCGGATGTGAGTTTGGCCCCTTGTTCATTGGTACGGGGGGTCTAAGAGCTGCGTGGGCTTTTGTTGGTCCTAAATACGGCAAGAGGTGGACGAACTATGCTACAACAAAACTGTTGTGCGAATGCCCCGGGTTGTCGTATTAGATGGGCCAGCATAATCTAAAGACCCTTTTGAACCCCATTGGAGGCCCATCAACCCATGATCAGTTGA\n"
       ]
      }
     ],
     "prompt_number": 18
    },
    {
     "cell_type": "markdown",
     "metadata": {},
     "source": [
      "Again, this could get tricky when working with large files due to memory problems."
     ]
    },
    {
     "cell_type": "markdown",
     "metadata": {},
     "source": [
      "### Writing sequence files\n",
      "SeqIO also makes it easy to write sequence files. For that, we have the `SeqIO.write()` function. It receives a list of SeqRecords and writes them to an output file, in a format of your choice.  \n",
      "For example, the following function reads a GenBank file, and prints to a new file only records that belong to the organism specified by the user."
     ]
    },
    {
     "cell_type": "code",
     "collapsed": false,
     "input": [
      "def filter_GB_file_by_organism(input_file,organism,output_file):\n",
      "    organism_records = []\n",
      "    # read the input file\n",
      "    for record in SeqIO.parse(input_file,'genbank'):\n",
      "        rec_organism = record.annotations['organism']\n",
      "        if rec_organism == organism:\n",
      "            organism_records.append(record)\n",
      "    # write the desired records to output\n",
      "    SeqIO.write(organism_records,output_file,'genbank')   # notice the 3 arguments\n",
      "    \n",
      "orchids_file = 'lec6_files/Orchids.gbk'\n",
      "C_irapeanum_file = 'lec6_files/C_irapeanum.gbk'\n",
      "P_emersonii_file = 'lec6_files/P_emersonii.gbk'\n",
      "filter_GB_file_by_organism(orchids_file,'Cypripedium irapeanum',C_irapeanum_file)\n",
      "filter_GB_file_by_organism(orchids_file,'Paphiopedilum emersonii',P_emersonii_file)"
     ],
     "language": "python",
     "metadata": {},
     "outputs": [],
     "prompt_number": 21
    },
    {
     "cell_type": "markdown",
     "metadata": {},
     "source": [
      "We can easily change the function to create files in a different format. For example:"
     ]
    },
    {
     "cell_type": "code",
     "collapsed": false,
     "input": [
      "def filter_GB_file_by_organism(input_file,organism,output_file):\n",
      "    organism_records = []\n",
      "    # read the input file\n",
      "    for record in SeqIO.parse(input_file,'genbank'):\n",
      "        rec_organism = record.annotations['organism']\n",
      "        if rec_organism == organism:\n",
      "            organism_records.append(record)\n",
      "    # write the desired records to output\n",
      "    SeqIO.write(organism_records,output_file,'fasta')   # <--- changed to fasta here"
     ],
     "language": "python",
     "metadata": {},
     "outputs": []
    },
    {
     "cell_type": "markdown",
     "metadata": {},
     "source": [
      "Which means that SeqIO can be used to convert between file formats. However, this is not necessary, since SeqIO has its built-in `convert()` function:"
     ]
    },
    {
     "cell_type": "code",
     "collapsed": false,
     "input": [
      "SeqIO.convert('lec6_files/P_emersonii.gbk','genbank','lec6_files/P_emersonii.fasta','fasta')"
     ],
     "language": "python",
     "metadata": {},
     "outputs": [
      {
       "metadata": {},
       "output_type": "pyout",
       "prompt_number": 22,
       "text": [
        "1"
       ]
      }
     ],
     "prompt_number": 22
    },
    {
     "cell_type": "markdown",
     "metadata": {},
     "source": [
      "## A BLAST from the past\n",
      "![BLAST](http://www.mrc-lmb.cam.ac.uk/rlw/text/bioinfo_tuto/images/psiblast_1-289_itr1.jpg)"
     ]
    },
    {
     "cell_type": "markdown",
     "metadata": {},
     "source": [
      "__BLAST__ - Basic Local Alignment and Search Tool, is one of the most important methods in bioinformatics.  \n",
      "_Biopython_ lets you run BLAST from within your code, retrieve and analyze the results and save them. But before we see how to do that, lets recall how BLAST actually works."
     ]
    },
    {
     "cell_type": "markdown",
     "metadata": {},
     "source": [
      "### BLAST - reminder\n",
      "BLAST is an algorithm used for comparing a __query sequence__ agains a __database__, or library of sequences. The database may be all the known sequences, stored in NCBI, a subset of these, or any other collection of sequences we want to search. The sequences in question may be nucleotide sequences, amino acids or even codons.  \n",
      "The result of a BLAST run is zero or more database sequences, which are similar enough to the query sequence. These results are called __hits__.  \n",
      "![BLAST](lec6_files/blast.png)"
     ]
    },
    {
     "cell_type": "markdown",
     "metadata": {},
     "source": [
      "Lets run a nucleotide BLAST through the NCBI web, on the sequence:\n",
      "GTTGAGATCACATAATAATTGATCGAGTTAATCTGGAGGATCAGTTTACTTTGGTCACCCATGGGCATTTGCTATTGCAGTGACCGAGATTTGCCATCGAGCCTCCTTGGGAGCTTTCTTGCTGGCGATCTAAACCCTAGCCCGGCGCAGTTTTGCGCCAAGTCATATGACACATAATTGGCGAAGGGGGCGGCATGGTGCCTTGACCCTCCCCAAATCATTTTTTTAACAACTCTCAGCAACGGAAGGGCACGCCTGCCTGGGCATTGCGAGTCATATCTCTCCCTTAATGAGGCTGTCCACACATACT"
     ]
    },
    {
     "cell_type": "code",
     "collapsed": false,
     "input": [
      "HTML('<iframe src=http://blast.ncbi.nlm.nih.gov/Blast.cgi?PROGRAM=blastn&PAGE_TYPE=BlastSearch&LINK_LOC=blasthome width=700 height=350></iframe>')"
     ],
     "language": "python",
     "metadata": {},
     "outputs": [
      {
       "html": [
        "<iframe src=http://blast.ncbi.nlm.nih.gov/Blast.cgi?PROGRAM=blastn&PAGE_TYPE=BlastSearch&LINK_LOC=blasthome width=700 height=350></iframe>"
       ],
       "metadata": {},
       "output_type": "pyout",
       "prompt_number": 24,
       "text": [
        "<IPython.core.display.HTML at 0x7266208>"
       ]
      }
     ],
     "prompt_number": 24
    },
    {
     "cell_type": "markdown",
     "metadata": {},
     "source": []
    },
    {
     "cell_type": "markdown",
     "metadata": {},
     "source": [
      "## Fin\n",
      "This notebook is part of the _Python Programming for Life Sciences Graduate Students_ course given in Tel-Aviv University, Spring 2015.\n",
      "\n",
      "The notebook was written using [Python](http://pytho.org/) 3.4.1 and [IPython](http://ipython.org/) 2.1.0 (download from [PyZo](http://www.pyzo.org/downloads.html)).\n",
      "\n",
      "The code is available at https://github.com/yoavram/Py4Life/blob/master/lectureX.ipynb.\n",
      "\n",
      "The notebook can be viewed online at http://nbviewer.ipython.org/github/yoavram/Py4Life/blob/master/lectureX.ipynb.\n",
      "\n",
      "The notebook is also available as a PDF at https://github.com/yoavram/Py4Life/blob/master/lectureX.pdf?raw=true.\n",
      "\n",
      "This work is licensed under a Creative Commons Attribution-ShareAlike 3.0 Unported License.\n",
      "\n",
      "![Python logo](https://www.python.org/static/community_logos/python-logo.png)"
     ]
    }
   ],
   "metadata": {}
  }
 ]
}