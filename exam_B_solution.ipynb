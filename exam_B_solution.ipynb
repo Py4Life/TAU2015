{
 "metadata": {
  "kernelspec": {
   "display_name": "Python 3",
   "language": "python",
   "name": "python3"
  },
  "language_info": {
   "codemirror_mode": {
    "name": "ipython",
    "version": 3
   },
   "file_extension": ".py",
   "mimetype": "text/x-python",
   "name": "python",
   "nbconvert_exporter": "python",
   "pygments_lexer": "ipython3",
   "version": "3.4.1"
  },
  "name": "",
  "signature": "sha256:097d25abd686a6044e490de7356e7e61c171dd68df97ece3b893b0ca3acd22d3"
 },
 "nbformat": 3,
 "nbformat_minor": 0,
 "worksheets": [
  {
   "cells": [
    {
     "cell_type": "markdown",
     "metadata": {},
     "source": [
      "[![Py4Life](https://raw.githubusercontent.com/Py4Life/TAU2015/gh-pages/img/Py4Life-logo-small.png)](http://py4life.github.io/TAU2015/)\n",
      "\n",
      "## Exam - 4.8.2015 - Solution\n",
      "\n",
      "### Tel-Aviv University / 0411-3122 / Spring 2015"
     ]
    },
    {
     "cell_type": "markdown",
     "metadata": {},
     "source": [
      "## 1) GC content\n",
      "\n",
      "In molecular biology and genetics, [GC-content](http://en.wikipedia.org/wiki/GC-content) is the percentage of bases on a DNA molecule that are either G or C (from a possibility of four different ones, also including A and T).\n",
      "\n",
      "In this question we will want to calculate the GC content of a DNA sequence in a way that will allow us to see changes in GC content along the sequence. \n",
      "\n",
      "For this we will write a function that goes over a sequence and at each position `k` in the sequence it calculates the GC content of a small overlapping subseqeunce starting at position `k`. We call this subsequence a _window_ and so we are calculating the GC content using a sliding window.\n",
      "\n",
      "**a)** Write a function `calc_GC_content`. The arguments are `seq`, a string of the characters `AGCT` representing a DNA sequence; and `win_size`, an int specifiying the number of bases in the sliding window. The function will return a `list` of `float`s (each between 0 and 1). In this `list`, the `float` in index `k` will represent the GC-content of a subsequence of `seq` of length `win_size` starting at `k`."
     ]
    },
    {
     "cell_type": "code",
     "collapsed": true,
     "input": [
      "def calc_GC_content(seq, win_size=10):\n",
      "    gc_values = []\n",
      "    for i in range(len(seq) - win_size):\n",
      "        sub_seq = seq[i:i+win_size]\n",
      "        num_GC = sub_seq.count('G') + sub_seq.count('C')\n",
      "        value = num_GC/win_size\n",
      "        gc_values.append(value)\n",
      "    return gc_values"
     ],
     "language": "python",
     "metadata": {},
     "outputs": [],
     "prompt_number": 36
    },
    {
     "cell_type": "code",
     "collapsed": false,
     "input": [
      "dna_seq = 'ATGGTGCATCTGACTCCTGAGGAGAAGTCTGCCGTTACTGCCCTGTGGGGCAAGGTG'\n",
      "gc_values = calc_GC_content( dna_seq )\n",
      "assert gc_values[:10] == [0.5, 0.5, 0.6, 0.5, 0.5, 0.5, 0.5, 0.5, 0.5, 0.6]"
     ],
     "language": "python",
     "metadata": {},
     "outputs": [],
     "prompt_number": 37
    },
    {
     "cell_type": "markdown",
     "metadata": {},
     "source": [
      "**b)** Now open the file `lec4_files/camelus.fasta`, read it as a text file, and save the last line which has the __camelus cytochrome b_ sequence into a variable called `dna_seq`. Then calculate the GC content by calling `calc_GC_content` with `dna_seq` and a windows size of 100."
     ]
    },
    {
     "cell_type": "code",
     "collapsed": false,
     "input": [
      "with open(\"lec4_files/camelus.fasta\") as f:\n",
      "    dna_seq = f.readlines()[-1]\n",
      "gc_values = calc_GC_content(dna_seq, win_size=100)\n",
      "assert gc_values[:10] == [0.37, 0.38, 0.39, 0.38, 0.39, 0.38, 0.39, 0.39, 0.39, 0.39]"
     ],
     "language": "python",
     "metadata": {},
     "outputs": [],
     "prompt_number": 38
    },
    {
     "cell_type": "markdown",
     "metadata": {},
     "source": [
      "**c)** Next, plot the GC-content of the _camelus cytochrome b_ sequence. Don't forget axis labels!"
     ]
    },
    {
     "cell_type": "code",
     "collapsed": true,
     "input": [
      "%matplotlib inline\n",
      "import matplotlib.pyplot as plt\n",
      "import seaborn as sns"
     ],
     "language": "python",
     "metadata": {},
     "outputs": [],
     "prompt_number": 39
    },
    {
     "cell_type": "code",
     "collapsed": false,
     "input": [
      "plt.plot(gc_values)\n",
      "plt.xlabel('DNA position')\n",
      "plt.ylabel('GC content (%)');"
     ],
     "language": "python",
     "metadata": {},
     "outputs": [
      {
       "metadata": {},
       "output_type": "display_data",
       "png": "[encoded data removed]",
       "text": [
        "<matplotlib.figure.Figure at 0x85af950>"
       ]
      }
     ],
     "prompt_number": 40
    },
    {
     "cell_type": "markdown",
     "metadata": {},
     "source": [
      "## 2) Percent of coding regions\n",
      "In this question we will examin the ratio of coding and non-coding regions in different nucleotide sequences.\n",
      "\n",
      "__a)__ The strings in `mitochondrial_acc` represent GenBank accessions of complete mitochondrial genomes. Use the list to fetch each record from GB, like we did in [lecture 6](http://nbviewer.ipython.org/github/Py4Life/TAU2015/blob/master/lecture6.ipynb), and store them in a list, as `SeqRecord` objects."
     ]
    },
    {
     "cell_type": "code",
     "collapsed": false,
     "input": [
      "from Bio import SeqIO\n",
      "from Bio import Entrez\n",
      "import csv\n",
      "Entrez.email = 'A.N.Other@example.com'"
     ],
     "language": "python",
     "metadata": {},
     "outputs": [],
     "prompt_number": 1
    },
    {
     "cell_type": "code",
     "collapsed": false,
     "input": [
      "mitochondrial_acc = ['AJ489607','U03843','Y12025','AP008824','AB080276','AB079613']\n",
      "mitochondrial_records = []\n",
      "for acc in mitochondrial_acc:\n",
      "    entrez_obj = Entrez.efetch(db=\"nucleotide\", rettype=\"gb\", retmode=\"text\", id=acc)\n",
      "    record = SeqIO.read(entrez_obj, 'gb')\n",
      "    mitochondrial_records.append(record)\n",
      "\n",
      "assert len(mitochondrial_records) == 6"
     ],
     "language": "python",
     "metadata": {},
     "outputs": [],
     "prompt_number": 2
    },
    {
     "cell_type": "markdown",
     "metadata": {},
     "source": [
      "__b)__ Write a function that receives a `SeqRecord` object and returns the fraction of coding DNA in this record. Coding regions are the features of the record with type `gene`. Note that there could be many separate coding regions within a record. The function should return a `float`, representing the number of nucleotides belonging to coding regions. For example, if the whole sequence is 10,000 bp long, and there are 3 coding regions, each of 1,000 bp, than the function should return `0.3`."
     ]
    },
    {
     "cell_type": "code",
     "collapsed": false,
     "input": [
      "def coding_fraction(gb_record):\n",
      "    coding = 0\n",
      "    for feat in gb_record.features:           \n",
      "        if feat.type == 'gene':\n",
      "            coding += len(feat)\n",
      "    return coding / len(record.seq)\n",
      "\n",
      "assert 0.899 < coding_fraction(mitochondrial_records[0]) < 0.9\n",
      "\n",
      "for x in range(6):\n",
      "    print(coding_fraction(mitochondrial_records[x]))"
     ],
     "language": "python",
     "metadata": {},
     "outputs": [
      {
       "output_type": "stream",
       "stream": "stdout",
       "text": [
        "0.8990921787709497\n",
        "0.7622206703910615\n",
        "0.8923999068901304\n",
        "0.6632914338919925\n",
        "0.2989408752327747\n",
        "0.6619529795158287\n"
       ]
      }
     ],
     "prompt_number": 6
    },
    {
     "cell_type": "markdown",
     "metadata": {},
     "source": [
      "__c)__ Use the records from section _a_ and the function from section _b_ to compare the fraction of coding DNA between the mitochondrial sequences of different organisms.\n",
      "\n",
      "Write the results to a CSV file (`Q2b.csv`). The file should have two columns: `organism` and `fraction_coding`, and each row should represent the result for one organism (one record).  \n",
      "You can use the provided code to plot the results and check your answer."
     ]
    },
    {
     "cell_type": "code",
     "collapsed": false,
     "input": [
      "with open('Q2b.csv', 'w', newline='') as fo:\n",
      "    writer = csv.writer(fo)\n",
      "    writer.writerow(['organism','fraction_coding'])\n",
      "    for rec in mitochondrial_records:           \n",
      "        organism = rec.annotations['organism']\n",
      "        rec_coding_fraction = coding_fraction(rec)\n",
      "        writer.writerow([organism,rec_coding_fraction])"
     ],
     "language": "python",
     "metadata": {},
     "outputs": [],
     "prompt_number": 4
    },
    {
     "cell_type": "code",
     "collapsed": false,
     "input": [
      "%matplotlib inline\n",
      "import matplotlib.pyplot as plt\n",
      "import pandas as pd\n",
      "df = pd.read_csv(\"Q2b.csv\")\n",
      "df.plot(x='organism',y='fraction_coding',kind=\"bar\", legend=False)\n",
      "plt.xlabel('organism')\n",
      "plt.ylabel('Coding fraction')"
     ],
     "language": "python",
     "metadata": {},
     "outputs": [
      {
       "metadata": {},
       "output_type": "pyout",
       "prompt_number": 13,
       "text": [
        "<matplotlib.text.Text at 0xb88cf60>"
       ]
      },
      {
       "metadata": {},
       "output_type": "display_data",
       "png": "[encoded data removed]",
       "text": [
        "<matplotlib.figure.Figure at 0x84c0e80>"
       ]
      }
     ],
     "prompt_number": 13
    },
    {
     "cell_type": "markdown",
     "metadata": {
      "collapsed": true
     },
     "source": [
      "## 3) Body Temperature\n",
      "\n",
      "In this analysis we will compare the body temperature of animals to check if indeed there is such a thing as [warm-blooded](http://en.wikipedia.org/wiki/Warm-blooded) and cold-blooded animals.\n",
      "\n",
      "For this analysis we will load the [AnAge](http://genomics.senescence.info/download.html#anage) dataset that we used in [lecture 7](http://nbviewer.ipython.org/github/Py4Life/TAU2015/blob/master/lecture7.ipynb).\n",
      "\n",
      "First, import the neccesary libraries:"
     ]
    },
    {
     "cell_type": "code",
     "collapsed": true,
     "input": [
      "%matplotlib inline\n",
      "import matplotlib.pyplot as plt\n",
      "import numpy as np\n",
      "import scipy.stats\n",
      "import scipy.constants\n",
      "import pandas as pd\n",
      "import seaborn as sns\n",
      "import urllib\n",
      "import zipfile"
     ],
     "language": "python",
     "metadata": {},
     "outputs": [
      {
       "ename": "ImportError",
       "evalue": "No module named 'seaborn'",
       "output_type": "pyerr",
       "traceback": [
        "\u001b[1;31m---------------------------------------------------------------------------\u001b[0m\n\u001b[1;31mImportError\u001b[0m                               Traceback (most recent call last)",
        "\u001b[1;32m<ipython-input-9-29b204b28f81>\u001b[0m in \u001b[0;36m<module>\u001b[1;34m()\u001b[0m\n\u001b[0;32m      5\u001b[0m \u001b[1;32mimport\u001b[0m \u001b[0mscipy\u001b[0m\u001b[1;33m.\u001b[0m\u001b[0mconstants\u001b[0m\u001b[1;33m\u001b[0m\u001b[0m\n\u001b[0;32m      6\u001b[0m \u001b[1;32mimport\u001b[0m \u001b[0mpandas\u001b[0m \u001b[1;32mas\u001b[0m \u001b[0mpd\u001b[0m\u001b[1;33m\u001b[0m\u001b[0m\n\u001b[1;32m----> 7\u001b[1;33m \u001b[1;32mimport\u001b[0m \u001b[0mseaborn\u001b[0m \u001b[1;32mas\u001b[0m \u001b[0msns\u001b[0m\u001b[1;33m\u001b[0m\u001b[0m\n\u001b[0m\u001b[0;32m      8\u001b[0m \u001b[1;32mimport\u001b[0m \u001b[0murllib\u001b[0m\u001b[1;33m\u001b[0m\u001b[0m\n\u001b[0;32m      9\u001b[0m \u001b[1;32mimport\u001b[0m \u001b[0mzipfile\u001b[0m\u001b[1;33m\u001b[0m\u001b[0m\n",
        "\u001b[1;31mImportError\u001b[0m: No module named 'seaborn'"
       ]
      }
     ],
     "prompt_number": 9
    },
    {
     "cell_type": "markdown",
     "metadata": {},
     "source": [
      "**a)** Get the zip file containing the data, extract it and read the data to a `DataFrame`. We are interested in the `Temperature (K)` column."
     ]
    },
    {
     "cell_type": "code",
     "collapsed": false,
     "input": [
      "urllib.request.urlretrieve('http://genomics.senescence.info/species/dataset.zip', 'anage_dataset.zip')"
     ],
     "language": "python",
     "metadata": {},
     "outputs": [
      {
       "metadata": {},
       "output_type": "pyout",
       "prompt_number": 44,
       "text": [
        "('anage_dataset.zip', <http.client.HTTPMessage at 0x86bd2b0>)"
       ]
      }
     ],
     "prompt_number": 44
    },
    {
     "cell_type": "code",
     "collapsed": false,
     "input": [
      "with zipfile.ZipFile('anage_dataset.zip') as z:\n",
      "    f = z.open('anage_data.txt')\n",
      "    data = pd.read_table(f)\n",
      "assert data.shape == (4212, 31)"
     ],
     "language": "python",
     "metadata": {},
     "outputs": [],
     "prompt_number": 45
    },
    {
     "cell_type": "markdown",
     "metadata": {},
     "source": [
      "**b)** The temperatures are in Kelvin degrees and we like Celsius degrees, so use `scipy.constants.K2C` to transform the temperature to Celsius and save the result in a new column:"
     ]
    },
    {
     "cell_type": "code",
     "collapsed": false,
     "input": [
      "data['Temperature (C)'] = scipy.constants.K2C(data['Temperature (K)'])\n",
      "assert data.shape == (4212, 32)"
     ],
     "language": "python",
     "metadata": {},
     "outputs": [],
     "prompt_number": 46
    },
    {
     "cell_type": "markdown",
     "metadata": {},
     "source": [
      "**c)** Plot a histogram of the temperature (in Celsius). Don't forget to use meaningful `bins`."
     ]
    },
    {
     "cell_type": "code",
     "collapsed": false,
     "input": [
      "bins = np.linspace(0, 45, 45)\n",
      "plt.hist(data['Temperature (C)'], bins=bins, lw=0)\n",
      "plt.xlabel(\"Temperature (C)\")\n",
      "plt.ylabel(\"# Species\");"
     ],
     "language": "python",
     "metadata": {},
     "outputs": [
      {
       "metadata": {},
       "output_type": "display_data",
       "png": "[encoded data removed]",
       "text": [
        "<matplotlib.figure.Figure at 0x8651d90>"
       ]
      }
     ],
     "prompt_number": 47
    },
    {
     "cell_type": "markdown",
     "metadata": {},
     "source": [
      "**d)** Clean the data frame from rows with missing data in the temperature column You can find the rows that have missing data using `np.isfinite` which returns `False` for rows with infinite or NaN (missing) data."
     ]
    },
    {
     "cell_type": "code",
     "collapsed": false,
     "input": [
      "data = data[np.isfinite(data['Temperature (C)'])]\n",
      "assert data.shape == (494, 32)"
     ],
     "language": "python",
     "metadata": {},
     "outputs": [],
     "prompt_number": 48
    },
    {
     "cell_type": "markdown",
     "metadata": {},
     "source": [
      "**e)** Count how many species we have in the data frame for each animal Class. Remove from the data classes with less than 10 species (you can do this manually by specifiyng the class names or automatically using the count you calculated)."
     ]
    },
    {
     "cell_type": "code",
     "collapsed": false,
     "input": [
      "data.Class.value_counts()"
     ],
     "language": "python",
     "metadata": {},
     "outputs": [
      {
       "metadata": {},
       "output_type": "pyout",
       "prompt_number": 49,
       "text": [
        "Mammalia    457\n",
        "Amphibia     18\n",
        "Reptilia     16\n",
        "Aves          3\n",
        "dtype: int64"
       ]
      }
     ],
     "prompt_number": 49
    },
    {
     "cell_type": "code",
     "collapsed": false,
     "input": [
      "data = data[data.Class != 'Aves']\n",
      "assert data.shape == (491, 32)"
     ],
     "language": "python",
     "metadata": {},
     "outputs": [],
     "prompt_number": 50
    },
    {
     "cell_type": "markdown",
     "metadata": {},
     "source": [
      "**f)** Plot a separate histogram of the temperature for each animal Class. Use a [faceted figure](http://stanford.edu/~mwaskom/software/seaborn/examples/faceted_histogram.html). Don't forget axis labels, proper bins, and a reasonable figure size."
     ]
    },
    {
     "cell_type": "code",
     "collapsed": false,
     "input": [
      "g = sns.FacetGrid(data=data, col=\"Class\", margin_titles=True, sharex=True, sharey=False, size=4.5)\n",
      "g.map(plt.hist, 'Temperature (C)', bins=bins, lw=0)\n",
      "g.set_ylabels(\"# Species\");"
     ],
     "language": "python",
     "metadata": {},
     "outputs": [
      {
       "metadata": {},
       "output_type": "display_data",
       "png": "[encoded data removed]",
       "text": [
        "<matplotlib.figure.Figure at 0x84ced10>"
       ]
      }
     ],
     "prompt_number": 51
    },
    {
     "cell_type": "markdown",
     "metadata": {},
     "source": [
      "**g)** Perform a [t-test](http://iaingallagher.tumblr.com/post/50980987285/t-tests-in-python) to verify that the temperature of mammals is, on average, larget then the temperature of Amphibians. Print the P-value of the t-test."
     ]
    },
    {
     "cell_type": "code",
     "collapsed": false,
     "input": [
      "mammalia = data[data.Class=='Mammalia']['Temperature (C)']\n",
      "amphibia = data[data.Class=='Amphibia']['Temperature (C)']\n",
      "t,p = scipy.stats.ttest_ind(mammalia, amphibia, equal_var=False)\n",
      "print(\"P-value:\", p)"
     ],
     "language": "python",
     "metadata": {},
     "outputs": [
      {
       "output_type": "stream",
       "stream": "stdout",
       "text": [
        "P-value: 1.86679756815e-16\n"
       ]
      }
     ],
     "prompt_number": 52
    }
   ],
   "metadata": {}
  }
 ]
}