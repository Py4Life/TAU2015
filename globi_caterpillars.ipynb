{
 "metadata": {
  "kernelspec": {
   "display_name": "Python 3",
   "language": "python",
   "name": "python3"
  },
  "language_info": {
   "codemirror_mode": {
    "name": "ipython",
    "version": 3
   },
   "file_extension": ".py",
   "mimetype": "text/x-python",
   "name": "python",
   "nbconvert_exporter": "python",
   "pygments_lexer": "ipython3",
   "version": "3.3.5"
  },
  "name": ""
 },
 "nbformat": 3,
 "nbformat_minor": 0,
 "worksheets": [
  {
   "cells": [
    {
     "cell_type": "markdown",
     "metadata": {},
     "source": [
      "[![Py4Life](https://raw.githubusercontent.com/Py4Life/TAU2015/gh-pages/img/Py4Life-logo-small.png)](http://py4life.github.io/TAU2015/)\n",
      "# Using web APIs with Python - 9.6.2015\n",
      "### Last update: 9.6.2015\n",
      "### Tel-Aviv University / 0411-3122 / Spring 2015"
     ]
    },
    {
     "cell_type": "code",
     "collapsed": true,
     "input": [
      "%matplotlib inline\n",
      "from IPython.display import HTML\n",
      "import matplotlib.pyplot as plt\n",
      "import requests\n",
      "import pandas as pd\n",
      "import numpy as np\n",
      "import seaborn as sns\n",
      "sns.set_style('white')\n",
      "sns.set_context('talk', font_scale=1.2)"
     ],
     "language": "python",
     "metadata": {},
     "outputs": [],
     "prompt_number": 1
    },
    {
     "cell_type": "heading",
     "level": 2,
     "metadata": {},
     "source": [
      "The Very Hungry Caterpillar example"
     ]
    },
    {
     "cell_type": "code",
     "collapsed": false,
     "input": [
      "HTML('<blockquote class=\"twitter-tweet\" lang=\"he\"><p lang=\"en\" dir=\"ltr\">Hmm, I don&#39;t know about this caterpillar rearing manual. I thought P.rapae had an obligate association w/ Brassica. <a href=\"http://t.co/M10dqbOYlN\">pic.twitter.com/M10dqbOYlN</a></p>&mdash; Christie Bahlai (@cbahlai) <a href=\"https://twitter.com/cbahlai/status/597462491166150656\">\u05de\u05d0\u05d9 10, 2015</a></blockquote><script async src=\"//platform.twitter.com/widgets.js\" charset=\"utf-8\"></script>')"
     ],
     "language": "python",
     "metadata": {},
     "outputs": [
      {
       "html": [
        "<blockquote class=\"twitter-tweet\" lang=\"he\"><p lang=\"en\" dir=\"ltr\">Hmm, I don&#39;t know about this caterpillar rearing manual. I thought P.rapae had an obligate association w/ Brassica. <a href=\"http://t.co/M10dqbOYlN\">pic.twitter.com/M10dqbOYlN</a></p>&mdash; Christie Bahlai (@cbahlai) <a href=\"https://twitter.com/cbahlai/status/597462491166150656\">\u05de\u05d0\u05d9 10, 2015</a></blockquote><script async src=\"//platform.twitter.com/widgets.js\" charset=\"utf-8\"></script>"
       ],
       "metadata": {},
       "output_type": "pyout",
       "prompt_number": 2,
       "text": [
        "<IPython.core.display.HTML object>"
       ]
      }
     ],
     "prompt_number": 2
    },
    {
     "cell_type": "code",
     "collapsed": false,
     "input": [
      "HTML('<blockquote class=\"twitter-tweet\" lang=\"he\"><p lang=\"en\" dir=\"ltr\">This is a terrible dataset about caterpillar diet. How did it got published? <a href=\"http://t.co/XkAq51HxEP\">pic.twitter.com/XkAq51HxEP</a></p>&mdash; Timoth\u00e9e Poisot (@tpoi) <a href=\"https://twitter.com/tpoi/status/591041490618552320\">\u05d0\u05e4\u05e8\u05d9\u05dc 23, 2015</a></blockquote><script async src=\"//platform.twitter.com/widgets.js\" charset=\"utf-8\"></script>')"
     ],
     "language": "python",
     "metadata": {},
     "outputs": [
      {
       "html": [
        "<blockquote class=\"twitter-tweet\" lang=\"he\"><p lang=\"en\" dir=\"ltr\">This is a terrible dataset about caterpillar diet. How did it got published? <a href=\"http://t.co/XkAq51HxEP\">pic.twitter.com/XkAq51HxEP</a></p>&mdash; Timoth\u00e9e Poisot (@tpoi) <a href=\"https://twitter.com/tpoi/status/591041490618552320\">\u05d0\u05e4\u05e8\u05d9\u05dc 23, 2015</a></blockquote><script async src=\"//platform.twitter.com/widgets.js\" charset=\"utf-8\"></script>"
       ],
       "metadata": {},
       "output_type": "pyout",
       "prompt_number": 3,
       "text": [
        "<IPython.core.display.HTML object>"
       ]
      }
     ],
     "prompt_number": 3
    },
    {
     "cell_type": "code",
     "collapsed": false,
     "input": [
      "HTML('<blockquote class=\"twitter-tweet\" data-partner=\"tweetdeck\"><p lang=\"und\" dir=\"ltr\"><a href=\"https://twitter.com/tpoi\">@tpoi</a> <a href=\"https://twitter.com/kara_woo\">@kara_woo</a> <a href=\"https://twitter.com/cbahlai\">@cbahlai</a> <a href=\"http://t.co/5lj9EzuKjW\">pic.twitter.com/5lj9EzuKjW</a></p>&mdash; Yoav Ram (@yoavram) <a href=\"https://twitter.com/yoavram/status/597518650082365440\">May 10, 2015</a></blockquote><script async src=\"//platform.twitter.com/widgets.js\" charset=\"utf-8\"></script>')"
     ],
     "language": "python",
     "metadata": {},
     "outputs": [
      {
       "html": [
        "<blockquote class=\"twitter-tweet\" data-partner=\"tweetdeck\"><p lang=\"und\" dir=\"ltr\"><a href=\"https://twitter.com/tpoi\">@tpoi</a> <a href=\"https://twitter.com/kara_woo\">@kara_woo</a> <a href=\"https://twitter.com/cbahlai\">@cbahlai</a> <a href=\"http://t.co/5lj9EzuKjW\">pic.twitter.com/5lj9EzuKjW</a></p>&mdash; Yoav Ram (@yoavram) <a href=\"https://twitter.com/yoavram/status/597518650082365440\">May 10, 2015</a></blockquote><script async src=\"//platform.twitter.com/widgets.js\" charset=\"utf-8\"></script>"
       ],
       "metadata": {},
       "output_type": "pyout",
       "prompt_number": 4,
       "text": [
        "<IPython.core.display.HTML object>"
       ]
      }
     ],
     "prompt_number": 4
    },
    {
     "cell_type": "code",
     "collapsed": false,
     "input": [
      "HTML('<blockquote class=\"twitter-tweet\" data-partner=\"tweetdeck\"><p lang=\"en\" dir=\"ltr\">[blog] How hungry are caterpillars anyway? <a href=\"http://t.co/SvImkHYHhR\">http://t.co/SvImkHYHhR</a> <a href=\"https://twitter.com/hashtag/opendata?src=hash\">#opendata</a></p>&mdash; Timoth\u00e9e Poisot (@tpoi) <a href=\"https://twitter.com/tpoi/status/597518409203589122\">May 10, 2015</a></blockquote><script async src=\"//platform.twitter.com/widgets.js\" charset=\"utf-8\"></script>')"
     ],
     "language": "python",
     "metadata": {},
     "outputs": [
      {
       "html": [
        "<blockquote class=\"twitter-tweet\" data-partner=\"tweetdeck\"><p lang=\"en\" dir=\"ltr\">[blog] How hungry are caterpillars anyway? <a href=\"http://t.co/SvImkHYHhR\">http://t.co/SvImkHYHhR</a> <a href=\"https://twitter.com/hashtag/opendata?src=hash\">#opendata</a></p>&mdash; Timoth\u00e9e Poisot (@tpoi) <a href=\"https://twitter.com/tpoi/status/597518409203589122\">May 10, 2015</a></blockquote><script async src=\"//platform.twitter.com/widgets.js\" charset=\"utf-8\"></script>"
       ],
       "metadata": {},
       "output_type": "pyout",
       "prompt_number": 5,
       "text": [
        "<IPython.core.display.HTML object>"
       ]
      }
     ],
     "prompt_number": 5
    },
    {
     "cell_type": "markdown",
     "metadata": {},
     "source": [
      "We will learn how to use the Global Biotic Interactions (globi) **web API** with Python to check **[How hungry are caterpillars anyway?](http://timotheepoisot.fr/2015/05/10/hungry-caterpillars/)** (sort of).\n",
      "\n",
      "## Web API\n",
      "First, what is a web API?\n",
      "\n",
      "Modern web APIs use are RESTful Application Programming Interface that return responses in JSON format (or sometimes XML) over HTTP (or securely over HTTPS - guess what the S stands for).\n",
      "\n",
      "- HTTP: a protocol for transfering text files on the internet\n",
      "- JSON: a file format, very similar to Python's `dict`.\n",
      "- REST: a common convention for designing web applications that allow querying and retrieving (and sometimes creating, changing and deleting) data.\n",
      "\n",
      "A web API is a language that allows computers to talk to computers (so my computer, running Python, to talk to a computer abroad used as the server for globi). \n",
      "\n",
      "The nouns of the languages are URLs. These are Universal Resource Locations (also sometimes URI, with Identifier) and are used to identify resources on the World Wide Web. For example, our course website URL is at <http://py4life.github.io/TAU2015>. This URL has structure (protocol - HTTP; domain - github.io, used by github to host user websites; subdomain - py4life, used to denote the github user Py4Life; and TAU2015 - the resource requested.\n",
      "\n",
      "The verbs of this language are GET, POST, PATCH and DELETE (there are a bunch of others but these are the major ones) that allow us to retrieve a resource and change it (add a new resource with POST, modify and existing one with PATCH, and delete it with DELETE). These are the basic things we can do on the web to things that are represented by URLs.\n",
      "\n",
      "So I can read lecture 1 by doing a GET on <http://nbviewer.ipython.org/github/Py4Life/TAU2015/blob/master/lecture1.ipynb>. \n",
      "I can create send form on the web by doing a POST. \n",
      "But machines like to talk to one another using all the verbs, asking each other for resources, adding new resources, changing and deleting existing ones.\n",
      "\n",
      "See this nice post by Ryan Tomayko on [explaining REST](http://www.looah.com/source/view/2284).\n",
      "\n",
      "## Using the API\n",
      "\n",
      "Let's try it, following [Poisot's lead on _The Very Hungry Caterpillar_](http://timotheepoisot.fr/2015/05/10/hungry-caterpillars/).\n",
      "\n",
      "We will use [_requests_](http://docs.python-requests.org/en/latest/) - a Python HTTP library _for humans_ - to connect to the globi [API](http://www.globalbioticinteractions.org/). _requests_ is much better and nicer than `urllib` is, and it should be installed, but if not just use `conda install requests` or `pip install requests`.\n",
      "\n",
      "For our purpose we only need to GET information from the API, and we want to get infromation regarding interactions, so the base URL is <http://api.globalbioticinteractions.org/interaction> - the protocol is HTTP (this is the language we use), the `globalbioticinteractions.org` is the organization we are talking with, through their `api` subdomain, and we are interested in `interaction` resources.\n",
      "\n",
      "Which interactions? This is specified using parameters - you put a `?` before the parameters, separate them with `&`, and spcify them by `key=value`. This is similar to how we call a function in Python using `(...)`, `, `, and `=` for the same purposes.\n",
      "\n",
      "We want interactions where the source taxon is Pireis and the type of interaction is eats - what does Pieris eats! \n",
      "\n",
      "The URL is: `http://api.globalbioticinteractions.org/interaction?sourceTaxon=Pieris&interactionType=eats`. \n",
      "\n",
      "How do I know the name of the domain, the interaction endpoint and the parameter names? From the [API docs](https://github.com/jhpoelen/eol-globi-data/wiki/API)."
     ]
    },
    {
     "cell_type": "code",
     "collapsed": false,
     "input": [
      "response = requests.get(\"http://api.globalbioticinteractions.org/interaction?sourceTaxon=Pieris&interactionType=eats\")\n",
      "print(\"OK:\", response.ok)"
     ],
     "language": "python",
     "metadata": {},
     "outputs": [
      {
       "output_type": "stream",
       "stream": "stdout",
       "text": [
        "OK: True\n"
       ]
      }
     ],
     "prompt_number": 6
    },
    {
     "cell_type": "markdown",
     "metadata": {},
     "source": [
      "The respose payload is in JSON format. `JSON` is very similar to `dict`:"
     ]
    },
    {
     "cell_type": "code",
     "collapsed": false,
     "input": [
      "print(response.text[:500])"
     ],
     "language": "python",
     "metadata": {},
     "outputs": [
      {
       "output_type": "stream",
       "stream": "stdout",
       "text": [
        "{\n",
        "  \"columns\" : [ \"source_taxon_external_id\", \"source_taxon_name\", \"source_taxon_path\", \"source_specimen_life_stage\", \"source_specimen_basis_of_record\", \"interaction_type\", \"target_taxon_external_id\", \"target_taxon_name\", \"target_taxon_path\", \"target_specimen_life_stage\", \"target_specimen_basis_of_record\", \"latitude\", \"longitude\", \"study_title\" ],\n",
        "  \"data\" : [ [ \"EOL:174006\", \"Pieris marginalis\", \"Animalia | Bilateria | Protostomia | Ecdysozoa | Arthropoda | Hexapoda | Insecta | Pterygota | Neop\n"
       ]
      }
     ],
     "prompt_number": 21
    },
    {
     "cell_type": "markdown",
     "metadata": {},
     "source": [
      "Calling the `json` method will return the payload as a `dict`:"
     ]
    },
    {
     "cell_type": "code",
     "collapsed": false,
     "input": [
      "payload = response.json()\n",
      "print(type(payload))"
     ],
     "language": "python",
     "metadata": {},
     "outputs": [
      {
       "output_type": "stream",
       "stream": "stdout",
       "text": [
        "<class 'dict'>\n"
       ]
      }
     ],
     "prompt_number": 22
    },
    {
     "cell_type": "markdown",
     "metadata": {},
     "source": [
      "Now we need to work out the details of how the data is kept inside this `dict`. We can look it up in the API, but we might be able to do it on our own by just looking at the keys and values. This is why `json` is a nice format - it is just as easily read by humans as it is rad by machines, becoming the developer's work easier."
     ]
    },
    {
     "cell_type": "code",
     "collapsed": false,
     "input": [
      "print(len(payload))\n",
      "print(payload.keys())\n",
      "print(payload['data'][:3])"
     ],
     "language": "python",
     "metadata": {},
     "outputs": [
      {
       "output_type": "stream",
       "stream": "stdout",
       "text": [
        "2\n",
        "dict_keys(['data', 'columns'])\n",
        "[['EOL:174006', 'Pieris marginalis', 'Animalia | Bilateria | Protostomia | Ecdysozoa | Arthropoda | Hexapoda | Insecta | Pterygota | Neoptera | Holometabola | Lepidoptera | Papilionoidea | Pieridae | Pierinae | Pierini | Pierina | Pieris | Pieris marginalis', None, None, 'eats', 'EOL:29914', 'Rubus', 'Plantae | Tracheophyta | Magnoliopsida | Rosales | Rosaceae | Rubus | Rubus status', None, None, None, None, None], ['EOL:174006', 'Pieris marginalis', 'Animalia | Bilateria | Protostomia | Ecdysozoa | Arthropoda | Hexapoda | Insecta | Pterygota | Neoptera | Holometabola | Lepidoptera | Papilionoidea | Pieridae | Pierinae | Pierini | Pierina | Pieris | Pieris marginalis', None, None, 'eats', 'EOL:37457', 'Arabis', 'Plantae | Tracheophyta | Magnoliopsida | Brassicales | Brassicaceae | Arabis', None, None, None, None, None], ['EOL:174006', 'Pieris marginalis', 'Animalia | Bilateria | Protostomia | Ecdysozoa | Arthropoda | Hexapoda | Insecta | Pterygota | Neoptera | Holometabola | Lepidoptera | Papilionoidea | Pieridae | Pierinae | Pierini | Pierina | Pieris | Pieris marginalis', None, None, 'eats', 'EOL:37718', 'Rorippa', 'Plantae | Tracheophyta | Magnoliopsida | Brassicales | Brassicaceae | Rorippa', None, None, None, None, None]]\n"
       ]
      }
     ],
     "prompt_number": 27
    },
    {
     "cell_type": "markdown",
     "metadata": {},
     "source": [
      "The response has two fields, `columns` and `data`, corresponding to the data frame's column names and rows. That's great because we can push it right into a `pandas.DataFrame`:"
     ]
    },
    {
     "cell_type": "code",
     "collapsed": false,
     "input": [
      "print(payload['columns'])"
     ],
     "language": "python",
     "metadata": {},
     "outputs": [
      {
       "output_type": "stream",
       "stream": "stdout",
       "text": [
        "['source_taxon_external_id', 'source_taxon_name', 'source_taxon_path', 'source_specimen_life_stage', 'source_specimen_basis_of_record', 'interaction_type', 'target_taxon_external_id', 'target_taxon_name', 'target_taxon_path', 'target_specimen_life_stage', 'target_specimen_basis_of_record', 'latitude', 'longitude', 'study_title']\n"
       ]
      }
     ],
     "prompt_number": 28
    },
    {
     "cell_type": "code",
     "collapsed": false,
     "input": [
      "print(payload['data'][0])"
     ],
     "language": "python",
     "metadata": {},
     "outputs": [
      {
       "output_type": "stream",
       "stream": "stdout",
       "text": [
        "['EOL:174006', 'Pieris marginalis', 'Animalia | Bilateria | Protostomia | Ecdysozoa | Arthropoda | Hexapoda | Insecta | Pterygota | Neoptera | Holometabola | Lepidoptera | Papilionoidea | Pieridae | Pierinae | Pierini | Pierina | Pieris | Pieris marginalis', None, None, 'eats', 'EOL:29914', 'Rubus', 'Plantae | Tracheophyta | Magnoliopsida | Rosales | Rosaceae | Rubus | Rubus status', None, None, None, None, None]\n"
       ]
      }
     ],
     "prompt_number": 9
    },
    {
     "cell_type": "markdown",
     "metadata": {},
     "source": [
      "We are lucky, sometimes it takes much more work to process the response into the data frame we like so much."
     ]
    },
    {
     "cell_type": "code",
     "collapsed": false,
     "input": [
      "df = pd.DataFrame(payload['data'], columns=payload['columns'])\n",
      "print(df.shape)\n",
      "df.head()"
     ],
     "language": "python",
     "metadata": {},
     "outputs": [
      {
       "output_type": "stream",
       "stream": "stdout",
       "text": [
        "(232, 14)\n"
       ]
      },
      {
       "html": [
        "<div style=\"max-height:1000px;max-width:1500px;overflow:auto;\">\n",
        "<table border=\"1\" class=\"dataframe\">\n",
        "  <thead>\n",
        "    <tr style=\"text-align: right;\">\n",
        "      <th></th>\n",
        "      <th>source_taxon_external_id</th>\n",
        "      <th>source_taxon_name</th>\n",
        "      <th>source_taxon_path</th>\n",
        "      <th>source_specimen_life_stage</th>\n",
        "      <th>source_specimen_basis_of_record</th>\n",
        "      <th>interaction_type</th>\n",
        "      <th>target_taxon_external_id</th>\n",
        "      <th>target_taxon_name</th>\n",
        "      <th>target_taxon_path</th>\n",
        "      <th>target_specimen_life_stage</th>\n",
        "      <th>target_specimen_basis_of_record</th>\n",
        "      <th>latitude</th>\n",
        "      <th>longitude</th>\n",
        "      <th>study_title</th>\n",
        "    </tr>\n",
        "  </thead>\n",
        "  <tbody>\n",
        "    <tr>\n",
        "      <th>0</th>\n",
        "      <td>EOL:174006</td>\n",
        "      <td>Pieris marginalis</td>\n",
        "      <td>Animalia | Bilateria | Protostomia | Ecdysozoa...</td>\n",
        "      <td>None</td>\n",
        "      <td>None</td>\n",
        "      <td>eats</td>\n",
        "      <td>EOL:29914</td>\n",
        "      <td>Rubus</td>\n",
        "      <td>Plantae | Tracheophyta | Magnoliopsida | Rosal...</td>\n",
        "      <td>None</td>\n",
        "      <td>None</td>\n",
        "      <td>None</td>\n",
        "      <td>None</td>\n",
        "      <td>None</td>\n",
        "    </tr>\n",
        "    <tr>\n",
        "      <th>1</th>\n",
        "      <td>EOL:174006</td>\n",
        "      <td>Pieris marginalis</td>\n",
        "      <td>Animalia | Bilateria | Protostomia | Ecdysozoa...</td>\n",
        "      <td>None</td>\n",
        "      <td>None</td>\n",
        "      <td>eats</td>\n",
        "      <td>EOL:37457</td>\n",
        "      <td>Arabis</td>\n",
        "      <td>Plantae | Tracheophyta | Magnoliopsida | Brass...</td>\n",
        "      <td>None</td>\n",
        "      <td>None</td>\n",
        "      <td>None</td>\n",
        "      <td>None</td>\n",
        "      <td>None</td>\n",
        "    </tr>\n",
        "    <tr>\n",
        "      <th>2</th>\n",
        "      <td>EOL:174006</td>\n",
        "      <td>Pieris marginalis</td>\n",
        "      <td>Animalia | Bilateria | Protostomia | Ecdysozoa...</td>\n",
        "      <td>None</td>\n",
        "      <td>None</td>\n",
        "      <td>eats</td>\n",
        "      <td>EOL:37718</td>\n",
        "      <td>Rorippa</td>\n",
        "      <td>Plantae | Tracheophyta | Magnoliopsida | Brass...</td>\n",
        "      <td>None</td>\n",
        "      <td>None</td>\n",
        "      <td>None</td>\n",
        "      <td>None</td>\n",
        "      <td>None</td>\n",
        "    </tr>\n",
        "    <tr>\n",
        "      <th>3</th>\n",
        "      <td>EOL:174006</td>\n",
        "      <td>Pieris marginalis</td>\n",
        "      <td>Animalia | Bilateria | Protostomia | Ecdysozoa...</td>\n",
        "      <td>None</td>\n",
        "      <td>None</td>\n",
        "      <td>eats</td>\n",
        "      <td>EOL:37667</td>\n",
        "      <td>Cardamine</td>\n",
        "      <td>Plantae | Tracheophyta | Magnoliopsida | Brass...</td>\n",
        "      <td>None</td>\n",
        "      <td>None</td>\n",
        "      <td>None</td>\n",
        "      <td>None</td>\n",
        "      <td>None</td>\n",
        "    </tr>\n",
        "    <tr>\n",
        "      <th>4</th>\n",
        "      <td>EOL:176683</td>\n",
        "      <td>Pieris rapae</td>\n",
        "      <td>Animalia | Arthropoda | Insecta | Lepidoptera ...</td>\n",
        "      <td>None</td>\n",
        "      <td>None</td>\n",
        "      <td>eats</td>\n",
        "      <td>EOL:467679</td>\n",
        "      <td>Centaurea melitensis</td>\n",
        "      <td>Plantae | Tracheophyta | Magnoliopsida | Aster...</td>\n",
        "      <td>None</td>\n",
        "      <td>None</td>\n",
        "      <td>None</td>\n",
        "      <td>None</td>\n",
        "      <td>None</td>\n",
        "    </tr>\n",
        "  </tbody>\n",
        "</table>\n",
        "</div>"
       ],
       "metadata": {},
       "output_type": "pyout",
       "prompt_number": 12,
       "text": [
        "  source_taxon_external_id  source_taxon_name  \\\n",
        "0               EOL:174006  Pieris marginalis   \n",
        "1               EOL:174006  Pieris marginalis   \n",
        "2               EOL:174006  Pieris marginalis   \n",
        "3               EOL:174006  Pieris marginalis   \n",
        "4               EOL:176683       Pieris rapae   \n",
        "\n",
        "                                   source_taxon_path  \\\n",
        "0  Animalia | Bilateria | Protostomia | Ecdysozoa...   \n",
        "1  Animalia | Bilateria | Protostomia | Ecdysozoa...   \n",
        "2  Animalia | Bilateria | Protostomia | Ecdysozoa...   \n",
        "3  Animalia | Bilateria | Protostomia | Ecdysozoa...   \n",
        "4  Animalia | Arthropoda | Insecta | Lepidoptera ...   \n",
        "\n",
        "  source_specimen_life_stage source_specimen_basis_of_record interaction_type  \\\n",
        "0                       None                            None             eats   \n",
        "1                       None                            None             eats   \n",
        "2                       None                            None             eats   \n",
        "3                       None                            None             eats   \n",
        "4                       None                            None             eats   \n",
        "\n",
        "  target_taxon_external_id     target_taxon_name  \\\n",
        "0                EOL:29914                 Rubus   \n",
        "1                EOL:37457                Arabis   \n",
        "2                EOL:37718               Rorippa   \n",
        "3                EOL:37667             Cardamine   \n",
        "4               EOL:467679  Centaurea melitensis   \n",
        "\n",
        "                                   target_taxon_path  \\\n",
        "0  Plantae | Tracheophyta | Magnoliopsida | Rosal...   \n",
        "1  Plantae | Tracheophyta | Magnoliopsida | Brass...   \n",
        "2  Plantae | Tracheophyta | Magnoliopsida | Brass...   \n",
        "3  Plantae | Tracheophyta | Magnoliopsida | Brass...   \n",
        "4  Plantae | Tracheophyta | Magnoliopsida | Aster...   \n",
        "\n",
        "  target_specimen_life_stage target_specimen_basis_of_record latitude  \\\n",
        "0                       None                            None     None   \n",
        "1                       None                            None     None   \n",
        "2                       None                            None     None   \n",
        "3                       None                            None     None   \n",
        "4                       None                            None     None   \n",
        "\n",
        "  longitude study_title  \n",
        "0      None        None  \n",
        "1      None        None  \n",
        "2      None        None  \n",
        "3      None        None  \n",
        "4      None        None  "
       ]
      }
     ],
     "prompt_number": 12
    },
    {
     "cell_type": "heading",
     "level": 2,
     "metadata": {},
     "source": [
      "Using the data"
     ]
    },
    {
     "cell_type": "markdown",
     "metadata": {},
     "source": [
      "Let's see what each caterpillar eats. We got the `eats` interactions, so let's just leave the source and target taxons:"
     ]
    },
    {
     "cell_type": "code",
     "collapsed": false,
     "input": [
      "cols = df.columns.tolist()\n",
      "cols.remove('source_taxon_name')\n",
      "cols.remove('target_taxon_name')\n",
      "print(cols)"
     ],
     "language": "python",
     "metadata": {},
     "outputs": [
      {
       "output_type": "stream",
       "stream": "stdout",
       "text": [
        "['source_taxon_external_id', 'source_taxon_path', 'source_specimen_life_stage', 'source_specimen_basis_of_record', 'interaction_type', 'target_taxon_external_id', 'target_taxon_path', 'target_specimen_life_stage', 'target_specimen_basis_of_record', 'latitude', 'longitude', 'study_title']\n"
       ]
      }
     ],
     "prompt_number": 13
    },
    {
     "cell_type": "code",
     "collapsed": false,
     "input": [
      "df.drop(labels=cols, axis=1, inplace=True)\n",
      "df.head()"
     ],
     "language": "python",
     "metadata": {
      "scrolled": true
     },
     "outputs": [
      {
       "html": [
        "<div style=\"max-height:1000px;max-width:1500px;overflow:auto;\">\n",
        "<table border=\"1\" class=\"dataframe\">\n",
        "  <thead>\n",
        "    <tr style=\"text-align: right;\">\n",
        "      <th></th>\n",
        "      <th>source_taxon_name</th>\n",
        "      <th>target_taxon_name</th>\n",
        "    </tr>\n",
        "  </thead>\n",
        "  <tbody>\n",
        "    <tr>\n",
        "      <th>0</th>\n",
        "      <td>Pieris marginalis</td>\n",
        "      <td>Rubus</td>\n",
        "    </tr>\n",
        "    <tr>\n",
        "      <th>1</th>\n",
        "      <td>Pieris marginalis</td>\n",
        "      <td>Arabis</td>\n",
        "    </tr>\n",
        "    <tr>\n",
        "      <th>2</th>\n",
        "      <td>Pieris marginalis</td>\n",
        "      <td>Rorippa</td>\n",
        "    </tr>\n",
        "    <tr>\n",
        "      <th>3</th>\n",
        "      <td>Pieris marginalis</td>\n",
        "      <td>Cardamine</td>\n",
        "    </tr>\n",
        "    <tr>\n",
        "      <th>4</th>\n",
        "      <td>Pieris rapae</td>\n",
        "      <td>Centaurea melitensis</td>\n",
        "    </tr>\n",
        "  </tbody>\n",
        "</table>\n",
        "</div>"
       ],
       "metadata": {},
       "output_type": "pyout",
       "prompt_number": 14,
       "text": [
        "   source_taxon_name     target_taxon_name\n",
        "0  Pieris marginalis                 Rubus\n",
        "1  Pieris marginalis                Arabis\n",
        "2  Pieris marginalis               Rorippa\n",
        "3  Pieris marginalis             Cardamine\n",
        "4       Pieris rapae  Centaurea melitensis"
       ]
      }
     ],
     "prompt_number": 14
    },
    {
     "cell_type": "markdown",
     "metadata": {},
     "source": [
      "Next, we count how many target taxons occur for each source taxon. For that, we group by source and aggregate by length (I made sure before that each source-target pair appears only once. How??). \n",
      "\n",
      "The `groupby` made `source_taxon_name` become an index rather than a column and that's why we call `reset_index`."
     ]
    },
    {
     "cell_type": "code",
     "collapsed": false,
     "input": [
      "table = df.groupby(by='source_taxon_name').aggregate(len).reset_index()\n",
      "table.head()"
     ],
     "language": "python",
     "metadata": {},
     "outputs": [
      {
       "html": [
        "<div style=\"max-height:1000px;max-width:1500px;overflow:auto;\">\n",
        "<table border=\"1\" class=\"dataframe\">\n",
        "  <thead>\n",
        "    <tr style=\"text-align: right;\">\n",
        "      <th></th>\n",
        "      <th>source_taxon_name</th>\n",
        "      <th>target_taxon_name</th>\n",
        "    </tr>\n",
        "  </thead>\n",
        "  <tbody>\n",
        "    <tr>\n",
        "      <th>0</th>\n",
        "      <td>Pieris brassicae</td>\n",
        "      <td>55</td>\n",
        "    </tr>\n",
        "    <tr>\n",
        "      <th>1</th>\n",
        "      <td>Pieris brassicoides</td>\n",
        "      <td>3</td>\n",
        "    </tr>\n",
        "    <tr>\n",
        "      <th>2</th>\n",
        "      <td>Pieris canidia</td>\n",
        "      <td>10</td>\n",
        "    </tr>\n",
        "    <tr>\n",
        "      <th>3</th>\n",
        "      <td>Pieris cheiranthi</td>\n",
        "      <td>1</td>\n",
        "    </tr>\n",
        "    <tr>\n",
        "      <th>4</th>\n",
        "      <td>Pieris deota</td>\n",
        "      <td>1</td>\n",
        "    </tr>\n",
        "  </tbody>\n",
        "</table>\n",
        "</div>"
       ],
       "metadata": {},
       "output_type": "pyout",
       "prompt_number": 15,
       "text": [
        "     source_taxon_name  target_taxon_name\n",
        "0     Pieris brassicae                 55\n",
        "1  Pieris brassicoides                  3\n",
        "2       Pieris canidia                 10\n",
        "3    Pieris cheiranthi                  1\n",
        "4         Pieris deota                  1"
       ]
      }
     ],
     "prompt_number": 15
    },
    {
     "cell_type": "markdown",
     "metadata": {},
     "source": [
      "Finally we rename the columns to make them more meaningful and we sort the table by the number of target taxons. Then we print and plot:"
     ]
    },
    {
     "cell_type": "code",
     "collapsed": false,
     "input": [
      "table = table.rename(columns={'source_taxon_name':'Pieris species', 'target_taxon_name': 'Number of known items in diet'})\n",
      "table = table.sort('Number of known items in diet', ascending=False)\n",
      "table"
     ],
     "language": "python",
     "metadata": {},
     "outputs": [
      {
       "html": [
        "<div style=\"max-height:1000px;max-width:1500px;overflow:auto;\">\n",
        "<table border=\"1\" class=\"dataframe\">\n",
        "  <thead>\n",
        "    <tr style=\"text-align: right;\">\n",
        "      <th></th>\n",
        "      <th>Pieris species</th>\n",
        "      <th>Number of known items in diet</th>\n",
        "    </tr>\n",
        "  </thead>\n",
        "  <tbody>\n",
        "    <tr>\n",
        "      <th>12</th>\n",
        "      <td>Pieris rapae</td>\n",
        "      <td>91</td>\n",
        "    </tr>\n",
        "    <tr>\n",
        "      <th>0</th>\n",
        "      <td>Pieris brassicae</td>\n",
        "      <td>55</td>\n",
        "    </tr>\n",
        "    <tr>\n",
        "      <th>11</th>\n",
        "      <td>Pieris napi</td>\n",
        "      <td>51</td>\n",
        "    </tr>\n",
        "    <tr>\n",
        "      <th>2</th>\n",
        "      <td>Pieris canidia</td>\n",
        "      <td>10</td>\n",
        "    </tr>\n",
        "    <tr>\n",
        "      <th>13</th>\n",
        "      <td>Pieris virginiensis</td>\n",
        "      <td>6</td>\n",
        "    </tr>\n",
        "    <tr>\n",
        "      <th>8</th>\n",
        "      <td>Pieris marginalis</td>\n",
        "      <td>4</td>\n",
        "    </tr>\n",
        "    <tr>\n",
        "      <th>1</th>\n",
        "      <td>Pieris brassicoides</td>\n",
        "      <td>3</td>\n",
        "    </tr>\n",
        "    <tr>\n",
        "      <th>6</th>\n",
        "      <td>Pieris krueperi</td>\n",
        "      <td>3</td>\n",
        "    </tr>\n",
        "    <tr>\n",
        "      <th>5</th>\n",
        "      <td>Pieris ergane</td>\n",
        "      <td>2</td>\n",
        "    </tr>\n",
        "    <tr>\n",
        "      <th>7</th>\n",
        "      <td>Pieris mannii</td>\n",
        "      <td>2</td>\n",
        "    </tr>\n",
        "    <tr>\n",
        "      <th>10</th>\n",
        "      <td>Pieris naganum</td>\n",
        "      <td>2</td>\n",
        "    </tr>\n",
        "    <tr>\n",
        "      <th>3</th>\n",
        "      <td>Pieris cheiranthi</td>\n",
        "      <td>1</td>\n",
        "    </tr>\n",
        "    <tr>\n",
        "      <th>4</th>\n",
        "      <td>Pieris deota</td>\n",
        "      <td>1</td>\n",
        "    </tr>\n",
        "    <tr>\n",
        "      <th>9</th>\n",
        "      <td>Pieris melete</td>\n",
        "      <td>1</td>\n",
        "    </tr>\n",
        "  </tbody>\n",
        "</table>\n",
        "</div>"
       ],
       "metadata": {},
       "output_type": "pyout",
       "prompt_number": 16,
       "text": [
        "         Pieris species  Number of known items in diet\n",
        "12         Pieris rapae                             91\n",
        "0      Pieris brassicae                             55\n",
        "11          Pieris napi                             51\n",
        "2        Pieris canidia                             10\n",
        "13  Pieris virginiensis                              6\n",
        "8     Pieris marginalis                              4\n",
        "1   Pieris brassicoides                              3\n",
        "6       Pieris krueperi                              3\n",
        "5         Pieris ergane                              2\n",
        "7         Pieris mannii                              2\n",
        "10       Pieris naganum                              2\n",
        "3     Pieris cheiranthi                              1\n",
        "4          Pieris deota                              1\n",
        "9         Pieris melete                              1"
       ]
      }
     ],
     "prompt_number": 16
    },
    {
     "cell_type": "code",
     "collapsed": false,
     "input": [
      "table.plot(x=\"Pieris species\", y=\"Number of known items in diet\", kind=\"barh\", legend=False)\n",
      "plt.ylabel('Number of known items in diet')\n",
      "plt.grid(False)\n",
      "sns.despine()"
     ],
     "language": "python",
     "metadata": {},
     "outputs": [
      {
       "metadata": {},
       "output_type": "display_data",
       "png": "[encoded data removed]",
       "text": [
        "<matplotlib.figure.Figure at 0x9a52ef0>"
       ]
      }
     ],
     "prompt_number": 17
    },
    {
     "cell_type": "markdown",
     "metadata": {},
     "source": [
      "A very hungry caterpillar\n",
      "![caterpillar](http://1.bp.blogspot.com/-gZhDuc_eD_U/U8To75wL9UI/AAAAAAAAOD4/Q7LDDM7B3H4/s1600/the-very-hungry-caterpillar-2.jpg)\n",
      "\n",
      "Pieris rapae\n",
      "![Pieris rapae](http://upload.wikimedia.org/wikipedia/commons/b/b4/Pieris.rapae.caterpillar.jpg)\n",
      "\n",
      "Pieris brassicae\n",
      "![Pieris brassicae](http://upload.wikimedia.org/wikipedia/commons/5/52/Pieris.brassicae.caterpillar.jpg)"
     ]
    },
    {
     "cell_type": "markdown",
     "metadata": {},
     "source": [
      "## Fin\n",
      "This notebook is part of the _Python Programming for Life Sciences Graduate Students_ course given in Tel-Aviv University, Spring 2015.\n",
      "\n",
      "The notebook was written using [Python](http://pytho.org/) 3.4.1 and [IPython](http://ipython.org/) 3.1.0 (download from [PyZo](http://www.pyzo.org/downloads.html)).\n",
      "\n",
      "The code is available at https://github.com/Py4Life/TAU2015/blob/master/globi_caterpillars.ipynb.\n",
      "\n",
      "The notebook can be viewed online at http://nbviewer.ipython.org/github/Py4Life/TAU2015/blob/master/globi_caterpillars.ipynb.\n",
      "\n",
      "This work is licensed under a Creative Commons Attribution-ShareAlike 3.0 Unported License.\n",
      "\n",
      "![Python logo](https://www.python.org/static/community_logos/python-logo.png)"
     ]
    }
   ],
   "metadata": {}
  }
 ]
}