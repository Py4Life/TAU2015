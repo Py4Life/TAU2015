{
 "metadata": {
  "name": "",
  "signature": "sha256:f2bfd6190ea5581be77471686216ef979b85b8b54099af6cfca30b3a27b5d88b"
 },
 "nbformat": 3,
 "nbformat_minor": 0,
 "worksheets": [
  {
   "cells": [
    {
     "cell_type": "markdown",
     "metadata": {},
     "source": [
      "# Py4Life \n",
      "## Python Programming for Life Sciences Graduate Students, Tel-Aviv University, Spring 2015\n",
      "## Lecture 4 - 30.3.2015\n",
      "### Last update: 22.11.2014\n",
      "\n",
      "This notebook is still a draft."
     ]
    },
    {
     "cell_type": "markdown",
     "metadata": {},
     "source": [
      "## Previously on Py4Life\n",
      "\n",
      "- Lists\n",
      "- Dictionaries\n",
      "- Functions"
     ]
    },
    {
     "cell_type": "markdown",
     "metadata": {},
     "source": [
      "## In today's episode\n",
      "\n",
      "- Modules\n",
      "- Files I/O\n",
      "- The CSV format"
     ]
    },
    {
     "cell_type": "markdown",
     "metadata": {},
     "source": [
      "## Modules\n",
      "Last time, we learned how to write and use functions.  \n",
      "Luckily, we don't have to create all the code alone. Many people have written functions that perform various tasks.  \n",
      "These functions are grouped into packages, called _modules_, which are usually designed to address a specific set of tasks.  \n",
      "These functions are not always 'ready to use' by our code, but rather have to be _imported_ into it."
     ]
    },
    {
     "cell_type": "markdown",
     "metadata": {},
     "source": [
      "Let's start with an example. Suppose we want to do some trigonometry, we can (in principal) write our own _sin,cos,tan_ etc.. But it would be much easier to use the built-in _math_ module."
     ]
    },
    {
     "cell_type": "code",
     "collapsed": false,
     "input": [
      "# first, we import the module\n",
      "import math\n",
      "\n",
      "# now we can use values and functions within the math module\n",
      "my_pi = math.pi\n",
      "print(my_pi)\n",
      "print(math.sin(my_pi/6))\n",
      "print(math.cos(my_pi/3))"
     ],
     "language": "python",
     "metadata": {},
     "outputs": [
      {
       "output_type": "stream",
       "stream": "stdout",
       "text": [
        "3.141592653589793\n",
        "0.49999999999999994\n",
        "0.5000000000000001\n"
       ]
      }
     ],
     "prompt_number": 5
    },
    {
     "cell_type": "markdown",
     "metadata": {},
     "source": [
      "If you only need one or two functions from a module, you can import them, instead of the whole module. This way, we don't have to call the module name every time."
     ]
    },
    {
     "cell_type": "code",
     "collapsed": false,
     "input": [
      "# import required functions from math\n",
      "from math import pi,sin,cos\n",
      "\n",
      "# now we can use values and functions within the math module\n",
      "my_pi = math.pi\n",
      "print(my_pi)\n",
      "print(sin(my_pi/6))\n",
      "print(cos(my_pi/3))"
     ],
     "language": "python",
     "metadata": {},
     "outputs": [
      {
       "output_type": "stream",
       "stream": "stdout",
       "text": [
        "3.141592653589793\n",
        "0.49999999999999994\n",
        "0.5000000000000001\n"
       ]
      }
     ],
     "prompt_number": 8
    },
    {
     "cell_type": "markdown",
     "metadata": {},
     "source": [
      "OK, cool, but how do I know which modules I need?"
     ]
    },
    {
     "cell_type": "markdown",
     "metadata": {},
     "source": [
      "![Google](http://www.catonmat.net/blog/wp-content/uploads/2009/03/google-python-search-library.jpg)"
     ]
    },
    {
     "cell_type": "markdown",
     "metadata": {},
     "source": [
      "You can also view the module documentation to see what functions are available and how to use them."
     ]
    },
    {
     "cell_type": "markdown",
     "metadata": {},
     "source": [
      "### Installing modules\n",
      "Many Python modules are included within the core distribution, and all you have to do is `import` them. However, many other modules need to be downloaded and installed first."
     ]
    },
    {
     "cell_type": "markdown",
     "metadata": {},
     "source": [
      "# ##########################################################################################################"
     ]
    },
    {
     "cell_type": "markdown",
     "metadata": {},
     "source": [
      "## Files I/O\n",
      "So far, we only used rather small data, like numbers, short strings and short lists. We stored these data in a local variable (i.e. in memory), and manipulated it. But what happens if we need to store large amounts of data?\n",
      "- Whole genomes\n",
      "- List of all insect species\n",
      "- Multiple numeric values\n",
      "This is what files are for!"
     ]
    },
    {
     "cell_type": "markdown",
     "metadata": {},
     "source": [
      "### Why do we need files?\n",
      "- Store large amounts of data\n",
      "- Use data in multiple sessions\n",
      "- Use data outside python\n",
      "- Provide data for other tools/programs"
     ]
    },
    {
     "cell_type": "markdown",
     "metadata": {},
     "source": [
      "We'll start with simple text files and proceed to more complex formats.  \n",
      "Let's read the list of crop plants located in lec4_files/crops.txt"
     ]
    },
    {
     "cell_type": "markdown",
     "metadata": {},
     "source": [
      "### Reading files\n",
      "Whenever we want to work with a file, we first need to _open_ it. This is, not surprisingly, done using the `open` function.  \n",
      "This function returns a file object which we can then use."
     ]
    },
    {
     "cell_type": "code",
     "collapsed": false,
     "input": [
      "crops_file = open('lec4_files/crops.txt','r')"
     ],
     "language": "python",
     "metadata": {},
     "outputs": [],
     "prompt_number": 4
    },
    {
     "cell_type": "markdown",
     "metadata": {},
     "source": [
      "The `open` function receives two parameters: the path to the file you want to open and the mode of opening, in this case - 'r' for 'read'.  \n",
      "Notice the / instead of \\ in the path. This is the easiest way to avoid path errors. Also note that this command alone does nothing, just creates the file object (sometimes called file handle).  \n",
      "In fact, we'll usually use the `open` function differently:"
     ]
    },
    {
     "cell_type": "code",
     "collapsed": false,
     "input": [
      "with open('lec4_files/crops.txt','r') as crops_file:\n",
      "    # indented block\n",
      "    # do stuff with file\n",
      "    pass"
     ],
     "language": "python",
     "metadata": {},
     "outputs": [],
     "prompt_number": 5
    },
    {
     "cell_type": "markdown",
     "metadata": {},
     "source": [
      "OK, so what can we do with files?  \n",
      "Like lists, strings and other variable types, file objects have _methods_ we can use.  "
     ]
    },
    {
     "cell_type": "markdown",
     "metadata": {},
     "source": [
      "#### Reading line by line - readline()\n",
      "We can read files line by line using the `readline()` method."
     ]
    },
    {
     "cell_type": "code",
     "collapsed": false,
     "input": [
      "with open('lec4_files/crops.txt','r') as crops_file:\n",
      "    first_line = crops_file.readline()\n",
      "    print(first_line)\n",
      "    second_line = crops_file.readline()\n",
      "    print(second_line)"
     ],
     "language": "python",
     "metadata": {},
     "outputs": [
      {
       "output_type": "stream",
       "stream": "stdout",
       "text": [
        "Abelmoschus caillei\n",
        "\n",
        "Abelmoschus esculentus\n",
        "\n"
       ]
      }
     ],
     "prompt_number": 6
    },
    {
     "cell_type": "markdown",
     "metadata": {},
     "source": [
      "Oops, why did we get double new lines?  \n",
      "This is because each line in the file end with a '\\n' (new line). The `print` command adds another \\n by default.  \n",
      "To avoid this, always use the _strip()_ string methods on lines you read from a file. This will remove new lines and white spaces from the beginning and end of the line."
     ]
    },
    {
     "cell_type": "code",
     "collapsed": false,
     "input": [
      "with open('lec4_files/crops.txt','r') as crops_file:\n",
      "    first_line = crops_file.readline().strip()\n",
      "    print(first_line)\n",
      "    second_line = crops_file.readline().strip()\n",
      "    print(second_line)"
     ],
     "language": "python",
     "metadata": {},
     "outputs": [
      {
       "output_type": "stream",
       "stream": "stdout",
       "text": [
        "Abelmoschus caillei\n",
        "Abelmoschus esculentus\n"
       ]
      }
     ],
     "prompt_number": 7
    },
    {
     "cell_type": "markdown",
     "metadata": {},
     "source": [
      "#### Reading the entire file - read()\n",
      "We can read the entire file as a big string with the `read()` command.  \n",
      "Careful with this one! This is not recommended for large files."
     ]
    },
    {
     "cell_type": "code",
     "collapsed": false,
     "input": [
      "with open('lec4_files/crops.txt','r') as crops_file:\n",
      "    entire_file = crops_file.read()\n",
      "    print(entire_file[:102]) # print first 102 characters"
     ],
     "language": "python",
     "metadata": {},
     "outputs": [
      {
       "output_type": "stream",
       "stream": "stdout",
       "text": [
        "Abelmoschus caillei\n",
        "Abelmoschus esculentus\n",
        "Acacia mearnsii\n",
        "Acacia senegal\n",
        "Acacia seyal\n",
        "Acca sellowiana\n"
       ]
      }
     ],
     "prompt_number": 9
    },
    {
     "cell_type": "markdown",
     "metadata": {},
     "source": [
      "#### Reading all lines into a list - readlines()\n",
      "This is basically like splitting the contents of the file by the \\n character. This method is only useful for small files, since we don't want to work with huge lists."
     ]
    },
    {
     "cell_type": "code",
     "collapsed": false,
     "input": [
      "with open('lec4_files/crops.txt','r') as crops_file:\n",
      "    crops_lines = crops_file.readlines()\n",
      "    print(crops_lines[:10])"
     ],
     "language": "python",
     "metadata": {},
     "outputs": [
      {
       "output_type": "stream",
       "stream": "stdout",
       "text": [
        "['Abelmoschus caillei\\n', 'Abelmoschus esculentus\\n', 'Acacia mearnsii\\n', 'Acacia senegal\\n', 'Acacia seyal\\n', 'Acca sellowiana\\n', 'Acer saccharum\\n', 'Acmella oleracea\\n', 'Actinidia arguta\\n', 'Actinidia deliciosa\\n']\n"
       ]
      }
     ],
     "prompt_number": 15
    },
    {
     "cell_type": "markdown",
     "metadata": {},
     "source": [
      "We got a list of strings, each ending with a \\n character. We can now iterate on the list."
     ]
    },
    {
     "cell_type": "code",
     "collapsed": false,
     "input": [
      "from IPython.display import Image\n",
      "with open('lec4_files/crops.txt','r') as crops_file:\n",
      "    crops_lines = crops_file.readlines()\n",
      "    for line in crops_lines:\n",
      "        crop = line.strip()\n",
      "        if crop[:8] == 'Fragaria':\n",
      "            print(crop)\n",
      "            display(Image(url='http://upload.wikimedia.org/wikipedia/commons/2/29/PerfectStrawberry.jpg'))"
     ],
     "language": "python",
     "metadata": {},
     "outputs": [
      {
       "output_type": "stream",
       "stream": "stdout",
       "text": [
        "Fragaria x ananassa\n"
       ]
      },
      {
       "html": [
        "<img src=\"http://upload.wikimedia.org/wikipedia/commons/2/29/PerfectStrawberry.jpg\"/>"
       ],
       "metadata": {},
       "output_type": "display_data",
       "text": [
        "<IPython.core.display.Image at 0x6c42a20>"
       ]
      }
     ],
     "prompt_number": 22
    },
    {
     "cell_type": "markdown",
     "metadata": {},
     "source": [
      "#### Looping over the file object\n",
      "We can simply use a for loop to go over all lines. This is the best practice, and also very simple to use:"
     ]
    },
    {
     "cell_type": "code",
     "collapsed": false,
     "input": [
      "with open('lec4_files/crops.txt','r') as crops_file:\n",
      "    for line in crops_file:\n",
      "        crop = line.strip()\n",
      "        if crop[:6] == 'Ananas':\n",
      "            print(crop)\n",
      "            display(Image(url='http://upload.wikimedia.org/wikipedia/commons/e/ea/Formosajf1792.JPG'))"
     ],
     "language": "python",
     "metadata": {},
     "outputs": [
      {
       "output_type": "stream",
       "stream": "stdout",
       "text": [
        "Ananas comosus\n"
       ]
      },
      {
       "html": [
        "<img src=\"http://upload.wikimedia.org/wikipedia/commons/e/ea/Formosajf1792.JPG\"/>"
       ],
       "metadata": {},
       "output_type": "display_data",
       "text": [
        "<IPython.core.display.Image at 0x6c50940>"
       ]
      }
     ],
     "prompt_number": 23
    },
    {
     "cell_type": "markdown",
     "metadata": {},
     "source": [
      "## <span style=\"color:blue\">Class exercise 4A</span>"
     ]
    },
    {
     "cell_type": "markdown",
     "metadata": {},
     "source": [
      "Use one of the file-reading techniques shown above to:  \n",
      "1) Print the last line in the file.  \n",
      "2) Find out how many Triticum species are in the file."
     ]
    },
    {
     "cell_type": "code",
     "collapsed": false,
     "input": [
      "# 1)"
     ],
     "language": "python",
     "metadata": {},
     "outputs": []
    },
    {
     "cell_type": "code",
     "collapsed": false,
     "input": [
      "# 2)"
     ],
     "language": "python",
     "metadata": {},
     "outputs": []
    },
    {
     "cell_type": "markdown",
     "metadata": {},
     "source": [
      "### Summary\n",
      "Whenever treating a file, there are three elements:\n",
      "- File __path__ - the actual location of the file on the hard drive.\n",
      "- File __object__ - the way files are handled in Python.\n",
      "- File __contents__ - what is extracted from the file, depending on the method used on the file object."
     ]
    },
    {
     "cell_type": "markdown",
     "metadata": {},
     "source": [
      "### Writing to a file\n",
      "To write to a file, we first have to open it for writing. This is done using one of two modes: 'w' or 'a'.  \n",
      "'w', for write, will let you write into the file. If it doesn't exist, it'll be automatically created. If it exists and already has some content, __the content will be overwritten!__  \n",
      "'a', for append, is very similar, only it will not overwrite, but add your text to the end of an existing file. "
     ]
    },
    {
     "cell_type": "code",
     "collapsed": false,
     "input": [
      "with open('lec4_files/output.txt','w') as out_file:\n",
      "    # indented block\n",
      "    # write into file..."
     ],
     "language": "python",
     "metadata": {},
     "outputs": [],
     "prompt_number": 6
    },
    {
     "cell_type": "markdown",
     "metadata": {},
     "source": [
      "Writing is done using the `write()` method of the file object. This method works pretty much like `print()` - it receives a string and writes it out. Of course, your string may be stored within a variable."
     ]
    },
    {
     "cell_type": "code",
     "collapsed": false,
     "input": [
      "with open('lec4_files/output.txt','w') as out_file:\n",
      "    out_file.write('This is the first line')\n",
      "    line = 'Another line'\n",
      "    out_file.write(line)\n",
      "    seq1 = 'ATTAGCGGATA'\n",
      "    seq2 = 'GGCATATAT'\n",
      "    out_file.write(seq1 + seq2)"
     ],
     "language": "python",
     "metadata": {},
     "outputs": [],
     "prompt_number": 8
    },
    {
     "cell_type": "markdown",
     "metadata": {},
     "source": [
      "Let's look at output.txt...  \n",
      "Not exactly what we wanted. The `write()` method, unlike `print()` does not add a new line by default.  \n",
      "We can simple add the '\\n' character:"
     ]
    },
    {
     "cell_type": "code",
     "collapsed": false,
     "input": [
      "with open('lec4_files/output.txt','a') as out_file:\n",
      "    out_file.write('\\nThis is the first line\\n')\n",
      "    line = 'Another line\\n'\n",
      "    out_file.write(line)\n",
      "    seq1 = 'ATTAGCGGATA'\n",
      "    seq2 = 'GGCATATAT'\n",
      "    out_file.write(seq1 + seq2 + '\\n')"
     ],
     "language": "python",
     "metadata": {},
     "outputs": [],
     "prompt_number": 9
    },
    {
     "cell_type": "markdown",
     "metadata": {},
     "source": [
      "### Parsing files\n",
      "Parsing is _\"the process of analyzing a string of symbols, either in natural language or in computer languages, conforming to the rules of a formal grammar.\"_  \n",
      "More simply, parsing is reading a file in a specific format, 'slurping' the data and storing it in a data structure of your choice. We can then use this structure to analyze, print or simply view the data in a certain way.  \n",
      "Each file format has its own set of 'rules', and therefore needs to be parsed in a tailored manner. Here we will see an example very relevant for biologists."
     ]
    },
    {
     "cell_type": "markdown",
     "metadata": {},
     "source": [
      "### The FASTA format"
     ]
    },
    {
     "cell_type": "markdown",
     "metadata": {},
     "source": [
      "FASTA format is a text-based format for representing either nucleotide sequences or peptide sequences, in which nucleotides or amino acids are represented using single-letter codes. Each sequence has a header. Header lines start with '>'.  \n",
      "The file camelus.fasta includes five sequences of Camelus species. In this parsing example, we'll arrange the data in this file in a dictionary, so that the key is the id number from the header, and the value is the sequence.  "
     ]
    },
    {
     "cell_type": "markdown",
     "metadata": {},
     "source": [
      "We'll start by writing the parsing function."
     ]
    },
    {
     "cell_type": "code",
     "collapsed": false,
     "input": [
      "def parse_fasta(fasta_file):\n",
      "    # create an empty dictionary to store the sequences\n",
      "    sequences = {}\n",
      "    # open fasta file for reading\n",
      "    with open(fasta_file,'r') as fasta_obj:\n",
      "        # Loop over file lines\n",
      "        for line in fasta_obj:\n",
      "            # if header line\n",
      "            if line[0] == '>':\n",
      "                seq_id = line.split('|')[1]\n",
      "            # if sequence line\n",
      "            else:\n",
      "                seq = line.strip()\n",
      "                sequences[seq_id] = seq\n",
      "    return sequences"
     ],
     "language": "python",
     "metadata": {},
     "outputs": [],
     "prompt_number": 1
    },
    {
     "cell_type": "markdown",
     "metadata": {},
     "source": [
      "Now we can use the result. For example, let's print the first 10 nucleotides of every sequence."
     ]
    },
    {
     "cell_type": "code",
     "collapsed": false,
     "input": [
      "camelus_seq = parse_fasta('lec4_files/camelus.fasta')\n",
      "for seq_id in camelus_seq:\n",
      "    print(seq_id,\" - \",camelus_seq[seq_id][:10])"
     ],
     "language": "python",
     "metadata": {},
     "outputs": [
      {
       "output_type": "stream",
       "stream": "stdout",
       "text": [
        "156447993  -  TACGCATATC\n",
        "156447991  -  TACGCATATC\n",
        "156447989  -  TACGCATATC\n",
        "156447992  -  TACGCATATC\n",
        "156447990  -  TACGCATATC\n"
       ]
      }
     ],
     "prompt_number": 4
    },
    {
     "cell_type": "markdown",
     "metadata": {},
     "source": [
      "## <span style=\"color:blue\">Class exercise 4B</span>"
     ]
    },
    {
     "cell_type": "markdown",
     "metadata": {},
     "source": [
      "Change the function above so that it takes the gb accession (e.g. EF471324.1) as key and 30 first nucleotides as value. Then use the output dictionary to print the results to a new file, in the following format:  \n",
      "EF471324.1 - AGAGTCTTTGTAGTATATGGATTACGCTGG  \n",
      "EF471323.1 - AGAGTCTTTGTAGTATATTGATTACGCTGG  \n",
      ".  \n",
      ".  \n",
      "."
     ]
    },
    {
     "cell_type": "code",
     "collapsed": false,
     "input": [
      "# new function\n",
      "def parse_fasta_30_nuc(fasta_file):\n",
      "    \n",
      "\n",
      "# parse file\n",
      "camelus_seq = parse_fasta_30_nuc('lec4_files/camelus.fasta')\n",
      "\n",
      "# write to new file\n",
      "with open(???) as of:\n",
      "    for gb_id in camelus_seq:\n",
      "        \n",
      "        \n"
     ],
     "language": "python",
     "metadata": {},
     "outputs": []
    },
    {
     "cell_type": "markdown",
     "metadata": {},
     "source": [
      "### The CSV format\n",
      "Comma separated values (CSV) is a very common and useful format for storing tabular data. It is similar to an Excel file, only it is completely text based. Let's have a look at an example file, both using Excel and a simple text editor."
     ]
    },
    {
     "cell_type": "markdown",
     "metadata": {},
     "source": [
      "We can, quite easily, create our own functions for dealing with CSV files, for example by splitting each line by commas. However, Python has a built-in module for exactly this purpose, so why bother?"
     ]
    },
    {
     "cell_type": "markdown",
     "metadata": {},
     "source": [
      "#### Reading CSV files\n",
      "The most simple way to read a CSV file is to use the modules `reader` function. This function receives a file object (created with `open()`) and returns a reader object."
     ]
    },
    {
     "cell_type": "code",
     "collapsed": false,
     "input": [
      "import csv\n",
      "experiments_file = 'lec4_files/electrolyte_leakage.csv'\n",
      "with open(experiments_file, 'r') as csv_file_object:\n",
      "    csv_reader = csv.reader(csv_file_object)"
     ],
     "language": "python",
     "metadata": {},
     "outputs": [],
     "prompt_number": 2
    },
    {
     "cell_type": "markdown",
     "metadata": {},
     "source": [
      "Once we have defined the csv reader, we can use it to iterate over the file lines. Each row is returned as a list of the column values."
     ]
    },
    {
     "cell_type": "code",
     "collapsed": false,
     "input": [
      "import csv\n",
      "experiments_file = 'lec4_files/electrolyte_leakage.csv'\n",
      "with open(experiments_file, 'r') as csv_file_object:\n",
      "    csv_reader = csv.reader(csv_file_object)\n",
      "    for row in csv_reader:\n",
      "        print(row[0])"
     ],
     "language": "python",
     "metadata": {},
     "outputs": [
      {
       "output_type": "stream",
       "stream": "stdout",
       "text": [
        "accession\n",
        "101AV/Ge-0\n",
        "157AV/Ita-0\n",
        "162AV/Ct-1\n",
        "163AV/Can-0\n",
        "166AV/Cvi-0\n",
        "172AV/Bur-0\n",
        "180AV/Blh-1\n",
        "186AV/Col-0\n",
        "200AV/Gre-0\n",
        "215AV/Mh-1\n",
        "224AV/Oy-0\n",
        "236AV/Shadahra\n",
        "252AV/Akita\n",
        "257AV/Sakata\n",
        "25AV/Jea\n",
        "266AV/N13\n",
        "42AV/Bl-1\n",
        "62AV/St-0\n",
        "70AV/Kn-0\n",
        "83AV/Edi-0\n",
        "8AV/Pyl-1\n",
        "91AV/Tsu-0\n",
        "94AV/Mt-0\n",
        "96AV/An-1\n"
       ]
      }
     ],
     "prompt_number": 3
    },
    {
     "cell_type": "markdown",
     "metadata": {},
     "source": [
      "Alternatively, you can use `csv.DictReader()` to get each row as a dictionary, where the keys are the column headers and the values are the contents of each row. For example, to achieve the same result as above, we can do:"
     ]
    },
    {
     "cell_type": "code",
     "collapsed": false,
     "input": [
      "with open(experiments_file, 'r') as csv_file_object:\n",
      "    csv_dict = csv.DictReader(csv_file_object)\n",
      "    for row in csv_dict:\n",
      "        print(row['accession'])"
     ],
     "language": "python",
     "metadata": {},
     "outputs": [
      {
       "output_type": "stream",
       "stream": "stdout",
       "text": [
        "101AV/Ge-0\n",
        "157AV/Ita-0\n",
        "162AV/Ct-1\n",
        "163AV/Can-0\n",
        "166AV/Cvi-0\n",
        "172AV/Bur-0\n",
        "180AV/Blh-1\n",
        "186AV/Col-0\n",
        "200AV/Gre-0\n",
        "215AV/Mh-1\n",
        "224AV/Oy-0\n",
        "236AV/Shadahra\n",
        "252AV/Akita\n",
        "257AV/Sakata\n",
        "25AV/Jea\n",
        "266AV/N13\n",
        "42AV/Bl-1\n",
        "62AV/St-0\n",
        "70AV/Kn-0\n",
        "83AV/Edi-0\n",
        "8AV/Pyl-1\n",
        "91AV/Tsu-0\n",
        "94AV/Mt-0\n",
        "96AV/An-1\n"
       ]
      }
     ],
     "prompt_number": 9
    },
    {
     "cell_type": "markdown",
     "metadata": {},
     "source": [
      "#### Writing CSV files\n",
      "Writing is also rather straightforward. The csv module supplies the `csv.writer` object, which has the method `writerow()`. This function receives a list, and prints it as a csv line."
     ]
    },
    {
     "cell_type": "code",
     "collapsed": false,
     "input": [
      "import csv\n",
      "new_file = 'lec4_files/out_csv.csv'\n",
      "with open(new_file, 'w', newline='') as csv_out_object:    # notice the 'w' instead of 'r'\n",
      "    csv_writer = csv.writer(csv_out_object)\n",
      "    csv_writer.writerow(['these','are','the','column','headers'])\n",
      "    csv_writer.writerow(['and','these','are','the','values'])"
     ],
     "language": "python",
     "metadata": {},
     "outputs": [],
     "prompt_number": 11
    },
    {
     "cell_type": "markdown",
     "metadata": {},
     "source": [
      "## <span style=\"color:blue\">Class exercise 4C</span>"
     ]
    },
    {
     "cell_type": "markdown",
     "metadata": {},
     "source": [
      "The electrolyte_leakage.csv file depicts the results of experiments on different Arabidopsis ecotypes (accessions). In each row, there are 3 control plants and 3 plants tested under draught stress.  \n",
      "Read the CSV file, calculate the mean result for control and for test plants of each ecotype, and print the result as a new CSV file, in the following way:  \n",
      "  \n",
      "Accession  |  control mean  |  test mean  \n",
      "101AV/Ge-0 |      7.34      |     3.03  \n",
      "157AV/Ita-0|     16.85      |     2.92  \n",
      ".  \n",
      ".  \n",
      ".  \n",
      "  \n",
      "Try opening the output file in Excel to make sure your code works propperly."
     ]
    },
    {
     "cell_type": "code",
     "collapsed": false,
     "input": [],
     "language": "python",
     "metadata": {},
     "outputs": []
    },
    {
     "cell_type": "markdown",
     "metadata": {},
     "source": [
      "## Fin\n",
      "This notebook is part of the _Python Programming for Life Sciences Graduate Students_ course given in Tel-Aviv University, Spring 2015.\n",
      "\n",
      "Part of this notebook was adapted from the [Lists and Loops](http://pythonforbiologists.com/index.php/introduction-to-python-for-biologists/lists-and-loops/) chapter in Martin Jones's _Python for Biologists_ book.\n",
      "\n",
      "The notebook was written using [Python](http://pytho.org/) 3.4.1 and [IPython](http://ipython.org/) 2.1.0 (download from [PyZo](http://www.pyzo.org/downloads.html)).\n",
      "\n",
      "The code is available at https://github.com/yoavram/Py4Life/blob/master/lecture2.ipynb.\n",
      "\n",
      "The notebook can be viewed online at http://nbviewer.ipython.org/github/yoavram/Py4Life/blob/master/lecture2.ipynb.\n",
      "\n",
      "The notebook is also available as a PDF at https://github.com/yoavram/Py4Life/blob/master/lecture2.pdf?raw=true.\n",
      "\n",
      "This work is licensed under a Creative Commons Attribution-ShareAlike 3.0 Unported License.\n",
      "\n",
      "![Python logo](http://www.afterhoursprogramming.com/images/python-logo.png)"
     ]
    },
    {
     "cell_type": "code",
     "collapsed": false,
     "input": [],
     "language": "python",
     "metadata": {},
     "outputs": []
    },
    {
     "cell_type": "code",
     "collapsed": false,
     "input": [],
     "language": "python",
     "metadata": {},
     "outputs": []
    }
   ],
   "metadata": {}
  }
 ]
}