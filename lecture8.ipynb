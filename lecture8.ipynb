{
 "metadata": {
  "name": "",
  "signature": "sha256:c2372916665b65fa4c766b097c7515d3a3b192fba10947276e4bf7fe16616364"
 },
 "nbformat": 3,
 "nbformat_minor": 0,
 "worksheets": [
  {
   "cells": [
    {
     "cell_type": "markdown",
     "metadata": {},
     "source": [
      "# Py4Life \n",
      "## Python Programming for Life Sciences Graduate Students, Tel-Aviv University, Spring 2015\n",
      "## Lecture 8 - X.X.2015\n",
      "### Last update: 14.1.2015"
     ]
    },
    {
     "cell_type": "markdown",
     "metadata": {},
     "source": [
      "## References\n",
      "\n",
      "- Watson, HW & Galton, F. __On the Probability of the Extinction of Families__. _Journal of the Anthropological Institute of Great Britain_, 4:138\u2013144, 1875. [PDF](http://galton.org/essays/1870-1879/galton-1874-jaigi-family-extinction.pdf)"
     ]
    },
    {
     "cell_type": "markdown",
     "metadata": {},
     "source": [
      "## Fin\n",
      "This notebook is part of the _Python Programming for Life Sciences Graduate Students_ course given in Tel-Aviv University, Spring 2015.\n",
      "\n",
      "The notebook was written using [Python](http://pytho.org/) 3.4.1 and [IPython](http://ipython.org/) 2.1.0 (download from [PyZo](http://www.pyzo.org/downloads.html)).\n",
      "\n",
      "The code is available at https://github.com/yoavram/Py4Life/blob/master/lecture8.ipynb.\n",
      "\n",
      "The notebook can be viewed online at http://nbviewer.ipython.org/github/yoavram/Py4Life/blob/master/lecture8.ipynb.\n",
      "\n",
      "The notebook is also available as a PDF at https://github.com/yoavram/Py4Life/blob/master/lecture8.pdf?raw=true.\n",
      "\n",
      "This work is licensed under a Creative Commons Attribution-ShareAlike 3.0 Unported License.\n",
      "\n",
      "![Python logo](https://www.python.org/static/community_logos/python-logo.png)"
     ]
    },
    {
     "cell_type": "markdown",
     "metadata": {},
     "source": [
      "# Stochastic processes\n",
      "\n",
      "Stochastic processes are model that describe change through time in the state of a system subject to random events and noise.\n",
      "The randomness brought by the noise takes into account the variability observed in real-world\n",
      "phenomena. For example, the evolution of a species trait typically exhibits long-term behaviors\n",
      "along with faster, smaller-amplitude oscillations, reflecting generational variation.\n",
      "Applications of stochastic processes to life sciences include methods for statistical inference\n",
      "(such as Markov chain Monte Carlo) and stochastic modeling for time series or geospatial data.\n",
      "\n",
      "This lecture draws from ch. 13 in the book [IPython Interactive Computing and Visualization Cookbook](http://ipython-books.github.io/cookbook/) by [Cyrille Rossant](http://cyrille.rossant.net/). See also his minibook [Learning IPython for Interactive Computing and Data Visualization](http://ipython-books.github.io/minibook/).\n",
      "\n",
      "## Markov chain\n",
      "\n",
      "Markov chains are stochastic processes that undergo transitions from one\n",
      "state to another. Transitions occur at every (discrete) time step. Markov chains are\n",
      "characterized by their _lack of memory_ in that the probability to undergo a transition from\n",
      "the current state to the next depends only on the current state, not the previous ones.\n",
      "\n",
      "Markov chains are relatively easy to study mathematically and to simulate numerically.\n",
      "\n",
      "Markov chains are used for modeling evolutionary dynamics in population genetics, \n",
      "population dynamics in ecology and molecular biology, disease spread in epidemiology, and more.\n",
      "\n",
      "We will simulate a simple Markov chain modeling the evolution of a population.\n",
      "\n",
      "Let's start by importing NumPy & Co. as well as seaborn for plot styling:"
     ]
    },
    {
     "cell_type": "code",
     "collapsed": false,
     "input": [
      "%pylab inline\n",
      "import seaborn as sns\n",
      "sns.set_style('white')\n",
      "sns.set_context('talk')"
     ],
     "language": "python",
     "metadata": {},
     "outputs": [
      {
       "output_type": "stream",
       "stream": "stdout",
       "text": [
        "Populating the interactive namespace from numpy and matplotlib\n"
       ]
      }
     ],
     "prompt_number": 10
    },
    {
     "cell_type": "markdown",
     "metadata": {},
     "source": [
      "### Branching process\n",
      "\n",
      "One of the simplest Markov chain is the Branching process of the [Galton-Wason process](http://en.wikipedia.org/wiki/Galton%E2%80%93Watson_process). \n",
      "\n",
      "There was concern amongst the Victorians that aristocratic surnames were becoming extinct. Francis Galton originally posed the question regarding the probability of such an event in the _Educational Times_ of 1873, and the Reverend Henry William Watson replied with a solution (Watson & Galton, 1875). The process models family names as patrilineal (passed from father to son), while offspring are randomly either male or female, and names become extinct if the family name line dies out (holders of the family name die without male descendants). This is an accurate description of Y chromosome transmission in genetics, and the model is thus useful for understanding human Y-chromosome DNA haplogroups, and is also of use in understanding other processes (as described below); but its application to actual extinction of family names is fraught. In practice, family names change for many other reasons, and dying out of name line is only one factor.\n",
      "\n",
      "To make matters a bit easier we will assume that if _N_ people have the same surname than it is protected from extinction. \n",
      "We further simplify the model by assuming that each male has probability $n$ offspring and each offspring has a probability $p$ to be male and reach repductive age."
     ]
    },
    {
     "cell_type": "code",
     "collapsed": false,
     "input": [
      "N = 1000\n",
      "n = 3\n",
      "p = 0.35 # probability for a reproductive son"
     ],
     "language": "python",
     "metadata": {},
     "outputs": [],
     "prompt_number": 114
    },
    {
     "cell_type": "markdown",
     "metadata": {},
     "source": [
      "We simulate a Markov chain on the finite space ${0, 1, ..., N}$. Each state represents\n",
      "the population size - the number of males with the same surname. The $x$ vector will contain the population size at each time step.\n",
      "We set the initial state to $x_0$ (that is, there are $x_0$ individuals in the population at\n",
      "initialization time):"
     ]
    },
    {
     "cell_type": "code",
     "collapsed": false,
     "input": [
      "nsteps = 100\n",
      "x      = zeros(nsteps)\n",
      "x[0]   = 10"
     ],
     "language": "python",
     "metadata": {},
     "outputs": [],
     "prompt_number": 115
    },
    {
     "cell_type": "markdown",
     "metadata": {},
     "source": [
      "Now we simulate our chain. At each time step $t$ and for each male, \n",
      "the number of healthy boys has a Binomial distribution $B(n,p)$.\n",
      "\n",
      "So at generation $t+1$, the probability that the number of males with the same surname is $k$:\n",
      "$$\n",
      "{n x_{t} \\choose k} p^k (1-p)^{n x_{t} - k}\n",
      "$$\n",
      "and only depends on the number of males in generation $t$ (the Markovian lack of memory trait).\n",
      "\n",
      "Note that if the number of males reaches _0_ or _N_, the process stops.\n",
      "\n",
      "We can draw numbers from a Binomial distribution using `numpy.random.binomial`:"
     ]
    },
    {
     "cell_type": "code",
     "collapsed": false,
     "input": [
      "for t in range(nsteps - 1):\n",
      "    if 0 < x[t] < N-1:\n",
      "        # Update the number of males in the next generation\n",
      "        x[t+1] = binomial(n*x[t], p)\n",
      "    # The process stops if we reach 0 or N.\n",
      "    else:\n",
      "        x[t+1] = x[t]\n",
      "plot(x)\n",
      "xlabel('time')\n",
      "ylabel('# males');"
     ],
     "language": "python",
     "metadata": {},
     "outputs": [
      {
       "metadata": {},
       "output_type": "display_data",
       "png": "[encoded data removed]",
       "text": [
        "<matplotlib.figure.Figure at 0x607c2b0>"
       ]
      }
     ],
     "prompt_number": 116
    },
    {
     "cell_type": "markdown",
     "metadata": {},
     "source": [
      "We see that, at every time step, the number of males can stay stable, increase, or\n",
      "decrease.\n",
      "\n",
      "Now, we will simulate many independent trials of this Markov chain for many different surnames. \n",
      "We could run the previous simulation with a loop, but it would be very slow (two nested for\n",
      "loops). Instead, we vectorize the simulation by considering all independent trials\n",
      "at once. There is a single loop over time. At every time step, we update all trials\n",
      "simultaneously with vectorized operations on vectors. The $x$ vector now contains the\n",
      "number of males of all trials, at a particular time. At initialization time, the number of males\n",
      "are set to random numbers between _0_ and _N_:"
     ]
    },
    {
     "cell_type": "code",
     "collapsed": false,
     "input": [
      "ntrials = 100\n",
      "n = 3\n",
      "p = 0.34\n",
      "\n",
      "x = randint(size=ntrials, low=0, high=N)"
     ],
     "language": "python",
     "metadata": {},
     "outputs": [],
     "prompt_number": 151
    },
    {
     "cell_type": "markdown",
     "metadata": {},
     "source": [
      "We define a function that performs the simulation. At every time step, we find the\n",
      "trials that undergo boy births and girl births by generating random vectors, and we update\n",
      "the number of males with vector operations:"
     ]
    },
    {
     "cell_type": "code",
     "collapsed": false,
     "input": [
      "def simulate(x, nsteps):\n",
      "    \"\"\"Run the simulation.\"\"\"\n",
      "    for _ in range(nsteps - 1):\n",
      "        # Which trials to update?\n",
      "        update = (0 < x) & (x < N-1)\n",
      "        # In which trials do births occur?\n",
      "        boys = binomial(x[update] * n, p)\n",
      "        # We update the population size for all trials.\n",
      "        x[update] = boys"
     ],
     "language": "python",
     "metadata": {},
     "outputs": [],
     "prompt_number": 152
    },
    {
     "cell_type": "markdown",
     "metadata": {},
     "source": [
      "Now, let's look at the histograms of the number of males at different times.\n",
      "These histograms represent the probability distribution of the Markov chain,\n",
      "estimated with independent trials (the Monte Carlo method):"
     ]
    },
    {
     "cell_type": "code",
     "collapsed": false,
     "input": [
      "bins = np.linspace(0, N, 25)\n",
      "nsteps_list = [10, 100, 1000]"
     ],
     "language": "python",
     "metadata": {},
     "outputs": [],
     "prompt_number": 153
    },
    {
     "cell_type": "code",
     "collapsed": false,
     "input": [
      "fig, ax = subplots(1, 3, figsize=(15,5), sharex=True, sharey=False)\n",
      "for i, nsteps in enumerate(nsteps_list):\n",
      "    simulate(x, nsteps)\n",
      "    ax[i].hist(x, bins=bins)\n",
      "    ax[i].set_title(\"%d time steps\" % nsteps)\n",
      "    if i == 0:\n",
      "        ax[i].set_ylabel(\"Frequency\")\n",
      "    if i == 1:\n",
      "        ax[i].set_xlabel(\"# males\")    "
     ],
     "language": "python",
     "metadata": {},
     "outputs": [
      {
       "metadata": {},
       "output_type": "display_data",
       "png": "[encoded data removed]",
       "text": [
        "<matplotlib.figure.Figure at 0x6586c10>"
       ]
      }
     ],
     "prompt_number": 154
    },
    {
     "cell_type": "markdown",
     "metadata": {},
     "source": [
      "Whereas, initially, the number of males look uniformly distributed between _0_ and _N_,\n",
      "they appear to converge to _0_ or _N_ after a sufficiently long time. This is because the\n",
      "states _0_ and _N_ are absorbing; once reached, the chain cannot leave these states.\n",
      "Furthermore, these states can be reached from any other state. \n",
      "From our crude analysis above we see that 1,000 generations are enough for most surnames to either \n",
      "go extinct or reach a size that protects them from extinction (under our simplistic assumptions)."
     ]
    },
    {
     "cell_type": "markdown",
     "metadata": {},
     "source": [
      "### Exercise 1\n",
      "\n",
      "The Poisson distribution is a commonly used for estimating number of offsprings.\n",
      "The distribution is easy to use because it has a single parameter $\\lambda$ with a clear interpretation: the average of the distribution.\n",
      "In Python we can draw a random number from a Poisson distribution using `numpy.random.poisson`:"
     ]
    },
    {
     "cell_type": "code",
     "collapsed": false,
     "input": [
      "r = random.poisson(lam=10,size=1000)\n",
      "hist(r)\n",
      "axvline(x=10, color='k')\n",
      "xlabel('value')\n",
      "ylabel('frequency');"
     ],
     "language": "python",
     "metadata": {},
     "outputs": [
      {
       "metadata": {},
       "output_type": "display_data",
       "png": "[encoded data removed]",
       "text": [
        "<matplotlib.figure.Figure at 0x628f290>"
       ]
      }
     ],
     "prompt_number": 42
    },
    {
     "cell_type": "markdown",
     "metadata": {},
     "source": [
      "In the code below (copied from above), the number of sons distributed Binomially with parameters $n$ and $p$.\n",
      "\n",
      "Change the code so that the number of sons will be Poisson distributed \n",
      "with paramter $$\\lambda$ (you can call it `lam` in the code, as `lambda` is a reserved Python word).\n",
      "\n",
      "What is the relationship between $\\lambda$ and $n$ and $p$?"
     ]
    },
    {
     "cell_type": "code",
     "collapsed": false,
     "input": [
      "def simulate(x, nsteps):\n",
      "    \"\"\"Run the simulation.\"\"\"\n",
      "    for _ in range(nsteps - 1):\n",
      "        # Which trials to update?\n",
      "        update = (0 < x) & (x < N-1)\n",
      "        # In which trials do births occur?\n",
      "        boys = binomial(x[update] * n, p)\n",
      "        # We update the population size for all trials.\n",
      "        x[update] = boys"
     ],
     "language": "python",
     "metadata": {},
     "outputs": []
    },
    {
     "cell_type": "code",
     "collapsed": false,
     "input": [
      "fig, ax = subplots(1, 3, figsize=(15,5), sharex=True, sharey=False)\n",
      "for i, nsteps in enumerate(nsteps_list):\n",
      "    simulate(x, nsteps)\n",
      "    ax[i].hist(x, bins=bins)\n",
      "    ax[i].set_title(\"%d time steps\" % nsteps)\n",
      "    if i == 0:\n",
      "        ax[i].set_ylabel(\"Frequency\")\n",
      "    if i == 1:\n",
      "        ax[i].set_xlabel(\"# males\")    "
     ],
     "language": "python",
     "metadata": {},
     "outputs": []
    },
    {
     "cell_type": "markdown",
     "metadata": {},
     "source": [
      "### A bit of theory\n",
      "\n",
      "It can be shown (proven) that if the average number of sons is <= 1 the lineage will go to extinction with probability 1.\n",
      "If the average number of sons is > 1 then the extinction probability is the stationary point of the moment generating function of the distribution of number of sons per male."
     ]
    },
    {
     "cell_type": "markdown",
     "metadata": {},
     "source": [
      "### Wright-Fisher model\n",
      "\n",
      "The Wright-Fisher model is commonly used in population genetics to follow the change in allele frequencies over time. "
     ]
    },
    {
     "cell_type": "code",
     "collapsed": false,
     "input": [],
     "language": "python",
     "metadata": {},
     "outputs": []
    }
   ],
   "metadata": {}
  }
 ]
}