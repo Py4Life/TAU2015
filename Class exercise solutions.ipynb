{
 "metadata": {
  "name": "",
  "signature": "sha256:ae6edf2aedf54a688faac7f9073a1fda4a608b9752ca21e34d506d157ec11d7f"
 },
 "nbformat": 3,
 "nbformat_minor": 0,
 "worksheets": [
  {
   "cells": [
    {
     "cell_type": "markdown",
     "metadata": {},
     "source": [
      "## [Python Programming for Biologists, Tel-Aviv University / 0411-3122 / Spring 2015](http://py4life.github.io/TAU2015/)\n",
      "# Class-exercise solutions"
     ]
    },
    {
     "cell_type": "markdown",
     "metadata": {},
     "source": [
      "## 1A"
     ]
    },
    {
     "cell_type": "code",
     "collapsed": false,
     "input": [
      "print(\"I'm a genius!\")\n",
      "print(\"7 + 6 =\",7+6)\n",
      "print(\"My name is Inigo Montoya\")"
     ],
     "language": "python",
     "metadata": {},
     "outputs": [
      {
       "output_type": "stream",
       "stream": "stdout",
       "text": [
        "I'm a genius!\n",
        "7 + 6 = 13\n",
        "My name is Inigo Montoya\n"
       ]
      }
     ],
     "prompt_number": 1
    },
    {
     "cell_type": "markdown",
     "metadata": {},
     "source": [
      "## 1B"
     ]
    },
    {
     "cell_type": "code",
     "collapsed": false,
     "input": [
      "# Define a and b\n",
      "a = 10\n",
      "b = 4.7\n",
      "\n",
      "# calculate hypotenuse\n",
      "c = (a**2 + b**2)**0.5\n",
      "\n",
      "# print result\n",
      "print(c)"
     ],
     "language": "python",
     "metadata": {},
     "outputs": [
      {
       "output_type": "stream",
       "stream": "stdout",
       "text": [
        "11.04943437466371\n"
       ]
      }
     ],
     "prompt_number": 2
    },
    {
     "cell_type": "markdown",
     "metadata": {},
     "source": [
      "## 1C"
     ]
    },
    {
     "cell_type": "code",
     "collapsed": false,
     "input": [
      "# Choose a year\n",
      "year = 1492\n",
      "\n",
      "# test year\n",
      "if (year % 400 == 0 or (year % 4 == 0 and year % 100 != 0)):\n",
      "    print(year,\"is a leap year\")\n",
      "else:\n",
      "    print(year,\"is not a leap year\")"
     ],
     "language": "python",
     "metadata": {},
     "outputs": [
      {
       "output_type": "stream",
       "stream": "stdout",
       "text": [
        "1492 is a leap year\n"
       ]
      }
     ],
     "prompt_number": 6
    },
    {
     "cell_type": "markdown",
     "metadata": {},
     "source": [
      "## 1D"
     ]
    },
    {
     "cell_type": "code",
     "collapsed": false,
     "input": [
      "m = 555 # integer to apply the conjecture on\n",
      "\n",
      "n = m\n",
      "while n != 1:\n",
      "    print(n, end=\", \")\n",
      "    # if n is even\n",
      "    if n % 2 == 0:\n",
      "        n = n // 2\n",
      "    # if n is odd\n",
      "    else:\n",
      "        n = 3 * n + 1\n",
      "print(1) # 1 was not printed\n",
      "print(m, \"is OK\")"
     ],
     "language": "python",
     "metadata": {},
     "outputs": [
      {
       "output_type": "stream",
       "stream": "stdout",
       "text": [
        "555, 1666, 833, 2500, 1250, 625, 1876, 938, 469, 1408, 704, 352, 176, 88, 44, 22, 11, 34, 17, 52, 26, 13, 40, 20, 10, 5, 16, 8, 4, 2, 1\n",
        "555 is OK\n"
       ]
      }
     ],
     "prompt_number": 8
    },
    {
     "cell_type": "markdown",
     "metadata": {},
     "source": [
      "## 2A"
     ]
    },
    {
     "cell_type": "code",
     "collapsed": false,
     "input": [
      "seq = \"CAAGTAATGGCAGCCATTAA\"\n",
      "first_half = seq[:10]\n",
      "print(first_half)\n",
      "second_half = seq[10:]\n",
      "print(second_half)\n",
      "middle = seq[5:15]\n",
      "print(middle)"
     ],
     "language": "python",
     "metadata": {},
     "outputs": [
      {
       "output_type": "stream",
       "stream": "stdout",
       "text": [
        "CAAGTAATGG\n",
        "CAGCCATTAA\n",
        "AATGGCAGCC\n"
       ]
      }
     ],
     "prompt_number": 10
    },
    {
     "cell_type": "markdown",
     "metadata": {},
     "source": [
      "## 2B"
     ]
    },
    {
     "cell_type": "code",
     "collapsed": false,
     "input": [
      "insulin = 'MALWMRLLPLLALLALWGPDPAAAFVNQHLCGSHLVEALYLVCGERGFFYTPKTRREAEDLQVGQVELGGGPGAGSLQPLALEGSLQKRGIVEQCCTSICSLYQLENYCN'"
     ],
     "language": "python",
     "metadata": {},
     "outputs": [],
     "prompt_number": 11
    },
    {
     "cell_type": "code",
     "collapsed": false,
     "input": [
      "charged = ['R','H','K','D','E']\n",
      "\n",
      "charged_count = 0\n",
      "for aa in insulin:\n",
      "    if aa in charged:\n",
      "        charged_count += 1\n",
      "\n",
      "insulin_length = len(insulin)\n",
      "charged_ratio = charged_count/insulin_length\n",
      "print(\"Ratio of charged amino acids is:\",charged_ratio)"
     ],
     "language": "python",
     "metadata": {},
     "outputs": [
      {
       "output_type": "stream",
       "stream": "stdout",
       "text": [
        "Ratio of charged amino acids is: 0.17272727272727273\n"
       ]
      }
     ],
     "prompt_number": 12
    },
    {
     "cell_type": "markdown",
     "metadata": {},
     "source": [
      "## 2C"
     ]
    },
    {
     "cell_type": "code",
     "collapsed": false,
     "input": [
      "seq = \"ACTGATCGATTACGTATAGTAGAATTCTATCATACATATATATCGATGCGTTCAT\""
     ],
     "language": "python",
     "metadata": {},
     "outputs": []
    },
    {
     "cell_type": "markdown",
     "metadata": {},
     "source": [
      "### 1)"
     ]
    },
    {
     "cell_type": "code",
     "collapsed": false,
     "input": [
      "fragments = seq.split('GAATTC')\n",
      "f1_length = len(fragments[0]) + 1 # add 1 for the 'G'\n",
      "f2_length = len(fragments[1]) + 5 # add 5 for the 'AATTC'\n",
      "print('Fragment lengths of',f1_length,'and',f2_length,'will be produced.')"
     ],
     "language": "python",
     "metadata": {},
     "outputs": [
      {
       "output_type": "stream",
       "stream": "stdout",
       "text": [
        "Fragment lengths of 22 and 33 will be produced.\n"
       ]
      }
     ],
     "prompt_number": 13
    },
    {
     "cell_type": "markdown",
     "metadata": {},
     "source": [
      "### 2)"
     ]
    },
    {
     "cell_type": "code",
     "collapsed": false,
     "input": [
      "for nuc in seq:\n",
      "    if nuc == 'A':\n",
      "        print('T', end = '')\n",
      "    elif nuc == 'T':\n",
      "        print('A', end = '')\n",
      "    elif nuc == 'G':\n",
      "        print('C', end = '')\n",
      "    elif nuc == 'C':\n",
      "        print('G', end = '')"
     ],
     "language": "python",
     "metadata": {},
     "outputs": [
      {
       "output_type": "stream",
       "stream": "stdout",
       "text": [
        "TGACTAGCTAATGCATATCATCTTAAGATAGTATGTATATATAGCTACGCAAGTA"
       ]
      }
     ],
     "prompt_number": 14
    },
    {
     "cell_type": "markdown",
     "metadata": {},
     "source": [
      "## 3A"
     ]
    },
    {
     "cell_type": "markdown",
     "metadata": {},
     "source": [
      "### 1)"
     ]
    },
    {
     "cell_type": "code",
     "collapsed": false,
     "input": [
      "# Create dictionary\n",
      "details_dict = {'Name': 'James Watson', 'Address': 'Cambridge', 'Phone': '12345678'}\n",
      "\n",
      "# print sentence\n",
      "print(\"My name is\",details_dict['Name'],\"I live in\",details_dict['Address'],\"My phone number is\",details_dict['Phone'])"
     ],
     "language": "python",
     "metadata": {},
     "outputs": [
      {
       "output_type": "stream",
       "stream": "stdout",
       "text": [
        "My name is James Watson I live in Cambridge My phone number is 12345678\n"
       ]
      }
     ],
     "prompt_number": 1
    },
    {
     "cell_type": "markdown",
     "metadata": {},
     "source": [
      "### 2)"
     ]
    },
    {
     "cell_type": "code",
     "collapsed": false,
     "input": [
      "# Create codons dictionary\n",
      "bases = ['t', 'c', 'a', 'g']\n",
      "codons = [a+b+c for a in bases for b in bases for c in bases]\n",
      "amino_acids = 'FFLLSSSSYY**CC*WLLLLPPPPHHQQRRRRIIIMTTTTNNKKSSRRVVVVAAAADDEEGGGG'\n",
      "codon_table = dict(zip(codons, amino_acids))\n",
      "\n",
      "# Sequence list\n",
      "seq_list = [\"atg\",\"caa\",\"ggc\",\"ata\",\"tca\",\"tgg\",\"cga\",\"agg\",\"cct\",\"taa\"]\n",
      "\n",
      "# iterate on list and translate\n",
      "for codon in seq_list:\n",
      "    print(codon_table[codon], end='')"
     ],
     "language": "python",
     "metadata": {},
     "outputs": [
      {
       "output_type": "stream",
       "stream": "stdout",
       "text": [
        "MQGISWRRP*"
       ]
      }
     ],
     "prompt_number": 2
    },
    {
     "cell_type": "markdown",
     "metadata": {},
     "source": [
      "## 3B"
     ]
    },
    {
     "cell_type": "markdown",
     "metadata": {},
     "source": [
      "### 1)"
     ]
    },
    {
     "cell_type": "code",
     "collapsed": false,
     "input": [
      "# define function\n",
      "def first_5_longer_sequence(seq1,seq2):\n",
      "    if len(seq1) > len(seq2):\n",
      "        return seq1[:5]\n",
      "    else:\n",
      "        return seq2[:5]\n",
      "    \n",
      "# Test function\n",
      "sequence1 = \"aggtctcggatataggcgcgatattta\"\n",
      "sequence2 = \"ttaagccacgcttcggatta\"\n",
      "first_5 = first_5_longer_sequence(sequence1, sequence2)\n",
      "print(first_5)"
     ],
     "language": "python",
     "metadata": {},
     "outputs": [
      {
       "output_type": "stream",
       "stream": "stdout",
       "text": [
        "aggtc\n"
       ]
      }
     ],
     "prompt_number": 3
    },
    {
     "cell_type": "markdown",
     "metadata": {},
     "source": [
      "### 2)"
     ]
    },
    {
     "cell_type": "code",
     "collapsed": false,
     "input": [
      "# define function\n",
      "def odd_bases(seq):\n",
      "    odd_bases_list = []\n",
      "    for i in range(len(seq)):\n",
      "        if i % 2 == 0:\n",
      "            odd_bases_list.append(seq[i])    \n",
      "    return odd_bases_list\n",
      "\n",
      "# Test function\n",
      "odd_bases_list = odd_bases(\"aggtctcggatataggcgcgatattta\")\n",
      "print(odd_bases_list)"
     ],
     "language": "python",
     "metadata": {},
     "outputs": [
      {
       "output_type": "stream",
       "stream": "stdout",
       "text": [
        "['a', 'g', 'c', 'c', 'g', 't', 't', 'g', 'c', 'c', 'a', 'a', 't', 'a']\n"
       ]
      }
     ],
     "prompt_number": 6
    },
    {
     "cell_type": "markdown",
     "metadata": {},
     "source": [
      "Or another alternative, using string slicing:"
     ]
    },
    {
     "cell_type": "code",
     "collapsed": false,
     "input": [
      "# define function\n",
      "def odd_bases(seq):\n",
      "    odd_bases_list = list(seq[::2])   \n",
      "    return odd_bases_list\n",
      "\n",
      "# Test function\n",
      "odd_bases_list = odd_bases(\"aggtctcggatataggcgcgatattta\")\n",
      "print(odd_bases_list)"
     ],
     "language": "python",
     "metadata": {},
     "outputs": [
      {
       "output_type": "stream",
       "stream": "stdout",
       "text": [
        "['a', 'g', 'c', 'c', 'g', 't', 't', 'g', 'c', 'c', 'a', 'a', 't', 'a']\n"
       ]
      }
     ],
     "prompt_number": 7
    },
    {
     "cell_type": "markdown",
     "metadata": {},
     "source": [
      "## 4A"
     ]
    },
    {
     "cell_type": "markdown",
     "metadata": {},
     "source": [
      "### 1)"
     ]
    },
    {
     "cell_type": "code",
     "collapsed": false,
     "input": [
      "with open('lec4_files/crops.txt','r') as crops_file:\n",
      "    entire_file = crops_file.read()\n",
      "    lines_list = entire_file.split('\\n')\n",
      "    print(lines_list[-1])"
     ],
     "language": "python",
     "metadata": {},
     "outputs": [
      {
       "output_type": "stream",
       "stream": "stdout",
       "text": [
        "Ziziphus zizyphus |\n"
       ]
      }
     ],
     "prompt_number": 1
    },
    {
     "cell_type": "markdown",
     "metadata": {},
     "source": [
      "### 2)"
     ]
    },
    {
     "cell_type": "code",
     "collapsed": false,
     "input": [
      "with open('lec4_files/crops.txt','r') as crops_file:\n",
      "    triticum_count = 0\n",
      "    for line in crops_file:\n",
      "        if line.startswith('Triticum'):\n",
      "            triticum_count += 1\n",
      "    print(triticum_count)"
     ],
     "language": "python",
     "metadata": {},
     "outputs": [
      {
       "output_type": "stream",
       "stream": "stdout",
       "text": [
        "6\n"
       ]
      }
     ],
     "prompt_number": 2
    },
    {
     "cell_type": "markdown",
     "metadata": {},
     "source": [
      "## 4B"
     ]
    },
    {
     "cell_type": "code",
     "collapsed": false,
     "input": [
      "# new function\n",
      "def parse_fasta_30_nuc(file_name):\n",
      "    \"\"\"\n",
      "    Receives a path to a fasta file, and returns a dictionary where the keys\n",
      "    are the sequence gb accession numbers and the values are the first 30\n",
      "    nucleotides of the sequences.\n",
      "    \"\"\"\n",
      "    # create an empty dictionary to store the sequences\n",
      "    sequences = {}\n",
      "    # open fasta file for reading\n",
      "    with open(file_name,'r') as f:\n",
      "        # Loop over file lines\n",
      "        for line in f:\n",
      "            # if header line\n",
      "            if line.startswith('>'):\n",
      "                gb = line.split('|')[3]\n",
      "            # if sequence line\n",
      "            else:\n",
      "                seq = line.strip()[:30]\n",
      "                sequences[gb] = seq\n",
      "    return sequences\n",
      "\n",
      "# parse file\n",
      "camelus_seq = parse_fasta_30_nuc('lec4_files/camelus.fasta')\n",
      "\n",
      "# write to new file\n",
      "with open('lec4_files/4b_output.txt','w') as of:\n",
      "    for gb_id in camelus_seq:\n",
      "        print(gb_id + ':',camelus_seq[gb_id], file=of)"
     ],
     "language": "python",
     "metadata": {},
     "outputs": [],
     "prompt_number": 6
    },
    {
     "cell_type": "markdown",
     "metadata": {},
     "source": [
      "## 4C"
     ]
    },
    {
     "cell_type": "code",
     "collapsed": false,
     "input": [
      "def mean_of_string_values(lst):\n",
      "    \"\"\"\n",
      "    receives a list of strings representing numbers and returns their mean\n",
      "    \"\"\"\n",
      "    numeric_lst = []\n",
      "    for x in lst:\n",
      "        numeric_lst.append(float(x))\n",
      "    return mean(numeric_lst)\n",
      "\n",
      "experiments_file = 'lec4_files/electrolyte_leakage.csv'\n",
      "with open(experiments_file, 'r') as f:\n",
      "    with open('lec4_files/4c_output.csv','w', newline='') as fo:\n",
      "        csv_writer = csv.writer(fo)\n",
      "        csv_writer.writerow(['Accession','control mean','test mean'])\n",
      "        csv_reader = csv.reader(f)\n",
      "        next(csv_reader)\n",
      "        for row in csv_reader:\n",
      "            acc = row[0]\n",
      "            control = row [1:4]\n",
      "            test = row[4:]\n",
      "            to_write = [acc,mean_of_string_values(control),mean_of_string_values(test)]\n",
      "            csv_writer.writerow(to_write)"
     ],
     "language": "python",
     "metadata": {},
     "outputs": [],
     "prompt_number": 11
    },
    {
     "cell_type": "markdown",
     "metadata": {},
     "source": [
      "## 4D"
     ]
    },
    {
     "cell_type": "code",
     "collapsed": false,
     "input": [
      "genes = ['xkn59438', 'yhdck2', 'eihd39d9', 'chdsye847', 'hedle3455', 'xjhd53e', '45da', 'de37dp','map492ty']\n",
      "\n",
      "# 1.\n",
      "print('Gene names containing d or e:')\n",
      "regex1 = re.compile(r'[de]')\n",
      "for gene in genes:\n",
      "    if re.search(regex1,gene):\n",
      "        print(gene)\n",
      "        \n",
      "print('------------------------')\n",
      "\n",
      "# 2.\n",
      "print('Gene names containing d and e, in that order:')\n",
      "regex2 = re.compile(r'd[^e]*e')\n",
      "for gene in genes:\n",
      "    if re.search(regex2,gene):\n",
      "        print(gene)\n",
      "        \n",
      "print('------------------------')\n",
      "\n",
      "# 3.\n",
      "print('Gene names containing three digits in a row:')\n",
      "regex3 = re.compile(r'\\d{3,}')\n",
      "for gene in genes:\n",
      "    if re.search(regex3,gene):\n",
      "        print(gene)"
     ],
     "language": "python",
     "metadata": {},
     "outputs": [
      {
       "output_type": "stream",
       "stream": "stdout",
       "text": [
        "Gene names containing d or e:\n",
        "yhdck2\n",
        "eihd39d9\n",
        "chdsye847\n",
        "hedle3455\n",
        "xjhd53e\n",
        "45da\n",
        "de37dp\n",
        "------------------------\n",
        "Gene names containing d and e, in that order:\n",
        "chdsye847\n",
        "hedle3455\n",
        "xjhd53e\n",
        "de37dp\n",
        "------------------------\n",
        "Gene names containing three digits in a row:\n",
        "xkn59438\n",
        "chdsye847\n",
        "hedle3455\n",
        "map492ty\n"
       ]
      }
     ],
     "prompt_number": 23
    },
    {
     "cell_type": "markdown",
     "metadata": {},
     "source": [
      "## 4E"
     ]
    },
    {
     "cell_type": "markdown",
     "metadata": {},
     "source": [
      "### 1)"
     ]
    },
    {
     "cell_type": "code",
     "collapsed": false,
     "input": [
      "def count_promoters_with_motif(promoters_dictionary):\n",
      "    \"\"\"\n",
      "    Receives a dictionary representing a promoters fasta file,\n",
      "    and counts how many of the promoters include a GATA-4 motif.\n",
      "    \"\"\"\n",
      "    promoters_count = 0   # store the number of promoters with GATA-4 motif\n",
      "    for p in promoters_dictionary:\n",
      "        if check_for_GATA4(promoters_dictionary[p]):\n",
      "            promoters_count += 1\n",
      "    return promoters_count"
     ],
     "language": "python",
     "metadata": {},
     "outputs": []
    },
    {
     "cell_type": "markdown",
     "metadata": {},
     "source": [
      "### 2)"
     ]
    },
    {
     "cell_type": "code",
     "collapsed": false,
     "input": [
      "def get_positions_statistics(promoters_dictionary):\n",
      "    \"\"\"\n",
      "    Receives a dictionary representing a promoters fasta file,\n",
      "    and returns the frequencies of possible nucleotides in \n",
      "    each variable position.\n",
      "    \"\"\"\n",
      "    # define a  dictionary for each position, to store the nucleotide frequencies\n",
      "    # D position\n",
      "    D_dict = {'A':0, 'G':0, 'T':0}\n",
      "    # M position\n",
      "    M_dict = {'A':0, 'C':0}\n",
      "    # R position\n",
      "    R_dict = {'A':0, 'G':0}\n",
      "    # S position\n",
      "    S_dict = {'C':0, 'G':0}\n",
      "    \n",
      "    # itterate over promoters\n",
      "    for p in promoters_dictionary:\n",
      "        # if promoter includes the GATA-4 motif\n",
      "        if check_for_GATA4(promoters_dictionary[p]):\n",
      "            # get variable nucleotides in promoter\n",
      "            D,M,R,S = extract_ambiguous_for_GATA4(promoters_dictionary[p])\n",
      "            # insert to dictionaries\n",
      "            D_dict[D] += 1\n",
      "            M_dict[M] += 1\n",
      "            R_dict[R] += 1\n",
      "            S_dict[S] += 1\n",
      "            \n",
      "    return D_dict, M_dict, R_dict, S_dict"
     ],
     "language": "python",
     "metadata": {},
     "outputs": []
    },
    {
     "cell_type": "markdown",
     "metadata": {},
     "source": [
      "### 3)"
     ]
    },
    {
     "cell_type": "code",
     "collapsed": false,
     "input": [
      "def summarize_results(D_dict, M_dict, R_dict, S_dict, output_file):\n",
      "    with open(output_file, 'w') as fo:\n",
      "        csv_writer = csv.writer(fo)\n",
      "        # write headers line\n",
      "        csv_writer.writerow(['Position','A','G','C','T'])\n",
      "        # summarize D position\n",
      "        csv_writer.writerow(['D',D_dict['A'],D_dict['G'],0,D_dict['T']])\n",
      "        # summarize M position\n",
      "        csv_writer.writerow(['M',M_dict['A'],0,M_dict['C'],0])\n",
      "        # summarize R position\n",
      "        csv_writer.writerow(['R',R_dict['A'],R_dict['G'],0,0])\n",
      "        # summarize S position\n",
      "        csv_writer.writerow(['S',0,S_dict['G'],S_dict['C'],0])"
     ],
     "language": "python",
     "metadata": {},
     "outputs": []
    },
    {
     "cell_type": "markdown",
     "metadata": {},
     "source": [
      "### 4)"
     ]
    },
    {
     "cell_type": "code",
     "collapsed": false,
     "input": [
      "promoters_file = \"lec4_files/GATA4_promoters.fasta\"\n",
      "output_file = \"lec4_files/promoters_stats.csv\"\n",
      "\n",
      "# parse fasta file\n",
      "promoters_dict = parse_promoters_fasta(promoters_file)\n",
      "\n",
      "# Count promoters with/without GATA-4 motif\n",
      "promoters_with_motif = count_promoters_with_motif(promoters_dict)\n",
      "promoters_without_motif = len(promoters_dict) - promoters_with_motif\n",
      "print('Total promoters:',promoters_with_motif + promoters_without_motif)\n",
      "print('Promoters with GATA-4 motif:',promoters_with_motif)\n",
      "print('Promoters without GATA-4 motif:',promoters_without_motif)\n",
      "\n",
      "# Get statistics\n",
      "D_dict, M_dict, R_dict, S_dict = get_positions_statistics(promoters_dict)\n",
      "# write to CSV\n",
      "summarize_results(D_dict, M_dict, R_dict, S_dict,output_file)"
     ],
     "language": "python",
     "metadata": {},
     "outputs": []
    },
    {
     "cell_type": "markdown",
     "metadata": {},
     "source": [
      "## 7A"
     ]
    },
    {
     "cell_type": "code",
     "collapsed": false,
     "input": [
      "sqrt_data = np.sqrt(data)\n",
      "print(sqrt_data[:3,:5])"
     ],
     "language": "python",
     "metadata": {},
     "outputs": []
    },
    {
     "cell_type": "markdown",
     "metadata": {},
     "source": [
      "## 7B"
     ]
    },
    {
     "cell_type": "code",
     "collapsed": false,
     "input": [
      "print(data.argmax(axis=1))"
     ],
     "language": "python",
     "metadata": {},
     "outputs": []
    },
    {
     "cell_type": "markdown",
     "metadata": {},
     "source": [
      "## 7C"
     ]
    },
    {
     "cell_type": "code",
     "collapsed": false,
     "input": [
      "scatter(range(data.shape[0]), data.argmax(axis=1))\n",
      "xlabel('patient')\n",
      "ylabel('day of max inflammation')"
     ],
     "language": "python",
     "metadata": {},
     "outputs": []
    },
    {
     "cell_type": "markdown",
     "metadata": {},
     "source": [
      "## 8A"
     ]
    },
    {
     "cell_type": "code",
     "collapsed": false,
     "input": [
      "size = 1000\n",
      "n = 100\n",
      "p = 0.5\n",
      "\n",
      "data = np.random.binomial(n,p,size)\n",
      "plt.hist(data);"
     ],
     "language": "python",
     "metadata": {},
     "outputs": [
      {
       "metadata": {},
       "output_type": "display_data",
       "png": "[encoded data removed]",
       "text": [
        "<matplotlib.figure.Figure at 0x7f9c565b2390>"
       ]
      }
     ],
     "prompt_number": 1
    },
    {
     "cell_type": "markdown",
     "metadata": {},
     "source": [
      "## 8B"
     ]
    },
    {
     "cell_type": "code",
     "collapsed": false,
     "input": [
      "N = 1000\n",
      "n = 3\n",
      "p = 0.34\n",
      "bins = np.linspace(0, N, 25)\n",
      "nsteps_list = [10, 100, 1000]\n",
      "ntrials = 100"
     ],
     "language": "python",
     "metadata": {},
     "outputs": [],
     "prompt_number": 5
    },
    {
     "cell_type": "code",
     "collapsed": false,
     "input": [
      "def simulate(x, nsteps):\n",
      "    \"\"\"Run the simulation.\"\"\"\n",
      "    for _ in range(nsteps - 1):\n",
      "        # Which trials to update?\n",
      "        update = (0 < x) & (x < N-1)\n",
      "        # In which trials do births occur?\n",
      "        boys = poisson(x[update] * n * p)\n",
      "        # We update the population size for all trials.\n",
      "        x[update] = boys"
     ],
     "language": "python",
     "metadata": {},
     "outputs": [],
     "prompt_number": 6
    },
    {
     "cell_type": "code",
     "collapsed": false,
     "input": [
      "x = randint(size=ntrials, low=0, high=N)\n",
      "fig, ax = subplots(1, 3, figsize=(15,5), sharex=True, sharey=False)\n",
      "for i, nsteps in enumerate(nsteps_list):\n",
      "    simulate(x, nsteps)\n",
      "    ax[i].hist(x, bins=bins)\n",
      "    ax[i].set_title(\"%d time steps\" % nsteps)\n",
      "    if i == 0:\n",
      "        ax[i].set_ylabel(\"Frequency\")\n",
      "    if i == 1:\n",
      "        ax[i].set_xlabel(\"# males\")"
     ],
     "language": "python",
     "metadata": {},
     "outputs": [
      {
       "metadata": {},
       "output_type": "display_data",
       "png": "[encoded data removed]",
       "text": [
        "<matplotlib.figure.Figure at 0x7f9c5654e358>"
       ]
      }
     ],
     "prompt_number": 7
    },
    {
     "cell_type": "markdown",
     "metadata": {},
     "source": [
      "## 8C"
     ]
    },
    {
     "cell_type": "code",
     "collapsed": false,
     "input": [
      "import seaborn as sns\n",
      "def simulate(x0, n, p, ntrials=100):\n",
      "    x = x0 * ones(ntrials, dtype=int)\n",
      "    update = (0 < x) & (x < N-1)\n",
      "    while update.any():\n",
      "        # Which trials to update?\n",
      "        update = (0 < x) & (x < N-1)\n",
      "        # In which trials do births occur?\n",
      "        boys = binomial(x[update] * n, p)\n",
      "        # We update the population size for all trials.\n",
      "        x[update] = boys\n",
      "    return x"
     ],
     "language": "python",
     "metadata": {},
     "outputs": [],
     "prompt_number": 8
    },
    {
     "cell_type": "code",
     "collapsed": false,
     "input": [
      "N  = 1000\n",
      "x0 = 1\n",
      "n  = 3\n",
      "\n",
      "p_range = arange(0.25,0.4,0.005)\n",
      "prob = array([simulate(x0,n,p)==0 for p in p_range])\n",
      "\n",
      "mean_prob = prob.mean(axis=1)\n",
      "sem_prob = prob.std(axis=1) / sqrt(prob.shape[0])"
     ],
     "language": "python",
     "metadata": {},
     "outputs": [],
     "prompt_number": 9
    },
    {
     "cell_type": "code",
     "collapsed": false,
     "input": [
      "errorbar(x=p_range, y=mean_prob, yerr=sem_prob)\n",
      "axvline(x=1./n, color='k', ls='--')\n",
      "xlabel('probability for reproductive son')\n",
      "ylabel('extinction probability')\n",
      "sns.despine();"
     ],
     "language": "python",
     "metadata": {},
     "outputs": [
      {
       "metadata": {},
       "output_type": "display_data",
       "png": "[encoded data removed]",
       "text": [
        "<matplotlib.figure.Figure at 0x7fe95b50cba8>"
       ]
      }
     ],
     "prompt_number": 10
    },
    {
     "cell_type": "code",
     "collapsed": false,
     "input": [],
     "language": "python",
     "metadata": {},
     "outputs": []
    }
   ],
   "metadata": {}
  }
 ]
}