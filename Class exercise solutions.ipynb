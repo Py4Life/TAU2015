{
 "metadata": {
  "name": "",
  "signature": "sha256:30078a22d6524128979f31ce3dbdfe43b3b5960f0ef24cd05f24ad6c77afa789"
 },
 "nbformat": 3,
 "nbformat_minor": 0,
 "worksheets": [
  {
   "cells": [
    {
     "cell_type": "markdown",
     "metadata": {},
     "source": [
      "## 1A"
     ]
    },
    {
     "cell_type": "code",
     "collapsed": false,
     "input": [
      "print(\"I'm a genius!\")\n",
      "print(\"7 + 6 =\",7+6)\n",
      "print(\"My name is Inigo Montoya\")"
     ],
     "language": "python",
     "metadata": {},
     "outputs": [
      {
       "output_type": "stream",
       "stream": "stdout",
       "text": [
        "I'm a genius!\n",
        "7 + 6 = 13\n",
        "My name is Inigo Montoya\n"
       ]
      }
     ],
     "prompt_number": 1
    },
    {
     "cell_type": "markdown",
     "metadata": {},
     "source": [
      "## 1B"
     ]
    },
    {
     "cell_type": "code",
     "collapsed": false,
     "input": [
      "# Define a and b\n",
      "a = 10\n",
      "b = 4.7\n",
      "\n",
      "# calculate hypotenuse\n",
      "c = (a**2 + b**2)**0.5\n",
      "\n",
      "# print result\n",
      "print(c)"
     ],
     "language": "python",
     "metadata": {},
     "outputs": [
      {
       "output_type": "stream",
       "stream": "stdout",
       "text": [
        "11.04943437466371\n"
       ]
      }
     ],
     "prompt_number": 2
    },
    {
     "cell_type": "markdown",
     "metadata": {},
     "source": [
      "## 1C"
     ]
    },
    {
     "cell_type": "code",
     "collapsed": false,
     "input": [
      "# Choose a year\n",
      "year = 1492\n",
      "\n",
      "# test year\n",
      "if (year % 400 == 0 or (year % 4 == 0 and year % 100 != 0)):\n",
      "    print(year,\"is a leap year\")\n",
      "else:\n",
      "    print(year,\"is not a leap year\")"
     ],
     "language": "python",
     "metadata": {},
     "outputs": [
      {
       "output_type": "stream",
       "stream": "stdout",
       "text": [
        "1492 is a leap year\n"
       ]
      }
     ],
     "prompt_number": 6
    },
    {
     "cell_type": "markdown",
     "metadata": {},
     "source": [
      "## 1D"
     ]
    },
    {
     "cell_type": "code",
     "collapsed": false,
     "input": [
      "m = 555 # integer to apply the conjecture on\n",
      "\n",
      "n = m\n",
      "while n != 1:\n",
      "    print(n, end=\", \")\n",
      "    # if n is even\n",
      "    if n % 2 == 0:\n",
      "        n = n // 2\n",
      "    # if n is odd\n",
      "    else:\n",
      "        n = 3 * n + 1\n",
      "print(1) # 1 was not printed\n",
      "print(m, \"is OK\")"
     ],
     "language": "python",
     "metadata": {},
     "outputs": [
      {
       "output_type": "stream",
       "stream": "stdout",
       "text": [
        "555, 1666, 833, 2500, 1250, 625, 1876, 938, 469, 1408, 704, 352, 176, 88, 44, 22, 11, 34, 17, 52, 26, 13, 40, 20, 10, 5, 16, 8, 4, 2, 1\n",
        "555 is OK\n"
       ]
      }
     ],
     "prompt_number": 8
    },
    {
     "cell_type": "markdown",
     "metadata": {},
     "source": [
      "## 2A"
     ]
    },
    {
     "cell_type": "code",
     "collapsed": false,
     "input": [
      "seq = \"CAAGTAATGGCAGCCATTAA\"\n",
      "first_half = seq[:10]\n",
      "print(first_half)\n",
      "second_half = seq[10:]\n",
      "print(second_half)\n",
      "middle = seq[5:15]\n",
      "print(middle)"
     ],
     "language": "python",
     "metadata": {},
     "outputs": [
      {
       "output_type": "stream",
       "stream": "stdout",
       "text": [
        "CAAGTAATGG\n",
        "CAGCCATTAA\n",
        "AATGGCAGCC\n"
       ]
      }
     ],
     "prompt_number": 10
    },
    {
     "cell_type": "markdown",
     "metadata": {},
     "source": [
      "## 2B"
     ]
    },
    {
     "cell_type": "code",
     "collapsed": false,
     "input": [
      "insulin = 'MALWMRLLPLLALLALWGPDPAAAFVNQHLCGSHLVEALYLVCGERGFFYTPKTRREAEDLQVGQVELGGGPGAGSLQPLALEGSLQKRGIVEQCCTSICSLYQLENYCN'"
     ],
     "language": "python",
     "metadata": {},
     "outputs": [],
     "prompt_number": 11
    },
    {
     "cell_type": "code",
     "collapsed": false,
     "input": [
      "charged = ['R','H','K','D','E']\n",
      "\n",
      "charged_count = 0\n",
      "for aa in insulin:\n",
      "    if aa in charged:\n",
      "        charged_count += 1\n",
      "\n",
      "insulin_length = len(insulin)\n",
      "charged_ratio = charged_count/insulin_length\n",
      "print(\"Ratio of charged amino acids is:\",charged_ratio)"
     ],
     "language": "python",
     "metadata": {},
     "outputs": [
      {
       "output_type": "stream",
       "stream": "stdout",
       "text": [
        "Ratio of charged amino acids is: 0.17272727272727273\n"
       ]
      }
     ],
     "prompt_number": 12
    },
    {
     "cell_type": "markdown",
     "metadata": {},
     "source": [
      "## 2C"
     ]
    },
    {
     "cell_type": "code",
     "collapsed": false,
     "input": [
      "seq = \"ACTGATCGATTACGTATAGTAGAATTCTATCATACATATATATCGATGCGTTCAT\""
     ],
     "language": "python",
     "metadata": {},
     "outputs": []
    },
    {
     "cell_type": "markdown",
     "metadata": {},
     "source": [
      "### 1)"
     ]
    },
    {
     "cell_type": "code",
     "collapsed": false,
     "input": [
      "fragments = seq.split('GAATTC')\n",
      "f1_length = len(fragments[0]) + 1 # add 1 for the 'G'\n",
      "f2_length = len(fragments[1]) + 5 # add 5 for the 'AATTC'\n",
      "print('Fragment lengths of',f1_length,'and',f2_length,'will be produced.')"
     ],
     "language": "python",
     "metadata": {},
     "outputs": [
      {
       "output_type": "stream",
       "stream": "stdout",
       "text": [
        "Fragment lengths of 22 and 33 will be produced.\n"
       ]
      }
     ],
     "prompt_number": 13
    },
    {
     "cell_type": "markdown",
     "metadata": {},
     "source": [
      "### 2)"
     ]
    },
    {
     "cell_type": "code",
     "collapsed": false,
     "input": [
      "for nuc in seq:\n",
      "    if nuc == 'A':\n",
      "        print('T', end = '')\n",
      "    elif nuc == 'T':\n",
      "        print('A', end = '')\n",
      "    elif nuc == 'G':\n",
      "        print('C', end = '')\n",
      "    elif nuc == 'C':\n",
      "        print('G', end = '')"
     ],
     "language": "python",
     "metadata": {},
     "outputs": [
      {
       "output_type": "stream",
       "stream": "stdout",
       "text": [
        "TGACTAGCTAATGCATATCATCTTAAGATAGTATGTATATATAGCTACGCAAGTA"
       ]
      }
     ],
     "prompt_number": 14
    },
    {
     "cell_type": "markdown",
     "metadata": {},
     "source": [
      "## 3A"
     ]
    },
    {
     "cell_type": "markdown",
     "metadata": {},
     "source": [
      "### 1)"
     ]
    },
    {
     "cell_type": "code",
     "collapsed": false,
     "input": [
      "# Create dictionary\n",
      "details_dict = {'Name': 'James Watson', 'Address': 'Cambridge', 'Phone': '12345678'}\n",
      "\n",
      "# print sentence\n",
      "print(\"My name is\",details_dict['Name'],\"I live in\",details_dict['Address'],\"My phone number is\",details_dict['Phone'])"
     ],
     "language": "python",
     "metadata": {},
     "outputs": [
      {
       "output_type": "stream",
       "stream": "stdout",
       "text": [
        "My name is James Watson I live in Cambridge My phone number is 12345678\n"
       ]
      }
     ],
     "prompt_number": 1
    },
    {
     "cell_type": "markdown",
     "metadata": {},
     "source": [
      "### 2)"
     ]
    },
    {
     "cell_type": "code",
     "collapsed": false,
     "input": [
      "# Create codons dictionary\n",
      "bases = ['t', 'c', 'a', 'g']\n",
      "codons = [a+b+c for a in bases for b in bases for c in bases]\n",
      "amino_acids = 'FFLLSSSSYY**CC*WLLLLPPPPHHQQRRRRIIIMTTTTNNKKSSRRVVVVAAAADDEEGGGG'\n",
      "codon_table = dict(zip(codons, amino_acids))\n",
      "\n",
      "# Sequence list\n",
      "seq_list = [\"atg\",\"caa\",\"ggc\",\"ata\",\"tca\",\"tgg\",\"cga\",\"agg\",\"cct\",\"taa\"]\n",
      "\n",
      "# iterate on list and translate\n",
      "for codon in seq_list:\n",
      "    print(codon_table[codon], end='')"
     ],
     "language": "python",
     "metadata": {},
     "outputs": [
      {
       "output_type": "stream",
       "stream": "stdout",
       "text": [
        "MQGISWRRP*"
       ]
      }
     ],
     "prompt_number": 2
    },
    {
     "cell_type": "markdown",
     "metadata": {},
     "source": [
      "## 3B"
     ]
    },
    {
     "cell_type": "markdown",
     "metadata": {},
     "source": [
      "### 1)"
     ]
    },
    {
     "cell_type": "code",
     "collapsed": false,
     "input": [
      "# define function\n",
      "def first_5_longer_sequence(seq1,seq2):\n",
      "    if len(seq1) > len(seq2):\n",
      "        return seq1[:5]\n",
      "    else:\n",
      "        return seq2[:5]\n",
      "    \n",
      "# Test function\n",
      "sequence1 = \"aggtctcggatataggcgcgatattta\"\n",
      "sequence2 = \"ttaagccacgcttcggatta\"\n",
      "first_5 = first_5_longer_sequence(sequence1, sequence2)\n",
      "print(first_5)"
     ],
     "language": "python",
     "metadata": {},
     "outputs": [
      {
       "output_type": "stream",
       "stream": "stdout",
       "text": [
        "aggtc\n"
       ]
      }
     ],
     "prompt_number": 3
    },
    {
     "cell_type": "markdown",
     "metadata": {},
     "source": [
      "### 2)"
     ]
    },
    {
     "cell_type": "code",
     "collapsed": false,
     "input": [
      "# define function\n",
      "def odd_bases(seq):\n",
      "    odd_bases_list = []\n",
      "    for i in range(len(seq)):\n",
      "        if i % 2 == 0:\n",
      "            odd_bases_list.append(seq[i])    \n",
      "    return odd_bases_list\n",
      "\n",
      "# Test function\n",
      "odd_bases_list = odd_bases(\"aggtctcggatataggcgcgatattta\")\n",
      "print(odd_bases_list)"
     ],
     "language": "python",
     "metadata": {},
     "outputs": [
      {
       "output_type": "stream",
       "stream": "stdout",
       "text": [
        "['a', 'g', 'c', 'c', 'g', 't', 't', 'g', 'c', 'c', 'a', 'a', 't', 'a']\n"
       ]
      }
     ],
     "prompt_number": 6
    },
    {
     "cell_type": "markdown",
     "metadata": {},
     "source": [
      "Or another alternative, using string slicing:"
     ]
    },
    {
     "cell_type": "code",
     "collapsed": false,
     "input": [
      "# define function\n",
      "def odd_bases(seq):\n",
      "    odd_bases_list = list(seq[::2])   \n",
      "    return odd_bases_list\n",
      "\n",
      "# Test function\n",
      "odd_bases_list = odd_bases(\"aggtctcggatataggcgcgatattta\")\n",
      "print(odd_bases_list)"
     ],
     "language": "python",
     "metadata": {},
     "outputs": [
      {
       "output_type": "stream",
       "stream": "stdout",
       "text": [
        "['a', 'g', 'c', 'c', 'g', 't', 't', 'g', 'c', 'c', 'a', 'a', 't', 'a']\n"
       ]
      }
     ],
     "prompt_number": 7
    },
    {
     "cell_type": "markdown",
     "metadata": {},
     "source": [
      "## 4A"
     ]
    },
    {
     "cell_type": "markdown",
     "metadata": {},
     "source": [
      "### 1)"
     ]
    },
    {
     "cell_type": "code",
     "collapsed": false,
     "input": [
      "with open('lec4_files/crops.txt','r') as crops_file:\n",
      "    last_crop = crops_file.readlines()[-1].strip()\n",
      "    print(last_crop)"
     ],
     "language": "python",
     "metadata": {},
     "outputs": [
      {
       "output_type": "stream",
       "stream": "stdout",
       "text": [
        "Ziziphus zizyphus |\n"
       ]
      }
     ],
     "prompt_number": 8
    },
    {
     "cell_type": "markdown",
     "metadata": {},
     "source": [
      "### 2)"
     ]
    },
    {
     "cell_type": "code",
     "collapsed": false,
     "input": [
      "with open('lec4_files/crops.txt','r') as crops_file:\n",
      "    triticum_count = 0\n",
      "    for line in crops_file:\n",
      "        if line.split()[0] == 'Triticum':\n",
      "            triticum_count += 1\n",
      "    print(triticum_count)"
     ],
     "language": "python",
     "metadata": {},
     "outputs": [
      {
       "output_type": "stream",
       "stream": "stdout",
       "text": [
        "6\n"
       ]
      }
     ],
     "prompt_number": 9
    },
    {
     "cell_type": "code",
     "collapsed": false,
     "input": [],
     "language": "python",
     "metadata": {},
     "outputs": []
    }
   ],
   "metadata": {}
  }
 ]
}