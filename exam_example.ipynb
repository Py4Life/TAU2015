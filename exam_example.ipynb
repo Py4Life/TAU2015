{
 "metadata": {
  "kernelspec": {
   "display_name": "Python 3",
   "language": "python",
   "name": "python3"
  },
  "language_info": {
   "codemirror_mode": {
    "name": "ipython",
    "version": 3
   },
   "file_extension": ".py",
   "mimetype": "text/x-python",
   "name": "python",
   "nbconvert_exporter": "python",
   "pygments_lexer": "ipython3",
   "version": "3.4.1"
  },
  "name": "",
  "signature": "sha256:b30dbc72abc92193cd08fe7126899a8d19afbb14e83e27bd81c925e8bc9c58ab"
 },
 "nbformat": 3,
 "nbformat_minor": 0,
 "worksheets": [
  {
   "cells": [
    {
     "cell_type": "markdown",
     "metadata": {},
     "source": [
      "[![Py4Life](https://raw.githubusercontent.com/Py4Life/TAU2015/gh-pages/img/Py4Life-logo-small.png)](http://py4life.github.io/TAU2015/)\n",
      "\n",
      "## Exam - Example\n",
      "\n",
      "### Tel-Aviv University / 0411-3122 / Spring 2015"
     ]
    },
    {
     "cell_type": "markdown",
     "metadata": {},
     "source": [
      "## 1) Protein hydrophobicity\n",
      "\n",
      "In this question we will calculate the hydrphobicity of a protein based on its amino-acid (aa) sequence.\n",
      "\n",
      "> In chemistry, hydrophobicity is the physical property of a molecule (known as a hydrophobe) that is seemingly repelled from a mass of water.\n"
     ]
    },
    {
     "cell_type": "code",
     "collapsed": true,
     "input": [
      "%matplotlib inline\n",
      "import matplotlib.pyplot as plt"
     ],
     "language": "python",
     "metadata": {},
     "outputs": [],
     "prompt_number": 1
    },
    {
     "cell_type": "markdown",
     "metadata": {},
     "source": [
      "`ges_scale` is a `dict` that contains the hydrphobicity score of every aa. The keys are the letters that represent the aa, the values are the scores. For example, the letter for Leucine is `L` and its hydrphobicity score is -2.8."
     ]
    },
    {
     "cell_type": "code",
     "collapsed": true,
     "input": [
      "ges_scale = {'F':-3.7,'M':-3.4,'I':-3.1,'L':-2.8,'V':-2.6,\n",
      "            'C':-2.0,'W':-1.9,'A':-1.6,'T':-1.2,'G':-1.0,\n",
      "            'S':-0.6,'P': 0.2,'Y': 0.7,'H': 3.0,'Q': 4.1,\n",
      "            'N': 4.8,'E': 8.2,'K': 8.8,'D': 9.2,'R':12.3}"
     ],
     "language": "python",
     "metadata": {},
     "outputs": [],
     "prompt_number": 2
    },
    {
     "cell_type": "markdown",
     "metadata": {},
     "source": [
      "**a)** Write a function called `hydrphobicity` that calculates the hydrphobicity of a sequence. The function calculates the average hydrphobicity around every position in the sequence. The average is calculated over a _windows_ - a set number of positions to every side. This method is knows as a _sliding window_ as after each calculation the windows _slides_ to the next position.\n",
      "\n",
      "Input: `seq` is a string, each character is an aa letter. `win_size` is the windows size to work with (number of positions on which to average).\n",
      "\n",
      "Output: `list` of `float`s of the hydrphobicity scores. Should have the same length as `seq`."
     ]
    },
    {
     "cell_type": "code",
     "collapsed": false,
     "input": [
      "def hydrophobicity(seq, win_size=15):\n",
      "    \"\"\"Scan a protein sequence for hydrophobic regions using the GES\n",
      "     hydrophobicity scale.\n",
      "    \"\"\"\n",
      "    pass \n",
      "\n",
      "protein_seq = 'IRTNGTHMQPLLKLMKFQKFLLELFTLQKRKPEKGYNLPIISLNQ'\n",
      "scores = hydrophobicity(protein_seq)\n",
      "print(scores)"
     ],
     "language": "python",
     "metadata": {},
     "outputs": [
      {
       "output_type": "stream",
       "stream": "stdout",
       "text": [
        "[11.499999999999998, 23.4, 7.399999999999999, 12.699999999999998, 16.7, 14.0, 12.399999999999999, 6.599999999999998, 18.199999999999996, 11.299999999999995, 7.399999999999995, 8.999999999999995, 8.999999999999995, 4.299999999999994, 15.899999999999995, 31.599999999999994, 31.59999999999999, 35.49999999999999, 39.59999999999999, 39.599999999999994, 42.3, 45.8, 53.39999999999999, 42.39999999999999, 45.39999999999999, 45.99999999999999, 44.099999999999994, 46.29999999999999, 39.39999999999999, 35.39999999999999]\n"
       ]
      }
     ],
     "prompt_number": 4
    },
    {
     "cell_type": "markdown",
     "metadata": {},
     "source": [
      "**b)** Next, plot the hydrophobicity scores. Don't forget the axis labels."
     ]
    },
    {
     "cell_type": "code",
     "collapsed": false,
     "input": [],
     "language": "python",
     "metadata": {},
     "outputs": [
      {
       "metadata": {},
       "output_type": "display_data",
       "png": "[encoded data removed]",
       "text": [
        "<matplotlib.figure.Figure at 0x5bab110>"
       ]
      }
     ],
     "prompt_number": 5
    },
    {
     "cell_type": "heading",
     "level": 2,
     "metadata": {
      "collapsed": true
     },
     "source": [
      "2) Translate DNA to protein"
     ]
    },
    {
     "cell_type": "markdown",
     "metadata": {},
     "source": [
      "In this question we will translate RNA sequences to amino-acid (aa) sequences.\n",
      "\n",
      "`genetic_code` is a `dict` in which keys are RNA codons - triplets of base names (A, G, C, T) and the values are short names of aa (`Leu` for Leucine, etc.)."
     ]
    },
    {
     "cell_type": "code",
     "collapsed": true,
     "input": [
      "genetic_code = { \n",
      "          'UUU':'Phe', 'UUC':'Phe', 'UCU':'Ser', 'UCC':'Ser',\n",
      "          'UAU':'Tyr', 'UAC':'Tyr', 'UGU':'Cys', 'UGC':'Cys',\n",
      "          'UUA':'Leu', 'UCA':'Ser', 'UAA':None,  'UGA':None,\n",
      "          'UUG':'Leu', 'UCG':'Ser', 'UAG':None,  'UGG':'Trp',\n",
      "          'CUU':'Leu', 'CUC':'Leu', 'CCU':'Pro', 'CCC':'Pro',\n",
      "          'CAU':'His', 'CAC':'His', 'CGU':'Arg', 'CGC':'Arg',\n",
      "          'CUA':'Leu', 'CUG':'Leu', 'CCA':'Pro', 'CCG':'Pro',\n",
      "          'CAA':'Gln', 'CAG':'Gln', 'CGA':'Arg', 'CGG':'Arg',\n",
      "          'AUU':'Ile', 'AUC':'Ile', 'ACU':'Thr', 'ACC':'Thr',\n",
      "          'AAU':'Asn', 'AAC':'Asn', 'AGU':'Ser', 'AGC':'Ser',\n",
      "          'AUA':'Ile', 'ACA':'Thr', 'AAA':'Lys', 'AGA':'Arg',\n",
      "          'AUG':'Met', 'ACG':'Thr', 'AAG':'Lys', 'AGG':'Arg',\n",
      "          'GUU':'Val', 'GUC':'Val', 'GCU':'Ala', 'GCC':'Ala',\n",
      "          'GAU':'Asp', 'GAC':'Asp', 'GGU':'Gly', 'GGC':'Gly',\n",
      "          'GUA':'Val', 'GUG':'Val', 'GCA':'Ala', 'GCG':'Ala', \n",
      "          'GAA':'Glu', 'GAG':'Glu', 'GGA':'Gly', 'GGG':'Gly'}"
     ],
     "language": "python",
     "metadata": {},
     "outputs": [],
     "prompt_number": 6
    },
    {
     "cell_type": "markdown",
     "metadata": {},
     "source": [
      "**a)** Write a function called `protein_translation` that translates an RNA sequence to an aa sequence.\n",
      "\n",
      "Input: `seq` is a string of A, G, C and U (all uppercase).\n",
      "\n",
      "Output: `list` of strings of short names of aa."
     ]
    },
    {
     "cell_type": "code",
     "collapsed": false,
     "input": [
      "def protein_translation(seq):\n",
      "    \"\"\" This function translates a nucleic acid sequence into a\n",
      "    protein sequence, until the end or until it comes across\n",
      "    a stop codon\n",
      "    \"\"\"\n",
      "    pass\n",
      "    \n",
      "    \n",
      "dna_seq = 'ATGGTGCATCTGACTCCTGAGGAGAAGTCTGCCGTTACTGCCCTGTGGGGCAAGGTG'\n",
      "aa_seq = protein_translation(dna_seq)\n",
      "print(aa_seq)"
     ],
     "language": "python",
     "metadata": {},
     "outputs": [
      {
       "output_type": "stream",
       "stream": "stdout",
       "text": [
        "['Met', 'Val', 'His', 'Leu', 'Thr', 'Pro', 'Glu', 'Glu', 'Lys', 'Ser', 'Ala', 'Val', 'Thr', 'Ala', 'Leu', 'Trp', 'Gly', 'Lys', 'Val']\n"
       ]
      }
     ],
     "prompt_number": 7
    },
    {
     "cell_type": "heading",
     "level": 2,
     "metadata": {},
     "source": [
      "3) Maize chloroplast"
     ]
    },
    {
     "cell_type": "markdown",
     "metadata": {},
     "source": [
      "**a)** Write a function called `fetch_gb_by_id` that receives a GenBank ID (such as `KF241981`) and returns a Biopython `SeqRecord` object of the corresponding result. Use it to fetch the maize chloroplast genome record. \n",
      "\n",
      "Assume the default settings, as shown in lecture 6. Ignore any warning messages from NCBI that might be displayed."
     ]
    },
    {
     "cell_type": "code",
     "collapsed": false,
     "input": [
      "from Bio import Entrez\n",
      "from Bio import SeqIO"
     ],
     "language": "python",
     "metadata": {},
     "outputs": [],
     "prompt_number": 8
    },
    {
     "cell_type": "code",
     "collapsed": false,
     "input": [
      "def fetch_gb_by_id(rec_id):\n",
      "    pass\n",
      "\n",
      "maize_chl = fetch_gb_by_id('KF241981')\n",
      "print(maize_chl.description)\n",
      "assert len(maize_chl.features) == 263"
     ],
     "language": "python",
     "metadata": {},
     "outputs": [
      {
       "output_type": "stream",
       "stream": "stdout",
       "text": [
        "Zea mays subsp. mays cultivar B73 chloroplast, complete genome.\n"
       ]
      }
     ],
     "prompt_number": 10
    },
    {
     "cell_type": "markdown",
     "metadata": {},
     "source": [
      "__b)__ Write a function called `extract_rRNA` that receives a `SeqRecord` object and extract its **gene** features. \n",
      "The function should return a `list` of `SeqRecord` objects of the corresponding sequences. \n",
      "\n",
      "Change the `description` field to have the corresponding gene name, followed by ` | ` and the sequence length. For example: `rrn22 | 1231`."
     ]
    },
    {
     "cell_type": "code",
     "collapsed": false,
     "input": [
      "def extract_rRNA(gb_record):\n",
      "    pass\n",
      "         \n",
      "maize_chl_rRNAs = extract_rRNA(maize_chl)\n",
      "print([x.description for x in maize_chl_rRNAs])"
     ],
     "language": "python",
     "metadata": {},
     "outputs": [
      {
       "output_type": "stream",
       "stream": "stdout",
       "text": [
        "['rrn16 | 1492', 'rrn23 | 2888', 'rrn4.5 | 95', 'rrn5 | 121', 'rrn5 | 121', 'rrn4.5 | 95', 'rrn23 | 2888', 'rrn16 | 1492']\n"
       ]
      }
     ],
     "prompt_number": 11
    },
    {
     "cell_type": "markdown",
     "metadata": {},
     "source": [
      "__c)__ Print the rRNA sequences to  the output file `maize_chloroplast_rRNAs.fasta` in __fasta__ format."
     ]
    },
    {
     "cell_type": "code",
     "collapsed": false,
     "input": [
      "out_filename = \"maize_chloroplast_rRNAs.fasta\"\n"
     ],
     "language": "python",
     "metadata": {},
     "outputs": [
      {
       "metadata": {},
       "output_type": "pyout",
       "prompt_number": 12,
       "text": [
        "8"
       ]
      }
     ],
     "prompt_number": 12
    }
   ],
   "metadata": {}
  }
 ]
}